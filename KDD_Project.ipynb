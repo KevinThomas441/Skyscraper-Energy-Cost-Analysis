{
  "nbformat": 4,
  "nbformat_minor": 0,
  "metadata": {
    "accelerator": "GPU",
    "colab": {
      "name": "KDD_Project_model.ipynb",
      "provenance": [],
      "collapsed_sections": [],
      "machine_shape": "hm"
    },
    "kernelspec": {
      "display_name": "Python 3",
      "language": "python",
      "name": "python3"
    },
    "language_info": {
      "codemirror_mode": {
        "name": "ipython",
        "version": 3
      },
      "file_extension": ".py",
      "mimetype": "text/x-python",
      "name": "python",
      "nbconvert_exporter": "python",
      "pygments_lexer": "ipython3",
      "version": "3.7.3"
    },
    "varInspector": {
      "cols": {
        "lenName": 16,
        "lenType": 16,
        "lenVar": 40
      },
      "kernels_config": {
        "python": {
          "delete_cmd_postfix": "",
          "delete_cmd_prefix": "del ",
          "library": "var_list.py",
          "varRefreshCmd": "print(var_dic_list())"
        },
        "r": {
          "delete_cmd_postfix": ") ",
          "delete_cmd_prefix": "rm(",
          "library": "var_list.r",
          "varRefreshCmd": "cat(var_dic_list()) "
        }
      },
      "oldHeight": 256.08333400000004,
      "position": {
        "height": "40px",
        "left": "1426px",
        "right": "20px",
        "top": "120px",
        "width": "250px"
      },
      "types_to_exclude": [
        "module",
        "function",
        "builtin_function_or_method",
        "instance",
        "_Feature"
      ],
      "varInspector_section_display": "none",
      "window_display": true
    }
  },
  "cells": [
    {
      "cell_type": "markdown",
      "metadata": {
        "colab_type": "text",
        "id": "7ivu75srYb6P"
      },
      "source": [
        "# Analyzing the Impact of Skycrapers on Climate Change"
      ]
    },
    {
      "cell_type": "code",
      "metadata": {
        "id": "BWnoI4jtpmlO",
        "colab_type": "code",
        "colab": {
          "base_uri": "https://localhost:8080/",
          "height": 498
        },
        "outputId": "6ccd393a-2a12-41e2-86ab-cc88a304b4ab"
      },
      "source": [
        "from IPython.display import Image\n",
        "from IPython.core.display import HTML \n",
        "Image(url= \"https://v1019.com/wp-content/uploads/sites/51/2018/01/Charlotte-Skyline.jpg\", width=1024, height=478)"
      ],
      "execution_count": 171,
      "outputs": [
        {
          "output_type": "execute_result",
          "data": {
            "text/html": [
              "<img src=\"https://v1019.com/wp-content/uploads/sites/51/2018/01/Charlotte-Skyline.jpg\" width=\"1024\" height=\"478\"/>"
            ],
            "text/plain": [
              "<IPython.core.display.Image object>"
            ]
          },
          "metadata": {
            "tags": []
          },
          "execution_count": 171
        }
      ]
    },
    {
      "cell_type": "markdown",
      "metadata": {
        "id": "CIR0dDhBopLy",
        "colab_type": "text"
      },
      "source": [
        "## Description\n",
        "Project Description:<br>\n",
        "<ul>\n",
        "<li>The project focuses on analyzing the effect of infrastructure modifications from tall building units/skyscrapers on climate change.</li>\n",
        "<li>The project includes a study of the energy usage by the building. Counterfactual models are required to measure the energy consumption done depending on four energy types. The consumption is based on historic usage rates and observed weather.</li>\n",
        "<li>It can be then predicted how far will it affect and result in climate change in later years. A goal is to develop a predictive model for climage change based on energy consumption from skyscrapers.</li>\n",
        "<li>The project has a data of over one thousand building's hourly meter reading for three years.</li>\n",
        "</ul>"
      ]
    },
    {
      "cell_type": "markdown",
      "metadata": {
        "colab_type": "text",
        "id": "eO_CvYZqYb6R"
      },
      "source": [
        "Team Members:<br>\n",
        "<ul>\n",
        "    <li>Ravina Gaikawad</li>\n",
        "    <li>Sahithi Priya Gutta</li>\n",
        "    <li>Uma Sai Madhuri Jetty</li>\n",
        "    <li>Kevin Thomas</li>\n",
        "</ul>"
      ]
    },
    {
      "cell_type": "markdown",
      "metadata": {
        "id": "pAkyCDZSqUMy",
        "colab_type": "text"
      },
      "source": [
        "## Installing Dependancies, Importing Libraries"
      ]
    },
    {
      "cell_type": "code",
      "metadata": {
        "colab_type": "code",
        "id": "yeILTw6gA7_e",
        "outputId": "76942ad5-64aa-4448-e500-23e4d5c37565",
        "colab": {
          "base_uri": "https://localhost:8080/",
          "height": 193
        }
      },
      "source": [
        "! pip install windrose"
      ],
      "execution_count": 172,
      "outputs": [
        {
          "output_type": "stream",
          "text": [
            "Requirement already satisfied: windrose in /usr/local/lib/python3.6/dist-packages (1.6.7)\n",
            "Requirement already satisfied: numpy in /usr/local/lib/python3.6/dist-packages (from windrose) (1.17.4)\n",
            "Requirement already satisfied: matplotlib in /usr/local/lib/python3.6/dist-packages (from windrose) (3.1.2)\n",
            "Requirement already satisfied: pyparsing!=2.0.4,!=2.1.2,!=2.1.6,>=2.0.1 in /usr/local/lib/python3.6/dist-packages (from matplotlib->windrose) (2.4.5)\n",
            "Requirement already satisfied: kiwisolver>=1.0.1 in /usr/local/lib/python3.6/dist-packages (from matplotlib->windrose) (1.1.0)\n",
            "Requirement already satisfied: cycler>=0.10 in /usr/local/lib/python3.6/dist-packages (from matplotlib->windrose) (0.10.0)\n",
            "Requirement already satisfied: python-dateutil>=2.1 in /usr/local/lib/python3.6/dist-packages (from matplotlib->windrose) (2.6.1)\n",
            "Requirement already satisfied: setuptools in /usr/local/lib/python3.6/dist-packages (from kiwisolver>=1.0.1->matplotlib->windrose) (42.0.2)\n",
            "Requirement already satisfied: six in /usr/local/lib/python3.6/dist-packages (from cycler>=0.10->matplotlib->windrose) (1.12.0)\n"
          ],
          "name": "stdout"
        }
      ]
    },
    {
      "cell_type": "code",
      "metadata": {
        "colab_type": "code",
        "id": "4iLF_rljczAt",
        "outputId": "38271b12-22a2-46b6-a691-52899e40a8fa",
        "colab": {
          "base_uri": "https://localhost:8080/",
          "height": 104
        }
      },
      "source": [
        "! pip install lightgbm"
      ],
      "execution_count": 173,
      "outputs": [
        {
          "output_type": "stream",
          "text": [
            "Requirement already satisfied: lightgbm in /usr/local/lib/python3.6/dist-packages (2.2.3)\n",
            "Requirement already satisfied: scipy in /usr/local/lib/python3.6/dist-packages (from lightgbm) (1.3.3)\n",
            "Requirement already satisfied: numpy in /usr/local/lib/python3.6/dist-packages (from lightgbm) (1.17.4)\n",
            "Requirement already satisfied: scikit-learn in /usr/local/lib/python3.6/dist-packages (from lightgbm) (0.21.3)\n",
            "Requirement already satisfied: joblib>=0.11 in /usr/local/lib/python3.6/dist-packages (from scikit-learn->lightgbm) (0.14.0)\n"
          ],
          "name": "stdout"
        }
      ]
    },
    {
      "cell_type": "code",
      "metadata": {
        "colab_type": "code",
        "id": "taI_7QNpYb6T",
        "colab": {}
      },
      "source": [
        "#Importing Libraries\n",
        "import numpy as np\n",
        "import pandas as pd\n",
        "import seaborn as sns\n",
        "import matplotlib.pyplot as plt\n",
        "import random\n",
        "import scipy.stats as stats\n",
        "from datetime import datetime\n",
        "import missingno as msno \n",
        "import seaborn as sns\n",
        "from windrose import WindroseAxes"
      ],
      "execution_count": 0,
      "outputs": []
    },
    {
      "cell_type": "markdown",
      "metadata": {
        "colab_type": "text",
        "id": "dLftiT-iYb6R"
      },
      "source": [
        "## Importing Data"
      ]
    },
    {
      "cell_type": "markdown",
      "metadata": {
        "id": "63SygZAOqcip",
        "colab_type": "text"
      },
      "source": [
        "This notebook was developed using Google's online IPython application: Colaboratory.<br>\n",
        "The notebook can be run using Jupyter Notebooks as well."
      ]
    },
    {
      "cell_type": "markdown",
      "metadata": {
        "id": "xDhftjDvq4b6",
        "colab_type": "text"
      },
      "source": [
        "### Google Colab Implementation"
      ]
    },
    {
      "cell_type": "markdown",
      "metadata": {
        "colab_type": "text",
        "id": "H53wDlDaZDw6"
      },
      "source": [
        "Run the following cells if the notebook is being run on Google Colab"
      ]
    },
    {
      "cell_type": "code",
      "metadata": {
        "colab_type": "code",
        "id": "SciEosK6Ynu7",
        "outputId": "4d17861c-aa93-4d35-a434-fe07dfcb10c4",
        "colab": {
          "base_uri": "https://localhost:8080/",
          "height": 34
        }
      },
      "source": [
        "from google.colab import drive\n",
        "drive.mount('/content/drive')"
      ],
      "execution_count": 175,
      "outputs": [
        {
          "output_type": "stream",
          "text": [
            "Drive already mounted at /content/drive; to attempt to forcibly remount, call drive.mount(\"/content/drive\", force_remount=True).\n"
          ],
          "name": "stdout"
        }
      ]
    },
    {
      "cell_type": "markdown",
      "metadata": {
        "id": "qZ4TdiVyrFHk",
        "colab_type": "text"
      },
      "source": [
        "Change the following path to where the data is located."
      ]
    },
    {
      "cell_type": "code",
      "metadata": {
        "colab_type": "code",
        "id": "46UpshFiYyfT",
        "colab": {}
      },
      "source": [
        "PATH=\"/content/drive/My Drive/KDD Project/Data\""
      ],
      "execution_count": 0,
      "outputs": []
    },
    {
      "cell_type": "markdown",
      "metadata": {
        "id": "7f8WilygrU4H",
        "colab_type": "text"
      },
      "source": [
        "### Jupyter Notebook Implementation"
      ]
    },
    {
      "cell_type": "markdown",
      "metadata": {
        "colab_type": "text",
        "id": "gkcIsJ60Y5i7"
      },
      "source": [
        "Run the following cell if the notebook is being run on local machine. Data should be placed in a folder called data in the same directory as the IPython file."
      ]
    },
    {
      "cell_type": "code",
      "metadata": {
        "colab_type": "code",
        "id": "ZiM9r993ZJgK",
        "colab": {}
      },
      "source": [
        "PATH=\"./Data\""
      ],
      "execution_count": 0,
      "outputs": []
    },
    {
      "cell_type": "code",
      "metadata": {
        "colab_type": "code",
        "id": "hSYO6qgiYb6V",
        "colab": {}
      },
      "source": [
        "train_data = pd.read_csv(PATH+\"/train.csv\")"
      ],
      "execution_count": 0,
      "outputs": []
    },
    {
      "cell_type": "code",
      "metadata": {
        "colab_type": "code",
        "id": "nk8TwHekYb6X",
        "colab": {}
      },
      "source": [
        "meta_data = pd.read_csv(PATH+\"/building_metadata.csv\")"
      ],
      "execution_count": 0,
      "outputs": []
    },
    {
      "cell_type": "code",
      "metadata": {
        "colab_type": "code",
        "id": "j6kvprD4Yb6Z",
        "colab": {}
      },
      "source": [
        "weather_train_data = pd.read_csv(PATH+\"/weather_train.csv\")"
      ],
      "execution_count": 0,
      "outputs": []
    },
    {
      "cell_type": "markdown",
      "metadata": {
        "colab_type": "text",
        "id": "VdToeoAVYb6d"
      },
      "source": [
        "## Preparing and Visualising the Data"
      ]
    },
    {
      "cell_type": "markdown",
      "metadata": {
        "colab_type": "text",
        "id": "Xng2jNsYARYx"
      },
      "source": [
        "### Train Data\n",
        "This table consists energy usage of buildings.\n",
        "\n",
        "<ul>\n",
        "  <li>building_id - Foreign key for the building metadata.\n",
        "  <li>meter - The meter id code. Read as {0: electricity, 1: chilledwater, 2: steam, 3: hotwater}. Not every building has all meter types.\n",
        "  <li>timestamp - When the measurement was taken\n",
        "  <li>meter_reading - The target variable. Energy consumption in kWh (or equivalent). Note that this is real data with measurement error, which we expect will impose a baseline level of modeling error. UPDATE: as discussed here, the site 0 electric meter readings are in kBTU.\n",
        "</ul>"
      ]
    },
    {
      "cell_type": "code",
      "metadata": {
        "colab_type": "code",
        "id": "DtRkBQpDYb6d",
        "outputId": "9b47313c-3f01-4092-b4ca-992e06b1dcb6",
        "colab": {
          "base_uri": "https://localhost:8080/",
          "height": 288
        }
      },
      "source": [
        "train_data.describe()"
      ],
      "execution_count": 183,
      "outputs": [
        {
          "output_type": "execute_result",
          "data": {
            "text/html": [
              "<div>\n",
              "<style scoped>\n",
              "    .dataframe tbody tr th:only-of-type {\n",
              "        vertical-align: middle;\n",
              "    }\n",
              "\n",
              "    .dataframe tbody tr th {\n",
              "        vertical-align: top;\n",
              "    }\n",
              "\n",
              "    .dataframe thead th {\n",
              "        text-align: right;\n",
              "    }\n",
              "</style>\n",
              "<table border=\"1\" class=\"dataframe\">\n",
              "  <thead>\n",
              "    <tr style=\"text-align: right;\">\n",
              "      <th></th>\n",
              "      <th>building_id</th>\n",
              "      <th>meter</th>\n",
              "      <th>meter_reading</th>\n",
              "    </tr>\n",
              "  </thead>\n",
              "  <tbody>\n",
              "    <tr>\n",
              "      <th>count</th>\n",
              "      <td>2.021610e+07</td>\n",
              "      <td>2.021610e+07</td>\n",
              "      <td>2.021610e+07</td>\n",
              "    </tr>\n",
              "    <tr>\n",
              "      <th>mean</th>\n",
              "      <td>7.992780e+02</td>\n",
              "      <td>6.624412e-01</td>\n",
              "      <td>2.117121e+03</td>\n",
              "    </tr>\n",
              "    <tr>\n",
              "      <th>std</th>\n",
              "      <td>4.269133e+02</td>\n",
              "      <td>9.309921e-01</td>\n",
              "      <td>1.532356e+05</td>\n",
              "    </tr>\n",
              "    <tr>\n",
              "      <th>min</th>\n",
              "      <td>0.000000e+00</td>\n",
              "      <td>0.000000e+00</td>\n",
              "      <td>0.000000e+00</td>\n",
              "    </tr>\n",
              "    <tr>\n",
              "      <th>25%</th>\n",
              "      <td>3.930000e+02</td>\n",
              "      <td>0.000000e+00</td>\n",
              "      <td>1.830000e+01</td>\n",
              "    </tr>\n",
              "    <tr>\n",
              "      <th>50%</th>\n",
              "      <td>8.950000e+02</td>\n",
              "      <td>0.000000e+00</td>\n",
              "      <td>7.877500e+01</td>\n",
              "    </tr>\n",
              "    <tr>\n",
              "      <th>75%</th>\n",
              "      <td>1.179000e+03</td>\n",
              "      <td>1.000000e+00</td>\n",
              "      <td>2.679840e+02</td>\n",
              "    </tr>\n",
              "    <tr>\n",
              "      <th>max</th>\n",
              "      <td>1.448000e+03</td>\n",
              "      <td>3.000000e+00</td>\n",
              "      <td>2.190470e+07</td>\n",
              "    </tr>\n",
              "  </tbody>\n",
              "</table>\n",
              "</div>"
            ],
            "text/plain": [
              "        building_id         meter  meter_reading\n",
              "count  2.021610e+07  2.021610e+07   2.021610e+07\n",
              "mean   7.992780e+02  6.624412e-01   2.117121e+03\n",
              "std    4.269133e+02  9.309921e-01   1.532356e+05\n",
              "min    0.000000e+00  0.000000e+00   0.000000e+00\n",
              "25%    3.930000e+02  0.000000e+00   1.830000e+01\n",
              "50%    8.950000e+02  0.000000e+00   7.877500e+01\n",
              "75%    1.179000e+03  1.000000e+00   2.679840e+02\n",
              "max    1.448000e+03  3.000000e+00   2.190470e+07"
            ]
          },
          "metadata": {
            "tags": []
          },
          "execution_count": 183
        }
      ]
    },
    {
      "cell_type": "code",
      "metadata": {
        "colab_type": "code",
        "id": "LWrntvQcYb6g",
        "outputId": "08455035-9d0f-43d0-87af-b794b45b33be",
        "colab": {
          "base_uri": "https://localhost:8080/",
          "height": 173
        }
      },
      "source": [
        "train_data.info()"
      ],
      "execution_count": 184,
      "outputs": [
        {
          "output_type": "stream",
          "text": [
            "<class 'pandas.core.frame.DataFrame'>\n",
            "RangeIndex: 20216100 entries, 0 to 20216099\n",
            "Data columns (total 4 columns):\n",
            "building_id      int64\n",
            "meter            int64\n",
            "timestamp        object\n",
            "meter_reading    float64\n",
            "dtypes: float64(1), int64(2), object(1)\n",
            "memory usage: 616.9+ MB\n"
          ],
          "name": "stdout"
        }
      ]
    },
    {
      "cell_type": "code",
      "metadata": {
        "colab_type": "code",
        "id": "4b-3rF5ZYb6i",
        "outputId": "7e3a8763-4662-4f62-ee83-388f0b135960",
        "colab": {
          "base_uri": "https://localhost:8080/",
          "height": 198
        }
      },
      "source": [
        "train_data.head()"
      ],
      "execution_count": 185,
      "outputs": [
        {
          "output_type": "execute_result",
          "data": {
            "text/html": [
              "<div>\n",
              "<style scoped>\n",
              "    .dataframe tbody tr th:only-of-type {\n",
              "        vertical-align: middle;\n",
              "    }\n",
              "\n",
              "    .dataframe tbody tr th {\n",
              "        vertical-align: top;\n",
              "    }\n",
              "\n",
              "    .dataframe thead th {\n",
              "        text-align: right;\n",
              "    }\n",
              "</style>\n",
              "<table border=\"1\" class=\"dataframe\">\n",
              "  <thead>\n",
              "    <tr style=\"text-align: right;\">\n",
              "      <th></th>\n",
              "      <th>building_id</th>\n",
              "      <th>meter</th>\n",
              "      <th>timestamp</th>\n",
              "      <th>meter_reading</th>\n",
              "    </tr>\n",
              "  </thead>\n",
              "  <tbody>\n",
              "    <tr>\n",
              "      <th>0</th>\n",
              "      <td>0</td>\n",
              "      <td>0</td>\n",
              "      <td>2016-01-01 00:00:00</td>\n",
              "      <td>0.0</td>\n",
              "    </tr>\n",
              "    <tr>\n",
              "      <th>1</th>\n",
              "      <td>1</td>\n",
              "      <td>0</td>\n",
              "      <td>2016-01-01 00:00:00</td>\n",
              "      <td>0.0</td>\n",
              "    </tr>\n",
              "    <tr>\n",
              "      <th>2</th>\n",
              "      <td>2</td>\n",
              "      <td>0</td>\n",
              "      <td>2016-01-01 00:00:00</td>\n",
              "      <td>0.0</td>\n",
              "    </tr>\n",
              "    <tr>\n",
              "      <th>3</th>\n",
              "      <td>3</td>\n",
              "      <td>0</td>\n",
              "      <td>2016-01-01 00:00:00</td>\n",
              "      <td>0.0</td>\n",
              "    </tr>\n",
              "    <tr>\n",
              "      <th>4</th>\n",
              "      <td>4</td>\n",
              "      <td>0</td>\n",
              "      <td>2016-01-01 00:00:00</td>\n",
              "      <td>0.0</td>\n",
              "    </tr>\n",
              "  </tbody>\n",
              "</table>\n",
              "</div>"
            ],
            "text/plain": [
              "   building_id  meter            timestamp  meter_reading\n",
              "0            0      0  2016-01-01 00:00:00            0.0\n",
              "1            1      0  2016-01-01 00:00:00            0.0\n",
              "2            2      0  2016-01-01 00:00:00            0.0\n",
              "3            3      0  2016-01-01 00:00:00            0.0\n",
              "4            4      0  2016-01-01 00:00:00            0.0"
            ]
          },
          "metadata": {
            "tags": []
          },
          "execution_count": 185
        }
      ]
    },
    {
      "cell_type": "markdown",
      "metadata": {
        "id": "NlWlFZPBmAQ8",
        "colab_type": "text"
      },
      "source": [
        "Visualizing Meter Distribution"
      ]
    },
    {
      "cell_type": "code",
      "metadata": {
        "colab_type": "code",
        "id": "4Ppx4EhiM6gS",
        "outputId": "2e082251-0274-4e18-9271-68a75a8ed60b",
        "colab": {
          "base_uri": "https://localhost:8080/",
          "height": 458
        }
      },
      "source": [
        "plt.rcParams['figure.figsize'] = (14, 7)\n",
        "sns.countplot(data = train_data, x ='meter', palette = 'Set1', alpha = 0.5)\n",
        "plt.title(\"Meter Count\")\n",
        "plt.xlabel(\"Meter\")\n",
        "plt.ylabel(\"Count\")\n",
        "plt.xticks(ticks = [0, 1, 2, 3], labels = [\"Electricity\", \"Chilled Water\", \"Steam\", \"Hot Water\"])\n",
        "plt.show()"
      ],
      "execution_count": 186,
      "outputs": [
        {
          "output_type": "display_data",
          "data": {
            "image/png": "[encoded data removed]",
            "text/plain": [
              "<Figure size 1008x504 with 1 Axes>"
            ]
          },
          "metadata": {
            "tags": []
          }
        }
      ]
    },
    {
      "cell_type": "markdown",
      "metadata": {
        "colab_type": "text",
        "id": "XIGoqTkfAVjx"
      },
      "source": [
        "### Building Meta-Data\n",
        "<ul>\n",
        "  <li>site_id - Foreign key for the weather files.\n",
        "  <li>building_id - Foreign key for training.csv\n",
        "  <li>primary_use - Indicator of the primary category of activities for the building based on EnergyStar property type definitions\n",
        "  <li>square_feet - Gross floor area of the building\n",
        "  <li>year_built - Year building was opened\n",
        "  <li>floor_count - Number of floors of the building\n",
        "</ul>"
      ]
    },
    {
      "cell_type": "code",
      "metadata": {
        "colab_type": "code",
        "id": "e_dH-zwrYb6m",
        "outputId": "7b7afa07-54b9-42ca-853b-68ab9685410e",
        "colab": {
          "base_uri": "https://localhost:8080/",
          "height": 207
        }
      },
      "source": [
        "meta_data.info()"
      ],
      "execution_count": 187,
      "outputs": [
        {
          "output_type": "stream",
          "text": [
            "<class 'pandas.core.frame.DataFrame'>\n",
            "RangeIndex: 1449 entries, 0 to 1448\n",
            "Data columns (total 6 columns):\n",
            "site_id        1449 non-null int64\n",
            "building_id    1449 non-null int64\n",
            "primary_use    1449 non-null object\n",
            "square_feet    1449 non-null int64\n",
            "year_built     675 non-null float64\n",
            "floor_count    355 non-null float64\n",
            "dtypes: float64(2), int64(3), object(1)\n",
            "memory usage: 68.0+ KB\n"
          ],
          "name": "stdout"
        }
      ]
    },
    {
      "cell_type": "code",
      "metadata": {
        "colab_type": "code",
        "id": "fPM8SuA1Yb6o",
        "outputId": "09c971d8-f2a0-4c4d-e15c-fef0f0cfa296",
        "colab": {
          "base_uri": "https://localhost:8080/",
          "height": 198
        }
      },
      "source": [
        "meta_data.head()"
      ],
      "execution_count": 188,
      "outputs": [
        {
          "output_type": "execute_result",
          "data": {
            "text/html": [
              "<div>\n",
              "<style scoped>\n",
              "    .dataframe tbody tr th:only-of-type {\n",
              "        vertical-align: middle;\n",
              "    }\n",
              "\n",
              "    .dataframe tbody tr th {\n",
              "        vertical-align: top;\n",
              "    }\n",
              "\n",
              "    .dataframe thead th {\n",
              "        text-align: right;\n",
              "    }\n",
              "</style>\n",
              "<table border=\"1\" class=\"dataframe\">\n",
              "  <thead>\n",
              "    <tr style=\"text-align: right;\">\n",
              "      <th></th>\n",
              "      <th>site_id</th>\n",
              "      <th>building_id</th>\n",
              "      <th>primary_use</th>\n",
              "      <th>square_feet</th>\n",
              "      <th>year_built</th>\n",
              "      <th>floor_count</th>\n",
              "    </tr>\n",
              "  </thead>\n",
              "  <tbody>\n",
              "    <tr>\n",
              "      <th>0</th>\n",
              "      <td>0</td>\n",
              "      <td>0</td>\n",
              "      <td>Education</td>\n",
              "      <td>7432</td>\n",
              "      <td>2008.0</td>\n",
              "      <td>NaN</td>\n",
              "    </tr>\n",
              "    <tr>\n",
              "      <th>1</th>\n",
              "      <td>0</td>\n",
              "      <td>1</td>\n",
              "      <td>Education</td>\n",
              "      <td>2720</td>\n",
              "      <td>2004.0</td>\n",
              "      <td>NaN</td>\n",
              "    </tr>\n",
              "    <tr>\n",
              "      <th>2</th>\n",
              "      <td>0</td>\n",
              "      <td>2</td>\n",
              "      <td>Education</td>\n",
              "      <td>5376</td>\n",
              "      <td>1991.0</td>\n",
              "      <td>NaN</td>\n",
              "    </tr>\n",
              "    <tr>\n",
              "      <th>3</th>\n",
              "      <td>0</td>\n",
              "      <td>3</td>\n",
              "      <td>Education</td>\n",
              "      <td>23685</td>\n",
              "      <td>2002.0</td>\n",
              "      <td>NaN</td>\n",
              "    </tr>\n",
              "    <tr>\n",
              "      <th>4</th>\n",
              "      <td>0</td>\n",
              "      <td>4</td>\n",
              "      <td>Education</td>\n",
              "      <td>116607</td>\n",
              "      <td>1975.0</td>\n",
              "      <td>NaN</td>\n",
              "    </tr>\n",
              "  </tbody>\n",
              "</table>\n",
              "</div>"
            ],
            "text/plain": [
              "   site_id  building_id primary_use  square_feet  year_built  floor_count\n",
              "0        0            0   Education         7432      2008.0          NaN\n",
              "1        0            1   Education         2720      2004.0          NaN\n",
              "2        0            2   Education         5376      1991.0          NaN\n",
              "3        0            3   Education        23685      2002.0          NaN\n",
              "4        0            4   Education       116607      1975.0          NaN"
            ]
          },
          "metadata": {
            "tags": []
          },
          "execution_count": 188
        }
      ]
    },
    {
      "cell_type": "markdown",
      "metadata": {
        "id": "c0_y52FnmJbn",
        "colab_type": "text"
      },
      "source": [
        "Visualizing primary use of buildings"
      ]
    },
    {
      "cell_type": "code",
      "metadata": {
        "colab_type": "code",
        "id": "bfz4hHg_Yb6q",
        "outputId": "d697b60e-253c-4cdc-fa9a-05c4bf947a03",
        "colab": {
          "base_uri": "https://localhost:8080/",
          "height": 458
        }
      },
      "source": [
        "plt.figure(figsize=(12, 7))\n",
        "sns.countplot(data = meta_data, y ='primary_use', palette = 'Set1', alpha = 0.5)\n",
        "# meta_data.primary_use.value_counts().plot(kind='barh', color='#0504aa',alpha=0.7, width = 0.5)\n",
        "plt.title(\"Primary Use Count\")\n",
        "plt.xlabel(\"Count\")\n",
        "plt.ylabel(\"Primary Use\")\n",
        "plt.show()"
      ],
      "execution_count": 189,
      "outputs": [
        {
          "output_type": "display_data",
          "data": {
            "image/png": "[encoded data removed]",
            "text/plain": [
              "<Figure size 864x504 with 1 Axes>"
            ]
          },
          "metadata": {
            "tags": []
          }
        }
      ]
    },
    {
      "cell_type": "markdown",
      "metadata": {
        "colab_type": "text",
        "id": "Uf0fpmhMYb6s"
      },
      "source": [
        "Due to the large amount of missing values in the \"year_built\" and \"floor_count\" columns in the building metadata table, we dropped these two columns. The use of square_feet enables us to ignore floor_count as they both represent the size of a building. While the age of a building will impact its power consumption, the sheer number of missing values in the dataset coupled with the inability to impute the values has prompted the dropping of this column."
      ]
    },
    {
      "cell_type": "code",
      "metadata": {
        "colab_type": "code",
        "id": "oyBkim5mYb6s",
        "colab": {}
      },
      "source": [
        "meta_data = meta_data.drop(['year_built', 'floor_count'], axis=1)"
      ],
      "execution_count": 0,
      "outputs": []
    },
    {
      "cell_type": "code",
      "metadata": {
        "colab_type": "code",
        "id": "giheMZSEYb6u",
        "outputId": "7eb97787-a113-442e-b266-6623cf229e29",
        "colab": {
          "base_uri": "https://localhost:8080/",
          "height": 173
        }
      },
      "source": [
        "meta_data.info()"
      ],
      "execution_count": 191,
      "outputs": [
        {
          "output_type": "stream",
          "text": [
            "<class 'pandas.core.frame.DataFrame'>\n",
            "RangeIndex: 1449 entries, 0 to 1448\n",
            "Data columns (total 4 columns):\n",
            "site_id        1449 non-null int64\n",
            "building_id    1449 non-null int64\n",
            "primary_use    1449 non-null object\n",
            "square_feet    1449 non-null int64\n",
            "dtypes: int64(3), object(1)\n",
            "memory usage: 45.4+ KB\n"
          ],
          "name": "stdout"
        }
      ]
    },
    {
      "cell_type": "code",
      "metadata": {
        "colab_type": "code",
        "id": "xpwlOrri4qcT",
        "outputId": "427928bc-7cba-4da3-bc93-7214f9a19a6c",
        "colab": {
          "base_uri": "https://localhost:8080/",
          "height": 288
        }
      },
      "source": [
        "meta_data.describe()"
      ],
      "execution_count": 192,
      "outputs": [
        {
          "output_type": "execute_result",
          "data": {
            "text/html": [
              "<div>\n",
              "<style scoped>\n",
              "    .dataframe tbody tr th:only-of-type {\n",
              "        vertical-align: middle;\n",
              "    }\n",
              "\n",
              "    .dataframe tbody tr th {\n",
              "        vertical-align: top;\n",
              "    }\n",
              "\n",
              "    .dataframe thead th {\n",
              "        text-align: right;\n",
              "    }\n",
              "</style>\n",
              "<table border=\"1\" class=\"dataframe\">\n",
              "  <thead>\n",
              "    <tr style=\"text-align: right;\">\n",
              "      <th></th>\n",
              "      <th>site_id</th>\n",
              "      <th>building_id</th>\n",
              "      <th>square_feet</th>\n",
              "    </tr>\n",
              "  </thead>\n",
              "  <tbody>\n",
              "    <tr>\n",
              "      <th>count</th>\n",
              "      <td>1449.000000</td>\n",
              "      <td>1449.000000</td>\n",
              "      <td>1449.000000</td>\n",
              "    </tr>\n",
              "    <tr>\n",
              "      <th>mean</th>\n",
              "      <td>6.952381</td>\n",
              "      <td>724.000000</td>\n",
              "      <td>92111.776398</td>\n",
              "    </tr>\n",
              "    <tr>\n",
              "      <th>std</th>\n",
              "      <td>5.003432</td>\n",
              "      <td>418.434583</td>\n",
              "      <td>110769.950997</td>\n",
              "    </tr>\n",
              "    <tr>\n",
              "      <th>min</th>\n",
              "      <td>0.000000</td>\n",
              "      <td>0.000000</td>\n",
              "      <td>283.000000</td>\n",
              "    </tr>\n",
              "    <tr>\n",
              "      <th>25%</th>\n",
              "      <td>3.000000</td>\n",
              "      <td>362.000000</td>\n",
              "      <td>23012.000000</td>\n",
              "    </tr>\n",
              "    <tr>\n",
              "      <th>50%</th>\n",
              "      <td>5.000000</td>\n",
              "      <td>724.000000</td>\n",
              "      <td>57673.000000</td>\n",
              "    </tr>\n",
              "    <tr>\n",
              "      <th>75%</th>\n",
              "      <td>13.000000</td>\n",
              "      <td>1086.000000</td>\n",
              "      <td>115676.000000</td>\n",
              "    </tr>\n",
              "    <tr>\n",
              "      <th>max</th>\n",
              "      <td>15.000000</td>\n",
              "      <td>1448.000000</td>\n",
              "      <td>875000.000000</td>\n",
              "    </tr>\n",
              "  </tbody>\n",
              "</table>\n",
              "</div>"
            ],
            "text/plain": [
              "           site_id  building_id    square_feet\n",
              "count  1449.000000  1449.000000    1449.000000\n",
              "mean      6.952381   724.000000   92111.776398\n",
              "std       5.003432   418.434583  110769.950997\n",
              "min       0.000000     0.000000     283.000000\n",
              "25%       3.000000   362.000000   23012.000000\n",
              "50%       5.000000   724.000000   57673.000000\n",
              "75%      13.000000  1086.000000  115676.000000\n",
              "max      15.000000  1448.000000  875000.000000"
            ]
          },
          "metadata": {
            "tags": []
          },
          "execution_count": 192
        }
      ]
    },
    {
      "cell_type": "markdown",
      "metadata": {
        "colab_type": "text",
        "id": "kI42B2t-Aay0"
      },
      "source": [
        "### Weather Data\n",
        "<ul>\n",
        "<li>site_id\n",
        "<li>air_temperature - Degrees Celsius\n",
        "<li>cloud_coverage - Portion of the sky covered in clouds, in oktas\n",
        "<li>dew_temperature - Degrees Celsius\n",
        "<li>precip_depth_1_hr - Millimeters\n",
        "<li>sea_level_pressure - Millibar/hectopascals\n",
        "<li>wind_direction - Compass direction (0-360)\n",
        "<li>wind_speed - Meters per second"
      ]
    },
    {
      "cell_type": "code",
      "metadata": {
        "colab_type": "code",
        "id": "UKjoP4weYb6w",
        "outputId": "48061a98-2367-4f36-cff3-c6f6dfe7e3cc",
        "colab": {
          "base_uri": "https://localhost:8080/",
          "height": 259
        }
      },
      "source": [
        "weather_train_data.info()"
      ],
      "execution_count": 193,
      "outputs": [
        {
          "output_type": "stream",
          "text": [
            "<class 'pandas.core.frame.DataFrame'>\n",
            "RangeIndex: 139773 entries, 0 to 139772\n",
            "Data columns (total 9 columns):\n",
            "site_id               139773 non-null int64\n",
            "timestamp             139773 non-null object\n",
            "air_temperature       139718 non-null float64\n",
            "cloud_coverage        70600 non-null float64\n",
            "dew_temperature       139660 non-null float64\n",
            "precip_depth_1_hr     89484 non-null float64\n",
            "sea_level_pressure    129155 non-null float64\n",
            "wind_direction        133505 non-null float64\n",
            "wind_speed            139469 non-null float64\n",
            "dtypes: float64(7), int64(1), object(1)\n",
            "memory usage: 9.6+ MB\n"
          ],
          "name": "stdout"
        }
      ]
    },
    {
      "cell_type": "code",
      "metadata": {
        "colab_type": "code",
        "id": "cjW1LbMjYb6y",
        "outputId": "59027a27-d0fa-492a-8167-87b2d54bb5f2",
        "colab": {
          "base_uri": "https://localhost:8080/",
          "height": 285
        }
      },
      "source": [
        "weather_train_data.head()"
      ],
      "execution_count": 194,
      "outputs": [
        {
          "output_type": "execute_result",
          "data": {
            "text/html": [
              "<div>\n",
              "<style scoped>\n",
              "    .dataframe tbody tr th:only-of-type {\n",
              "        vertical-align: middle;\n",
              "    }\n",
              "\n",
              "    .dataframe tbody tr th {\n",
              "        vertical-align: top;\n",
              "    }\n",
              "\n",
              "    .dataframe thead th {\n",
              "        text-align: right;\n",
              "    }\n",
              "</style>\n",
              "<table border=\"1\" class=\"dataframe\">\n",
              "  <thead>\n",
              "    <tr style=\"text-align: right;\">\n",
              "      <th></th>\n",
              "      <th>site_id</th>\n",
              "      <th>timestamp</th>\n",
              "      <th>air_temperature</th>\n",
              "      <th>cloud_coverage</th>\n",
              "      <th>dew_temperature</th>\n",
              "      <th>precip_depth_1_hr</th>\n",
              "      <th>sea_level_pressure</th>\n",
              "      <th>wind_direction</th>\n",
              "      <th>wind_speed</th>\n",
              "    </tr>\n",
              "  </thead>\n",
              "  <tbody>\n",
              "    <tr>\n",
              "      <th>0</th>\n",
              "      <td>0</td>\n",
              "      <td>2016-01-01 00:00:00</td>\n",
              "      <td>25.0</td>\n",
              "      <td>6.0</td>\n",
              "      <td>20.0</td>\n",
              "      <td>NaN</td>\n",
              "      <td>1019.7</td>\n",
              "      <td>0.0</td>\n",
              "      <td>0.0</td>\n",
              "    </tr>\n",
              "    <tr>\n",
              "      <th>1</th>\n",
              "      <td>0</td>\n",
              "      <td>2016-01-01 01:00:00</td>\n",
              "      <td>24.4</td>\n",
              "      <td>NaN</td>\n",
              "      <td>21.1</td>\n",
              "      <td>-1.0</td>\n",
              "      <td>1020.2</td>\n",
              "      <td>70.0</td>\n",
              "      <td>1.5</td>\n",
              "    </tr>\n",
              "    <tr>\n",
              "      <th>2</th>\n",
              "      <td>0</td>\n",
              "      <td>2016-01-01 02:00:00</td>\n",
              "      <td>22.8</td>\n",
              "      <td>2.0</td>\n",
              "      <td>21.1</td>\n",
              "      <td>0.0</td>\n",
              "      <td>1020.2</td>\n",
              "      <td>0.0</td>\n",
              "      <td>0.0</td>\n",
              "    </tr>\n",
              "    <tr>\n",
              "      <th>3</th>\n",
              "      <td>0</td>\n",
              "      <td>2016-01-01 03:00:00</td>\n",
              "      <td>21.1</td>\n",
              "      <td>2.0</td>\n",
              "      <td>20.6</td>\n",
              "      <td>0.0</td>\n",
              "      <td>1020.1</td>\n",
              "      <td>0.0</td>\n",
              "      <td>0.0</td>\n",
              "    </tr>\n",
              "    <tr>\n",
              "      <th>4</th>\n",
              "      <td>0</td>\n",
              "      <td>2016-01-01 04:00:00</td>\n",
              "      <td>20.0</td>\n",
              "      <td>2.0</td>\n",
              "      <td>20.0</td>\n",
              "      <td>-1.0</td>\n",
              "      <td>1020.0</td>\n",
              "      <td>250.0</td>\n",
              "      <td>2.6</td>\n",
              "    </tr>\n",
              "  </tbody>\n",
              "</table>\n",
              "</div>"
            ],
            "text/plain": [
              "   site_id            timestamp  ...  wind_direction  wind_speed\n",
              "0        0  2016-01-01 00:00:00  ...             0.0         0.0\n",
              "1        0  2016-01-01 01:00:00  ...            70.0         1.5\n",
              "2        0  2016-01-01 02:00:00  ...             0.0         0.0\n",
              "3        0  2016-01-01 03:00:00  ...             0.0         0.0\n",
              "4        0  2016-01-01 04:00:00  ...           250.0         2.6\n",
              "\n",
              "[5 rows x 9 columns]"
            ]
          },
          "metadata": {
            "tags": []
          },
          "execution_count": 194
        }
      ]
    },
    {
      "cell_type": "code",
      "metadata": {
        "colab_type": "code",
        "id": "uF8_VWOnYb6z",
        "outputId": "e615546d-8b3b-47f8-e313-a4fb09402252",
        "colab": {
          "base_uri": "https://localhost:8080/",
          "height": 259
        }
      },
      "source": [
        "weather_train_data.info()"
      ],
      "execution_count": 195,
      "outputs": [
        {
          "output_type": "stream",
          "text": [
            "<class 'pandas.core.frame.DataFrame'>\n",
            "RangeIndex: 139773 entries, 0 to 139772\n",
            "Data columns (total 9 columns):\n",
            "site_id               139773 non-null int64\n",
            "timestamp             139773 non-null object\n",
            "air_temperature       139718 non-null float64\n",
            "cloud_coverage        70600 non-null float64\n",
            "dew_temperature       139660 non-null float64\n",
            "precip_depth_1_hr     89484 non-null float64\n",
            "sea_level_pressure    129155 non-null float64\n",
            "wind_direction        133505 non-null float64\n",
            "wind_speed            139469 non-null float64\n",
            "dtypes: float64(7), int64(1), object(1)\n",
            "memory usage: 9.6+ MB\n"
          ],
          "name": "stdout"
        }
      ]
    },
    {
      "cell_type": "markdown",
      "metadata": {
        "id": "Mhlr56LEmO4j",
        "colab_type": "text"
      },
      "source": [
        "Visualizing wind speed and direction using WindRose"
      ]
    },
    {
      "cell_type": "code",
      "metadata": {
        "colab_type": "code",
        "id": "fXc4dO-fBArB",
        "outputId": "45b2e368-35d4-431e-ebcf-ac9c3a6f0435",
        "colab": {
          "base_uri": "https://localhost:8080/",
          "height": 603
        }
      },
      "source": [
        "plt.figure(figsize=(8, 8))\n",
        "ax = WindroseAxes.from_ax()\n",
        "bins_range = np.arange(1,15,1)\n",
        "ax.bar(weather_train_data.wind_direction, weather_train_data.wind_speed, opening=0.8, edgecolor='white', bins=bins_range)\n",
        "ax.set_legend(loc=1)\n",
        "plt.show()"
      ],
      "execution_count": 196,
      "outputs": [
        {
          "output_type": "display_data",
          "data": {
            "text/plain": [
              "<Figure size 576x576 with 0 Axes>"
            ]
          },
          "metadata": {
            "tags": []
          }
        },
        {
          "output_type": "display_data",
          "data": {
            "image/png": "[encoded data removed]",
            "text/plain": [
              "<Figure size 640x640 with 1 Axes>"
            ]
          },
          "metadata": {
            "tags": []
          }
        }
      ]
    },
    {
      "cell_type": "markdown",
      "metadata": {
        "id": "LXZBp0d_spdx",
        "colab_type": "text"
      },
      "source": [
        "We drop some variables that are irrelevant and have large amounts of missing data."
      ]
    },
    {
      "cell_type": "code",
      "metadata": {
        "colab_type": "code",
        "id": "n85CY4XLYb61",
        "colab": {}
      },
      "source": [
        "weather_train_data = weather_train_data.drop(['precip_depth_1_hr', 'cloud_coverage', 'sea_level_pressure', 'wind_direction'], axis=1)"
      ],
      "execution_count": 0,
      "outputs": []
    },
    {
      "cell_type": "code",
      "metadata": {
        "colab_type": "code",
        "id": "2ToR4u_N4W7d",
        "colab": {}
      },
      "source": [
        "weather_train_data.dropna(axis=0, inplace=True)"
      ],
      "execution_count": 0,
      "outputs": []
    },
    {
      "cell_type": "code",
      "metadata": {
        "colab_type": "code",
        "id": "YXb7nZoNYb63",
        "outputId": "3d550afa-faaa-4897-c5b2-e14220cb6904",
        "colab": {
          "base_uri": "https://localhost:8080/",
          "height": 190
        }
      },
      "source": [
        "weather_train_data.info()"
      ],
      "execution_count": 199,
      "outputs": [
        {
          "output_type": "stream",
          "text": [
            "<class 'pandas.core.frame.DataFrame'>\n",
            "Int64Index: 139393 entries, 0 to 139772\n",
            "Data columns (total 5 columns):\n",
            "site_id            139393 non-null int64\n",
            "timestamp          139393 non-null object\n",
            "air_temperature    139393 non-null float64\n",
            "dew_temperature    139393 non-null float64\n",
            "wind_speed         139393 non-null float64\n",
            "dtypes: float64(3), int64(1), object(1)\n",
            "memory usage: 6.4+ MB\n"
          ],
          "name": "stdout"
        }
      ]
    },
    {
      "cell_type": "code",
      "metadata": {
        "colab_type": "code",
        "id": "0UkjLffV4_AY",
        "outputId": "43de7b33-7081-40d0-e669-4029cbe0002b",
        "colab": {
          "base_uri": "https://localhost:8080/",
          "height": 288
        }
      },
      "source": [
        "weather_train_data.describe()"
      ],
      "execution_count": 200,
      "outputs": [
        {
          "output_type": "execute_result",
          "data": {
            "text/html": [
              "<div>\n",
              "<style scoped>\n",
              "    .dataframe tbody tr th:only-of-type {\n",
              "        vertical-align: middle;\n",
              "    }\n",
              "\n",
              "    .dataframe tbody tr th {\n",
              "        vertical-align: top;\n",
              "    }\n",
              "\n",
              "    .dataframe thead th {\n",
              "        text-align: right;\n",
              "    }\n",
              "</style>\n",
              "<table border=\"1\" class=\"dataframe\">\n",
              "  <thead>\n",
              "    <tr style=\"text-align: right;\">\n",
              "      <th></th>\n",
              "      <th>site_id</th>\n",
              "      <th>air_temperature</th>\n",
              "      <th>dew_temperature</th>\n",
              "      <th>wind_speed</th>\n",
              "    </tr>\n",
              "  </thead>\n",
              "  <tbody>\n",
              "    <tr>\n",
              "      <th>count</th>\n",
              "      <td>139393.000000</td>\n",
              "      <td>139393.000000</td>\n",
              "      <td>139393.000000</td>\n",
              "      <td>139393.000000</td>\n",
              "    </tr>\n",
              "    <tr>\n",
              "      <th>mean</th>\n",
              "      <td>7.473926</td>\n",
              "      <td>14.407688</td>\n",
              "      <td>7.347791</td>\n",
              "      <td>3.560702</td>\n",
              "    </tr>\n",
              "    <tr>\n",
              "      <th>std</th>\n",
              "      <td>4.607432</td>\n",
              "      <td>10.622384</td>\n",
              "      <td>9.790117</td>\n",
              "      <td>2.336138</td>\n",
              "    </tr>\n",
              "    <tr>\n",
              "      <th>min</th>\n",
              "      <td>0.000000</td>\n",
              "      <td>-28.900000</td>\n",
              "      <td>-35.000000</td>\n",
              "      <td>0.000000</td>\n",
              "    </tr>\n",
              "    <tr>\n",
              "      <th>25%</th>\n",
              "      <td>3.000000</td>\n",
              "      <td>7.200000</td>\n",
              "      <td>0.600000</td>\n",
              "      <td>2.100000</td>\n",
              "    </tr>\n",
              "    <tr>\n",
              "      <th>50%</th>\n",
              "      <td>7.000000</td>\n",
              "      <td>15.000000</td>\n",
              "      <td>8.300000</td>\n",
              "      <td>3.100000</td>\n",
              "    </tr>\n",
              "    <tr>\n",
              "      <th>75%</th>\n",
              "      <td>11.000000</td>\n",
              "      <td>22.200000</td>\n",
              "      <td>14.400000</td>\n",
              "      <td>5.000000</td>\n",
              "    </tr>\n",
              "    <tr>\n",
              "      <th>max</th>\n",
              "      <td>15.000000</td>\n",
              "      <td>47.200000</td>\n",
              "      <td>26.100000</td>\n",
              "      <td>19.000000</td>\n",
              "    </tr>\n",
              "  </tbody>\n",
              "</table>\n",
              "</div>"
            ],
            "text/plain": [
              "             site_id  air_temperature  dew_temperature     wind_speed\n",
              "count  139393.000000    139393.000000    139393.000000  139393.000000\n",
              "mean        7.473926        14.407688         7.347791       3.560702\n",
              "std         4.607432        10.622384         9.790117       2.336138\n",
              "min         0.000000       -28.900000       -35.000000       0.000000\n",
              "25%         3.000000         7.200000         0.600000       2.100000\n",
              "50%         7.000000        15.000000         8.300000       3.100000\n",
              "75%        11.000000        22.200000        14.400000       5.000000\n",
              "max        15.000000        47.200000        26.100000      19.000000"
            ]
          },
          "metadata": {
            "tags": []
          },
          "execution_count": 200
        }
      ]
    },
    {
      "cell_type": "markdown",
      "metadata": {
        "id": "lCQFMMEBswys",
        "colab_type": "text"
      },
      "source": [
        "Changing the timestamp variable from object to timestamp data type"
      ]
    },
    {
      "cell_type": "code",
      "metadata": {
        "colab_type": "code",
        "id": "5NEAprFnUETG",
        "colab": {}
      },
      "source": [
        "weather_train_data['timestamp'] = pd.to_datetime(weather_train_data['timestamp'])"
      ],
      "execution_count": 0,
      "outputs": []
    },
    {
      "cell_type": "markdown",
      "metadata": {
        "id": "vvxZyyNbmZhP",
        "colab_type": "text"
      },
      "source": [
        "Visualizing air temperature over time"
      ]
    },
    {
      "cell_type": "code",
      "metadata": {
        "colab_type": "code",
        "id": "Uo0ZVj_sQSKU",
        "outputId": "04a19bad-7925-42a5-f683-38322ebefa1e",
        "colab": {
          "base_uri": "https://localhost:8080/",
          "height": 617
        }
      },
      "source": [
        "import plotly.express as px\n",
        "fig = px.line(weather_train_data[weather_train_data.site_id==1], x='timestamp', y='air_temperature')\n",
        "fig.show()"
      ],
      "execution_count": 202,
      "outputs": [
        {
          "output_type": "display_data",
          "data": {
            "text/html": [
              "<html>\n",
              "<head><meta charset=\"utf-8\" /></head>\n",
              "<body>\n",
              "    <div>\n",
              "            <script src=\"https://cdnjs.cloudflare.com/ajax/libs/mathjax/2.7.5/MathJax.js?config=TeX-AMS-MML_SVG\"></script><script type=\"text/javascript\">if (window.MathJax) {MathJax.Hub.Config({SVG: {font: \"STIX-Web\"}});}</script>\n",
              "                <script type=\"text/javascript\">window.PlotlyConfig = {MathJaxConfig: 'local'};</script>\n",
              "        <script src=\"https://cdn.plot.ly/plotly-latest.min.js\"></script>    \n",
              "            <div id=\"768a96c3-e071-410f-a1d3-38c379735483\" class=\"plotly-graph-div\" style=\"height:600px; width:100%;\"></div>\n",
              "            <script type=\"text/javascript\">\n",
              "                \n",
              "                    window.PLOTLYENV=window.PLOTLYENV || {};\n",
              "                    \n",
              "                if (document.getElementById(\"768a96c3-e071-410f-a1d3-38c379735483\")) {\n",
              "                    Plotly.newPlot(\n",
              "                        '768a96c3-e071-410f-a1d3-38c379735483',\n",
              "                        [{\"hoverlabel\": {\"namelength\": 0}, \"hovertemplate\": \"timestamp=%{x}<br>air_temperature=%{y}\", \"legendgroup\": \"\", \"line\": {\"color\": \"#636efa\", \"dash\": \"solid\"}, \"mode\": \"lines\", \"name\": \"\", \"showlegend\": false, \"type\": \"scattergl\", \"x\": [\"2016-01-01T00:00:00\", \"2016-01-01T01:00:00\", \"2016-01-01T02:00:00\", \"2016-01-01T03:00:00\", \"2016-01-01T04:00:00\", \"2016-01-01T05:00:00\", \"2016-01-01T06:00:00\", \"2016-01-01T07:00:00\", \"2016-01-01T08:00:00\", \"2016-01-01T09:00:00\", \"2016-01-01T10:00:00\", \"2016-01-01T11:00:00\", \"2016-01-01T12:00:00\", \"2016-01-01T13:00:00\", \"2016-01-01T14:00:00\", \"2016-01-01T15:00:00\", \"2016-01-01T16:00:00\", \"2016-01-01T17:00:00\", \"2016-01-01T18:00:00\", \"2016-01-01T19:00:00\", \"2016-01-01T20:00:00\", \"2016-01-01T21:00:00\", \"2016-01-01T22:00:00\", \"2016-01-01T23:00:00\", \"2016-01-02T00:00:00\", \"2016-01-02T01:00:00\", \"2016-01-02T02:00:00\", \"2016-01-02T03:00:00\", \"2016-01-02T04:00:00\", \"2016-01-02T05:00:00\", \"2016-01-02T06:00:00\", \"2016-01-02T07:00:00\", \"2016-01-02T08:00:00\", \"2016-01-02T09:00:00\", \"2016-01-02T10:00:00\", \"2016-01-02T11:00:00\", \"2016-01-02T12:00:00\", \"2016-01-02T13:00:00\", \"2016-01-02T14:00:00\", \"2016-01-02T15:00:00\", \"2016-01-02T16:00:00\", \"2016-01-02T17:00:00\", \"2016-01-02T18:00:00\", \"2016-01-02T19:00:00\", \"2016-01-02T20:00:00\", \"2016-01-02T21:00:00\", \"2016-01-02T22:00:00\", \"2016-01-02T23:00:00\", \"2016-01-03T00:00:00\", \"2016-01-03T01:00:00\", \"2016-01-03T02:00:00\", \"2016-01-03T03:00:00\", \"2016-01-03T04:00:00\", \"2016-01-03T05:00:00\", \"2016-01-03T06:00:00\", \"2016-01-03T07:00:00\", \"2016-01-03T08:00:00\", \"2016-01-03T09:00:00\", \"2016-01-03T10:00:00\", \"2016-01-03T11:00:00\", \"2016-01-03T12:00:00\", \"2016-01-03T13:00:00\", \"2016-01-03T14:00:00\", \"2016-01-03T15:00:00\", \"2016-01-03T16:00:00\", \"2016-01-03T17:00:00\", \"2016-01-03T18:00:00\", \"2016-01-03T19:00:00\", \"2016-01-03T20:00:00\", \"2016-01-03T21:00:00\", \"2016-01-03T22:00:00\", \"2016-01-03T23:00:00\", \"2016-01-04T00:00:00\", \"2016-01-04T01:00:00\", \"2016-01-04T02:00:00\", \"2016-01-04T03:00:00\", \"2016-01-04T04:00:00\", \"2016-01-04T05:00:00\", \"2016-01-04T06:00:00\", \"2016-01-04T07:00:00\", \"2016-01-04T08:00:00\", \"2016-01-04T09:00:00\", \"2016-01-04T10:00:00\", \"2016-01-04T11:00:00\", \"2016-01-04T12:00:00\", \"2016-01-04T13:00:00\", \"2016-01-04T14:00:00\", \"2016-01-04T15:00:00\", \"2016-01-04T16:00:00\", \"2016-01-04T17:00:00\", \"2016-01-04T18:00:00\", \"2016-01-04T19:00:00\", \"2016-01-04T20:00:00\", \"2016-01-04T21:00:00\", \"2016-01-04T22:00:00\", \"2016-01-04T23:00:00\", \"2016-01-05T00:00:00\", \"2016-01-05T01:00:00\", \"2016-01-05T02:00:00\", \"2016-01-05T03:00:00\", \"2016-01-05T04:00:00\", \"2016-01-05T05:00:00\", \"2016-01-05T06:00:00\", \"2016-01-05T07:00:00\", \"2016-01-05T08:00:00\", \"2016-01-05T09:00:00\", \"2016-01-05T10:00:00\", \"2016-01-05T11:00:00\", \"2016-01-05T12:00:00\", \"2016-01-05T13:00:00\", \"2016-01-05T14:00:00\", \"2016-01-05T15:00:00\", \"2016-01-05T16:00:00\", \"2016-01-05T17:00:00\", \"2016-01-05T18:00:00\", \"2016-01-05T19:00:00\", \"2016-01-05T20:00:00\", \"2016-01-05T21:00:00\", \"2016-01-05T22:00:00\", \"2016-01-05T23:00:00\", \"2016-01-06T00:00:00\", \"2016-01-06T01:00:00\", \"2016-01-06T02:00:00\", \"2016-01-06T03:00:00\", \"2016-01-06T04:00:00\", \"2016-01-06T05:00:00\", \"2016-01-06T06:00:00\", \"2016-01-06T07:00:00\", \"2016-01-06T08:00:00\", \"2016-01-06T09:00:00\", \"2016-01-06T10:00:00\", \"2016-01-06T11:00:00\", \"2016-01-06T12:00:00\", \"2016-01-06T13:00:00\", \"2016-01-06T14:00:00\", \"2016-01-06T15:00:00\", \"2016-01-06T16:00:00\", \"2016-01-06T17:00:00\", \"2016-01-06T18:00:00\", \"2016-01-06T19:00:00\", \"2016-01-06T20:00:00\", \"2016-01-06T21:00:00\", \"2016-01-06T22:00:00\", \"2016-01-06T23:00:00\", \"2016-01-07T00:00:00\", \"2016-01-07T01:00:00\", \"2016-01-07T02:00:00\", \"2016-01-07T03:00:00\", \"2016-01-07T04:00:00\", \"2016-01-07T05:00:00\", \"2016-01-07T06:00:00\", \"2016-01-07T07:00:00\", \"2016-01-07T08:00:00\", \"2016-01-07T09:00:00\", \"2016-01-07T10:00:00\", \"2016-01-07T11:00:00\", \"2016-01-07T12:00:00\", \"2016-01-07T13:00:00\", \"2016-01-07T14:00:00\", \"2016-01-07T15:00:00\", \"2016-01-07T16:00:00\", \"2016-01-07T17:00:00\", \"2016-01-07T18:00:00\", \"2016-01-07T19:00:00\", \"2016-01-07T20:00:00\", \"2016-01-07T21:00:00\", \"2016-01-07T22:00:00\", \"2016-01-07T23:00:00\", \"2016-01-08T00:00:00\", \"2016-01-08T01:00:00\", \"2016-01-08T02:00:00\", \"2016-01-08T03:00:00\", \"2016-01-08T04:00:00\", \"2016-01-08T05:00:00\", \"2016-01-08T06:00:00\", \"2016-01-08T07:00:00\", \"2016-01-08T08:00:00\", \"2016-01-08T09:00:00\", \"2016-01-08T10:00:00\", \"2016-01-08T11:00:00\", \"2016-01-08T12:00:00\", \"2016-01-08T13:00:00\", \"2016-01-08T14:00:00\", \"2016-01-08T15:00:00\", \"2016-01-08T16:00:00\", \"2016-01-08T17:00:00\", \"2016-01-08T18:00:00\", \"2016-01-08T19:00:00\", \"2016-01-08T20:00:00\", \"2016-01-08T21:00:00\", \"2016-01-08T22:00:00\", \"2016-01-08T23:00:00\", \"2016-01-09T00:00:00\", \"2016-01-09T01:00:00\", \"2016-01-09T02:00:00\", \"2016-01-09T03:00:00\", \"2016-01-09T04:00:00\", \"2016-01-09T05:00:00\", \"2016-01-09T06:00:00\", \"2016-01-09T07:00:00\", \"2016-01-09T08:00:00\", \"2016-01-09T09:00:00\", \"2016-01-09T10:00:00\", \"2016-01-09T11:00:00\", \"2016-01-09T12:00:00\", \"2016-01-09T13:00:00\", \"2016-01-09T14:00:00\", \"2016-01-09T15:00:00\", \"2016-01-09T16:00:00\", \"2016-01-09T17:00:00\", \"2016-01-09T18:00:00\", \"2016-01-09T19:00:00\", \"2016-01-09T20:00:00\", \"2016-01-09T21:00:00\", \"2016-01-09T22:00:00\", \"2016-01-09T23:00:00\", \"2016-01-10T00:00:00\", \"2016-01-10T01:00:00\", \"2016-01-10T02:00:00\", \"2016-01-10T03:00:00\", \"2016-01-10T04:00:00\", \"2016-01-10T05:00:00\", \"2016-01-10T06:00:00\", \"2016-01-10T07:00:00\", \"2016-01-10T08:00:00\", \"2016-01-10T09:00:00\", \"2016-01-10T10:00:00\", \"2016-01-10T11:00:00\", \"2016-01-10T12:00:00\", \"2016-01-10T13:00:00\", \"2016-01-10T14:00:00\", \"2016-01-10T15:00:00\", \"2016-01-10T16:00:00\", \"2016-01-10T17:00:00\", \"2016-01-10T18:00:00\", \"2016-01-10T19:00:00\", \"2016-01-10T20:00:00\", \"2016-01-10T21:00:00\", \"2016-01-10T22:00:00\", \"2016-01-10T23:00:00\", \"2016-01-11T00:00:00\", \"2016-01-11T01:00:00\", \"2016-01-11T02:00:00\", \"2016-01-11T03:00:00\", \"2016-01-11T04:00:00\", \"2016-01-11T05:00:00\", \"2016-01-11T06:00:00\", \"2016-01-11T07:00:00\", \"2016-01-11T08:00:00\", \"2016-01-11T09:00:00\", \"2016-01-11T10:00:00\", \"2016-01-11T11:00:00\", \"2016-01-11T12:00:00\", \"2016-01-11T13:00:00\", \"2016-01-11T14:00:00\", \"2016-01-11T15:00:00\", \"2016-01-11T16:00:00\", \"2016-01-11T17:00:00\", \"2016-01-11T18:00:00\", \"2016-01-11T19:00:00\", \"2016-01-11T20:00:00\", \"2016-01-11T21:00:00\", \"2016-01-11T22:00:00\", \"2016-01-11T23:00:00\", \"2016-01-12T00:00:00\", \"2016-01-12T01:00:00\", \"2016-01-12T02:00:00\", \"2016-01-12T03:00:00\", \"2016-01-12T04:00:00\", \"2016-01-12T05:00:00\", \"2016-01-12T06:00:00\", \"2016-01-12T07:00:00\", \"2016-01-12T08:00:00\", \"2016-01-12T09:00:00\", \"2016-01-12T10:00:00\", \"2016-01-12T11:00:00\", \"2016-01-12T12:00:00\", \"2016-01-12T13:00:00\", \"2016-01-12T14:00:00\", \"2016-01-12T15:00:00\", \"2016-01-12T16:00:00\", \"2016-01-12T17:00:00\", \"2016-01-12T18:00:00\", \"2016-01-12T19:00:00\", \"2016-01-12T20:00:00\", \"2016-01-12T21:00:00\", \"2016-01-12T22:00:00\", \"2016-01-12T23:00:00\", \"2016-01-13T00:00:00\", \"2016-01-13T01:00:00\", \"2016-01-13T02:00:00\", \"2016-01-13T03:00:00\", \"2016-01-13T04:00:00\", \"2016-01-13T05:00:00\", \"2016-01-13T06:00:00\", \"2016-01-13T07:00:00\", \"2016-01-13T08:00:00\", \"2016-01-13T09:00:00\", \"2016-01-13T10:00:00\", \"2016-01-13T11:00:00\", \"2016-01-13T12:00:00\", \"2016-01-13T13:00:00\", \"2016-01-13T14:00:00\", \"2016-01-13T15:00:00\", \"2016-01-13T16:00:00\", \"2016-01-13T17:00:00\", \"2016-01-13T18:00:00\", \"2016-01-13T19:00:00\", \"2016-01-13T20:00:00\", \"2016-01-13T21:00:00\", \"2016-01-13T22:00:00\", \"2016-01-13T23:00:00\", \"2016-01-14T00:00:00\", \"2016-01-14T01:00:00\", \"2016-01-14T02:00:00\", \"2016-01-14T03:00:00\", \"2016-01-14T04:00:00\", \"2016-01-14T05:00:00\", \"2016-01-14T06:00:00\", \"2016-01-14T07:00:00\", \"2016-01-14T08:00:00\", \"2016-01-14T09:00:00\", \"2016-01-14T10:00:00\", \"2016-01-14T11:00:00\", \"2016-01-14T12:00:00\", \"2016-01-14T13:00:00\", \"2016-01-14T14:00:00\", \"2016-01-14T15:00:00\", \"2016-01-14T16:00:00\", \"2016-01-14T17:00:00\", \"2016-01-14T18:00:00\", \"2016-01-14T19:00:00\", \"2016-01-14T20:00:00\", \"2016-01-14T21:00:00\", \"2016-01-14T22:00:00\", \"2016-01-14T23:00:00\", \"2016-01-15T00:00:00\", \"2016-01-15T01:00:00\", \"2016-01-15T02:00:00\", \"2016-01-15T03:00:00\", \"2016-01-15T04:00:00\", \"2016-01-15T05:00:00\", \"2016-01-15T06:00:00\", \"2016-01-15T07:00:00\", \"2016-01-15T08:00:00\", \"2016-01-15T09:00:00\", \"2016-01-15T10:00:00\", \"2016-01-15T11:00:00\", \"2016-01-15T12:00:00\", \"2016-01-15T13:00:00\", \"2016-01-15T14:00:00\", \"2016-01-15T15:00:00\", \"2016-01-15T16:00:00\", \"2016-01-15T17:00:00\", \"2016-01-15T18:00:00\", \"2016-01-15T19:00:00\", \"2016-01-15T20:00:00\", \"2016-01-15T21:00:00\", \"2016-01-15T22:00:00\", \"2016-01-15T23:00:00\", \"2016-01-16T00:00:00\", \"2016-01-16T01:00:00\", \"2016-01-16T02:00:00\", \"2016-01-16T03:00:00\", \"2016-01-16T04:00:00\", \"2016-01-16T05:00:00\", \"2016-01-16T06:00:00\", \"2016-01-16T07:00:00\", \"2016-01-16T08:00:00\", \"2016-01-16T09:00:00\", \"2016-01-16T10:00:00\", \"2016-01-16T11:00:00\", \"2016-01-16T12:00:00\", \"2016-01-16T13:00:00\", \"2016-01-16T14:00:00\", \"2016-01-16T15:00:00\", \"2016-01-16T16:00:00\", \"2016-01-16T17:00:00\", \"2016-01-16T18:00:00\", \"2016-01-16T19:00:00\", \"2016-01-16T20:00:00\", \"2016-01-16T21:00:00\", \"2016-01-16T22:00:00\", \"2016-01-16T23:00:00\", \"2016-01-17T00:00:00\", \"2016-01-17T01:00:00\", \"2016-01-17T02:00:00\", \"2016-01-17T03:00:00\", \"2016-01-17T04:00:00\", \"2016-01-17T05:00:00\", \"2016-01-17T06:00:00\", \"2016-01-17T07:00:00\", \"2016-01-17T08:00:00\", \"2016-01-17T09:00:00\", \"2016-01-17T10:00:00\", \"2016-01-17T11:00:00\", \"2016-01-17T12:00:00\", \"2016-01-17T13:00:00\", \"2016-01-17T14:00:00\", \"2016-01-17T15:00:00\", \"2016-01-17T16:00:00\", \"2016-01-17T17:00:00\", \"2016-01-17T18:00:00\", \"2016-01-17T19:00:00\", \"2016-01-17T20:00:00\", \"2016-01-17T21:00:00\", \"2016-01-17T22:00:00\", \"2016-01-17T23:00:00\", \"2016-01-18T00:00:00\", \"2016-01-18T01:00:00\", \"2016-01-18T02:00:00\", \"2016-01-18T03:00:00\", \"2016-01-18T04:00:00\", \"2016-01-18T05:00:00\", \"2016-01-18T06:00:00\", \"2016-01-18T07:00:00\", \"2016-01-18T08:00:00\", \"2016-01-18T09:00:00\", \"2016-01-18T10:00:00\", \"2016-01-18T11:00:00\", \"2016-01-18T12:00:00\", \"2016-01-18T13:00:00\", \"2016-01-18T14:00:00\", \"2016-01-18T15:00:00\", \"2016-01-18T16:00:00\", \"2016-01-18T17:00:00\", \"2016-01-18T18:00:00\", \"2016-01-18T19:00:00\", \"2016-01-18T20:00:00\", \"2016-01-18T21:00:00\", \"2016-01-18T22:00:00\", \"2016-01-18T23:00:00\", \"2016-01-19T00:00:00\", \"2016-01-19T01:00:00\", \"2016-01-19T02:00:00\", \"2016-01-19T03:00:00\", \"2016-01-19T04:00:00\", \"2016-01-19T05:00:00\", \"2016-01-19T06:00:00\", \"2016-01-19T07:00:00\", \"2016-01-19T08:00:00\", \"2016-01-19T09:00:00\", \"2016-01-19T10:00:00\", \"2016-01-19T11:00:00\", \"2016-01-19T12:00:00\", \"2016-01-19T13:00:00\", \"2016-01-19T14:00:00\", \"2016-01-19T15:00:00\", \"2016-01-19T16:00:00\", \"2016-01-19T17:00:00\", \"2016-01-19T18:00:00\", \"2016-01-19T19:00:00\", \"2016-01-19T20:00:00\", \"2016-01-19T21:00:00\", \"2016-01-19T22:00:00\", \"2016-01-19T23:00:00\", \"2016-01-20T00:00:00\", \"2016-01-20T01:00:00\", \"2016-01-20T02:00:00\", \"2016-01-20T03:00:00\", \"2016-01-20T04:00:00\", \"2016-01-20T05:00:00\", \"2016-01-20T06:00:00\", \"2016-01-20T07:00:00\", \"2016-01-20T08:00:00\", \"2016-01-20T09:00:00\", \"2016-01-20T10:00:00\", \"2016-01-20T11:00:00\", \"2016-01-20T12:00:00\", \"2016-01-20T13:00:00\", \"2016-01-20T14:00:00\", \"2016-01-20T15:00:00\", \"2016-01-20T16:00:00\", \"2016-01-20T17:00:00\", \"2016-01-20T18:00:00\", \"2016-01-20T19:00:00\", \"2016-01-20T20:00:00\", \"2016-01-20T21:00:00\", \"2016-01-20T22:00:00\", \"2016-01-20T23:00:00\", \"2016-01-21T00:00:00\", \"2016-01-21T01:00:00\", \"2016-01-21T02:00:00\", \"2016-01-21T03:00:00\", \"2016-01-21T04:00:00\", \"2016-01-21T05:00:00\", \"2016-01-21T06:00:00\", \"2016-01-21T07:00:00\", \"2016-01-21T08:00:00\", \"2016-01-21T09:00:00\", \"2016-01-21T10:00:00\", \"2016-01-21T11:00:00\", \"2016-01-21T12:00:00\", \"2016-01-21T13:00:00\", \"2016-01-21T14:00:00\", \"2016-01-21T15:00:00\", \"2016-01-21T16:00:00\", \"2016-01-21T17:00:00\", \"2016-01-21T18:00:00\", \"2016-01-21T19:00:00\", \"2016-01-21T20:00:00\", \"2016-01-21T21:00:00\", \"2016-01-21T22:00:00\", \"2016-01-21T23:00:00\", \"2016-01-22T00:00:00\", \"2016-01-22T01:00:00\", \"2016-01-22T02:00:00\", \"2016-01-22T03:00:00\", \"2016-01-22T04:00:00\", \"2016-01-22T05:00:00\", \"2016-01-22T06:00:00\", \"2016-01-22T07:00:00\", \"2016-01-22T08:00:00\", \"2016-01-22T09:00:00\", \"2016-01-22T10:00:00\", \"2016-01-22T11:00:00\", \"2016-01-22T12:00:00\", \"2016-01-22T13:00:00\", \"2016-01-22T14:00:00\", \"2016-01-22T15:00:00\", \"2016-01-22T16:00:00\", \"2016-01-22T17:00:00\", \"2016-01-22T18:00:00\", \"2016-01-22T19:00:00\", \"2016-01-22T20:00:00\", \"2016-01-22T21:00:00\", \"2016-01-22T22:00:00\", \"2016-01-22T23:00:00\", \"2016-01-23T00:00:00\", \"2016-01-23T01:00:00\", \"2016-01-23T02:00:00\", \"2016-01-23T03:00:00\", \"2016-01-23T04:00:00\", \"2016-01-23T05:00:00\", \"2016-01-23T06:00:00\", \"2016-01-23T07:00:00\", \"2016-01-23T08:00:00\", \"2016-01-23T09:00:00\", \"2016-01-23T10:00:00\", \"2016-01-23T11:00:00\", \"2016-01-23T12:00:00\", \"2016-01-23T13:00:00\", \"2016-01-23T14:00:00\", \"2016-01-23T15:00:00\", \"2016-01-23T16:00:00\", \"2016-01-23T17:00:00\", \"2016-01-23T18:00:00\", \"2016-01-23T19:00:00\", \"2016-01-23T20:00:00\", \"2016-01-23T21:00:00\", \"2016-01-23T22:00:00\", \"2016-01-23T23:00:00\", \"2016-01-24T00:00:00\", \"2016-01-24T01:00:00\", \"2016-01-24T02:00:00\", \"2016-01-24T03:00:00\", \"2016-01-24T04:00:00\", \"2016-01-24T05:00:00\", \"2016-01-24T06:00:00\", \"2016-01-24T07:00:00\", \"2016-01-24T08:00:00\", \"2016-01-24T09:00:00\", \"2016-01-24T10:00:00\", \"2016-01-24T11:00:00\", \"2016-01-24T12:00:00\", \"2016-01-24T13:00:00\", \"2016-01-24T14:00:00\", \"2016-01-24T15:00:00\", \"2016-01-24T16:00:00\", \"2016-01-24T17:00:00\", \"2016-01-24T18:00:00\", \"2016-01-24T19:00:00\", \"2016-01-24T20:00:00\", \"2016-01-24T21:00:00\", \"2016-01-24T22:00:00\", \"2016-01-24T23:00:00\", \"2016-01-25T00:00:00\", \"2016-01-25T01:00:00\", \"2016-01-25T02:00:00\", \"2016-01-25T03:00:00\", \"2016-01-25T04:00:00\", \"2016-01-25T05:00:00\", \"2016-01-25T06:00:00\", \"2016-01-25T07:00:00\", \"2016-01-25T08:00:00\", \"2016-01-25T09:00:00\", \"2016-01-25T10:00:00\", \"2016-01-25T11:00:00\", \"2016-01-25T12:00:00\", \"2016-01-25T13:00:00\", \"2016-01-25T14:00:00\", \"2016-01-25T15:00:00\", \"2016-01-25T16:00:00\", \"2016-01-25T17:00:00\", \"2016-01-25T18:00:00\", \"2016-01-25T19:00:00\", \"2016-01-25T20:00:00\", \"2016-01-25T21:00:00\", \"2016-01-25T22:00:00\", \"2016-01-25T23:00:00\", \"2016-01-26T00:00:00\", \"2016-01-26T01:00:00\", \"2016-01-26T02:00:00\", \"2016-01-26T03:00:00\", \"2016-01-26T04:00:00\", \"2016-01-26T05:00:00\", \"2016-01-26T06:00:00\", \"2016-01-26T07:00:00\", \"2016-01-26T08:00:00\", \"2016-01-26T09:00:00\", \"2016-01-26T10:00:00\", \"2016-01-26T11:00:00\", \"2016-01-26T12:00:00\", \"2016-01-26T13:00:00\", \"2016-01-26T14:00:00\", \"2016-01-26T15:00:00\", \"2016-01-26T16:00:00\", \"2016-01-26T17:00:00\", \"2016-01-26T18:00:00\", \"2016-01-26T19:00:00\", \"2016-01-26T20:00:00\", \"2016-01-26T21:00:00\", \"2016-01-26T22:00:00\", \"2016-01-26T23:00:00\", \"2016-01-27T00:00:00\", \"2016-01-27T01:00:00\", \"2016-01-27T02:00:00\", \"2016-01-27T03:00:00\", \"2016-01-27T04:00:00\", \"2016-01-27T05:00:00\", \"2016-01-27T06:00:00\", \"2016-01-27T07:00:00\", \"2016-01-27T08:00:00\", \"2016-01-27T09:00:00\", \"2016-01-27T10:00:00\", \"2016-01-27T11:00:00\", \"2016-01-27T12:00:00\", \"2016-01-27T13:00:00\", \"2016-01-27T14:00:00\", \"2016-01-27T15:00:00\", \"2016-01-27T16:00:00\", \"2016-01-27T17:00:00\", \"2016-01-27T18:00:00\", \"2016-01-27T19:00:00\", \"2016-01-27T20:00:00\", \"2016-01-27T21:00:00\", \"2016-01-27T22:00:00\", \"2016-01-27T23:00:00\", \"2016-01-28T00:00:00\", \"2016-01-28T01:00:00\", \"2016-01-28T02:00:00\", \"2016-01-28T03:00:00\", \"2016-01-28T04:00:00\", \"2016-01-28T05:00:00\", \"2016-01-28T06:00:00\", \"2016-01-28T07:00:00\", \"2016-01-28T08:00:00\", \"2016-01-28T09:00:00\", \"2016-01-28T10:00:00\", \"2016-01-28T11:00:00\", \"2016-01-28T12:00:00\", \"2016-01-28T13:00:00\", \"2016-01-28T14:00:00\", \"2016-01-28T15:00:00\", \"2016-01-28T16:00:00\", \"2016-01-28T17:00:00\", \"2016-01-28T18:00:00\", \"2016-01-28T19:00:00\", \"2016-01-28T20:00:00\", \"2016-01-28T21:00:00\", \"2016-01-28T22:00:00\", \"2016-01-28T23:00:00\", \"2016-01-29T00:00:00\", \"2016-01-29T01:00:00\", \"2016-01-29T02:00:00\", \"2016-01-29T03:00:00\", \"2016-01-29T04:00:00\", \"2016-01-29T05:00:00\", \"2016-01-29T06:00:00\", \"2016-01-29T07:00:00\", \"2016-01-29T08:00:00\", \"2016-01-29T09:00:00\", \"2016-01-29T10:00:00\", \"2016-01-29T11:00:00\", \"2016-01-29T12:00:00\", \"2016-01-29T13:00:00\", \"2016-01-29T14:00:00\", \"2016-01-29T15:00:00\", \"2016-01-29T16:00:00\", \"2016-01-29T17:00:00\", \"2016-01-29T18:00:00\", \"2016-01-29T19:00:00\", \"2016-01-29T20:00:00\", \"2016-01-29T21:00:00\", \"2016-01-29T22:00:00\", \"2016-01-29T23:00:00\", \"2016-01-30T00:00:00\", \"2016-01-30T01:00:00\", \"2016-01-30T02:00:00\", \"2016-01-30T03:00:00\", \"2016-01-30T04:00:00\", \"2016-01-30T05:00:00\", \"2016-01-30T06:00:00\", \"2016-01-30T07:00:00\", \"2016-01-30T08:00:00\", \"2016-01-30T09:00:00\", \"2016-01-30T10:00:00\", \"2016-01-30T11:00:00\", \"2016-01-30T12:00:00\", \"2016-01-30T13:00:00\", \"2016-01-30T14:00:00\", \"2016-01-30T15:00:00\", \"2016-01-30T16:00:00\", \"2016-01-30T17:00:00\", \"2016-01-30T18:00:00\", \"2016-01-30T19:00:00\", \"2016-01-30T20:00:00\", \"2016-01-30T21:00:00\", \"2016-01-30T22:00:00\", \"2016-01-30T23:00:00\", \"2016-01-31T00:00:00\", \"2016-01-31T01:00:00\", \"2016-01-31T02:00:00\", \"2016-01-31T03:00:00\", \"2016-01-31T04:00:00\", \"2016-01-31T05:00:00\", \"2016-01-31T06:00:00\", \"2016-01-31T07:00:00\", \"2016-01-31T08:00:00\", \"2016-01-31T09:00:00\", \"2016-01-31T10:00:00\", \"2016-01-31T11:00:00\", \"2016-01-31T12:00:00\", \"2016-01-31T13:00:00\", \"2016-01-31T14:00:00\", \"2016-01-31T15:00:00\", \"2016-01-31T16:00:00\", \"2016-01-31T17:00:00\", \"2016-01-31T18:00:00\", \"2016-01-31T19:00:00\", \"2016-01-31T20:00:00\", \"2016-01-31T21:00:00\", \"2016-01-31T22:00:00\", \"2016-01-31T23:00:00\", \"2016-02-01T00:00:00\", \"2016-02-01T01:00:00\", \"2016-02-01T02:00:00\", \"2016-02-01T03:00:00\", \"2016-02-01T04:00:00\", \"2016-02-01T05:00:00\", \"2016-02-01T06:00:00\", \"2016-02-01T07:00:00\", \"2016-02-01T08:00:00\", \"2016-02-01T09:00:00\", \"2016-02-01T10:00:00\", \"2016-02-01T11:00:00\", \"2016-02-01T12:00:00\", \"2016-02-01T13:00:00\", \"2016-02-01T14:00:00\", \"2016-02-01T15:00:00\", \"2016-02-01T16:00:00\", \"2016-02-01T17:00:00\", \"2016-02-01T18:00:00\", \"2016-02-01T19:00:00\", \"2016-02-01T20:00:00\", \"2016-02-01T21:00:00\", \"2016-02-01T22:00:00\", \"2016-02-01T23:00:00\", \"2016-02-02T00:00:00\", \"2016-02-02T01:00:00\", \"2016-02-02T02:00:00\", \"2016-02-02T03:00:00\", \"2016-02-02T04:00:00\", \"2016-02-02T05:00:00\", \"2016-02-02T06:00:00\", \"2016-02-02T07:00:00\", \"2016-02-02T08:00:00\", \"2016-02-02T09:00:00\", \"2016-02-02T10:00:00\", \"2016-02-02T11:00:00\", \"2016-02-02T12:00:00\", \"2016-02-02T13:00:00\", \"2016-02-02T14:00:00\", \"2016-02-02T15:00:00\", \"2016-02-02T16:00:00\", \"2016-02-02T17:00:00\", \"2016-02-02T18:00:00\", \"2016-02-02T19:00:00\", \"2016-02-02T20:00:00\", \"2016-02-02T21:00:00\", \"2016-02-02T22:00:00\", \"2016-02-02T23:00:00\", \"2016-02-03T00:00:00\", \"2016-02-03T01:00:00\", \"2016-02-03T02:00:00\", \"2016-02-03T03:00:00\", \"2016-02-03T04:00:00\", \"2016-02-03T05:00:00\", \"2016-02-03T06:00:00\", \"2016-02-03T07:00:00\", \"2016-02-03T08:00:00\", \"2016-02-03T09:00:00\", \"2016-02-03T10:00:00\", \"2016-02-03T11:00:00\", \"2016-02-03T12:00:00\", \"2016-02-03T13:00:00\", \"2016-02-03T14:00:00\", \"2016-02-03T15:00:00\", \"2016-02-03T16:00:00\", \"2016-02-03T17:00:00\", \"2016-02-03T18:00:00\", \"2016-02-03T19:00:00\", \"2016-02-03T20:00:00\", \"2016-02-03T21:00:00\", \"2016-02-03T22:00:00\", \"2016-02-03T23:00:00\", \"2016-02-04T00:00:00\", \"2016-02-04T01:00:00\", \"2016-02-04T02:00:00\", \"2016-02-04T03:00:00\", \"2016-02-04T04:00:00\", \"2016-02-04T05:00:00\", \"2016-02-04T06:00:00\", \"2016-02-04T07:00:00\", \"2016-02-04T08:00:00\", \"2016-02-04T09:00:00\", \"2016-02-04T10:00:00\", \"2016-02-04T11:00:00\", \"2016-02-04T12:00:00\", \"2016-02-04T13:00:00\", \"2016-02-04T14:00:00\", \"2016-02-04T15:00:00\", \"2016-02-04T16:00:00\", \"2016-02-04T17:00:00\", \"2016-02-04T18:00:00\", \"2016-02-04T19:00:00\", \"2016-02-04T20:00:00\", \"2016-02-04T21:00:00\", \"2016-02-04T22:00:00\", \"2016-02-04T23:00:00\", \"2016-02-05T00:00:00\", \"2016-02-05T01:00:00\", \"2016-02-05T02:00:00\", \"2016-02-05T03:00:00\", \"2016-02-05T04:00:00\", \"2016-02-05T05:00:00\", \"2016-02-05T06:00:00\", \"2016-02-05T07:00:00\", \"2016-02-05T08:00:00\", \"2016-02-05T09:00:00\", \"2016-02-05T10:00:00\", \"2016-02-05T11:00:00\", \"2016-02-05T12:00:00\", \"2016-02-05T13:00:00\", \"2016-02-05T14:00:00\", \"2016-02-05T15:00:00\", \"2016-02-05T16:00:00\", \"2016-02-05T17:00:00\", \"2016-02-05T18:00:00\", \"2016-02-05T19:00:00\", \"2016-02-05T20:00:00\", \"2016-02-05T21:00:00\", \"2016-02-05T22:00:00\", \"2016-02-05T23:00:00\", \"2016-02-06T00:00:00\", \"2016-02-06T01:00:00\", \"2016-02-06T02:00:00\", \"2016-02-06T03:00:00\", \"2016-02-06T04:00:00\", \"2016-02-06T05:00:00\", \"2016-02-06T06:00:00\", \"2016-02-06T07:00:00\", \"2016-02-06T08:00:00\", \"2016-02-06T09:00:00\", \"2016-02-06T10:00:00\", \"2016-02-06T11:00:00\", \"2016-02-06T12:00:00\", \"2016-02-06T13:00:00\", \"2016-02-06T14:00:00\", \"2016-02-06T15:00:00\", \"2016-02-06T16:00:00\", \"2016-02-06T17:00:00\", \"2016-02-06T18:00:00\", \"2016-02-06T19:00:00\", \"2016-02-06T20:00:00\", \"2016-02-06T21:00:00\", \"2016-02-06T22:00:00\", \"2016-02-06T23:00:00\", \"2016-02-07T00:00:00\", \"2016-02-07T01:00:00\", \"2016-02-07T02:00:00\", \"2016-02-07T03:00:00\", \"2016-02-07T04:00:00\", \"2016-02-07T05:00:00\", \"2016-02-07T06:00:00\", \"2016-02-07T07:00:00\", \"2016-02-07T08:00:00\", \"2016-02-07T09:00:00\", \"2016-02-07T10:00:00\", \"2016-02-07T11:00:00\", \"2016-02-07T12:00:00\", \"2016-02-07T13:00:00\", \"2016-02-07T14:00:00\", \"2016-02-07T15:00:00\", \"2016-02-07T16:00:00\", \"2016-02-07T17:00:00\", \"2016-02-07T18:00:00\", \"2016-02-07T19:00:00\", \"2016-02-07T20:00:00\", \"2016-02-07T21:00:00\", \"2016-02-07T22:00:00\", \"2016-02-07T23:00:00\", \"2016-02-08T00:00:00\", \"2016-02-08T01:00:00\", \"2016-02-08T02:00:00\", \"2016-02-08T03:00:00\", \"2016-02-08T04:00:00\", \"2016-02-08T05:00:00\", \"2016-02-08T06:00:00\", \"2016-02-08T07:00:00\", \"2016-02-08T08:00:00\", \"2016-02-08T09:00:00\", \"2016-02-08T10:00:00\", \"2016-02-08T11:00:00\", \"2016-02-08T12:00:00\", \"2016-02-08T13:00:00\", \"2016-02-08T14:00:00\", \"2016-02-08T15:00:00\", \"2016-02-08T16:00:00\", \"2016-02-08T17:00:00\", \"2016-02-08T18:00:00\", \"2016-02-08T19:00:00\", \"2016-02-08T20:00:00\", \"2016-02-08T21:00:00\", \"2016-02-08T22:00:00\", \"2016-02-08T23:00:00\", \"2016-02-09T00:00:00\", \"2016-02-09T01:00:00\", \"2016-02-09T02:00:00\", \"2016-02-09T03:00:00\", \"2016-02-09T04:00:00\", \"2016-02-09T05:00:00\", \"2016-02-09T06:00:00\", \"2016-02-09T07:00:00\", \"2016-02-09T08:00:00\", \"2016-02-09T09:00:00\", \"2016-02-09T10:00:00\", \"2016-02-09T11:00:00\", \"2016-02-09T12:00:00\", \"2016-02-09T13:00:00\", \"2016-02-09T14:00:00\", \"2016-02-09T15:00:00\", \"2016-02-09T16:00:00\", \"2016-02-09T17:00:00\", \"2016-02-09T18:00:00\", \"2016-02-09T19:00:00\", \"2016-02-09T20:00:00\", \"2016-02-09T21:00:00\", \"2016-02-09T22:00:00\", \"2016-02-09T23:00:00\", \"2016-02-10T00:00:00\", \"2016-02-10T01:00:00\", \"2016-02-10T02:00:00\", \"2016-02-10T03:00:00\", \"2016-02-10T04:00:00\", \"2016-02-10T05:00:00\", \"2016-02-10T06:00:00\", \"2016-02-10T07:00:00\", \"2016-02-10T08:00:00\", \"2016-02-10T09:00:00\", \"2016-02-10T10:00:00\", \"2016-02-10T11:00:00\", \"2016-02-10T12:00:00\", \"2016-02-10T13:00:00\", \"2016-02-10T14:00:00\", \"2016-02-10T15:00:00\", \"2016-02-10T16:00:00\", \"2016-02-10T17:00:00\", \"2016-02-10T18:00:00\", \"2016-02-10T19:00:00\", \"2016-02-10T20:00:00\", \"2016-02-10T21:00:00\", \"2016-02-10T22:00:00\", \"2016-02-10T23:00:00\", \"2016-02-11T00:00:00\", \"2016-02-11T01:00:00\", \"2016-02-11T02:00:00\", \"2016-02-11T03:00:00\", \"2016-02-11T04:00:00\", \"2016-02-11T05:00:00\", \"2016-02-11T06:00:00\", \"2016-02-11T07:00:00\", \"2016-02-11T08:00:00\", \"2016-02-11T09:00:00\", \"2016-02-11T10:00:00\", \"2016-02-11T11:00:00\", \"2016-02-11T12:00:00\", \"2016-02-11T13:00:00\", \"2016-02-11T14:00:00\", \"2016-02-11T15:00:00\", \"2016-02-11T16:00:00\", \"2016-02-11T17:00:00\", \"2016-02-11T18:00:00\", \"2016-02-11T19:00:00\", \"2016-02-11T20:00:00\", \"2016-02-11T21:00:00\", \"2016-02-11T22:00:00\", \"2016-02-11T23:00:00\", \"2016-02-12T00:00:00\", \"2016-02-12T01:00:00\", \"2016-02-12T02:00:00\", \"2016-02-12T03:00:00\", \"2016-02-12T04:00:00\", \"2016-02-12T05:00:00\", \"2016-02-12T06:00:00\", \"2016-02-12T07:00:00\", \"2016-02-12T08:00:00\", \"2016-02-12T09:00:00\", \"2016-02-12T10:00:00\", \"2016-02-12T11:00:00\", \"2016-02-12T12:00:00\", \"2016-02-12T13:00:00\", \"2016-02-12T14:00:00\", \"2016-02-12T15:00:00\", \"2016-02-12T16:00:00\", \"2016-02-12T17:00:00\", \"2016-02-12T18:00:00\", \"2016-02-12T19:00:00\", \"2016-02-12T20:00:00\", \"2016-02-12T21:00:00\", \"2016-02-12T22:00:00\", \"2016-02-12T23:00:00\", \"2016-02-13T00:00:00\", \"2016-02-13T01:00:00\", \"2016-02-13T02:00:00\", \"2016-02-13T03:00:00\", \"2016-02-13T04:00:00\", \"2016-02-13T05:00:00\", \"2016-02-13T06:00:00\", \"2016-02-13T07:00:00\", \"2016-02-13T08:00:00\", \"2016-02-13T09:00:00\", \"2016-02-13T10:00:00\", \"2016-02-13T11:00:00\", \"2016-02-13T12:00:00\", \"2016-02-13T13:00:00\", \"2016-02-13T14:00:00\", \"2016-02-13T15:00:00\", \"2016-02-13T16:00:00\", \"2016-02-13T17:00:00\", \"2016-02-13T18:00:00\", \"2016-02-13T19:00:00\", \"2016-02-13T20:00:00\", \"2016-02-13T21:00:00\", \"2016-02-13T22:00:00\", \"2016-02-13T23:00:00\", \"2016-02-14T00:00:00\", \"2016-02-14T01:00:00\", \"2016-02-14T02:00:00\", \"2016-02-14T03:00:00\", \"2016-02-14T04:00:00\", \"2016-02-14T05:00:00\", \"2016-02-14T06:00:00\", \"2016-02-14T07:00:00\", \"2016-02-14T08:00:00\", \"2016-02-14T09:00:00\", \"2016-02-14T10:00:00\", \"2016-02-14T11:00:00\", \"2016-02-14T12:00:00\", \"2016-02-14T13:00:00\", \"2016-02-14T14:00:00\", \"2016-02-14T15:00:00\", \"2016-02-14T16:00:00\", \"2016-02-14T17:00:00\", \"2016-02-14T18:00:00\", \"2016-02-14T19:00:00\", \"2016-02-14T20:00:00\", \"2016-02-14T21:00:00\", \"2016-02-14T22:00:00\", \"2016-02-14T23:00:00\", \"2016-02-15T00:00:00\", \"2016-02-15T01:00:00\", \"2016-02-15T02:00:00\", \"2016-02-15T03:00:00\", \"2016-02-15T04:00:00\", \"2016-02-15T05:00:00\", \"2016-02-15T06:00:00\", \"2016-02-15T07:00:00\", \"2016-02-15T08:00:00\", \"2016-02-15T09:00:00\", \"2016-02-15T10:00:00\", \"2016-02-15T11:00:00\", \"2016-02-15T12:00:00\", \"2016-02-15T13:00:00\", \"2016-02-15T18:00:00\", \"2016-02-15T19:00:00\", \"2016-02-15T21:00:00\", \"2016-02-15T22:00:00\", \"2016-02-15T23:00:00\", \"2016-02-16T00:00:00\", \"2016-02-16T01:00:00\", \"2016-02-16T02:00:00\", \"2016-02-16T03:00:00\", \"2016-02-16T04:00:00\", \"2016-02-16T05:00:00\", \"2016-02-16T06:00:00\", \"2016-02-16T07:00:00\", \"2016-02-16T08:00:00\", \"2016-02-16T09:00:00\", \"2016-02-16T10:00:00\", \"2016-02-16T11:00:00\", \"2016-02-16T12:00:00\", \"2016-02-16T13:00:00\", \"2016-02-16T14:00:00\", \"2016-02-16T15:00:00\", \"2016-02-16T16:00:00\", \"2016-02-16T17:00:00\", \"2016-02-16T18:00:00\", \"2016-02-16T19:00:00\", \"2016-02-16T20:00:00\", \"2016-02-16T21:00:00\", \"2016-02-16T22:00:00\", \"2016-02-16T23:00:00\", \"2016-02-17T00:00:00\", \"2016-02-17T01:00:00\", \"2016-02-17T02:00:00\", \"2016-02-17T03:00:00\", \"2016-02-17T04:00:00\", \"2016-02-17T05:00:00\", \"2016-02-17T06:00:00\", \"2016-02-17T07:00:00\", \"2016-02-17T08:00:00\", \"2016-02-17T09:00:00\", \"2016-02-17T10:00:00\", \"2016-02-17T11:00:00\", \"2016-02-17T12:00:00\", \"2016-02-17T13:00:00\", \"2016-02-17T14:00:00\", \"2016-02-17T15:00:00\", \"2016-02-17T16:00:00\", \"2016-02-17T17:00:00\", \"2016-02-17T18:00:00\", \"2016-02-17T19:00:00\", \"2016-02-17T20:00:00\", \"2016-02-17T21:00:00\", \"2016-02-17T22:00:00\", \"2016-02-17T23:00:00\", \"2016-02-18T00:00:00\", \"2016-02-18T01:00:00\", \"2016-02-18T02:00:00\", \"2016-02-18T03:00:00\", \"2016-02-18T04:00:00\", \"2016-02-18T05:00:00\", \"2016-02-18T06:00:00\", \"2016-02-18T07:00:00\", \"2016-02-18T08:00:00\", \"2016-02-18T09:00:00\", \"2016-02-18T10:00:00\", \"2016-02-18T11:00:00\", \"2016-02-18T13:00:00\", \"2016-02-18T14:00:00\", \"2016-02-18T20:00:00\", \"2016-02-18T21:00:00\", \"2016-02-18T22:00:00\", \"2016-02-18T23:00:00\", \"2016-02-19T00:00:00\", \"2016-02-19T01:00:00\", \"2016-02-19T02:00:00\", \"2016-02-19T03:00:00\", \"2016-02-19T04:00:00\", \"2016-02-19T05:00:00\", \"2016-02-19T06:00:00\", \"2016-02-19T07:00:00\", \"2016-02-19T08:00:00\", \"2016-02-19T09:00:00\", \"2016-02-19T10:00:00\", \"2016-02-19T11:00:00\", \"2016-02-19T12:00:00\", \"2016-02-19T13:00:00\", \"2016-02-19T14:00:00\", \"2016-02-19T15:00:00\", \"2016-02-19T16:00:00\", \"2016-02-19T17:00:00\", \"2016-02-19T18:00:00\", \"2016-02-19T19:00:00\", \"2016-02-19T20:00:00\", \"2016-02-19T21:00:00\", \"2016-02-19T22:00:00\", \"2016-02-19T23:00:00\", \"2016-02-20T00:00:00\", \"2016-02-20T01:00:00\", \"2016-02-20T02:00:00\", \"2016-02-20T03:00:00\", \"2016-02-20T04:00:00\", \"2016-02-20T05:00:00\", \"2016-02-20T06:00:00\", \"2016-02-20T07:00:00\", \"2016-02-20T08:00:00\", \"2016-02-20T09:00:00\", \"2016-02-20T10:00:00\", \"2016-02-20T11:00:00\", \"2016-02-20T12:00:00\", \"2016-02-20T13:00:00\", \"2016-02-20T14:00:00\", \"2016-02-20T15:00:00\", \"2016-02-20T16:00:00\", \"2016-02-20T17:00:00\", \"2016-02-20T18:00:00\", \"2016-02-20T19:00:00\", \"2016-02-20T20:00:00\", \"2016-02-20T21:00:00\", \"2016-02-20T22:00:00\", \"2016-02-20T23:00:00\", \"2016-02-21T00:00:00\", \"2016-02-21T01:00:00\", \"2016-02-21T02:00:00\", \"2016-02-21T03:00:00\", \"2016-02-21T04:00:00\", \"2016-02-21T05:00:00\", \"2016-02-21T06:00:00\", \"2016-02-21T07:00:00\", \"2016-02-21T08:00:00\", \"2016-02-21T09:00:00\", \"2016-02-21T10:00:00\", \"2016-02-21T11:00:00\", \"2016-02-21T12:00:00\", \"2016-02-21T13:00:00\", \"2016-02-21T14:00:00\", \"2016-02-21T15:00:00\", \"2016-02-21T16:00:00\", \"2016-02-21T17:00:00\", \"2016-02-21T18:00:00\", \"2016-02-21T19:00:00\", \"2016-02-21T20:00:00\", \"2016-02-21T21:00:00\", \"2016-02-21T22:00:00\", \"2016-02-21T23:00:00\", \"2016-02-22T00:00:00\", \"2016-02-22T01:00:00\", \"2016-02-22T02:00:00\", \"2016-02-22T03:00:00\", \"2016-02-22T04:00:00\", \"2016-02-22T05:00:00\", \"2016-02-22T06:00:00\", \"2016-02-22T07:00:00\", \"2016-02-22T08:00:00\", \"2016-02-22T09:00:00\", \"2016-02-22T10:00:00\", \"2016-02-22T11:00:00\", \"2016-02-22T12:00:00\", \"2016-02-22T13:00:00\", \"2016-02-22T14:00:00\", \"2016-02-22T15:00:00\", \"2016-02-22T16:00:00\", \"2016-02-22T17:00:00\", \"2016-02-22T18:00:00\", \"2016-02-22T19:00:00\", \"2016-02-22T20:00:00\", \"2016-02-22T21:00:00\", \"2016-02-22T22:00:00\", \"2016-02-22T23:00:00\", \"2016-02-23T00:00:00\", \"2016-02-23T01:00:00\", \"2016-02-23T02:00:00\", \"2016-02-23T03:00:00\", \"2016-02-23T04:00:00\", \"2016-02-23T05:00:00\", \"2016-02-23T06:00:00\", \"2016-02-23T07:00:00\", \"2016-02-23T08:00:00\", \"2016-02-23T09:00:00\", \"2016-02-23T10:00:00\", \"2016-02-23T11:00:00\", \"2016-02-23T12:00:00\", \"2016-02-23T13:00:00\", \"2016-02-23T14:00:00\", \"2016-02-23T15:00:00\", \"2016-02-23T16:00:00\", \"2016-02-23T17:00:00\", \"2016-02-23T18:00:00\", \"2016-02-23T19:00:00\", \"2016-02-23T20:00:00\", \"2016-02-23T21:00:00\", \"2016-02-23T22:00:00\", \"2016-02-23T23:00:00\", \"2016-02-24T00:00:00\", \"2016-02-24T01:00:00\", \"2016-02-24T02:00:00\", \"2016-02-24T03:00:00\", \"2016-02-24T04:00:00\", \"2016-02-24T05:00:00\", \"2016-02-24T06:00:00\", \"2016-02-24T07:00:00\", \"2016-02-24T08:00:00\", \"2016-02-24T09:00:00\", \"2016-02-24T10:00:00\", \"2016-02-24T11:00:00\", \"2016-02-24T12:00:00\", \"2016-02-24T13:00:00\", \"2016-02-24T14:00:00\", \"2016-02-24T15:00:00\", \"2016-02-24T16:00:00\", \"2016-02-24T17:00:00\", \"2016-02-24T18:00:00\", \"2016-02-24T19:00:00\", \"2016-02-24T20:00:00\", \"2016-02-24T21:00:00\", \"2016-02-24T22:00:00\", \"2016-02-24T23:00:00\", \"2016-02-25T00:00:00\", \"2016-02-25T01:00:00\", \"2016-02-25T02:00:00\", \"2016-02-25T03:00:00\", \"2016-02-25T04:00:00\", \"2016-02-25T05:00:00\", \"2016-02-25T06:00:00\", \"2016-02-25T07:00:00\", \"2016-02-25T08:00:00\", \"2016-02-25T09:00:00\", \"2016-02-25T10:00:00\", \"2016-02-25T11:00:00\", \"2016-02-25T12:00:00\", \"2016-02-25T13:00:00\", \"2016-02-25T14:00:00\", \"2016-02-25T15:00:00\", \"2016-02-25T16:00:00\", \"2016-02-25T17:00:00\", \"2016-02-25T18:00:00\", \"2016-02-25T19:00:00\", \"2016-02-25T20:00:00\", \"2016-02-25T21:00:00\", \"2016-02-25T22:00:00\", \"2016-02-25T23:00:00\", \"2016-02-26T00:00:00\", \"2016-02-26T01:00:00\", \"2016-02-26T02:00:00\", \"2016-02-26T03:00:00\", \"2016-02-26T04:00:00\", \"2016-02-26T05:00:00\", \"2016-02-26T06:00:00\", \"2016-02-26T07:00:00\", \"2016-02-26T08:00:00\", \"2016-02-26T09:00:00\", \"2016-02-26T10:00:00\", \"2016-02-26T11:00:00\", \"2016-02-26T12:00:00\", \"2016-02-26T13:00:00\", \"2016-02-26T14:00:00\", \"2016-02-26T15:00:00\", \"2016-02-26T16:00:00\", \"2016-02-26T17:00:00\", \"2016-02-26T18:00:00\", \"2016-02-26T19:00:00\", \"2016-02-26T20:00:00\", \"2016-02-26T21:00:00\", \"2016-02-26T22:00:00\", \"2016-02-26T23:00:00\", \"2016-02-27T00:00:00\", \"2016-02-27T01:00:00\", \"2016-02-27T02:00:00\", \"2016-02-27T03:00:00\", \"2016-02-27T04:00:00\", \"2016-02-27T05:00:00\", \"2016-02-27T06:00:00\", \"2016-02-27T07:00:00\", \"2016-02-27T08:00:00\", \"2016-02-27T09:00:00\", \"2016-02-27T10:00:00\", \"2016-02-27T11:00:00\", \"2016-02-27T12:00:00\", \"2016-02-27T13:00:00\", \"2016-02-27T14:00:00\", \"2016-02-27T15:00:00\", \"2016-02-27T16:00:00\", \"2016-02-27T17:00:00\", \"2016-02-27T18:00:00\", \"2016-02-27T19:00:00\", \"2016-02-27T20:00:00\", \"2016-02-27T21:00:00\", \"2016-02-27T22:00:00\", \"2016-02-27T23:00:00\", \"2016-02-28T00:00:00\", \"2016-02-28T01:00:00\", \"2016-02-28T02:00:00\", \"2016-02-28T03:00:00\", \"2016-02-28T04:00:00\", \"2016-02-28T05:00:00\", \"2016-02-28T06:00:00\", \"2016-02-28T07:00:00\", \"2016-02-28T08:00:00\", \"2016-02-28T09:00:00\", \"2016-02-28T10:00:00\", \"2016-02-28T11:00:00\", \"2016-02-28T12:00:00\", \"2016-02-28T13:00:00\", \"2016-02-28T14:00:00\", \"2016-02-28T15:00:00\", \"2016-02-28T16:00:00\", \"2016-02-28T17:00:00\", \"2016-02-28T18:00:00\", \"2016-02-28T19:00:00\", \"2016-02-28T20:00:00\", \"2016-02-28T21:00:00\", \"2016-02-28T22:00:00\", \"2016-02-28T23:00:00\", \"2016-02-29T00:00:00\", \"2016-02-29T01:00:00\", \"2016-02-29T02:00:00\", \"2016-02-29T03:00:00\", \"2016-02-29T04:00:00\", \"2016-02-29T05:00:00\", \"2016-02-29T06:00:00\", \"2016-02-29T07:00:00\", \"2016-02-29T08:00:00\", \"2016-02-29T09:00:00\", \"2016-02-29T10:00:00\", \"2016-02-29T11:00:00\", \"2016-02-29T12:00:00\", \"2016-02-29T13:00:00\", \"2016-02-29T14:00:00\", \"2016-02-29T15:00:00\", \"2016-02-29T16:00:00\", \"2016-02-29T17:00:00\", \"2016-02-29T18:00:00\", \"2016-02-29T19:00:00\", \"2016-02-29T20:00:00\", \"2016-02-29T21:00:00\", \"2016-02-29T22:00:00\", \"2016-02-29T23:00:00\", \"2016-03-01T00:00:00\", \"2016-03-01T01:00:00\", \"2016-03-01T02:00:00\", \"2016-03-01T03:00:00\", \"2016-03-01T04:00:00\", \"2016-03-01T05:00:00\", \"2016-03-01T06:00:00\", \"2016-03-01T07:00:00\", \"2016-03-01T08:00:00\", \"2016-03-01T09:00:00\", \"2016-03-01T10:00:00\", \"2016-03-01T11:00:00\", \"2016-03-01T12:00:00\", \"2016-03-01T13:00:00\", \"2016-03-01T14:00:00\", \"2016-03-01T15:00:00\", \"2016-03-01T16:00:00\", \"2016-03-01T17:00:00\", \"2016-03-01T18:00:00\", \"2016-03-01T19:00:00\", \"2016-03-01T20:00:00\", \"2016-03-01T21:00:00\", \"2016-03-01T22:00:00\", \"2016-03-01T23:00:00\", \"2016-03-02T00:00:00\", \"2016-03-02T01:00:00\", \"2016-03-02T02:00:00\", \"2016-03-02T03:00:00\", \"2016-03-02T04:00:00\", \"2016-03-02T05:00:00\", \"2016-03-02T06:00:00\", \"2016-03-02T07:00:00\", \"2016-03-02T08:00:00\", \"2016-03-02T09:00:00\", \"2016-03-02T10:00:00\", \"2016-03-02T11:00:00\", \"2016-03-02T12:00:00\", \"2016-03-02T13:00:00\", \"2016-03-02T14:00:00\", \"2016-03-02T15:00:00\", \"2016-03-02T16:00:00\", \"2016-03-02T17:00:00\", \"2016-03-02T18:00:00\", \"2016-03-02T19:00:00\", \"2016-03-02T20:00:00\", \"2016-03-02T21:00:00\", \"2016-03-02T22:00:00\", \"2016-03-02T23:00:00\", \"2016-03-03T00:00:00\", \"2016-03-03T01:00:00\", \"2016-03-03T02:00:00\", \"2016-03-03T03:00:00\", \"2016-03-03T04:00:00\", \"2016-03-03T05:00:00\", \"2016-03-03T06:00:00\", \"2016-03-03T07:00:00\", \"2016-03-03T08:00:00\", \"2016-03-03T09:00:00\", \"2016-03-03T10:00:00\", \"2016-03-03T11:00:00\", \"2016-03-03T12:00:00\", \"2016-03-03T13:00:00\", \"2016-03-03T14:00:00\", \"2016-03-03T15:00:00\", \"2016-03-03T16:00:00\", \"2016-03-03T17:00:00\", \"2016-03-03T18:00:00\", \"2016-03-03T19:00:00\", \"2016-03-03T20:00:00\", \"2016-03-03T21:00:00\", \"2016-03-03T22:00:00\", \"2016-03-03T23:00:00\", \"2016-03-04T00:00:00\", \"2016-03-04T01:00:00\", \"2016-03-04T02:00:00\", \"2016-03-04T03:00:00\", \"2016-03-04T04:00:00\", \"2016-03-04T05:00:00\", \"2016-03-04T06:00:00\", \"2016-03-04T07:00:00\", \"2016-03-04T08:00:00\", \"2016-03-04T09:00:00\", \"2016-03-04T10:00:00\", \"2016-03-04T11:00:00\", \"2016-03-04T12:00:00\", \"2016-03-04T13:00:00\", \"2016-03-04T14:00:00\", \"2016-03-04T15:00:00\", \"2016-03-04T16:00:00\", \"2016-03-04T17:00:00\", \"2016-03-04T18:00:00\", \"2016-03-04T19:00:00\", \"2016-03-04T20:00:00\", \"2016-03-04T21:00:00\", \"2016-03-04T22:00:00\", \"2016-03-04T23:00:00\", \"2016-03-05T00:00:00\", \"2016-03-05T01:00:00\", \"2016-03-05T02:00:00\", \"2016-03-05T03:00:00\", \"2016-03-05T04:00:00\", \"2016-03-05T05:00:00\", \"2016-03-05T06:00:00\", \"2016-03-05T07:00:00\", \"2016-03-05T08:00:00\", \"2016-03-05T09:00:00\", \"2016-03-05T10:00:00\", \"2016-03-05T11:00:00\", \"2016-03-05T12:00:00\", \"2016-03-05T13:00:00\", \"2016-03-05T14:00:00\", \"2016-03-05T15:00:00\", \"2016-03-05T16:00:00\", \"2016-03-05T17:00:00\", \"2016-03-05T18:00:00\", \"2016-03-05T19:00:00\", \"2016-03-05T20:00:00\", \"2016-03-05T21:00:00\", \"2016-03-05T22:00:00\", \"2016-03-05T23:00:00\", \"2016-03-06T00:00:00\", \"2016-03-06T01:00:00\", \"2016-03-06T02:00:00\", \"2016-03-06T03:00:00\", \"2016-03-06T04:00:00\", \"2016-03-06T05:00:00\", \"2016-03-06T06:00:00\", \"2016-03-06T07:00:00\", \"2016-03-06T08:00:00\", \"2016-03-06T09:00:00\", \"2016-03-06T10:00:00\", \"2016-03-06T11:00:00\", \"2016-03-06T12:00:00\", \"2016-03-06T13:00:00\", \"2016-03-06T14:00:00\", \"2016-03-06T15:00:00\", \"2016-03-06T16:00:00\", \"2016-03-06T17:00:00\", \"2016-03-06T18:00:00\", \"2016-03-06T19:00:00\", \"2016-03-06T20:00:00\", \"2016-03-06T21:00:00\", \"2016-03-06T22:00:00\", \"2016-03-06T23:00:00\", \"2016-03-07T00:00:00\", \"2016-03-07T01:00:00\", \"2016-03-07T02:00:00\", \"2016-03-07T03:00:00\", \"2016-03-07T04:00:00\", \"2016-03-07T05:00:00\", \"2016-03-07T06:00:00\", \"2016-03-07T07:00:00\", \"2016-03-07T08:00:00\", \"2016-03-07T09:00:00\", \"2016-03-07T10:00:00\", \"2016-03-07T11:00:00\", \"2016-03-07T12:00:00\", \"2016-03-07T13:00:00\", \"2016-03-07T14:00:00\", \"2016-03-07T15:00:00\", \"2016-03-07T16:00:00\", \"2016-03-07T17:00:00\", \"2016-03-07T18:00:00\", \"2016-03-07T19:00:00\", \"2016-03-07T20:00:00\", \"2016-03-07T21:00:00\", \"2016-03-07T22:00:00\", \"2016-03-07T23:00:00\", \"2016-03-08T00:00:00\", \"2016-03-08T01:00:00\", \"2016-03-08T02:00:00\", \"2016-03-08T03:00:00\", \"2016-03-08T04:00:00\", \"2016-03-08T05:00:00\", \"2016-03-08T06:00:00\", \"2016-03-08T07:00:00\", \"2016-03-08T08:00:00\", \"2016-03-08T09:00:00\", \"2016-03-08T10:00:00\", \"2016-03-08T11:00:00\", \"2016-03-08T12:00:00\", \"2016-03-08T13:00:00\", \"2016-03-08T14:00:00\", \"2016-03-08T15:00:00\", \"2016-03-08T16:00:00\", \"2016-03-08T17:00:00\", \"2016-03-08T18:00:00\", \"2016-03-08T19:00:00\", \"2016-03-08T20:00:00\", \"2016-03-08T21:00:00\", \"2016-03-08T22:00:00\", \"2016-03-08T23:00:00\", \"2016-03-09T00:00:00\", \"2016-03-09T01:00:00\", \"2016-03-09T02:00:00\", \"2016-03-09T03:00:00\", \"2016-03-09T04:00:00\", \"2016-03-09T05:00:00\", \"2016-03-09T06:00:00\", \"2016-03-09T07:00:00\", \"2016-03-09T08:00:00\", \"2016-03-09T09:00:00\", \"2016-03-09T10:00:00\", \"2016-03-09T11:00:00\", \"2016-03-09T12:00:00\", \"2016-03-09T13:00:00\", \"2016-03-09T14:00:00\", \"2016-03-09T15:00:00\", \"2016-03-09T16:00:00\", \"2016-03-09T17:00:00\", \"2016-03-09T18:00:00\", \"2016-03-09T19:00:00\", \"2016-03-09T20:00:00\", \"2016-03-09T21:00:00\", \"2016-03-09T22:00:00\", \"2016-03-09T23:00:00\", \"2016-03-10T00:00:00\", \"2016-03-10T01:00:00\", \"2016-03-10T02:00:00\", \"2016-03-10T03:00:00\", \"2016-03-10T04:00:00\", \"2016-03-10T05:00:00\", \"2016-03-10T06:00:00\", \"2016-03-10T07:00:00\", \"2016-03-10T08:00:00\", \"2016-03-10T09:00:00\", \"2016-03-10T10:00:00\", \"2016-03-10T11:00:00\", \"2016-03-10T12:00:00\", \"2016-03-10T13:00:00\", \"2016-03-10T14:00:00\", \"2016-03-10T15:00:00\", \"2016-03-10T16:00:00\", \"2016-03-10T17:00:00\", \"2016-03-10T18:00:00\", \"2016-03-10T19:00:00\", \"2016-03-10T20:00:00\", \"2016-03-10T21:00:00\", \"2016-03-10T22:00:00\", \"2016-03-10T23:00:00\", \"2016-03-11T00:00:00\", \"2016-03-11T01:00:00\", \"2016-03-11T02:00:00\", \"2016-03-11T03:00:00\", \"2016-03-11T04:00:00\", \"2016-03-11T05:00:00\", \"2016-03-11T06:00:00\", \"2016-03-11T07:00:00\", \"2016-03-11T08:00:00\", \"2016-03-11T09:00:00\", \"2016-03-11T10:00:00\", \"2016-03-11T11:00:00\", \"2016-03-11T12:00:00\", \"2016-03-11T13:00:00\", \"2016-03-11T14:00:00\", \"2016-03-11T15:00:00\", \"2016-03-11T16:00:00\", \"2016-03-11T17:00:00\", \"2016-03-11T18:00:00\", \"2016-03-11T19:00:00\", \"2016-03-11T20:00:00\", \"2016-03-11T21:00:00\", \"2016-03-11T22:00:00\", \"2016-03-11T23:00:00\", \"2016-03-12T00:00:00\", \"2016-03-12T01:00:00\", \"2016-03-12T02:00:00\", \"2016-03-12T03:00:00\", \"2016-03-12T04:00:00\", \"2016-03-12T05:00:00\", \"2016-03-12T06:00:00\", \"2016-03-12T07:00:00\", \"2016-03-12T08:00:00\", \"2016-03-12T09:00:00\", \"2016-03-12T10:00:00\", \"2016-03-12T11:00:00\", \"2016-03-12T12:00:00\", \"2016-03-12T13:00:00\", \"2016-03-12T14:00:00\", \"2016-03-12T15:00:00\", \"2016-03-12T16:00:00\", \"2016-03-12T17:00:00\", \"2016-03-12T18:00:00\", \"2016-03-12T19:00:00\", \"2016-03-12T20:00:00\", \"2016-03-12T21:00:00\", \"2016-03-12T22:00:00\", \"2016-03-12T23:00:00\", \"2016-03-13T00:00:00\", \"2016-03-13T01:00:00\", \"2016-03-13T02:00:00\", \"2016-03-13T03:00:00\", \"2016-03-13T04:00:00\", \"2016-03-13T05:00:00\", \"2016-03-13T06:00:00\", \"2016-03-13T07:00:00\", \"2016-03-13T08:00:00\", \"2016-03-13T09:00:00\", \"2016-03-13T10:00:00\", \"2016-03-13T11:00:00\", \"2016-03-13T12:00:00\", \"2016-03-13T13:00:00\", \"2016-03-13T14:00:00\", \"2016-03-13T15:00:00\", \"2016-03-13T16:00:00\", \"2016-03-13T17:00:00\", \"2016-03-13T18:00:00\", \"2016-03-13T19:00:00\", \"2016-03-13T20:00:00\", \"2016-03-13T21:00:00\", \"2016-03-13T22:00:00\", \"2016-03-13T23:00:00\", \"2016-03-14T00:00:00\", \"2016-03-14T01:00:00\", \"2016-03-14T02:00:00\", \"2016-03-14T03:00:00\", \"2016-03-14T04:00:00\", \"2016-03-14T05:00:00\", \"2016-03-14T06:00:00\", \"2016-03-14T07:00:00\", \"2016-03-14T08:00:00\", \"2016-03-14T09:00:00\", \"2016-03-14T10:00:00\", \"2016-03-14T11:00:00\", \"2016-03-14T12:00:00\", \"2016-03-14T13:00:00\", \"2016-03-14T14:00:00\", \"2016-03-14T15:00:00\", \"2016-03-14T16:00:00\", \"2016-03-14T17:00:00\", \"2016-03-14T18:00:00\", \"2016-03-14T19:00:00\", \"2016-03-14T20:00:00\", \"2016-03-14T21:00:00\", \"2016-03-14T22:00:00\", \"2016-03-14T23:00:00\", \"2016-03-15T00:00:00\", \"2016-03-15T01:00:00\", \"2016-03-15T02:00:00\", \"2016-03-15T03:00:00\", \"2016-03-15T04:00:00\", \"2016-03-15T05:00:00\", \"2016-03-15T06:00:00\", \"2016-03-15T07:00:00\", \"2016-03-15T08:00:00\", \"2016-03-15T09:00:00\", \"2016-03-15T10:00:00\", \"2016-03-15T11:00:00\", \"2016-03-15T12:00:00\", \"2016-03-15T13:00:00\", \"2016-03-15T14:00:00\", \"2016-03-15T15:00:00\", \"2016-03-15T16:00:00\", \"2016-03-15T17:00:00\", \"2016-03-15T18:00:00\", \"2016-03-15T19:00:00\", \"2016-03-15T20:00:00\", \"2016-03-15T21:00:00\", \"2016-03-15T22:00:00\", \"2016-03-15T23:00:00\", \"2016-03-16T00:00:00\", \"2016-03-16T01:00:00\", \"2016-03-16T02:00:00\", \"2016-03-16T03:00:00\", \"2016-03-16T04:00:00\", \"2016-03-16T05:00:00\", \"2016-03-16T06:00:00\", \"2016-03-16T07:00:00\", \"2016-03-16T08:00:00\", \"2016-03-16T09:00:00\", \"2016-03-16T10:00:00\", \"2016-03-16T11:00:00\", \"2016-03-16T12:00:00\", \"2016-03-16T13:00:00\", \"2016-03-16T14:00:00\", \"2016-03-16T15:00:00\", \"2016-03-16T16:00:00\", \"2016-03-16T17:00:00\", \"2016-03-16T18:00:00\", \"2016-03-16T19:00:00\", \"2016-03-16T20:00:00\", \"2016-03-16T21:00:00\", \"2016-03-16T22:00:00\", \"2016-03-16T23:00:00\", \"2016-03-17T00:00:00\", \"2016-03-17T01:00:00\", \"2016-03-17T02:00:00\", \"2016-03-17T03:00:00\", \"2016-03-17T04:00:00\", \"2016-03-17T05:00:00\", \"2016-03-17T06:00:00\", \"2016-03-17T07:00:00\", \"2016-03-17T08:00:00\", \"2016-03-17T09:00:00\", \"2016-03-17T10:00:00\", \"2016-03-17T11:00:00\", \"2016-03-17T12:00:00\", \"2016-03-17T13:00:00\", \"2016-03-17T14:00:00\", \"2016-03-17T15:00:00\", \"2016-03-17T16:00:00\", \"2016-03-17T17:00:00\", \"2016-03-17T18:00:00\", \"2016-03-17T19:00:00\", \"2016-03-17T20:00:00\", \"2016-03-17T21:00:00\", \"2016-03-17T22:00:00\", \"2016-03-17T23:00:00\", \"2016-03-18T00:00:00\", \"2016-03-18T01:00:00\", \"2016-03-18T02:00:00\", \"2016-03-18T03:00:00\", \"2016-03-18T04:00:00\", \"2016-03-18T05:00:00\", \"2016-03-18T06:00:00\", \"2016-03-18T07:00:00\", \"2016-03-18T08:00:00\", \"2016-03-18T09:00:00\", \"2016-03-18T10:00:00\", \"2016-03-18T11:00:00\", \"2016-03-18T12:00:00\", \"2016-03-18T13:00:00\", \"2016-03-18T14:00:00\", \"2016-03-18T15:00:00\", \"2016-03-18T16:00:00\", \"2016-03-18T17:00:00\", \"2016-03-18T18:00:00\", \"2016-03-18T19:00:00\", \"2016-03-18T20:00:00\", \"2016-03-18T21:00:00\", \"2016-03-18T22:00:00\", \"2016-03-18T23:00:00\", \"2016-03-19T00:00:00\", \"2016-03-19T01:00:00\", \"2016-03-19T02:00:00\", \"2016-03-19T03:00:00\", \"2016-03-19T04:00:00\", \"2016-03-19T05:00:00\", \"2016-03-19T06:00:00\", \"2016-03-19T07:00:00\", \"2016-03-19T08:00:00\", \"2016-03-19T09:00:00\", \"2016-03-19T10:00:00\", \"2016-03-19T11:00:00\", \"2016-03-19T12:00:00\", \"2016-03-19T13:00:00\", \"2016-03-19T14:00:00\", \"2016-03-19T15:00:00\", \"2016-03-19T16:00:00\", \"2016-03-19T17:00:00\", \"2016-03-19T18:00:00\", \"2016-03-19T19:00:00\", \"2016-03-19T20:00:00\", \"2016-03-19T21:00:00\", \"2016-03-19T22:00:00\", \"2016-03-19T23:00:00\", \"2016-03-20T00:00:00\", \"2016-03-20T01:00:00\", \"2016-03-20T02:00:00\", \"2016-03-20T03:00:00\", \"2016-03-20T04:00:00\", \"2016-03-20T05:00:00\", \"2016-03-20T06:00:00\", \"2016-03-20T07:00:00\", \"2016-03-20T08:00:00\", \"2016-03-20T09:00:00\", \"2016-03-20T10:00:00\", \"2016-03-20T11:00:00\", \"2016-03-20T12:00:00\", \"2016-03-20T13:00:00\", \"2016-03-20T14:00:00\", \"2016-03-20T15:00:00\", \"2016-03-20T16:00:00\", \"2016-03-20T17:00:00\", \"2016-03-20T18:00:00\", \"2016-03-20T19:00:00\", \"2016-03-20T20:00:00\", \"2016-03-20T21:00:00\", \"2016-03-20T22:00:00\", \"2016-03-20T23:00:00\", \"2016-03-21T00:00:00\", \"2016-03-21T01:00:00\", \"2016-03-21T02:00:00\", \"2016-03-21T03:00:00\", \"2016-03-21T04:00:00\", \"2016-03-21T05:00:00\", \"2016-03-21T06:00:00\", \"2016-03-21T07:00:00\", \"2016-03-21T08:00:00\", \"2016-03-21T09:00:00\", \"2016-03-21T10:00:00\", \"2016-03-21T11:00:00\", \"2016-03-21T12:00:00\", \"2016-03-21T13:00:00\", \"2016-03-21T14:00:00\", \"2016-03-21T15:00:00\", \"2016-03-21T16:00:00\", \"2016-03-21T17:00:00\", \"2016-03-21T18:00:00\", \"2016-03-21T19:00:00\", \"2016-03-21T20:00:00\", \"2016-03-21T21:00:00\", \"2016-03-21T22:00:00\", \"2016-03-21T23:00:00\", \"2016-03-22T00:00:00\", \"2016-03-22T01:00:00\", \"2016-03-22T02:00:00\", \"2016-03-22T03:00:00\", \"2016-03-22T04:00:00\", \"2016-03-22T05:00:00\", \"2016-03-22T06:00:00\", \"2016-03-22T07:00:00\", \"2016-03-22T08:00:00\", \"2016-03-22T09:00:00\", \"2016-03-22T10:00:00\", \"2016-03-22T11:00:00\", \"2016-03-22T12:00:00\", \"2016-03-22T13:00:00\", \"2016-03-22T14:00:00\", \"2016-03-22T15:00:00\", \"2016-03-22T16:00:00\", \"2016-03-22T17:00:00\", \"2016-03-22T18:00:00\", \"2016-03-22T19:00:00\", \"2016-03-22T20:00:00\", \"2016-03-22T21:00:00\", \"2016-03-22T22:00:00\", \"2016-03-23T03:00:00\", \"2016-03-23T04:00:00\", \"2016-03-23T05:00:00\", \"2016-03-23T06:00:00\", \"2016-03-23T07:00:00\", \"2016-03-23T08:00:00\", \"2016-03-23T09:00:00\", \"2016-03-23T10:00:00\", \"2016-03-23T11:00:00\", \"2016-03-23T12:00:00\", \"2016-03-23T14:00:00\", \"2016-03-23T15:00:00\", \"2016-03-23T16:00:00\", \"2016-03-23T17:00:00\", \"2016-03-23T18:00:00\", \"2016-03-23T19:00:00\", \"2016-03-23T20:00:00\", \"2016-03-23T21:00:00\", \"2016-03-23T22:00:00\", \"2016-03-23T23:00:00\", \"2016-03-24T00:00:00\", \"2016-03-24T01:00:00\", \"2016-03-24T02:00:00\", \"2016-03-24T03:00:00\", \"2016-03-24T04:00:00\", \"2016-03-24T05:00:00\", \"2016-03-24T06:00:00\", \"2016-03-24T07:00:00\", \"2016-03-24T08:00:00\", \"2016-03-24T09:00:00\", \"2016-03-24T10:00:00\", \"2016-03-24T11:00:00\", \"2016-03-24T12:00:00\", \"2016-03-24T13:00:00\", \"2016-03-24T14:00:00\", \"2016-03-24T15:00:00\", \"2016-03-24T16:00:00\", \"2016-03-24T17:00:00\", \"2016-03-24T18:00:00\", \"2016-03-24T19:00:00\", \"2016-03-24T20:00:00\", \"2016-03-24T21:00:00\", \"2016-03-24T22:00:00\", \"2016-03-24T23:00:00\", \"2016-03-25T00:00:00\", \"2016-03-25T01:00:00\", \"2016-03-25T02:00:00\", \"2016-03-25T03:00:00\", \"2016-03-25T04:00:00\", \"2016-03-25T05:00:00\", \"2016-03-25T06:00:00\", \"2016-03-25T07:00:00\", \"2016-03-25T08:00:00\", \"2016-03-25T09:00:00\", \"2016-03-25T10:00:00\", \"2016-03-25T11:00:00\", \"2016-03-25T12:00:00\", \"2016-03-25T13:00:00\", \"2016-03-25T14:00:00\", \"2016-03-25T15:00:00\", \"2016-03-25T16:00:00\", \"2016-03-25T17:00:00\", \"2016-03-25T18:00:00\", \"2016-03-25T19:00:00\", \"2016-03-25T20:00:00\", \"2016-03-25T21:00:00\", \"2016-03-25T22:00:00\", \"2016-03-25T23:00:00\", \"2016-03-26T00:00:00\", \"2016-03-26T01:00:00\", \"2016-03-26T02:00:00\", \"2016-03-26T03:00:00\", \"2016-03-26T04:00:00\", \"2016-03-26T05:00:00\", \"2016-03-26T06:00:00\", \"2016-03-26T07:00:00\", \"2016-03-26T08:00:00\", \"2016-03-26T09:00:00\", \"2016-03-26T10:00:00\", \"2016-03-26T11:00:00\", \"2016-03-26T12:00:00\", \"2016-03-26T13:00:00\", \"2016-03-26T14:00:00\", \"2016-03-26T15:00:00\", \"2016-03-26T16:00:00\", \"2016-03-26T17:00:00\", \"2016-03-26T18:00:00\", \"2016-03-26T19:00:00\", \"2016-03-26T20:00:00\", \"2016-03-26T21:00:00\", \"2016-03-26T22:00:00\", \"2016-03-26T23:00:00\", \"2016-03-27T00:00:00\", \"2016-03-27T01:00:00\", \"2016-03-27T02:00:00\", \"2016-03-27T03:00:00\", \"2016-03-27T04:00:00\", \"2016-03-27T05:00:00\", \"2016-03-27T06:00:00\", \"2016-03-27T07:00:00\", \"2016-03-27T08:00:00\", \"2016-03-27T09:00:00\", \"2016-03-27T10:00:00\", \"2016-03-27T11:00:00\", \"2016-03-27T12:00:00\", \"2016-03-27T13:00:00\", \"2016-03-27T14:00:00\", \"2016-03-27T15:00:00\", \"2016-03-27T16:00:00\", \"2016-03-27T17:00:00\", \"2016-03-27T18:00:00\", \"2016-03-27T19:00:00\", \"2016-03-27T20:00:00\", \"2016-03-27T21:00:00\", \"2016-03-27T22:00:00\", \"2016-03-27T23:00:00\", \"2016-03-28T00:00:00\", \"2016-03-28T01:00:00\", \"2016-03-28T02:00:00\", \"2016-03-28T03:00:00\", \"2016-03-28T04:00:00\", \"2016-03-28T05:00:00\", \"2016-03-28T06:00:00\", \"2016-03-28T07:00:00\", \"2016-03-28T08:00:00\", \"2016-03-28T09:00:00\", \"2016-03-28T10:00:00\", \"2016-03-28T11:00:00\", \"2016-03-28T12:00:00\", \"2016-03-28T13:00:00\", \"2016-03-28T14:00:00\", \"2016-03-28T15:00:00\", \"2016-03-28T16:00:00\", \"2016-03-28T17:00:00\", \"2016-03-28T18:00:00\", \"2016-03-28T19:00:00\", \"2016-03-28T20:00:00\", \"2016-03-28T21:00:00\", \"2016-03-28T22:00:00\", \"2016-03-28T23:00:00\", \"2016-03-29T00:00:00\", \"2016-03-29T01:00:00\", \"2016-03-29T02:00:00\", \"2016-03-29T03:00:00\", \"2016-03-29T04:00:00\", \"2016-03-29T05:00:00\", \"2016-03-29T06:00:00\", \"2016-03-29T07:00:00\", \"2016-03-29T08:00:00\", \"2016-03-29T09:00:00\", \"2016-03-29T10:00:00\", \"2016-03-29T11:00:00\", \"2016-03-29T12:00:00\", \"2016-03-29T13:00:00\", \"2016-03-29T14:00:00\", \"2016-03-29T15:00:00\", \"2016-03-29T16:00:00\", \"2016-03-29T17:00:00\", \"2016-03-29T18:00:00\", \"2016-03-29T19:00:00\", \"2016-03-29T20:00:00\", \"2016-03-29T21:00:00\", \"2016-03-29T22:00:00\", \"2016-03-29T23:00:00\", \"2016-03-30T00:00:00\", \"2016-03-30T01:00:00\", \"2016-03-30T02:00:00\", \"2016-03-30T03:00:00\", \"2016-03-30T04:00:00\", \"2016-03-30T05:00:00\", \"2016-03-30T06:00:00\", \"2016-03-30T07:00:00\", \"2016-03-30T08:00:00\", \"2016-03-30T09:00:00\", \"2016-03-30T10:00:00\", \"2016-03-30T11:00:00\", \"2016-03-30T12:00:00\", \"2016-03-30T13:00:00\", \"2016-03-30T14:00:00\", \"2016-03-30T15:00:00\", \"2016-03-30T16:00:00\", \"2016-03-30T17:00:00\", \"2016-03-30T18:00:00\", \"2016-03-30T19:00:00\", \"2016-03-30T20:00:00\", \"2016-03-30T21:00:00\", \"2016-03-30T22:00:00\", \"2016-03-30T23:00:00\", \"2016-03-31T00:00:00\", \"2016-03-31T01:00:00\", \"2016-03-31T02:00:00\", \"2016-03-31T03:00:00\", \"2016-03-31T04:00:00\", \"2016-03-31T05:00:00\", \"2016-03-31T06:00:00\", \"2016-03-31T07:00:00\", \"2016-03-31T08:00:00\", \"2016-03-31T09:00:00\", \"2016-03-31T10:00:00\", \"2016-03-31T11:00:00\", \"2016-03-31T12:00:00\", \"2016-03-31T13:00:00\", \"2016-03-31T14:00:00\", \"2016-03-31T15:00:00\", \"2016-03-31T16:00:00\", \"2016-03-31T17:00:00\", \"2016-03-31T18:00:00\", \"2016-03-31T19:00:00\", \"2016-03-31T20:00:00\", \"2016-03-31T21:00:00\", \"2016-03-31T22:00:00\", \"2016-03-31T23:00:00\", \"2016-04-01T00:00:00\", \"2016-04-01T01:00:00\", \"2016-04-01T02:00:00\", \"2016-04-01T03:00:00\", \"2016-04-01T04:00:00\", \"2016-04-01T05:00:00\", \"2016-04-01T06:00:00\", \"2016-04-01T07:00:00\", \"2016-04-01T08:00:00\", \"2016-04-01T09:00:00\", \"2016-04-01T10:00:00\", \"2016-04-01T11:00:00\", \"2016-04-01T12:00:00\", \"2016-04-01T13:00:00\", \"2016-04-01T14:00:00\", \"2016-04-01T15:00:00\", \"2016-04-01T16:00:00\", \"2016-04-01T17:00:00\", \"2016-04-01T18:00:00\", \"2016-04-01T19:00:00\", \"2016-04-01T20:00:00\", \"2016-04-01T21:00:00\", \"2016-04-01T22:00:00\", \"2016-04-01T23:00:00\", \"2016-04-02T00:00:00\", \"2016-04-02T01:00:00\", \"2016-04-02T02:00:00\", \"2016-04-02T03:00:00\", \"2016-04-02T04:00:00\", \"2016-04-02T05:00:00\", \"2016-04-02T06:00:00\", \"2016-04-02T07:00:00\", \"2016-04-02T08:00:00\", \"2016-04-02T09:00:00\", \"2016-04-02T10:00:00\", \"2016-04-02T11:00:00\", \"2016-04-02T12:00:00\", \"2016-04-02T13:00:00\", \"2016-04-02T14:00:00\", \"2016-04-02T15:00:00\", \"2016-04-02T16:00:00\", \"2016-04-02T17:00:00\", \"2016-04-02T18:00:00\", \"2016-04-02T19:00:00\", \"2016-04-02T20:00:00\", \"2016-04-02T21:00:00\", \"2016-04-02T22:00:00\", \"2016-04-02T23:00:00\", \"2016-04-03T00:00:00\", \"2016-04-03T01:00:00\", \"2016-04-03T02:00:00\", \"2016-04-03T03:00:00\", \"2016-04-03T04:00:00\", \"2016-04-03T05:00:00\", \"2016-04-03T06:00:00\", \"2016-04-03T07:00:00\", \"2016-04-03T08:00:00\", \"2016-04-03T09:00:00\", \"2016-04-03T10:00:00\", \"2016-04-03T11:00:00\", \"2016-04-03T12:00:00\", \"2016-04-03T13:00:00\", \"2016-04-03T14:00:00\", \"2016-04-03T15:00:00\", \"2016-04-03T16:00:00\", \"2016-04-03T17:00:00\", \"2016-04-03T18:00:00\", \"2016-04-03T19:00:00\", \"2016-04-03T20:00:00\", \"2016-04-03T21:00:00\", \"2016-04-03T22:00:00\", \"2016-04-03T23:00:00\", \"2016-04-04T00:00:00\", \"2016-04-04T01:00:00\", \"2016-04-04T02:00:00\", \"2016-04-04T03:00:00\", \"2016-04-04T04:00:00\", \"2016-04-04T05:00:00\", \"2016-04-04T06:00:00\", \"2016-04-04T07:00:00\", \"2016-04-04T08:00:00\", \"2016-04-04T09:00:00\", \"2016-04-04T10:00:00\", \"2016-04-04T11:00:00\", \"2016-04-04T12:00:00\", \"2016-04-04T13:00:00\", \"2016-04-04T14:00:00\", \"2016-04-04T15:00:00\", \"2016-04-04T16:00:00\", \"2016-04-04T17:00:00\", \"2016-04-04T18:00:00\", \"2016-04-04T19:00:00\", \"2016-04-04T20:00:00\", \"2016-04-04T21:00:00\", \"2016-04-04T22:00:00\", \"2016-04-04T23:00:00\", \"2016-04-05T00:00:00\", \"2016-04-05T01:00:00\", \"2016-04-05T02:00:00\", \"2016-04-05T03:00:00\", \"2016-04-05T04:00:00\", \"2016-04-05T05:00:00\", \"2016-04-05T06:00:00\", \"2016-04-05T07:00:00\", \"2016-04-05T08:00:00\", \"2016-04-05T09:00:00\", \"2016-04-05T10:00:00\", \"2016-04-05T11:00:00\", \"2016-04-05T12:00:00\", \"2016-04-05T13:00:00\", \"2016-04-05T14:00:00\", \"2016-04-05T15:00:00\", \"2016-04-05T16:00:00\", \"2016-04-05T17:00:00\", \"2016-04-05T18:00:00\", \"2016-04-05T19:00:00\", \"2016-04-05T20:00:00\", \"2016-04-05T21:00:00\", \"2016-04-05T22:00:00\", \"2016-04-05T23:00:00\", \"2016-04-06T00:00:00\", \"2016-04-06T01:00:00\", \"2016-04-06T02:00:00\", \"2016-04-06T03:00:00\", \"2016-04-06T04:00:00\", \"2016-04-06T05:00:00\", \"2016-04-06T06:00:00\", \"2016-04-06T07:00:00\", \"2016-04-06T08:00:00\", \"2016-04-06T09:00:00\", \"2016-04-06T10:00:00\", \"2016-04-06T11:00:00\", \"2016-04-06T12:00:00\", \"2016-04-06T13:00:00\", \"2016-04-06T14:00:00\", \"2016-04-06T15:00:00\", \"2016-04-06T16:00:00\", \"2016-04-06T17:00:00\", \"2016-04-06T18:00:00\", \"2016-04-06T19:00:00\", \"2016-04-06T20:00:00\", \"2016-04-06T21:00:00\", \"2016-04-06T22:00:00\", \"2016-04-06T23:00:00\", \"2016-04-07T00:00:00\", \"2016-04-07T01:00:00\", \"2016-04-07T02:00:00\", \"2016-04-07T03:00:00\", \"2016-04-07T04:00:00\", \"2016-04-07T05:00:00\", \"2016-04-07T06:00:00\", \"2016-04-07T07:00:00\", \"2016-04-07T08:00:00\", \"2016-04-07T09:00:00\", \"2016-04-07T10:00:00\", \"2016-04-07T11:00:00\", \"2016-04-07T12:00:00\", \"2016-04-07T13:00:00\", \"2016-04-07T14:00:00\", \"2016-04-07T16:00:00\", \"2016-04-07T17:00:00\", \"2016-04-07T18:00:00\", \"2016-04-07T19:00:00\", \"2016-04-07T20:00:00\", \"2016-04-07T21:00:00\", \"2016-04-07T22:00:00\", \"2016-04-07T23:00:00\", \"2016-04-08T00:00:00\", \"2016-04-08T01:00:00\", \"2016-04-08T02:00:00\", \"2016-04-08T03:00:00\", \"2016-04-08T04:00:00\", \"2016-04-08T05:00:00\", \"2016-04-08T06:00:00\", \"2016-04-08T07:00:00\", \"2016-04-08T08:00:00\", \"2016-04-08T09:00:00\", \"2016-04-08T10:00:00\", \"2016-04-08T11:00:00\", \"2016-04-08T12:00:00\", \"2016-04-08T13:00:00\", \"2016-04-08T14:00:00\", \"2016-04-08T15:00:00\", \"2016-04-08T16:00:00\", \"2016-04-08T17:00:00\", \"2016-04-08T18:00:00\", \"2016-04-08T19:00:00\", \"2016-04-08T20:00:00\", \"2016-04-08T21:00:00\", \"2016-04-08T22:00:00\", \"2016-04-08T23:00:00\", \"2016-04-09T00:00:00\", \"2016-04-09T01:00:00\", \"2016-04-09T02:00:00\", \"2016-04-09T03:00:00\", \"2016-04-09T04:00:00\", \"2016-04-09T05:00:00\", \"2016-04-09T06:00:00\", \"2016-04-09T07:00:00\", \"2016-04-09T08:00:00\", \"2016-04-09T09:00:00\", \"2016-04-09T10:00:00\", \"2016-04-09T11:00:00\", \"2016-04-09T12:00:00\", \"2016-04-09T13:00:00\", \"2016-04-09T14:00:00\", \"2016-04-09T15:00:00\", \"2016-04-09T16:00:00\", \"2016-04-09T17:00:00\", \"2016-04-09T18:00:00\", \"2016-04-09T19:00:00\", \"2016-04-09T20:00:00\", \"2016-04-09T21:00:00\", \"2016-04-09T22:00:00\", \"2016-04-09T23:00:00\", \"2016-04-10T00:00:00\", \"2016-04-10T01:00:00\", \"2016-04-10T02:00:00\", \"2016-04-10T03:00:00\", \"2016-04-10T04:00:00\", \"2016-04-10T05:00:00\", \"2016-04-10T06:00:00\", \"2016-04-10T07:00:00\", \"2016-04-10T08:00:00\", \"2016-04-10T09:00:00\", \"2016-04-10T10:00:00\", \"2016-04-10T11:00:00\", \"2016-04-10T12:00:00\", \"2016-04-10T13:00:00\", \"2016-04-10T14:00:00\", \"2016-04-10T15:00:00\", \"2016-04-10T16:00:00\", \"2016-04-10T17:00:00\", \"2016-04-10T18:00:00\", \"2016-04-10T19:00:00\", \"2016-04-10T20:00:00\", \"2016-04-10T21:00:00\", \"2016-04-10T22:00:00\", \"2016-04-10T23:00:00\", \"2016-04-11T00:00:00\", \"2016-04-11T01:00:00\", \"2016-04-11T02:00:00\", \"2016-04-11T03:00:00\", \"2016-04-11T04:00:00\", \"2016-04-11T05:00:00\", \"2016-04-11T06:00:00\", \"2016-04-11T07:00:00\", \"2016-04-11T08:00:00\", \"2016-04-11T09:00:00\", \"2016-04-11T10:00:00\", \"2016-04-11T11:00:00\", \"2016-04-11T12:00:00\", \"2016-04-11T13:00:00\", \"2016-04-11T14:00:00\", \"2016-04-11T15:00:00\", \"2016-04-11T16:00:00\", \"2016-04-11T17:00:00\", \"2016-04-11T18:00:00\", \"2016-04-11T19:00:00\", \"2016-04-11T20:00:00\", \"2016-04-11T21:00:00\", \"2016-04-11T22:00:00\", \"2016-04-11T23:00:00\", \"2016-04-12T00:00:00\", \"2016-04-12T01:00:00\", \"2016-04-12T02:00:00\", \"2016-04-12T03:00:00\", \"2016-04-12T04:00:00\", \"2016-04-12T05:00:00\", \"2016-04-12T06:00:00\", \"2016-04-12T07:00:00\", \"2016-04-12T08:00:00\", \"2016-04-12T09:00:00\", \"2016-04-12T10:00:00\", \"2016-04-12T11:00:00\", \"2016-04-12T12:00:00\", \"2016-04-12T13:00:00\", \"2016-04-12T14:00:00\", \"2016-04-12T15:00:00\", \"2016-04-12T16:00:00\", \"2016-04-12T17:00:00\", \"2016-04-12T18:00:00\", \"2016-04-12T19:00:00\", \"2016-04-12T20:00:00\", \"2016-04-12T21:00:00\", \"2016-04-12T22:00:00\", \"2016-04-12T23:00:00\", \"2016-04-13T00:00:00\", \"2016-04-13T01:00:00\", \"2016-04-13T02:00:00\", \"2016-04-13T03:00:00\", \"2016-04-13T04:00:00\", \"2016-04-13T05:00:00\", \"2016-04-13T06:00:00\", \"2016-04-13T07:00:00\", \"2016-04-13T08:00:00\", \"2016-04-13T09:00:00\", \"2016-04-13T10:00:00\", \"2016-04-13T11:00:00\", \"2016-04-13T12:00:00\", \"2016-04-13T13:00:00\", \"2016-04-13T14:00:00\", \"2016-04-13T15:00:00\", \"2016-04-13T16:00:00\", \"2016-04-13T17:00:00\", \"2016-04-13T18:00:00\", \"2016-04-13T19:00:00\", \"2016-04-13T20:00:00\", \"2016-04-13T21:00:00\", \"2016-04-13T22:00:00\", \"2016-04-13T23:00:00\", \"2016-04-14T00:00:00\", \"2016-04-14T01:00:00\", \"2016-04-14T02:00:00\", \"2016-04-14T03:00:00\", \"2016-04-14T04:00:00\", \"2016-04-14T05:00:00\", \"2016-04-14T06:00:00\", \"2016-04-14T07:00:00\", \"2016-04-14T08:00:00\", \"2016-04-14T09:00:00\", \"2016-04-14T10:00:00\", \"2016-04-14T11:00:00\", \"2016-04-14T12:00:00\", \"2016-04-14T13:00:00\", \"2016-04-14T14:00:00\", \"2016-04-14T15:00:00\", \"2016-04-14T16:00:00\", \"2016-04-14T17:00:00\", \"2016-04-14T18:00:00\", \"2016-04-14T19:00:00\", \"2016-04-14T20:00:00\", \"2016-04-14T21:00:00\", \"2016-04-14T22:00:00\", \"2016-04-14T23:00:00\", \"2016-04-15T00:00:00\", \"2016-04-15T01:00:00\", \"2016-04-15T02:00:00\", \"2016-04-15T03:00:00\", \"2016-04-15T04:00:00\", \"2016-04-15T05:00:00\", \"2016-04-15T06:00:00\", \"2016-04-15T07:00:00\", \"2016-04-15T08:00:00\", \"2016-04-15T09:00:00\", \"2016-04-15T10:00:00\", \"2016-04-15T11:00:00\", \"2016-04-15T12:00:00\", \"2016-04-15T13:00:00\", \"2016-04-15T14:00:00\", \"2016-04-15T15:00:00\", \"2016-04-15T16:00:00\", \"2016-04-15T17:00:00\", \"2016-04-15T18:00:00\", \"2016-04-15T19:00:00\", \"2016-04-15T20:00:00\", \"2016-04-15T21:00:00\", \"2016-04-15T22:00:00\", \"2016-04-15T23:00:00\", \"2016-04-16T00:00:00\", \"2016-04-16T01:00:00\", \"2016-04-16T02:00:00\", \"2016-04-16T03:00:00\", \"2016-04-16T04:00:00\", \"2016-04-16T05:00:00\", \"2016-04-16T06:00:00\", \"2016-04-16T07:00:00\", \"2016-04-16T08:00:00\", \"2016-04-16T09:00:00\", \"2016-04-16T10:00:00\", \"2016-04-16T11:00:00\", \"2016-04-16T12:00:00\", \"2016-04-16T13:00:00\", \"2016-04-16T14:00:00\", \"2016-04-16T15:00:00\", \"2016-04-16T16:00:00\", \"2016-04-16T17:00:00\", \"2016-04-16T18:00:00\", \"2016-04-16T19:00:00\", \"2016-04-16T20:00:00\", \"2016-04-16T21:00:00\", \"2016-04-16T22:00:00\", \"2016-04-16T23:00:00\", \"2016-04-17T00:00:00\", \"2016-04-17T01:00:00\", \"2016-04-17T02:00:00\", \"2016-04-17T03:00:00\", \"2016-04-17T04:00:00\", \"2016-04-17T05:00:00\", \"2016-04-17T06:00:00\", \"2016-04-17T07:00:00\", \"2016-04-17T08:00:00\", \"2016-04-17T09:00:00\", \"2016-04-17T10:00:00\", \"2016-04-17T11:00:00\", \"2016-04-17T12:00:00\", \"2016-04-17T13:00:00\", \"2016-04-17T14:00:00\", \"2016-04-17T15:00:00\", \"2016-04-17T16:00:00\", \"2016-04-17T17:00:00\", \"2016-04-17T18:00:00\", \"2016-04-17T19:00:00\", \"2016-04-17T20:00:00\", \"2016-04-17T21:00:00\", \"2016-04-17T22:00:00\", \"2016-04-17T23:00:00\", \"2016-04-18T00:00:00\", \"2016-04-18T01:00:00\", \"2016-04-18T02:00:00\", \"2016-04-18T03:00:00\", \"2016-04-18T04:00:00\", \"2016-04-18T05:00:00\", \"2016-04-18T06:00:00\", \"2016-04-18T07:00:00\", \"2016-04-18T08:00:00\", \"2016-04-18T09:00:00\", \"2016-04-18T10:00:00\", \"2016-04-18T11:00:00\", \"2016-04-18T12:00:00\", \"2016-04-18T13:00:00\", \"2016-04-18T14:00:00\", \"2016-04-18T15:00:00\", \"2016-04-18T16:00:00\", \"2016-04-18T17:00:00\", \"2016-04-18T18:00:00\", \"2016-04-18T19:00:00\", \"2016-04-18T20:00:00\", \"2016-04-18T21:00:00\", \"2016-04-18T22:00:00\", \"2016-04-18T23:00:00\", \"2016-04-19T00:00:00\", \"2016-04-19T01:00:00\", \"2016-04-19T02:00:00\", \"2016-04-19T03:00:00\", \"2016-04-19T04:00:00\", \"2016-04-19T05:00:00\", \"2016-04-19T06:00:00\", \"2016-04-19T07:00:00\", \"2016-04-19T08:00:00\", \"2016-04-19T09:00:00\", \"2016-04-19T10:00:00\", \"2016-04-19T11:00:00\", \"2016-04-19T12:00:00\", \"2016-04-19T13:00:00\", \"2016-04-19T14:00:00\", \"2016-04-19T15:00:00\", \"2016-04-19T16:00:00\", \"2016-04-19T17:00:00\", \"2016-04-19T18:00:00\", \"2016-04-19T19:00:00\", \"2016-04-19T20:00:00\", \"2016-04-19T21:00:00\", \"2016-04-19T22:00:00\", \"2016-04-19T23:00:00\", \"2016-04-20T00:00:00\", \"2016-04-20T01:00:00\", \"2016-04-20T02:00:00\", \"2016-04-20T03:00:00\", \"2016-04-20T04:00:00\", \"2016-04-20T05:00:00\", \"2016-04-20T06:00:00\", \"2016-04-20T07:00:00\", \"2016-04-20T08:00:00\", \"2016-04-20T09:00:00\", \"2016-04-20T10:00:00\", \"2016-04-20T11:00:00\", \"2016-04-20T12:00:00\", \"2016-04-20T13:00:00\", \"2016-04-20T14:00:00\", \"2016-04-20T15:00:00\", \"2016-04-20T16:00:00\", \"2016-04-20T17:00:00\", \"2016-04-20T18:00:00\", \"2016-04-20T19:00:00\", \"2016-04-20T20:00:00\", \"2016-04-20T21:00:00\", \"2016-04-20T22:00:00\", \"2016-04-20T23:00:00\", \"2016-04-21T00:00:00\", \"2016-04-21T01:00:00\", \"2016-04-21T02:00:00\", \"2016-04-21T03:00:00\", \"2016-04-21T04:00:00\", \"2016-04-21T05:00:00\", \"2016-04-21T06:00:00\", \"2016-04-21T07:00:00\", \"2016-04-21T08:00:00\", \"2016-04-21T09:00:00\", \"2016-04-21T10:00:00\", \"2016-04-21T11:00:00\", \"2016-04-21T12:00:00\", \"2016-04-21T13:00:00\", \"2016-04-21T14:00:00\", \"2016-04-21T15:00:00\", \"2016-04-21T16:00:00\", \"2016-04-21T17:00:00\", \"2016-04-21T18:00:00\", \"2016-04-21T19:00:00\", \"2016-04-21T20:00:00\", \"2016-04-21T21:00:00\", \"2016-04-21T22:00:00\", \"2016-04-21T23:00:00\", \"2016-04-22T00:00:00\", \"2016-04-22T01:00:00\", \"2016-04-22T02:00:00\", \"2016-04-22T03:00:00\", \"2016-04-22T04:00:00\", \"2016-04-22T05:00:00\", \"2016-04-22T06:00:00\", \"2016-04-22T07:00:00\", \"2016-04-22T08:00:00\", \"2016-04-22T09:00:00\", \"2016-04-22T10:00:00\", \"2016-04-22T11:00:00\", \"2016-04-22T12:00:00\", \"2016-04-22T13:00:00\", \"2016-04-22T14:00:00\", \"2016-04-22T15:00:00\", \"2016-04-22T16:00:00\", \"2016-04-22T17:00:00\", \"2016-04-22T18:00:00\", \"2016-04-22T19:00:00\", \"2016-04-22T20:00:00\", \"2016-04-22T21:00:00\", \"2016-04-22T22:00:00\", \"2016-04-22T23:00:00\", \"2016-04-23T00:00:00\", \"2016-04-23T01:00:00\", \"2016-04-23T02:00:00\", \"2016-04-23T03:00:00\", \"2016-04-23T04:00:00\", \"2016-04-23T05:00:00\", \"2016-04-23T06:00:00\", \"2016-04-23T07:00:00\", \"2016-04-23T08:00:00\", \"2016-04-23T09:00:00\", \"2016-04-23T10:00:00\", \"2016-04-23T11:00:00\", \"2016-04-23T12:00:00\", \"2016-04-23T13:00:00\", \"2016-04-23T14:00:00\", \"2016-04-23T15:00:00\", \"2016-04-23T16:00:00\", \"2016-04-23T17:00:00\", \"2016-04-23T18:00:00\", \"2016-04-23T19:00:00\", \"2016-04-23T20:00:00\", \"2016-04-23T21:00:00\", \"2016-04-23T22:00:00\", \"2016-04-23T23:00:00\", \"2016-04-24T00:00:00\", \"2016-04-24T01:00:00\", \"2016-04-24T02:00:00\", \"2016-04-24T03:00:00\", \"2016-04-24T04:00:00\", \"2016-04-24T05:00:00\", \"2016-04-24T06:00:00\", \"2016-04-24T07:00:00\", \"2016-04-24T08:00:00\", \"2016-04-24T09:00:00\", \"2016-04-24T10:00:00\", \"2016-04-24T11:00:00\", \"2016-04-24T12:00:00\", \"2016-04-24T13:00:00\", \"2016-04-24T14:00:00\", \"2016-04-24T15:00:00\", \"2016-04-24T16:00:00\", \"2016-04-24T17:00:00\", \"2016-04-24T18:00:00\", \"2016-04-24T19:00:00\", \"2016-04-24T20:00:00\", \"2016-04-24T21:00:00\", \"2016-04-24T22:00:00\", \"2016-04-24T23:00:00\", \"2016-04-25T00:00:00\", \"2016-04-25T01:00:00\", \"2016-04-25T02:00:00\", \"2016-04-25T03:00:00\", \"2016-04-25T04:00:00\", \"2016-04-25T05:00:00\", \"2016-04-25T06:00:00\", \"2016-04-25T07:00:00\", \"2016-04-25T08:00:00\", \"2016-04-25T09:00:00\", \"2016-04-25T10:00:00\", \"2016-04-25T11:00:00\", \"2016-04-25T12:00:00\", \"2016-04-25T13:00:00\", \"2016-04-25T14:00:00\", \"2016-04-25T15:00:00\", \"2016-04-25T16:00:00\", \"2016-04-25T17:00:00\", \"2016-04-25T18:00:00\", \"2016-04-25T19:00:00\", \"2016-04-25T20:00:00\", \"2016-04-25T21:00:00\", \"2016-04-25T22:00:00\", \"2016-04-25T23:00:00\", \"2016-04-26T00:00:00\", \"2016-04-26T01:00:00\", \"2016-04-26T02:00:00\", \"2016-04-26T03:00:00\", \"2016-04-26T04:00:00\", \"2016-04-26T05:00:00\", \"2016-04-26T06:00:00\", \"2016-04-26T07:00:00\", \"2016-04-26T08:00:00\", \"2016-04-26T09:00:00\", \"2016-04-26T10:00:00\", \"2016-04-26T11:00:00\", \"2016-04-26T12:00:00\", \"2016-04-26T13:00:00\", \"2016-04-26T14:00:00\", \"2016-04-26T15:00:00\", \"2016-04-26T16:00:00\", \"2016-04-26T17:00:00\", \"2016-04-26T18:00:00\", \"2016-04-26T19:00:00\", \"2016-04-26T20:00:00\", \"2016-04-26T21:00:00\", \"2016-04-26T22:00:00\", \"2016-04-26T23:00:00\", \"2016-04-27T00:00:00\", \"2016-04-27T01:00:00\", \"2016-04-27T02:00:00\", \"2016-04-27T03:00:00\", \"2016-04-27T04:00:00\", \"2016-04-27T05:00:00\", \"2016-04-27T06:00:00\", \"2016-04-27T07:00:00\", \"2016-04-27T08:00:00\", \"2016-04-27T09:00:00\", \"2016-04-27T10:00:00\", \"2016-04-27T11:00:00\", \"2016-04-27T12:00:00\", \"2016-04-27T13:00:00\", \"2016-04-27T14:00:00\", \"2016-04-27T15:00:00\", \"2016-04-27T16:00:00\", \"2016-04-27T17:00:00\", \"2016-04-27T18:00:00\", \"2016-04-27T19:00:00\", \"2016-04-27T20:00:00\", \"2016-04-27T21:00:00\", \"2016-04-27T22:00:00\", \"2016-04-27T23:00:00\", \"2016-04-28T00:00:00\", \"2016-04-28T01:00:00\", \"2016-04-28T02:00:00\", \"2016-04-28T03:00:00\", \"2016-04-28T04:00:00\", \"2016-04-28T05:00:00\", \"2016-04-28T06:00:00\", \"2016-04-28T07:00:00\", \"2016-04-28T08:00:00\", \"2016-04-28T09:00:00\", \"2016-04-28T10:00:00\", \"2016-04-28T11:00:00\", \"2016-04-28T12:00:00\", \"2016-04-28T13:00:00\", \"2016-04-28T14:00:00\", \"2016-04-28T15:00:00\", \"2016-04-28T16:00:00\", \"2016-04-28T17:00:00\", \"2016-04-28T18:00:00\", \"2016-04-28T19:00:00\", \"2016-04-28T20:00:00\", \"2016-04-28T21:00:00\", \"2016-04-28T22:00:00\", \"2016-04-28T23:00:00\", \"2016-04-29T00:00:00\", \"2016-04-29T01:00:00\", \"2016-04-29T02:00:00\", \"2016-04-29T03:00:00\", \"2016-04-29T04:00:00\", \"2016-04-29T05:00:00\", \"2016-04-29T06:00:00\", \"2016-04-29T07:00:00\", \"2016-04-29T08:00:00\", \"2016-04-29T09:00:00\", \"2016-04-29T10:00:00\", \"2016-04-29T11:00:00\", \"2016-04-29T12:00:00\", \"2016-04-29T13:00:00\", \"2016-04-29T14:00:00\", \"2016-04-29T15:00:00\", \"2016-04-29T16:00:00\", \"2016-04-29T17:00:00\", \"2016-04-29T18:00:00\", \"2016-04-29T19:00:00\", \"2016-04-29T20:00:00\", \"2016-04-29T21:00:00\", \"2016-04-29T22:00:00\", \"2016-04-29T23:00:00\", \"2016-04-30T00:00:00\", \"2016-04-30T01:00:00\", \"2016-04-30T02:00:00\", \"2016-04-30T03:00:00\", \"2016-04-30T04:00:00\", \"2016-04-30T05:00:00\", \"2016-04-30T06:00:00\", \"2016-04-30T07:00:00\", \"2016-04-30T08:00:00\", \"2016-04-30T09:00:00\", \"2016-04-30T10:00:00\", \"2016-04-30T11:00:00\", \"2016-04-30T12:00:00\", \"2016-04-30T13:00:00\", \"2016-04-30T14:00:00\", \"2016-04-30T15:00:00\", \"2016-04-30T16:00:00\", \"2016-04-30T17:00:00\", \"2016-04-30T18:00:00\", \"2016-04-30T19:00:00\", \"2016-04-30T20:00:00\", \"2016-04-30T21:00:00\", \"2016-04-30T22:00:00\", \"2016-04-30T23:00:00\", \"2016-05-01T00:00:00\", \"2016-05-01T01:00:00\", \"2016-05-01T02:00:00\", \"2016-05-01T03:00:00\", \"2016-05-01T04:00:00\", \"2016-05-01T05:00:00\", \"2016-05-01T06:00:00\", \"2016-05-01T07:00:00\", \"2016-05-01T08:00:00\", \"2016-05-01T09:00:00\", \"2016-05-01T10:00:00\", \"2016-05-01T11:00:00\", \"2016-05-01T12:00:00\", \"2016-05-01T13:00:00\", \"2016-05-01T14:00:00\", \"2016-05-01T15:00:00\", \"2016-05-01T16:00:00\", \"2016-05-01T17:00:00\", \"2016-05-01T18:00:00\", \"2016-05-01T19:00:00\", \"2016-05-01T20:00:00\", \"2016-05-01T21:00:00\", \"2016-05-01T22:00:00\", \"2016-05-01T23:00:00\", \"2016-05-02T00:00:00\", \"2016-05-02T01:00:00\", \"2016-05-02T02:00:00\", \"2016-05-02T03:00:00\", \"2016-05-02T04:00:00\", \"2016-05-02T05:00:00\", \"2016-05-02T06:00:00\", \"2016-05-02T07:00:00\", \"2016-05-02T08:00:00\", \"2016-05-02T09:00:00\", \"2016-05-02T10:00:00\", \"2016-05-02T11:00:00\", \"2016-05-02T12:00:00\", \"2016-05-02T13:00:00\", \"2016-05-02T14:00:00\", \"2016-05-02T15:00:00\", \"2016-05-02T16:00:00\", \"2016-05-02T17:00:00\", \"2016-05-02T18:00:00\", \"2016-05-02T19:00:00\", \"2016-05-02T20:00:00\", \"2016-05-02T21:00:00\", \"2016-05-02T22:00:00\", \"2016-05-02T23:00:00\", \"2016-05-03T00:00:00\", \"2016-05-03T01:00:00\", \"2016-05-03T02:00:00\", \"2016-05-03T03:00:00\", \"2016-05-03T04:00:00\", \"2016-05-03T05:00:00\", \"2016-05-03T06:00:00\", \"2016-05-03T07:00:00\", \"2016-05-03T08:00:00\", \"2016-05-03T09:00:00\", \"2016-05-03T10:00:00\", \"2016-05-03T11:00:00\", \"2016-05-03T12:00:00\", \"2016-05-03T13:00:00\", \"2016-05-03T14:00:00\", \"2016-05-03T15:00:00\", \"2016-05-03T16:00:00\", \"2016-05-03T17:00:00\", \"2016-05-03T18:00:00\", \"2016-05-03T19:00:00\", \"2016-05-03T20:00:00\", \"2016-05-03T21:00:00\", \"2016-05-03T22:00:00\", \"2016-05-03T23:00:00\", \"2016-05-04T00:00:00\", \"2016-05-04T01:00:00\", \"2016-05-04T02:00:00\", \"2016-05-04T03:00:00\", \"2016-05-04T04:00:00\", \"2016-05-04T05:00:00\", \"2016-05-04T06:00:00\", \"2016-05-04T07:00:00\", \"2016-05-04T08:00:00\", \"2016-05-04T09:00:00\", \"2016-05-04T10:00:00\", \"2016-05-04T11:00:00\", \"2016-05-04T12:00:00\", \"2016-05-04T13:00:00\", \"2016-05-04T14:00:00\", \"2016-05-04T15:00:00\", \"2016-05-04T16:00:00\", \"2016-05-04T17:00:00\", \"2016-05-04T18:00:00\", \"2016-05-04T19:00:00\", \"2016-05-04T20:00:00\", \"2016-05-04T21:00:00\", \"2016-05-04T22:00:00\", \"2016-05-04T23:00:00\", \"2016-05-05T00:00:00\", \"2016-05-05T01:00:00\", \"2016-05-05T02:00:00\", \"2016-05-05T03:00:00\", \"2016-05-05T04:00:00\", \"2016-05-05T05:00:00\", \"2016-05-05T06:00:00\", \"2016-05-05T07:00:00\", \"2016-05-05T08:00:00\", \"2016-05-05T09:00:00\", \"2016-05-05T10:00:00\", \"2016-05-05T11:00:00\", \"2016-05-05T12:00:00\", \"2016-05-05T13:00:00\", \"2016-05-05T14:00:00\", \"2016-05-05T15:00:00\", \"2016-05-05T16:00:00\", \"2016-05-05T17:00:00\", \"2016-05-05T18:00:00\", \"2016-05-05T19:00:00\", \"2016-05-05T20:00:00\", \"2016-05-05T21:00:00\", \"2016-05-05T22:00:00\", \"2016-05-05T23:00:00\", \"2016-05-06T00:00:00\", \"2016-05-06T01:00:00\", \"2016-05-06T02:00:00\", \"2016-05-06T03:00:00\", \"2016-05-06T04:00:00\", \"2016-05-06T05:00:00\", \"2016-05-06T06:00:00\", \"2016-05-06T07:00:00\", \"2016-05-06T08:00:00\", \"2016-05-06T09:00:00\", \"2016-05-06T10:00:00\", \"2016-05-06T11:00:00\", \"2016-05-06T12:00:00\", \"2016-05-06T13:00:00\", \"2016-05-06T14:00:00\", \"2016-05-06T15:00:00\", \"2016-05-06T16:00:00\", \"2016-05-06T17:00:00\", \"2016-05-06T18:00:00\", \"2016-05-06T19:00:00\", \"2016-05-06T20:00:00\", \"2016-05-06T21:00:00\", \"2016-05-06T22:00:00\", \"2016-05-06T23:00:00\", \"2016-05-07T00:00:00\", \"2016-05-07T01:00:00\", \"2016-05-07T02:00:00\", \"2016-05-07T03:00:00\", \"2016-05-07T04:00:00\", \"2016-05-07T05:00:00\", \"2016-05-07T06:00:00\", \"2016-05-07T07:00:00\", \"2016-05-07T08:00:00\", \"2016-05-07T09:00:00\", \"2016-05-07T10:00:00\", \"2016-05-07T11:00:00\", \"2016-05-07T12:00:00\", \"2016-05-07T13:00:00\", \"2016-05-07T14:00:00\", \"2016-05-07T15:00:00\", \"2016-05-07T16:00:00\", \"2016-05-07T17:00:00\", \"2016-05-07T18:00:00\", \"2016-05-07T19:00:00\", \"2016-05-07T20:00:00\", \"2016-05-07T21:00:00\", \"2016-05-07T22:00:00\", \"2016-05-07T23:00:00\", \"2016-05-08T00:00:00\", \"2016-05-08T01:00:00\", \"2016-05-08T02:00:00\", \"2016-05-08T03:00:00\", \"2016-05-08T04:00:00\", \"2016-05-08T05:00:00\", \"2016-05-08T06:00:00\", \"2016-05-08T07:00:00\", \"2016-05-08T08:00:00\", \"2016-05-08T09:00:00\", \"2016-05-08T10:00:00\", \"2016-05-08T11:00:00\", \"2016-05-08T12:00:00\", \"2016-05-08T13:00:00\", \"2016-05-08T14:00:00\", \"2016-05-08T15:00:00\", \"2016-05-08T16:00:00\", \"2016-05-08T17:00:00\", \"2016-05-08T18:00:00\", \"2016-05-08T19:00:00\", \"2016-05-08T20:00:00\", \"2016-05-08T21:00:00\", \"2016-05-08T22:00:00\", \"2016-05-08T23:00:00\", \"2016-05-09T00:00:00\", \"2016-05-09T01:00:00\", \"2016-05-09T02:00:00\", \"2016-05-09T03:00:00\", \"2016-05-09T04:00:00\", \"2016-05-09T05:00:00\", \"2016-05-09T06:00:00\", \"2016-05-09T07:00:00\", \"2016-05-09T08:00:00\", \"2016-05-09T09:00:00\", \"2016-05-09T10:00:00\", \"2016-05-09T11:00:00\", \"2016-05-09T12:00:00\", \"2016-05-09T13:00:00\", \"2016-05-09T14:00:00\", \"2016-05-09T15:00:00\", \"2016-05-09T16:00:00\", \"2016-05-09T17:00:00\", \"2016-05-09T18:00:00\", \"2016-05-09T19:00:00\", \"2016-05-09T20:00:00\", \"2016-05-09T21:00:00\", \"2016-05-09T22:00:00\", \"2016-05-09T23:00:00\", \"2016-05-10T00:00:00\", \"2016-05-10T01:00:00\", \"2016-05-10T02:00:00\", \"2016-05-10T03:00:00\", \"2016-05-10T04:00:00\", \"2016-05-10T05:00:00\", \"2016-05-10T06:00:00\", \"2016-05-10T07:00:00\", \"2016-05-10T08:00:00\", \"2016-05-10T09:00:00\", \"2016-05-10T10:00:00\", \"2016-05-10T11:00:00\", \"2016-05-10T12:00:00\", \"2016-05-10T13:00:00\", \"2016-05-10T14:00:00\", \"2016-05-10T15:00:00\", \"2016-05-10T16:00:00\", \"2016-05-10T17:00:00\", \"2016-05-10T18:00:00\", \"2016-05-10T19:00:00\", \"2016-05-10T20:00:00\", \"2016-05-10T21:00:00\", \"2016-05-10T22:00:00\", \"2016-05-10T23:00:00\", \"2016-05-11T00:00:00\", \"2016-05-11T01:00:00\", \"2016-05-11T02:00:00\", \"2016-05-11T03:00:00\", \"2016-05-11T04:00:00\", \"2016-05-11T05:00:00\", \"2016-05-11T06:00:00\", \"2016-05-11T07:00:00\", \"2016-05-11T08:00:00\", \"2016-05-11T09:00:00\", \"2016-05-11T10:00:00\", \"2016-05-11T11:00:00\", \"2016-05-11T12:00:00\", \"2016-05-11T13:00:00\", \"2016-05-11T14:00:00\", \"2016-05-11T15:00:00\", \"2016-05-11T16:00:00\", \"2016-05-11T17:00:00\", \"2016-05-11T18:00:00\", \"2016-05-11T19:00:00\", \"2016-05-11T20:00:00\", \"2016-05-11T21:00:00\", \"2016-05-11T22:00:00\", \"2016-05-11T23:00:00\", \"2016-05-12T00:00:00\", \"2016-05-12T01:00:00\", \"2016-05-12T02:00:00\", \"2016-05-12T03:00:00\", \"2016-05-12T04:00:00\", \"2016-05-12T05:00:00\", \"2016-05-12T06:00:00\", \"2016-05-12T07:00:00\", \"2016-05-12T08:00:00\", \"2016-05-12T09:00:00\", \"2016-05-12T10:00:00\", \"2016-05-12T11:00:00\", \"2016-05-12T12:00:00\", \"2016-05-12T13:00:00\", \"2016-05-12T14:00:00\", \"2016-05-12T15:00:00\", \"2016-05-12T16:00:00\", \"2016-05-12T17:00:00\", \"2016-05-12T18:00:00\", \"2016-05-12T19:00:00\", \"2016-05-12T20:00:00\", \"2016-05-12T21:00:00\", \"2016-05-12T22:00:00\", \"2016-05-12T23:00:00\", \"2016-05-13T00:00:00\", \"2016-05-13T01:00:00\", \"2016-05-13T02:00:00\", \"2016-05-13T03:00:00\", \"2016-05-13T04:00:00\", \"2016-05-13T05:00:00\", \"2016-05-13T06:00:00\", \"2016-05-13T07:00:00\", \"2016-05-13T08:00:00\", \"2016-05-13T09:00:00\", \"2016-05-13T10:00:00\", \"2016-05-13T11:00:00\", \"2016-05-13T12:00:00\", \"2016-05-13T13:00:00\", \"2016-05-13T14:00:00\", \"2016-05-13T15:00:00\", \"2016-05-13T16:00:00\", \"2016-05-13T17:00:00\", \"2016-05-13T18:00:00\", \"2016-05-13T19:00:00\", \"2016-05-13T20:00:00\", \"2016-05-13T21:00:00\", \"2016-05-13T22:00:00\", \"2016-05-13T23:00:00\", \"2016-05-14T00:00:00\", \"2016-05-14T01:00:00\", \"2016-05-14T02:00:00\", \"2016-05-14T03:00:00\", \"2016-05-14T04:00:00\", \"2016-05-14T05:00:00\", \"2016-05-14T06:00:00\", \"2016-05-14T07:00:00\", \"2016-05-14T08:00:00\", \"2016-05-14T09:00:00\", \"2016-05-14T10:00:00\", \"2016-05-14T11:00:00\", \"2016-05-14T12:00:00\", \"2016-05-14T13:00:00\", \"2016-05-14T14:00:00\", \"2016-05-14T15:00:00\", \"2016-05-14T16:00:00\", \"2016-05-14T17:00:00\", \"2016-05-14T18:00:00\", \"2016-05-14T19:00:00\", \"2016-05-14T20:00:00\", \"2016-05-14T21:00:00\", \"2016-05-14T22:00:00\", \"2016-05-14T23:00:00\", \"2016-05-15T00:00:00\", \"2016-05-15T01:00:00\", \"2016-05-15T02:00:00\", \"2016-05-15T03:00:00\", \"2016-05-15T04:00:00\", \"2016-05-15T05:00:00\", \"2016-05-15T06:00:00\", \"2016-05-15T07:00:00\", \"2016-05-15T08:00:00\", \"2016-05-15T09:00:00\", \"2016-05-15T10:00:00\", \"2016-05-15T11:00:00\", \"2016-05-15T12:00:00\", \"2016-05-15T13:00:00\", \"2016-05-15T14:00:00\", \"2016-05-15T15:00:00\", \"2016-05-15T16:00:00\", \"2016-05-15T17:00:00\", \"2016-05-15T18:00:00\", \"2016-05-15T19:00:00\", \"2016-05-15T20:00:00\", \"2016-05-15T21:00:00\", \"2016-05-15T22:00:00\", \"2016-05-15T23:00:00\", \"2016-05-16T00:00:00\", \"2016-05-16T01:00:00\", \"2016-05-16T02:00:00\", \"2016-05-16T03:00:00\", \"2016-05-16T04:00:00\", \"2016-05-16T05:00:00\", \"2016-05-16T06:00:00\", \"2016-05-16T07:00:00\", \"2016-05-16T08:00:00\", \"2016-05-16T09:00:00\", \"2016-05-16T10:00:00\", \"2016-05-16T11:00:00\", \"2016-05-16T12:00:00\", \"2016-05-16T13:00:00\", \"2016-05-16T14:00:00\", \"2016-05-16T15:00:00\", \"2016-05-16T16:00:00\", \"2016-05-16T17:00:00\", \"2016-05-16T18:00:00\", \"2016-05-16T19:00:00\", \"2016-05-16T20:00:00\", \"2016-05-16T21:00:00\", \"2016-05-16T22:00:00\", \"2016-05-16T23:00:00\", \"2016-05-17T00:00:00\", \"2016-05-17T01:00:00\", \"2016-05-17T02:00:00\", \"2016-05-17T03:00:00\", \"2016-05-17T04:00:00\", \"2016-05-17T05:00:00\", \"2016-05-17T06:00:00\", \"2016-05-17T07:00:00\", \"2016-05-17T08:00:00\", \"2016-05-17T09:00:00\", \"2016-05-17T10:00:00\", \"2016-05-17T11:00:00\", \"2016-05-17T12:00:00\", \"2016-05-17T13:00:00\", \"2016-05-17T14:00:00\", \"2016-05-17T15:00:00\", \"2016-05-17T16:00:00\", \"2016-05-17T17:00:00\", \"2016-05-17T18:00:00\", \"2016-05-17T19:00:00\", \"2016-05-17T20:00:00\", \"2016-05-17T21:00:00\", \"2016-05-17T22:00:00\", \"2016-05-17T23:00:00\", \"2016-05-18T00:00:00\", \"2016-05-18T01:00:00\", \"2016-05-18T02:00:00\", \"2016-05-18T03:00:00\", \"2016-05-18T04:00:00\", \"2016-05-18T05:00:00\", \"2016-05-18T06:00:00\", \"2016-05-18T07:00:00\", \"2016-05-18T08:00:00\", \"2016-05-18T09:00:00\", \"2016-05-18T10:00:00\", \"2016-05-18T11:00:00\", \"2016-05-18T12:00:00\", \"2016-05-18T13:00:00\", \"2016-05-18T14:00:00\", \"2016-05-18T15:00:00\", \"2016-05-18T16:00:00\", \"2016-05-18T17:00:00\", \"2016-05-18T18:00:00\", \"2016-05-18T19:00:00\", \"2016-05-18T20:00:00\", \"2016-05-18T21:00:00\", \"2016-05-18T22:00:00\", \"2016-05-18T23:00:00\", \"2016-05-19T00:00:00\", \"2016-05-19T01:00:00\", \"2016-05-19T02:00:00\", \"2016-05-19T03:00:00\", \"2016-05-19T04:00:00\", \"2016-05-19T05:00:00\", \"2016-05-19T06:00:00\", \"2016-05-19T07:00:00\", \"2016-05-19T08:00:00\", \"2016-05-19T09:00:00\", \"2016-05-19T10:00:00\", \"2016-05-19T11:00:00\", \"2016-05-19T12:00:00\", \"2016-05-19T13:00:00\", \"2016-05-19T14:00:00\", \"2016-05-19T15:00:00\", \"2016-05-19T16:00:00\", \"2016-05-19T17:00:00\", \"2016-05-19T18:00:00\", \"2016-05-19T19:00:00\", \"2016-05-19T20:00:00\", \"2016-05-19T21:00:00\", \"2016-05-19T22:00:00\", \"2016-05-19T23:00:00\", \"2016-05-20T00:00:00\", \"2016-05-20T01:00:00\", \"2016-05-20T02:00:00\", \"2016-05-20T03:00:00\", \"2016-05-20T04:00:00\", \"2016-05-20T05:00:00\", \"2016-05-20T06:00:00\", \"2016-05-20T07:00:00\", \"2016-05-20T08:00:00\", \"2016-05-20T09:00:00\", \"2016-05-20T10:00:00\", \"2016-05-20T11:00:00\", \"2016-05-20T12:00:00\", \"2016-05-20T13:00:00\", \"2016-05-20T14:00:00\", \"2016-05-20T15:00:00\", \"2016-05-20T16:00:00\", \"2016-05-20T17:00:00\", \"2016-05-20T18:00:00\", \"2016-05-20T19:00:00\", \"2016-05-20T20:00:00\", \"2016-05-20T21:00:00\", \"2016-05-20T22:00:00\", \"2016-05-20T23:00:00\", \"2016-05-21T00:00:00\", \"2016-05-21T01:00:00\", \"2016-05-21T02:00:00\", \"2016-05-21T03:00:00\", \"2016-05-21T04:00:00\", \"2016-05-21T05:00:00\", \"2016-05-21T06:00:00\", \"2016-05-21T07:00:00\", \"2016-05-21T08:00:00\", \"2016-05-21T09:00:00\", \"2016-05-21T10:00:00\", \"2016-05-21T11:00:00\", \"2016-05-21T12:00:00\", \"2016-05-21T13:00:00\", \"2016-05-21T14:00:00\", \"2016-05-21T15:00:00\", \"2016-05-21T16:00:00\", \"2016-05-21T17:00:00\", \"2016-05-21T18:00:00\", \"2016-05-21T19:00:00\", \"2016-05-21T20:00:00\", \"2016-05-21T21:00:00\", \"2016-05-21T22:00:00\", \"2016-05-21T23:00:00\", \"2016-05-22T00:00:00\", \"2016-05-22T01:00:00\", \"2016-05-22T02:00:00\", \"2016-05-22T03:00:00\", \"2016-05-22T04:00:00\", \"2016-05-22T05:00:00\", \"2016-05-22T06:00:00\", \"2016-05-22T07:00:00\", \"2016-05-22T08:00:00\", \"2016-05-22T09:00:00\", \"2016-05-22T10:00:00\", \"2016-05-22T11:00:00\", \"2016-05-22T12:00:00\", \"2016-05-22T13:00:00\", \"2016-05-22T14:00:00\", \"2016-05-22T15:00:00\", \"2016-05-22T16:00:00\", \"2016-05-22T17:00:00\", \"2016-05-22T18:00:00\", \"2016-05-22T19:00:00\", \"2016-05-22T20:00:00\", \"2016-05-22T21:00:00\", \"2016-05-22T22:00:00\", \"2016-05-22T23:00:00\", \"2016-05-23T00:00:00\", \"2016-05-23T01:00:00\", \"2016-05-23T02:00:00\", \"2016-05-23T03:00:00\", \"2016-05-23T04:00:00\", \"2016-05-23T05:00:00\", \"2016-05-23T06:00:00\", \"2016-05-23T07:00:00\", \"2016-05-23T08:00:00\", \"2016-05-23T09:00:00\", \"2016-05-23T10:00:00\", \"2016-05-23T11:00:00\", \"2016-05-23T12:00:00\", \"2016-05-23T13:00:00\", \"2016-05-23T14:00:00\", \"2016-05-23T15:00:00\", \"2016-05-23T16:00:00\", \"2016-05-23T17:00:00\", \"2016-05-23T18:00:00\", \"2016-05-23T19:00:00\", \"2016-05-23T20:00:00\", \"2016-05-23T21:00:00\", \"2016-05-23T22:00:00\", \"2016-05-23T23:00:00\", \"2016-05-24T00:00:00\", \"2016-05-24T01:00:00\", \"2016-05-24T02:00:00\", \"2016-05-24T03:00:00\", \"2016-05-24T04:00:00\", \"2016-05-24T05:00:00\", \"2016-05-24T06:00:00\", \"2016-05-24T07:00:00\", \"2016-05-24T08:00:00\", \"2016-05-24T09:00:00\", \"2016-05-24T10:00:00\", \"2016-05-24T11:00:00\", \"2016-05-24T12:00:00\", \"2016-05-24T13:00:00\", \"2016-05-24T14:00:00\", \"2016-05-24T15:00:00\", \"2016-05-24T16:00:00\", \"2016-05-24T17:00:00\", \"2016-05-24T18:00:00\", \"2016-05-24T19:00:00\", \"2016-05-24T20:00:00\", \"2016-05-24T21:00:00\", \"2016-05-24T22:00:00\", \"2016-05-24T23:00:00\", \"2016-05-25T00:00:00\", \"2016-05-25T01:00:00\", \"2016-05-25T02:00:00\", \"2016-05-25T03:00:00\", \"2016-05-25T04:00:00\", \"2016-05-25T05:00:00\", \"2016-05-25T06:00:00\", \"2016-05-25T07:00:00\", \"2016-05-25T08:00:00\", \"2016-05-25T09:00:00\", \"2016-05-25T10:00:00\", \"2016-05-25T11:00:00\", \"2016-05-25T12:00:00\", \"2016-05-25T13:00:00\", \"2016-05-25T14:00:00\", \"2016-05-25T15:00:00\", \"2016-05-25T16:00:00\", \"2016-05-25T17:00:00\", \"2016-05-25T18:00:00\", \"2016-05-25T19:00:00\", \"2016-05-25T20:00:00\", \"2016-05-25T21:00:00\", \"2016-05-25T22:00:00\", \"2016-05-25T23:00:00\", \"2016-05-26T00:00:00\", \"2016-05-26T01:00:00\", \"2016-05-26T02:00:00\", \"2016-05-26T03:00:00\", \"2016-05-26T04:00:00\", \"2016-05-26T05:00:00\", \"2016-05-26T06:00:00\", \"2016-05-26T07:00:00\", \"2016-05-26T08:00:00\", \"2016-05-26T09:00:00\", \"2016-05-26T10:00:00\", \"2016-05-26T11:00:00\", \"2016-05-26T12:00:00\", \"2016-05-26T13:00:00\", \"2016-05-26T14:00:00\", \"2016-05-26T15:00:00\", \"2016-05-26T16:00:00\", \"2016-05-26T17:00:00\", \"2016-05-26T18:00:00\", \"2016-05-26T19:00:00\", \"2016-05-26T20:00:00\", \"2016-05-26T21:00:00\", \"2016-05-26T22:00:00\", \"2016-05-26T23:00:00\", \"2016-05-27T00:00:00\", \"2016-05-27T01:00:00\", \"2016-05-27T02:00:00\", \"2016-05-27T03:00:00\", \"2016-05-27T04:00:00\", \"2016-05-27T05:00:00\", \"2016-05-27T06:00:00\", \"2016-05-27T07:00:00\", \"2016-05-27T08:00:00\", \"2016-05-27T09:00:00\", \"2016-05-27T10:00:00\", \"2016-05-27T11:00:00\", \"2016-05-27T12:00:00\", \"2016-05-27T13:00:00\", \"2016-05-27T14:00:00\", \"2016-05-27T15:00:00\", \"2016-05-27T16:00:00\", \"2016-05-27T17:00:00\", \"2016-05-27T18:00:00\", \"2016-05-27T19:00:00\", \"2016-05-27T20:00:00\", \"2016-05-27T21:00:00\", \"2016-05-27T22:00:00\", \"2016-05-27T23:00:00\", \"2016-05-28T00:00:00\", \"2016-05-28T01:00:00\", \"2016-05-28T02:00:00\", \"2016-05-28T03:00:00\", \"2016-05-28T04:00:00\", \"2016-05-28T05:00:00\", \"2016-05-28T06:00:00\", \"2016-05-28T07:00:00\", \"2016-05-28T08:00:00\", \"2016-05-28T09:00:00\", \"2016-05-28T10:00:00\", \"2016-05-28T11:00:00\", \"2016-05-28T12:00:00\", \"2016-05-28T13:00:00\", \"2016-05-28T14:00:00\", \"2016-05-28T15:00:00\", \"2016-05-28T16:00:00\", \"2016-05-28T17:00:00\", \"2016-05-28T18:00:00\", \"2016-05-28T19:00:00\", \"2016-05-28T20:00:00\", \"2016-05-28T21:00:00\", \"2016-05-28T22:00:00\", \"2016-05-28T23:00:00\", \"2016-05-29T00:00:00\", \"2016-05-29T01:00:00\", \"2016-05-29T02:00:00\", \"2016-05-29T03:00:00\", \"2016-05-29T04:00:00\", \"2016-05-29T05:00:00\", \"2016-05-29T06:00:00\", \"2016-05-29T07:00:00\", \"2016-05-29T08:00:00\", \"2016-05-29T09:00:00\", \"2016-05-29T10:00:00\", \"2016-05-29T11:00:00\", \"2016-05-29T12:00:00\", \"2016-05-29T13:00:00\", \"2016-05-29T14:00:00\", \"2016-05-29T15:00:00\", \"2016-05-29T16:00:00\", \"2016-05-29T17:00:00\", \"2016-05-29T18:00:00\", \"2016-05-29T19:00:00\", \"2016-05-29T20:00:00\", \"2016-05-29T21:00:00\", \"2016-05-29T22:00:00\", \"2016-05-29T23:00:00\", \"2016-05-30T00:00:00\", \"2016-05-30T01:00:00\", \"2016-05-30T02:00:00\", \"2016-05-30T03:00:00\", \"2016-05-30T04:00:00\", \"2016-05-30T05:00:00\", \"2016-05-30T06:00:00\", \"2016-05-30T07:00:00\", \"2016-05-30T08:00:00\", \"2016-05-30T09:00:00\", \"2016-05-30T10:00:00\", \"2016-05-30T11:00:00\", \"2016-05-30T12:00:00\", \"2016-05-30T13:00:00\", \"2016-05-30T14:00:00\", \"2016-05-30T15:00:00\", \"2016-05-30T16:00:00\", \"2016-05-30T17:00:00\", \"2016-05-30T18:00:00\", \"2016-05-30T19:00:00\", \"2016-05-30T20:00:00\", \"2016-05-30T21:00:00\", \"2016-05-30T22:00:00\", \"2016-05-30T23:00:00\", \"2016-05-31T00:00:00\", \"2016-05-31T01:00:00\", \"2016-05-31T02:00:00\", \"2016-05-31T03:00:00\", \"2016-05-31T04:00:00\", \"2016-05-31T05:00:00\", \"2016-05-31T06:00:00\", \"2016-05-31T07:00:00\", \"2016-05-31T08:00:00\", \"2016-05-31T09:00:00\", \"2016-05-31T10:00:00\", \"2016-05-31T11:00:00\", \"2016-05-31T12:00:00\", \"2016-05-31T13:00:00\", \"2016-05-31T14:00:00\", \"2016-05-31T15:00:00\", \"2016-05-31T16:00:00\", \"2016-05-31T17:00:00\", \"2016-05-31T18:00:00\", \"2016-05-31T19:00:00\", \"2016-05-31T20:00:00\", \"2016-05-31T21:00:00\", \"2016-05-31T22:00:00\", \"2016-05-31T23:00:00\", \"2016-06-01T00:00:00\", \"2016-06-01T01:00:00\", \"2016-06-01T02:00:00\", \"2016-06-01T03:00:00\", \"2016-06-01T04:00:00\", \"2016-06-01T05:00:00\", \"2016-06-01T06:00:00\", \"2016-06-01T07:00:00\", \"2016-06-01T08:00:00\", \"2016-06-01T09:00:00\", \"2016-06-01T10:00:00\", \"2016-06-01T11:00:00\", \"2016-06-01T12:00:00\", \"2016-06-01T13:00:00\", \"2016-06-01T14:00:00\", \"2016-06-01T15:00:00\", \"2016-06-01T16:00:00\", \"2016-06-01T17:00:00\", \"2016-06-01T18:00:00\", \"2016-06-01T19:00:00\", \"2016-06-01T20:00:00\", \"2016-06-01T21:00:00\", \"2016-06-01T22:00:00\", \"2016-06-01T23:00:00\", \"2016-06-02T00:00:00\", \"2016-06-02T01:00:00\", \"2016-06-02T02:00:00\", \"2016-06-02T03:00:00\", \"2016-06-02T04:00:00\", \"2016-06-02T05:00:00\", \"2016-06-02T06:00:00\", \"2016-06-02T07:00:00\", \"2016-06-02T08:00:00\", \"2016-06-02T09:00:00\", \"2016-06-02T10:00:00\", \"2016-06-02T11:00:00\", \"2016-06-02T12:00:00\", \"2016-06-02T13:00:00\", \"2016-06-02T14:00:00\", \"2016-06-02T15:00:00\", \"2016-06-02T16:00:00\", \"2016-06-02T17:00:00\", \"2016-06-02T18:00:00\", \"2016-06-02T19:00:00\", \"2016-06-02T20:00:00\", \"2016-06-02T21:00:00\", \"2016-06-02T22:00:00\", \"2016-06-02T23:00:00\", \"2016-06-03T00:00:00\", \"2016-06-03T01:00:00\", \"2016-06-03T02:00:00\", \"2016-06-03T03:00:00\", \"2016-06-03T04:00:00\", \"2016-06-03T05:00:00\", \"2016-06-03T06:00:00\", \"2016-06-03T07:00:00\", \"2016-06-03T08:00:00\", \"2016-06-03T09:00:00\", \"2016-06-03T10:00:00\", \"2016-06-03T11:00:00\", \"2016-06-03T12:00:00\", \"2016-06-03T13:00:00\", \"2016-06-03T14:00:00\", \"2016-06-03T15:00:00\", \"2016-06-03T16:00:00\", \"2016-06-03T17:00:00\", \"2016-06-03T18:00:00\", \"2016-06-03T19:00:00\", \"2016-06-03T20:00:00\", \"2016-06-03T21:00:00\", \"2016-06-03T22:00:00\", \"2016-06-03T23:00:00\", \"2016-06-04T00:00:00\", \"2016-06-04T01:00:00\", \"2016-06-04T02:00:00\", \"2016-06-04T03:00:00\", \"2016-06-04T04:00:00\", \"2016-06-04T05:00:00\", \"2016-06-04T06:00:00\", \"2016-06-04T07:00:00\", \"2016-06-04T08:00:00\", \"2016-06-04T09:00:00\", \"2016-06-04T10:00:00\", \"2016-06-04T11:00:00\", \"2016-06-04T12:00:00\", \"2016-06-04T13:00:00\", \"2016-06-04T14:00:00\", \"2016-06-04T15:00:00\", \"2016-06-04T16:00:00\", \"2016-06-04T17:00:00\", \"2016-06-04T18:00:00\", \"2016-06-04T19:00:00\", \"2016-06-04T20:00:00\", \"2016-06-04T21:00:00\", \"2016-06-04T22:00:00\", \"2016-06-04T23:00:00\", \"2016-06-05T00:00:00\", \"2016-06-05T01:00:00\", \"2016-06-05T02:00:00\", \"2016-06-05T03:00:00\", \"2016-06-05T04:00:00\", \"2016-06-05T05:00:00\", \"2016-06-05T06:00:00\", \"2016-06-05T07:00:00\", \"2016-06-05T08:00:00\", \"2016-06-05T09:00:00\", \"2016-06-05T10:00:00\", \"2016-06-05T11:00:00\", \"2016-06-05T12:00:00\", \"2016-06-05T13:00:00\", \"2016-06-05T14:00:00\", \"2016-06-05T15:00:00\", \"2016-06-05T16:00:00\", \"2016-06-05T17:00:00\", \"2016-06-05T18:00:00\", \"2016-06-05T19:00:00\", \"2016-06-05T20:00:00\", \"2016-06-05T21:00:00\", \"2016-06-05T22:00:00\", \"2016-06-05T23:00:00\", \"2016-06-06T00:00:00\", \"2016-06-06T01:00:00\", \"2016-06-06T02:00:00\", \"2016-06-06T03:00:00\", \"2016-06-06T04:00:00\", \"2016-06-06T05:00:00\", \"2016-06-06T06:00:00\", \"2016-06-06T07:00:00\", \"2016-06-06T08:00:00\", \"2016-06-06T09:00:00\", \"2016-06-06T10:00:00\", \"2016-06-06T11:00:00\", \"2016-06-06T12:00:00\", \"2016-06-06T13:00:00\", \"2016-06-06T14:00:00\", \"2016-06-06T15:00:00\", \"2016-06-06T16:00:00\", \"2016-06-06T17:00:00\", \"2016-06-06T18:00:00\", \"2016-06-06T19:00:00\", \"2016-06-06T20:00:00\", \"2016-06-06T21:00:00\", \"2016-06-06T22:00:00\", \"2016-06-06T23:00:00\", \"2016-06-07T00:00:00\", \"2016-06-07T01:00:00\", \"2016-06-07T02:00:00\", \"2016-06-07T03:00:00\", \"2016-06-07T04:00:00\", \"2016-06-07T05:00:00\", \"2016-06-07T06:00:00\", \"2016-06-07T07:00:00\", \"2016-06-07T08:00:00\", \"2016-06-07T09:00:00\", \"2016-06-07T10:00:00\", \"2016-06-07T11:00:00\", \"2016-06-07T12:00:00\", \"2016-06-07T13:00:00\", \"2016-06-07T14:00:00\", \"2016-06-07T15:00:00\", \"2016-06-07T16:00:00\", \"2016-06-07T17:00:00\", \"2016-06-07T18:00:00\", \"2016-06-07T19:00:00\", \"2016-06-07T20:00:00\", \"2016-06-07T21:00:00\", \"2016-06-07T22:00:00\", \"2016-06-07T23:00:00\", \"2016-06-08T00:00:00\", \"2016-06-08T01:00:00\", \"2016-06-08T02:00:00\", \"2016-06-08T03:00:00\", \"2016-06-08T04:00:00\", \"2016-06-08T05:00:00\", \"2016-06-08T06:00:00\", \"2016-06-08T07:00:00\", \"2016-06-08T08:00:00\", \"2016-06-08T09:00:00\", \"2016-06-08T10:00:00\", \"2016-06-08T11:00:00\", \"2016-06-08T12:00:00\", \"2016-06-08T13:00:00\", \"2016-06-08T14:00:00\", \"2016-06-08T15:00:00\", \"2016-06-08T16:00:00\", \"2016-06-08T17:00:00\", \"2016-06-08T18:00:00\", \"2016-06-08T19:00:00\", \"2016-06-08T20:00:00\", \"2016-06-08T21:00:00\", \"2016-06-08T22:00:00\", \"2016-06-08T23:00:00\", \"2016-06-09T00:00:00\", \"2016-06-09T01:00:00\", \"2016-06-09T02:00:00\", \"2016-06-09T03:00:00\", \"2016-06-09T04:00:00\", \"2016-06-09T05:00:00\", \"2016-06-09T06:00:00\", \"2016-06-09T07:00:00\", \"2016-06-09T08:00:00\", \"2016-06-09T09:00:00\", \"2016-06-09T10:00:00\", \"2016-06-09T11:00:00\", \"2016-06-09T12:00:00\", \"2016-06-09T13:00:00\", \"2016-06-09T14:00:00\", \"2016-06-09T15:00:00\", \"2016-06-09T16:00:00\", \"2016-06-09T17:00:00\", \"2016-06-09T18:00:00\", \"2016-06-09T19:00:00\", \"2016-06-09T20:00:00\", \"2016-06-09T21:00:00\", \"2016-06-09T22:00:00\", \"2016-06-09T23:00:00\", \"2016-06-10T00:00:00\", \"2016-06-10T01:00:00\", \"2016-06-10T02:00:00\", \"2016-06-10T03:00:00\", \"2016-06-10T04:00:00\", \"2016-06-10T05:00:00\", \"2016-06-10T06:00:00\", \"2016-06-10T07:00:00\", \"2016-06-10T08:00:00\", \"2016-06-10T09:00:00\", \"2016-06-10T10:00:00\", \"2016-06-10T11:00:00\", \"2016-06-10T12:00:00\", \"2016-06-10T13:00:00\", \"2016-06-10T14:00:00\", \"2016-06-10T15:00:00\", \"2016-06-10T16:00:00\", \"2016-06-10T17:00:00\", \"2016-06-10T18:00:00\", \"2016-06-10T19:00:00\", \"2016-06-10T20:00:00\", \"2016-06-10T21:00:00\", \"2016-06-10T22:00:00\", \"2016-06-10T23:00:00\", \"2016-06-11T00:00:00\", \"2016-06-11T01:00:00\", \"2016-06-11T02:00:00\", \"2016-06-11T03:00:00\", \"2016-06-11T04:00:00\", \"2016-06-11T05:00:00\", \"2016-06-11T06:00:00\", \"2016-06-11T07:00:00\", \"2016-06-11T08:00:00\", \"2016-06-11T09:00:00\", \"2016-06-11T10:00:00\", \"2016-06-11T11:00:00\", \"2016-06-11T12:00:00\", \"2016-06-11T13:00:00\", \"2016-06-11T14:00:00\", \"2016-06-11T15:00:00\", \"2016-06-11T16:00:00\", \"2016-06-11T17:00:00\", \"2016-06-11T18:00:00\", \"2016-06-11T19:00:00\", \"2016-06-11T20:00:00\", \"2016-06-11T21:00:00\", \"2016-06-11T22:00:00\", \"2016-06-11T23:00:00\", \"2016-06-12T00:00:00\", \"2016-06-12T01:00:00\", \"2016-06-12T02:00:00\", \"2016-06-12T03:00:00\", \"2016-06-12T04:00:00\", \"2016-06-12T05:00:00\", \"2016-06-12T06:00:00\", \"2016-06-12T07:00:00\", \"2016-06-12T08:00:00\", \"2016-06-12T09:00:00\", \"2016-06-12T10:00:00\", \"2016-06-12T11:00:00\", \"2016-06-12T12:00:00\", \"2016-06-12T13:00:00\", \"2016-06-12T14:00:00\", \"2016-06-12T15:00:00\", \"2016-06-12T16:00:00\", \"2016-06-12T17:00:00\", \"2016-06-12T18:00:00\", \"2016-06-12T19:00:00\", \"2016-06-12T20:00:00\", \"2016-06-12T21:00:00\", \"2016-06-12T22:00:00\", \"2016-06-12T23:00:00\", \"2016-06-13T00:00:00\", \"2016-06-13T01:00:00\", \"2016-06-13T02:00:00\", \"2016-06-13T03:00:00\", \"2016-06-13T04:00:00\", \"2016-06-13T05:00:00\", \"2016-06-13T06:00:00\", \"2016-06-13T07:00:00\", \"2016-06-13T08:00:00\", \"2016-06-13T09:00:00\", \"2016-06-13T10:00:00\", \"2016-06-13T11:00:00\", \"2016-06-13T12:00:00\", \"2016-06-13T13:00:00\", \"2016-06-13T14:00:00\", \"2016-06-13T15:00:00\", \"2016-06-13T16:00:00\", \"2016-06-13T17:00:00\", \"2016-06-13T18:00:00\", \"2016-06-13T19:00:00\", \"2016-06-13T20:00:00\", \"2016-06-13T21:00:00\", \"2016-06-13T22:00:00\", \"2016-06-13T23:00:00\", \"2016-06-14T00:00:00\", \"2016-06-14T01:00:00\", \"2016-06-14T02:00:00\", \"2016-06-14T03:00:00\", \"2016-06-14T04:00:00\", \"2016-06-14T05:00:00\", \"2016-06-14T06:00:00\", \"2016-06-14T07:00:00\", \"2016-06-14T08:00:00\", \"2016-06-14T09:00:00\", \"2016-06-14T10:00:00\", \"2016-06-14T11:00:00\", \"2016-06-14T12:00:00\", \"2016-06-14T13:00:00\", \"2016-06-14T14:00:00\", \"2016-06-14T15:00:00\", \"2016-06-14T16:00:00\", \"2016-06-14T17:00:00\", \"2016-06-14T18:00:00\", \"2016-06-14T19:00:00\", \"2016-06-14T20:00:00\", \"2016-06-14T21:00:00\", \"2016-06-14T22:00:00\", \"2016-06-14T23:00:00\", \"2016-06-15T00:00:00\", \"2016-06-15T01:00:00\", \"2016-06-15T02:00:00\", \"2016-06-15T03:00:00\", \"2016-06-15T04:00:00\", \"2016-06-15T05:00:00\", \"2016-06-15T06:00:00\", \"2016-06-15T07:00:00\", \"2016-06-15T08:00:00\", \"2016-06-15T09:00:00\", \"2016-06-15T10:00:00\", \"2016-06-15T11:00:00\", \"2016-06-15T12:00:00\", \"2016-06-15T13:00:00\", \"2016-06-15T14:00:00\", \"2016-06-15T15:00:00\", \"2016-06-15T16:00:00\", \"2016-06-15T17:00:00\", \"2016-06-15T18:00:00\", \"2016-06-15T19:00:00\", \"2016-06-15T20:00:00\", \"2016-06-15T21:00:00\", \"2016-06-15T22:00:00\", \"2016-06-15T23:00:00\", \"2016-06-16T00:00:00\", \"2016-06-16T01:00:00\", \"2016-06-16T02:00:00\", \"2016-06-16T03:00:00\", \"2016-06-16T04:00:00\", \"2016-06-16T05:00:00\", \"2016-06-16T06:00:00\", \"2016-06-16T07:00:00\", \"2016-06-16T08:00:00\", \"2016-06-16T09:00:00\", \"2016-06-16T10:00:00\", \"2016-06-16T11:00:00\", \"2016-06-16T12:00:00\", \"2016-06-16T13:00:00\", \"2016-06-16T14:00:00\", \"2016-06-16T15:00:00\", \"2016-06-16T16:00:00\", \"2016-06-16T17:00:00\", \"2016-06-16T18:00:00\", \"2016-06-16T19:00:00\", \"2016-06-16T20:00:00\", \"2016-06-16T21:00:00\", \"2016-06-16T22:00:00\", \"2016-06-16T23:00:00\", \"2016-06-17T00:00:00\", \"2016-06-17T01:00:00\", \"2016-06-17T02:00:00\", \"2016-06-17T03:00:00\", \"2016-06-17T04:00:00\", \"2016-06-17T05:00:00\", \"2016-06-17T06:00:00\", \"2016-06-17T07:00:00\", \"2016-06-17T08:00:00\", \"2016-06-17T09:00:00\", \"2016-06-17T10:00:00\", \"2016-06-17T11:00:00\", \"2016-06-17T12:00:00\", \"2016-06-17T13:00:00\", \"2016-06-17T14:00:00\", \"2016-06-17T15:00:00\", \"2016-06-17T16:00:00\", \"2016-06-17T17:00:00\", \"2016-06-17T18:00:00\", \"2016-06-17T19:00:00\", \"2016-06-17T20:00:00\", \"2016-06-17T21:00:00\", \"2016-06-17T22:00:00\", \"2016-06-17T23:00:00\", \"2016-06-18T00:00:00\", \"2016-06-18T01:00:00\", \"2016-06-18T02:00:00\", \"2016-06-18T03:00:00\", \"2016-06-18T04:00:00\", \"2016-06-18T05:00:00\", \"2016-06-18T06:00:00\", \"2016-06-18T07:00:00\", \"2016-06-18T08:00:00\", \"2016-06-18T09:00:00\", \"2016-06-18T10:00:00\", \"2016-06-18T11:00:00\", \"2016-06-18T12:00:00\", \"2016-06-18T13:00:00\", \"2016-06-18T14:00:00\", \"2016-06-18T15:00:00\", \"2016-06-18T16:00:00\", \"2016-06-18T17:00:00\", \"2016-06-18T18:00:00\", \"2016-06-18T19:00:00\", \"2016-06-18T20:00:00\", \"2016-06-18T21:00:00\", \"2016-06-18T22:00:00\", \"2016-06-18T23:00:00\", \"2016-06-19T00:00:00\", \"2016-06-19T01:00:00\", \"2016-06-19T02:00:00\", \"2016-06-19T03:00:00\", \"2016-06-19T04:00:00\", \"2016-06-19T05:00:00\", \"2016-06-19T06:00:00\", \"2016-06-19T07:00:00\", \"2016-06-19T08:00:00\", \"2016-06-19T09:00:00\", \"2016-06-19T10:00:00\", \"2016-06-19T11:00:00\", \"2016-06-19T12:00:00\", \"2016-06-19T13:00:00\", \"2016-06-19T14:00:00\", \"2016-06-19T15:00:00\", \"2016-06-19T16:00:00\", \"2016-06-19T17:00:00\", \"2016-06-19T18:00:00\", \"2016-06-19T19:00:00\", \"2016-06-19T20:00:00\", \"2016-06-19T21:00:00\", \"2016-06-19T22:00:00\", \"2016-06-19T23:00:00\", \"2016-06-20T00:00:00\", \"2016-06-20T01:00:00\", \"2016-06-20T02:00:00\", \"2016-06-20T03:00:00\", \"2016-06-20T04:00:00\", \"2016-06-20T05:00:00\", \"2016-06-20T06:00:00\", \"2016-06-20T07:00:00\", \"2016-06-20T08:00:00\", \"2016-06-20T09:00:00\", \"2016-06-20T10:00:00\", \"2016-06-20T11:00:00\", \"2016-06-20T12:00:00\", \"2016-06-20T13:00:00\", \"2016-06-20T14:00:00\", \"2016-06-20T15:00:00\", \"2016-06-20T16:00:00\", \"2016-06-20T17:00:00\", \"2016-06-20T18:00:00\", \"2016-06-20T19:00:00\", \"2016-06-20T20:00:00\", \"2016-06-20T21:00:00\", \"2016-06-20T22:00:00\", \"2016-06-20T23:00:00\", \"2016-06-21T00:00:00\", \"2016-06-21T01:00:00\", \"2016-06-21T02:00:00\", \"2016-06-21T03:00:00\", \"2016-06-21T04:00:00\", \"2016-06-21T05:00:00\", \"2016-06-21T06:00:00\", \"2016-06-21T07:00:00\", \"2016-06-21T08:00:00\", \"2016-06-21T09:00:00\", \"2016-06-21T10:00:00\", \"2016-06-21T11:00:00\", \"2016-06-21T12:00:00\", \"2016-06-21T13:00:00\", \"2016-06-21T14:00:00\", \"2016-06-21T15:00:00\", \"2016-06-21T16:00:00\", \"2016-06-21T17:00:00\", \"2016-06-21T18:00:00\", \"2016-06-21T19:00:00\", \"2016-06-21T20:00:00\", \"2016-06-21T21:00:00\", \"2016-06-21T22:00:00\", \"2016-06-21T23:00:00\", \"2016-06-22T00:00:00\", \"2016-06-22T01:00:00\", \"2016-06-22T02:00:00\", \"2016-06-22T03:00:00\", \"2016-06-22T04:00:00\", \"2016-06-22T05:00:00\", \"2016-06-22T06:00:00\", \"2016-06-22T07:00:00\", \"2016-06-22T08:00:00\", \"2016-06-22T09:00:00\", \"2016-06-22T10:00:00\", \"2016-06-22T11:00:00\", \"2016-06-22T12:00:00\", \"2016-06-22T13:00:00\", \"2016-06-22T14:00:00\", \"2016-06-22T15:00:00\", \"2016-06-22T16:00:00\", \"2016-06-22T17:00:00\", \"2016-06-22T18:00:00\", \"2016-06-22T19:00:00\", \"2016-06-22T20:00:00\", \"2016-06-22T21:00:00\", \"2016-06-22T22:00:00\", \"2016-06-22T23:00:00\", \"2016-06-23T00:00:00\", \"2016-06-23T01:00:00\", \"2016-06-23T02:00:00\", \"2016-06-23T03:00:00\", \"2016-06-23T04:00:00\", \"2016-06-23T05:00:00\", \"2016-06-23T06:00:00\", \"2016-06-23T07:00:00\", \"2016-06-23T08:00:00\", \"2016-06-23T09:00:00\", \"2016-06-23T10:00:00\", \"2016-06-23T11:00:00\", \"2016-06-23T12:00:00\", \"2016-06-23T13:00:00\", \"2016-06-23T14:00:00\", \"2016-06-23T15:00:00\", \"2016-06-23T16:00:00\", \"2016-06-23T17:00:00\", \"2016-06-23T18:00:00\", \"2016-06-23T19:00:00\", \"2016-06-23T20:00:00\", \"2016-06-23T21:00:00\", \"2016-06-23T22:00:00\", \"2016-06-23T23:00:00\", \"2016-06-24T00:00:00\", \"2016-06-24T01:00:00\", \"2016-06-24T02:00:00\", \"2016-06-24T03:00:00\", \"2016-06-24T04:00:00\", \"2016-06-24T05:00:00\", \"2016-06-24T06:00:00\", \"2016-06-24T07:00:00\", \"2016-06-24T08:00:00\", \"2016-06-24T09:00:00\", \"2016-06-24T10:00:00\", \"2016-06-24T11:00:00\", \"2016-06-24T12:00:00\", \"2016-06-24T13:00:00\", \"2016-06-24T14:00:00\", \"2016-06-24T15:00:00\", \"2016-06-24T16:00:00\", \"2016-06-24T17:00:00\", \"2016-06-24T18:00:00\", \"2016-06-24T19:00:00\", \"2016-06-24T20:00:00\", \"2016-06-24T21:00:00\", \"2016-06-24T22:00:00\", \"2016-06-24T23:00:00\", \"2016-06-25T00:00:00\", \"2016-06-25T01:00:00\", \"2016-06-25T02:00:00\", \"2016-06-25T03:00:00\", \"2016-06-25T04:00:00\", \"2016-06-25T05:00:00\", \"2016-06-25T06:00:00\", \"2016-06-25T07:00:00\", \"2016-06-25T08:00:00\", \"2016-06-25T09:00:00\", \"2016-06-25T10:00:00\", \"2016-06-25T11:00:00\", \"2016-06-25T12:00:00\", \"2016-06-25T13:00:00\", \"2016-06-25T14:00:00\", \"2016-06-25T15:00:00\", \"2016-06-25T16:00:00\", \"2016-06-25T17:00:00\", \"2016-06-25T18:00:00\", \"2016-06-25T19:00:00\", \"2016-06-25T20:00:00\", \"2016-06-25T21:00:00\", \"2016-06-25T22:00:00\", \"2016-06-25T23:00:00\", \"2016-06-26T00:00:00\", \"2016-06-26T01:00:00\", \"2016-06-26T02:00:00\", \"2016-06-26T03:00:00\", \"2016-06-26T04:00:00\", \"2016-06-26T05:00:00\", \"2016-06-26T06:00:00\", \"2016-06-26T07:00:00\", \"2016-06-26T08:00:00\", \"2016-06-26T09:00:00\", \"2016-06-26T10:00:00\", \"2016-06-26T11:00:00\", \"2016-06-26T12:00:00\", \"2016-06-26T13:00:00\", \"2016-06-26T14:00:00\", \"2016-06-26T15:00:00\", \"2016-06-26T16:00:00\", \"2016-06-26T17:00:00\", \"2016-06-26T18:00:00\", \"2016-06-26T19:00:00\", \"2016-06-26T20:00:00\", \"2016-06-26T21:00:00\", \"2016-06-26T22:00:00\", \"2016-06-26T23:00:00\", \"2016-06-27T00:00:00\", \"2016-06-27T01:00:00\", \"2016-06-27T02:00:00\", \"2016-06-27T03:00:00\", \"2016-06-27T04:00:00\", \"2016-06-27T05:00:00\", \"2016-06-27T06:00:00\", \"2016-06-27T07:00:00\", \"2016-06-27T08:00:00\", \"2016-06-27T09:00:00\", \"2016-06-27T10:00:00\", \"2016-06-27T11:00:00\", \"2016-06-27T12:00:00\", \"2016-06-27T13:00:00\", \"2016-06-27T14:00:00\", \"2016-06-27T15:00:00\", \"2016-06-27T16:00:00\", \"2016-06-27T17:00:00\", \"2016-06-27T18:00:00\", \"2016-06-27T19:00:00\", \"2016-06-27T20:00:00\", \"2016-06-27T21:00:00\", \"2016-06-27T22:00:00\", \"2016-06-27T23:00:00\", \"2016-06-28T00:00:00\", \"2016-06-28T01:00:00\", \"2016-06-28T02:00:00\", \"2016-06-28T03:00:00\", \"2016-06-28T04:00:00\", \"2016-06-28T05:00:00\", \"2016-06-28T06:00:00\", \"2016-06-28T07:00:00\", \"2016-06-28T08:00:00\", \"2016-06-28T09:00:00\", \"2016-06-28T10:00:00\", \"2016-06-28T11:00:00\", \"2016-06-28T12:00:00\", \"2016-06-28T13:00:00\", \"2016-06-28T14:00:00\", \"2016-06-28T15:00:00\", \"2016-06-28T16:00:00\", \"2016-06-28T17:00:00\", \"2016-06-28T18:00:00\", \"2016-06-28T19:00:00\", \"2016-06-28T20:00:00\", \"2016-06-28T21:00:00\", \"2016-06-28T22:00:00\", \"2016-06-28T23:00:00\", \"2016-06-29T00:00:00\", \"2016-06-29T01:00:00\", \"2016-06-29T02:00:00\", \"2016-06-29T03:00:00\", \"2016-06-29T04:00:00\", \"2016-06-29T05:00:00\", \"2016-06-29T06:00:00\", \"2016-06-29T07:00:00\", \"2016-06-29T08:00:00\", \"2016-06-29T09:00:00\", \"2016-06-29T10:00:00\", \"2016-06-29T11:00:00\", \"2016-06-29T12:00:00\", \"2016-06-29T13:00:00\", \"2016-06-29T14:00:00\", \"2016-06-29T15:00:00\", \"2016-06-29T16:00:00\", \"2016-06-29T17:00:00\", \"2016-06-29T18:00:00\", \"2016-06-29T19:00:00\", \"2016-06-29T20:00:00\", \"2016-06-29T21:00:00\", \"2016-06-29T22:00:00\", \"2016-06-29T23:00:00\", \"2016-06-30T00:00:00\", \"2016-06-30T01:00:00\", \"2016-06-30T02:00:00\", \"2016-06-30T03:00:00\", \"2016-06-30T04:00:00\", \"2016-06-30T05:00:00\", \"2016-06-30T06:00:00\", \"2016-06-30T07:00:00\", \"2016-06-30T08:00:00\", \"2016-06-30T09:00:00\", \"2016-06-30T10:00:00\", \"2016-06-30T11:00:00\", \"2016-06-30T12:00:00\", \"2016-06-30T13:00:00\", \"2016-06-30T14:00:00\", \"2016-06-30T15:00:00\", \"2016-06-30T16:00:00\", \"2016-06-30T17:00:00\", \"2016-06-30T18:00:00\", \"2016-06-30T19:00:00\", \"2016-06-30T20:00:00\", \"2016-06-30T21:00:00\", \"2016-06-30T22:00:00\", \"2016-06-30T23:00:00\", \"2016-07-01T00:00:00\", \"2016-07-01T01:00:00\", \"2016-07-01T02:00:00\", \"2016-07-01T03:00:00\", \"2016-07-01T04:00:00\", \"2016-07-01T05:00:00\", \"2016-07-01T06:00:00\", \"2016-07-01T07:00:00\", \"2016-07-01T08:00:00\", \"2016-07-01T09:00:00\", \"2016-07-01T10:00:00\", \"2016-07-01T11:00:00\", \"2016-07-01T12:00:00\", \"2016-07-01T13:00:00\", \"2016-07-01T14:00:00\", \"2016-07-01T15:00:00\", \"2016-07-01T16:00:00\", \"2016-07-01T17:00:00\", \"2016-07-01T18:00:00\", \"2016-07-01T19:00:00\", \"2016-07-01T20:00:00\", \"2016-07-01T21:00:00\", \"2016-07-01T22:00:00\", \"2016-07-01T23:00:00\", \"2016-07-02T00:00:00\", \"2016-07-02T01:00:00\", \"2016-07-02T02:00:00\", \"2016-07-02T03:00:00\", \"2016-07-02T04:00:00\", \"2016-07-02T05:00:00\", \"2016-07-02T06:00:00\", \"2016-07-02T07:00:00\", \"2016-07-02T08:00:00\", \"2016-07-02T09:00:00\", \"2016-07-02T10:00:00\", \"2016-07-02T11:00:00\", \"2016-07-02T12:00:00\", \"2016-07-02T13:00:00\", \"2016-07-02T14:00:00\", \"2016-07-02T15:00:00\", \"2016-07-02T16:00:00\", \"2016-07-02T17:00:00\", \"2016-07-02T18:00:00\", \"2016-07-02T19:00:00\", \"2016-07-02T20:00:00\", \"2016-07-02T21:00:00\", \"2016-07-02T22:00:00\", \"2016-07-02T23:00:00\", \"2016-07-03T00:00:00\", \"2016-07-03T01:00:00\", \"2016-07-03T02:00:00\", \"2016-07-03T03:00:00\", \"2016-07-03T04:00:00\", \"2016-07-03T05:00:00\", \"2016-07-03T06:00:00\", \"2016-07-03T07:00:00\", \"2016-07-03T08:00:00\", \"2016-07-03T09:00:00\", \"2016-07-03T10:00:00\", \"2016-07-03T11:00:00\", \"2016-07-03T12:00:00\", \"2016-07-03T13:00:00\", \"2016-07-03T14:00:00\", \"2016-07-03T15:00:00\", \"2016-07-03T16:00:00\", \"2016-07-03T17:00:00\", \"2016-07-03T18:00:00\", \"2016-07-03T19:00:00\", \"2016-07-03T20:00:00\", \"2016-07-03T21:00:00\", \"2016-07-03T22:00:00\", \"2016-07-03T23:00:00\", \"2016-07-04T00:00:00\", \"2016-07-04T01:00:00\", \"2016-07-04T02:00:00\", \"2016-07-04T03:00:00\", \"2016-07-04T04:00:00\", \"2016-07-04T05:00:00\", \"2016-07-04T06:00:00\", \"2016-07-04T07:00:00\", \"2016-07-04T08:00:00\", \"2016-07-04T09:00:00\", \"2016-07-04T10:00:00\", \"2016-07-04T11:00:00\", \"2016-07-04T12:00:00\", \"2016-07-04T13:00:00\", \"2016-07-04T14:00:00\", \"2016-07-04T15:00:00\", \"2016-07-04T16:00:00\", \"2016-07-04T17:00:00\", \"2016-07-04T18:00:00\", \"2016-07-04T19:00:00\", \"2016-07-04T20:00:00\", \"2016-07-04T21:00:00\", \"2016-07-04T22:00:00\", \"2016-07-04T23:00:00\", \"2016-07-05T00:00:00\", \"2016-07-05T01:00:00\", \"2016-07-05T02:00:00\", \"2016-07-05T03:00:00\", \"2016-07-05T04:00:00\", \"2016-07-05T05:00:00\", \"2016-07-05T06:00:00\", \"2016-07-05T07:00:00\", \"2016-07-05T08:00:00\", \"2016-07-05T09:00:00\", \"2016-07-05T10:00:00\", \"2016-07-05T11:00:00\", \"2016-07-05T12:00:00\", \"2016-07-05T13:00:00\", \"2016-07-05T14:00:00\", \"2016-07-05T15:00:00\", \"2016-07-05T16:00:00\", \"2016-07-05T17:00:00\", \"2016-07-05T18:00:00\", \"2016-07-05T19:00:00\", \"2016-07-05T20:00:00\", \"2016-07-05T21:00:00\", \"2016-07-05T22:00:00\", \"2016-07-05T23:00:00\", \"2016-07-06T00:00:00\", \"2016-07-06T01:00:00\", \"2016-07-06T02:00:00\", \"2016-07-06T03:00:00\", \"2016-07-06T04:00:00\", \"2016-07-06T05:00:00\", \"2016-07-06T06:00:00\", \"2016-07-06T07:00:00\", \"2016-07-06T08:00:00\", \"2016-07-06T09:00:00\", \"2016-07-06T10:00:00\", \"2016-07-06T11:00:00\", \"2016-07-06T12:00:00\", \"2016-07-06T13:00:00\", \"2016-07-06T14:00:00\", \"2016-07-06T15:00:00\", \"2016-07-06T16:00:00\", \"2016-07-06T17:00:00\", \"2016-07-06T18:00:00\", \"2016-07-06T19:00:00\", \"2016-07-06T20:00:00\", \"2016-07-06T21:00:00\", \"2016-07-06T22:00:00\", \"2016-07-06T23:00:00\", \"2016-07-07T00:00:00\", \"2016-07-07T01:00:00\", \"2016-07-07T02:00:00\", \"2016-07-07T03:00:00\", \"2016-07-07T04:00:00\", \"2016-07-07T05:00:00\", \"2016-07-07T06:00:00\", \"2016-07-07T07:00:00\", \"2016-07-07T08:00:00\", \"2016-07-07T09:00:00\", \"2016-07-07T10:00:00\", \"2016-07-07T11:00:00\", \"2016-07-07T12:00:00\", \"2016-07-07T13:00:00\", \"2016-07-07T14:00:00\", \"2016-07-07T15:00:00\", \"2016-07-07T16:00:00\", \"2016-07-07T17:00:00\", \"2016-07-07T18:00:00\", \"2016-07-07T19:00:00\", \"2016-07-07T20:00:00\", \"2016-07-07T21:00:00\", \"2016-07-07T22:00:00\", \"2016-07-07T23:00:00\", \"2016-07-08T00:00:00\", \"2016-07-08T01:00:00\", \"2016-07-08T02:00:00\", \"2016-07-08T03:00:00\", \"2016-07-08T04:00:00\", \"2016-07-08T05:00:00\", \"2016-07-08T06:00:00\", \"2016-07-08T07:00:00\", \"2016-07-08T08:00:00\", \"2016-07-08T09:00:00\", \"2016-07-08T10:00:00\", \"2016-07-08T11:00:00\", \"2016-07-08T12:00:00\", \"2016-07-08T13:00:00\", \"2016-07-08T14:00:00\", \"2016-07-08T15:00:00\", \"2016-07-08T16:00:00\", \"2016-07-08T17:00:00\", \"2016-07-08T18:00:00\", \"2016-07-08T19:00:00\", \"2016-07-08T20:00:00\", \"2016-07-08T21:00:00\", \"2016-07-08T22:00:00\", \"2016-07-08T23:00:00\", \"2016-07-09T00:00:00\", \"2016-07-09T01:00:00\", \"2016-07-09T02:00:00\", \"2016-07-09T03:00:00\", \"2016-07-09T04:00:00\", \"2016-07-09T05:00:00\", \"2016-07-09T06:00:00\", \"2016-07-09T07:00:00\", \"2016-07-09T08:00:00\", \"2016-07-09T09:00:00\", \"2016-07-09T10:00:00\", \"2016-07-09T11:00:00\", \"2016-07-09T12:00:00\", \"2016-07-09T13:00:00\", \"2016-07-09T14:00:00\", \"2016-07-09T15:00:00\", \"2016-07-09T16:00:00\", \"2016-07-09T17:00:00\", \"2016-07-09T18:00:00\", \"2016-07-09T19:00:00\", \"2016-07-09T20:00:00\", \"2016-07-09T21:00:00\", \"2016-07-09T22:00:00\", \"2016-07-09T23:00:00\", \"2016-07-10T00:00:00\", \"2016-07-10T01:00:00\", \"2016-07-10T02:00:00\", \"2016-07-10T03:00:00\", \"2016-07-10T04:00:00\", \"2016-07-10T05:00:00\", \"2016-07-10T06:00:00\", \"2016-07-10T07:00:00\", \"2016-07-10T08:00:00\", \"2016-07-10T09:00:00\", \"2016-07-10T10:00:00\", \"2016-07-10T11:00:00\", \"2016-07-10T12:00:00\", \"2016-07-10T13:00:00\", \"2016-07-10T14:00:00\", \"2016-07-10T15:00:00\", \"2016-07-10T16:00:00\", \"2016-07-10T17:00:00\", \"2016-07-10T18:00:00\", \"2016-07-10T19:00:00\", \"2016-07-10T20:00:00\", \"2016-07-10T21:00:00\", \"2016-07-10T22:00:00\", \"2016-07-10T23:00:00\", \"2016-07-11T00:00:00\", \"2016-07-11T01:00:00\", \"2016-07-11T02:00:00\", \"2016-07-11T03:00:00\", \"2016-07-11T04:00:00\", \"2016-07-11T05:00:00\", \"2016-07-11T06:00:00\", \"2016-07-11T07:00:00\", \"2016-07-11T08:00:00\", \"2016-07-11T09:00:00\", \"2016-07-11T10:00:00\", \"2016-07-11T11:00:00\", \"2016-07-11T12:00:00\", \"2016-07-11T13:00:00\", \"2016-07-11T14:00:00\", \"2016-07-11T15:00:00\", \"2016-07-11T16:00:00\", \"2016-07-11T17:00:00\", \"2016-07-11T18:00:00\", \"2016-07-11T19:00:00\", \"2016-07-11T20:00:00\", \"2016-07-11T21:00:00\", \"2016-07-11T22:00:00\", \"2016-07-11T23:00:00\", \"2016-07-12T00:00:00\", \"2016-07-12T01:00:00\", \"2016-07-12T02:00:00\", \"2016-07-12T03:00:00\", \"2016-07-12T04:00:00\", \"2016-07-12T05:00:00\", \"2016-07-12T06:00:00\", \"2016-07-12T07:00:00\", \"2016-07-12T08:00:00\", \"2016-07-12T09:00:00\", \"2016-07-12T10:00:00\", \"2016-07-12T11:00:00\", \"2016-07-12T12:00:00\", \"2016-07-12T13:00:00\", \"2016-07-12T14:00:00\", \"2016-07-12T15:00:00\", \"2016-07-12T16:00:00\", \"2016-07-12T17:00:00\", \"2016-07-12T18:00:00\", \"2016-07-12T19:00:00\", \"2016-07-12T20:00:00\", \"2016-07-12T21:00:00\", \"2016-07-12T22:00:00\", \"2016-07-12T23:00:00\", \"2016-07-13T00:00:00\", \"2016-07-13T01:00:00\", \"2016-07-13T02:00:00\", \"2016-07-13T03:00:00\", \"2016-07-13T04:00:00\", \"2016-07-13T05:00:00\", \"2016-07-13T06:00:00\", \"2016-07-13T07:00:00\", \"2016-07-13T08:00:00\", \"2016-07-13T09:00:00\", \"2016-07-13T10:00:00\", \"2016-07-13T11:00:00\", \"2016-07-13T12:00:00\", \"2016-07-13T13:00:00\", \"2016-07-13T14:00:00\", \"2016-07-13T15:00:00\", \"2016-07-13T16:00:00\", \"2016-07-13T17:00:00\", \"2016-07-13T18:00:00\", \"2016-07-13T19:00:00\", \"2016-07-13T20:00:00\", \"2016-07-13T21:00:00\", \"2016-07-13T22:00:00\", \"2016-07-13T23:00:00\", \"2016-07-14T00:00:00\", \"2016-07-14T01:00:00\", \"2016-07-14T02:00:00\", \"2016-07-14T03:00:00\", \"2016-07-14T04:00:00\", \"2016-07-14T05:00:00\", \"2016-07-14T06:00:00\", \"2016-07-14T07:00:00\", \"2016-07-14T08:00:00\", \"2016-07-14T09:00:00\", \"2016-07-14T10:00:00\", \"2016-07-14T11:00:00\", \"2016-07-14T12:00:00\", \"2016-07-14T13:00:00\", \"2016-07-14T14:00:00\", \"2016-07-14T15:00:00\", \"2016-07-14T16:00:00\", \"2016-07-14T17:00:00\", \"2016-07-14T18:00:00\", \"2016-07-14T19:00:00\", \"2016-07-14T20:00:00\", \"2016-07-14T21:00:00\", \"2016-07-14T22:00:00\", \"2016-07-14T23:00:00\", \"2016-07-15T00:00:00\", \"2016-07-15T01:00:00\", \"2016-07-15T02:00:00\", \"2016-07-15T03:00:00\", \"2016-07-15T04:00:00\", \"2016-07-15T05:00:00\", \"2016-07-15T06:00:00\", \"2016-07-15T07:00:00\", \"2016-07-15T08:00:00\", \"2016-07-15T09:00:00\", \"2016-07-15T10:00:00\", \"2016-07-15T11:00:00\", \"2016-07-15T12:00:00\", \"2016-07-15T13:00:00\", \"2016-07-15T14:00:00\", \"2016-07-15T15:00:00\", \"2016-07-15T16:00:00\", \"2016-07-15T17:00:00\", \"2016-07-15T18:00:00\", \"2016-07-15T19:00:00\", \"2016-07-15T20:00:00\", \"2016-07-15T21:00:00\", \"2016-07-15T22:00:00\", \"2016-07-15T23:00:00\", \"2016-07-16T00:00:00\", \"2016-07-16T01:00:00\", \"2016-07-16T02:00:00\", \"2016-07-16T03:00:00\", \"2016-07-16T04:00:00\", \"2016-07-16T05:00:00\", \"2016-07-16T06:00:00\", \"2016-07-16T07:00:00\", \"2016-07-16T08:00:00\", \"2016-07-16T09:00:00\", \"2016-07-16T10:00:00\", \"2016-07-16T11:00:00\", \"2016-07-16T12:00:00\", \"2016-07-16T13:00:00\", \"2016-07-16T14:00:00\", \"2016-07-16T15:00:00\", \"2016-07-16T16:00:00\", \"2016-07-16T17:00:00\", \"2016-07-16T18:00:00\", \"2016-07-16T19:00:00\", \"2016-07-16T20:00:00\", \"2016-07-16T21:00:00\", \"2016-07-16T22:00:00\", \"2016-07-16T23:00:00\", \"2016-07-17T00:00:00\", \"2016-07-17T01:00:00\", \"2016-07-17T02:00:00\", \"2016-07-17T03:00:00\", \"2016-07-17T04:00:00\", \"2016-07-17T05:00:00\", \"2016-07-17T06:00:00\", \"2016-07-17T07:00:00\", \"2016-07-17T08:00:00\", \"2016-07-17T09:00:00\", \"2016-07-17T10:00:00\", \"2016-07-17T11:00:00\", \"2016-07-17T12:00:00\", \"2016-07-17T13:00:00\", \"2016-07-17T14:00:00\", \"2016-07-17T15:00:00\", \"2016-07-17T16:00:00\", \"2016-07-17T17:00:00\", \"2016-07-17T18:00:00\", \"2016-07-17T19:00:00\", \"2016-07-17T20:00:00\", \"2016-07-17T21:00:00\", \"2016-07-17T22:00:00\", \"2016-07-17T23:00:00\", \"2016-07-18T00:00:00\", \"2016-07-18T01:00:00\", \"2016-07-18T02:00:00\", \"2016-07-18T03:00:00\", \"2016-07-18T04:00:00\", \"2016-07-18T05:00:00\", \"2016-07-18T06:00:00\", \"2016-07-18T07:00:00\", \"2016-07-18T08:00:00\", \"2016-07-18T09:00:00\", \"2016-07-18T10:00:00\", \"2016-07-18T11:00:00\", \"2016-07-18T12:00:00\", \"2016-07-18T13:00:00\", \"2016-07-18T14:00:00\", \"2016-07-18T15:00:00\", \"2016-07-18T16:00:00\", \"2016-07-18T17:00:00\", \"2016-07-18T18:00:00\", \"2016-07-18T19:00:00\", \"2016-07-18T20:00:00\", \"2016-07-18T21:00:00\", \"2016-07-18T22:00:00\", \"2016-07-18T23:00:00\", \"2016-07-19T00:00:00\", \"2016-07-19T01:00:00\", \"2016-07-19T02:00:00\", \"2016-07-19T03:00:00\", \"2016-07-19T04:00:00\", \"2016-07-19T05:00:00\", \"2016-07-19T06:00:00\", \"2016-07-19T07:00:00\", \"2016-07-19T08:00:00\", \"2016-07-19T09:00:00\", \"2016-07-19T10:00:00\", \"2016-07-19T11:00:00\", \"2016-07-19T12:00:00\", \"2016-07-19T13:00:00\", \"2016-07-19T14:00:00\", \"2016-07-19T15:00:00\", \"2016-07-19T16:00:00\", \"2016-07-19T17:00:00\", \"2016-07-19T18:00:00\", \"2016-07-19T19:00:00\", \"2016-07-19T20:00:00\", \"2016-07-19T21:00:00\", \"2016-07-19T22:00:00\", \"2016-07-19T23:00:00\", \"2016-07-20T00:00:00\", \"2016-07-20T01:00:00\", \"2016-07-20T02:00:00\", \"2016-07-20T03:00:00\", \"2016-07-20T04:00:00\", \"2016-07-20T05:00:00\", \"2016-07-20T06:00:00\", \"2016-07-20T07:00:00\", \"2016-07-20T08:00:00\", \"2016-07-20T09:00:00\", \"2016-07-20T10:00:00\", \"2016-07-20T11:00:00\", \"2016-07-20T12:00:00\", \"2016-07-20T13:00:00\", \"2016-07-20T14:00:00\", \"2016-07-20T15:00:00\", \"2016-07-20T16:00:00\", \"2016-07-20T17:00:00\", \"2016-07-20T18:00:00\", \"2016-07-20T19:00:00\", \"2016-07-20T20:00:00\", \"2016-07-20T21:00:00\", \"2016-07-20T22:00:00\", \"2016-07-20T23:00:00\", \"2016-07-21T00:00:00\", \"2016-07-21T01:00:00\", \"2016-07-21T02:00:00\", \"2016-07-21T03:00:00\", \"2016-07-21T04:00:00\", \"2016-07-21T05:00:00\", \"2016-07-21T06:00:00\", \"2016-07-21T07:00:00\", \"2016-07-21T08:00:00\", \"2016-07-21T09:00:00\", \"2016-07-21T10:00:00\", \"2016-07-21T11:00:00\", \"2016-07-21T12:00:00\", \"2016-07-21T13:00:00\", \"2016-07-21T14:00:00\", \"2016-07-21T15:00:00\", \"2016-07-21T16:00:00\", \"2016-07-21T17:00:00\", \"2016-07-21T18:00:00\", \"2016-07-21T19:00:00\", \"2016-07-21T20:00:00\", \"2016-07-21T21:00:00\", \"2016-07-21T22:00:00\", \"2016-07-21T23:00:00\", \"2016-07-22T00:00:00\", \"2016-07-22T01:00:00\", \"2016-07-22T02:00:00\", \"2016-07-22T03:00:00\", \"2016-07-22T04:00:00\", \"2016-07-22T05:00:00\", \"2016-07-22T06:00:00\", \"2016-07-22T07:00:00\", \"2016-07-22T08:00:00\", \"2016-07-22T09:00:00\", \"2016-07-22T10:00:00\", \"2016-07-22T11:00:00\", \"2016-07-22T12:00:00\", \"2016-07-22T13:00:00\", \"2016-07-22T14:00:00\", \"2016-07-22T15:00:00\", \"2016-07-22T16:00:00\", \"2016-07-22T17:00:00\", \"2016-07-22T18:00:00\", \"2016-07-22T19:00:00\", \"2016-07-22T20:00:00\", \"2016-07-22T21:00:00\", \"2016-07-22T22:00:00\", \"2016-07-22T23:00:00\", \"2016-07-23T00:00:00\", \"2016-07-23T01:00:00\", \"2016-07-23T02:00:00\", \"2016-07-23T03:00:00\", \"2016-07-23T04:00:00\", \"2016-07-23T05:00:00\", \"2016-07-23T06:00:00\", \"2016-07-23T07:00:00\", \"2016-07-23T08:00:00\", \"2016-07-23T09:00:00\", \"2016-07-23T10:00:00\", \"2016-07-23T11:00:00\", \"2016-07-23T12:00:00\", \"2016-07-23T13:00:00\", \"2016-07-23T14:00:00\", \"2016-07-23T15:00:00\", \"2016-07-23T16:00:00\", \"2016-07-23T17:00:00\", \"2016-07-23T18:00:00\", \"2016-07-23T19:00:00\", \"2016-07-23T20:00:00\", \"2016-07-23T21:00:00\", \"2016-07-23T22:00:00\", \"2016-07-23T23:00:00\", \"2016-07-24T00:00:00\", \"2016-07-24T01:00:00\", \"2016-07-24T02:00:00\", \"2016-07-24T03:00:00\", \"2016-07-24T04:00:00\", \"2016-07-24T05:00:00\", \"2016-07-24T06:00:00\", \"2016-07-24T07:00:00\", \"2016-07-24T08:00:00\", \"2016-07-24T09:00:00\", \"2016-07-24T10:00:00\", \"2016-07-24T11:00:00\", \"2016-07-24T12:00:00\", \"2016-07-24T13:00:00\", \"2016-07-24T14:00:00\", \"2016-07-24T15:00:00\", \"2016-07-24T16:00:00\", \"2016-07-24T17:00:00\", \"2016-07-24T18:00:00\", \"2016-07-24T19:00:00\", \"2016-07-24T20:00:00\", \"2016-07-24T21:00:00\", \"2016-07-24T22:00:00\", \"2016-07-24T23:00:00\", \"2016-07-25T00:00:00\", \"2016-07-25T01:00:00\", \"2016-07-25T02:00:00\", \"2016-07-25T03:00:00\", \"2016-07-25T04:00:00\", \"2016-07-25T05:00:00\", \"2016-07-25T06:00:00\", \"2016-07-25T07:00:00\", \"2016-07-25T08:00:00\", \"2016-07-25T09:00:00\", \"2016-07-25T10:00:00\", \"2016-07-25T11:00:00\", \"2016-07-25T12:00:00\", \"2016-07-25T13:00:00\", \"2016-07-25T14:00:00\", \"2016-07-25T15:00:00\", \"2016-07-25T16:00:00\", \"2016-07-25T17:00:00\", \"2016-07-25T18:00:00\", \"2016-07-25T19:00:00\", \"2016-07-25T20:00:00\", \"2016-07-25T21:00:00\", \"2016-07-25T22:00:00\", \"2016-07-25T23:00:00\", \"2016-07-26T00:00:00\", \"2016-07-26T01:00:00\", \"2016-07-26T02:00:00\", \"2016-07-26T03:00:00\", \"2016-07-26T04:00:00\", \"2016-07-26T05:00:00\", \"2016-07-26T06:00:00\", \"2016-07-26T07:00:00\", \"2016-07-26T08:00:00\", \"2016-07-26T09:00:00\", \"2016-07-26T10:00:00\", \"2016-07-26T11:00:00\", \"2016-07-26T12:00:00\", \"2016-07-26T13:00:00\", \"2016-07-26T14:00:00\", \"2016-07-26T15:00:00\", \"2016-07-26T16:00:00\", \"2016-07-26T17:00:00\", \"2016-07-26T18:00:00\", \"2016-07-26T19:00:00\", \"2016-07-26T20:00:00\", \"2016-07-26T21:00:00\", \"2016-07-26T22:00:00\", \"2016-07-26T23:00:00\", \"2016-07-27T00:00:00\", \"2016-07-27T01:00:00\", \"2016-07-27T02:00:00\", \"2016-07-27T03:00:00\", \"2016-07-27T04:00:00\", \"2016-07-27T05:00:00\", \"2016-07-27T06:00:00\", \"2016-07-27T07:00:00\", \"2016-07-27T08:00:00\", \"2016-07-27T09:00:00\", \"2016-07-27T10:00:00\", \"2016-07-27T11:00:00\", \"2016-07-27T12:00:00\", \"2016-07-27T13:00:00\", \"2016-07-27T14:00:00\", \"2016-07-27T15:00:00\", \"2016-07-27T16:00:00\", \"2016-07-27T17:00:00\", \"2016-07-27T18:00:00\", \"2016-07-27T19:00:00\", \"2016-07-27T20:00:00\", \"2016-07-27T21:00:00\", \"2016-07-27T22:00:00\", \"2016-07-27T23:00:00\", \"2016-07-28T00:00:00\", \"2016-07-28T01:00:00\", \"2016-07-28T02:00:00\", \"2016-07-28T03:00:00\", \"2016-07-28T04:00:00\", \"2016-07-28T05:00:00\", \"2016-07-28T06:00:00\", \"2016-07-28T07:00:00\", \"2016-07-28T08:00:00\", \"2016-07-28T09:00:00\", \"2016-07-28T10:00:00\", \"2016-07-28T11:00:00\", \"2016-07-28T12:00:00\", \"2016-07-28T13:00:00\", \"2016-07-28T14:00:00\", \"2016-07-28T15:00:00\", \"2016-07-28T16:00:00\", \"2016-07-28T17:00:00\", \"2016-07-28T18:00:00\", \"2016-07-28T19:00:00\", \"2016-07-28T20:00:00\", \"2016-07-28T21:00:00\", \"2016-07-28T22:00:00\", \"2016-07-28T23:00:00\", \"2016-07-29T00:00:00\", \"2016-07-29T01:00:00\", \"2016-07-29T02:00:00\", \"2016-07-29T03:00:00\", \"2016-07-29T04:00:00\", \"2016-07-29T05:00:00\", \"2016-07-29T06:00:00\", \"2016-07-29T07:00:00\", \"2016-07-29T08:00:00\", \"2016-07-29T09:00:00\", \"2016-07-29T10:00:00\", \"2016-07-29T11:00:00\", \"2016-07-29T12:00:00\", \"2016-07-29T13:00:00\", \"2016-07-29T14:00:00\", \"2016-07-29T15:00:00\", \"2016-07-29T16:00:00\", \"2016-07-29T17:00:00\", \"2016-07-29T18:00:00\", \"2016-07-29T19:00:00\", \"2016-07-29T20:00:00\", \"2016-07-29T21:00:00\", \"2016-07-29T22:00:00\", \"2016-07-29T23:00:00\", \"2016-07-30T00:00:00\", \"2016-07-30T01:00:00\", \"2016-07-30T02:00:00\", \"2016-07-30T03:00:00\", \"2016-07-30T04:00:00\", \"2016-07-30T05:00:00\", \"2016-07-30T06:00:00\", \"2016-07-30T07:00:00\", \"2016-07-30T08:00:00\", \"2016-07-30T09:00:00\", \"2016-07-30T10:00:00\", \"2016-07-30T11:00:00\", \"2016-07-30T12:00:00\", \"2016-07-30T13:00:00\", \"2016-07-30T14:00:00\", \"2016-07-30T15:00:00\", \"2016-07-30T16:00:00\", \"2016-07-30T17:00:00\", \"2016-07-30T18:00:00\", \"2016-07-30T19:00:00\", \"2016-07-30T20:00:00\", \"2016-07-30T21:00:00\", \"2016-07-30T22:00:00\", \"2016-07-30T23:00:00\", \"2016-07-31T00:00:00\", \"2016-07-31T01:00:00\", \"2016-07-31T02:00:00\", \"2016-07-31T03:00:00\", \"2016-07-31T04:00:00\", \"2016-07-31T05:00:00\", \"2016-07-31T06:00:00\", \"2016-07-31T07:00:00\", \"2016-07-31T08:00:00\", \"2016-07-31T09:00:00\", \"2016-07-31T10:00:00\", \"2016-07-31T11:00:00\", \"2016-07-31T12:00:00\", \"2016-07-31T13:00:00\", \"2016-07-31T14:00:00\", \"2016-07-31T15:00:00\", \"2016-07-31T16:00:00\", \"2016-07-31T17:00:00\", \"2016-07-31T18:00:00\", \"2016-07-31T19:00:00\", \"2016-07-31T20:00:00\", \"2016-07-31T21:00:00\", \"2016-07-31T22:00:00\", \"2016-07-31T23:00:00\", \"2016-08-01T00:00:00\", \"2016-08-01T01:00:00\", \"2016-08-01T02:00:00\", \"2016-08-01T03:00:00\", \"2016-08-01T04:00:00\", \"2016-08-01T05:00:00\", \"2016-08-01T06:00:00\", \"2016-08-01T07:00:00\", \"2016-08-01T08:00:00\", \"2016-08-01T09:00:00\", \"2016-08-01T10:00:00\", \"2016-08-01T11:00:00\", \"2016-08-01T12:00:00\", \"2016-08-01T13:00:00\", \"2016-08-01T14:00:00\", \"2016-08-01T15:00:00\", \"2016-08-01T16:00:00\", \"2016-08-01T17:00:00\", \"2016-08-01T18:00:00\", \"2016-08-01T19:00:00\", \"2016-08-01T20:00:00\", \"2016-08-01T21:00:00\", \"2016-08-01T22:00:00\", \"2016-08-01T23:00:00\", \"2016-08-02T00:00:00\", \"2016-08-02T01:00:00\", \"2016-08-02T02:00:00\", \"2016-08-02T03:00:00\", \"2016-08-02T04:00:00\", \"2016-08-02T05:00:00\", \"2016-08-02T06:00:00\", \"2016-08-02T07:00:00\", \"2016-08-02T08:00:00\", \"2016-08-02T09:00:00\", \"2016-08-02T10:00:00\", \"2016-08-02T11:00:00\", \"2016-08-02T12:00:00\", \"2016-08-02T13:00:00\", \"2016-08-02T14:00:00\", \"2016-08-02T15:00:00\", \"2016-08-02T16:00:00\", \"2016-08-02T17:00:00\", \"2016-08-02T18:00:00\", \"2016-08-02T19:00:00\", \"2016-08-02T20:00:00\", \"2016-08-02T21:00:00\", \"2016-08-02T22:00:00\", \"2016-08-02T23:00:00\", \"2016-08-03T00:00:00\", \"2016-08-03T01:00:00\", \"2016-08-03T02:00:00\", \"2016-08-03T03:00:00\", \"2016-08-03T04:00:00\", \"2016-08-03T05:00:00\", \"2016-08-03T06:00:00\", \"2016-08-03T07:00:00\", \"2016-08-03T08:00:00\", \"2016-08-03T09:00:00\", \"2016-08-03T10:00:00\", \"2016-08-03T11:00:00\", \"2016-08-03T12:00:00\", \"2016-08-03T13:00:00\", \"2016-08-03T14:00:00\", \"2016-08-03T15:00:00\", \"2016-08-03T16:00:00\", \"2016-08-03T17:00:00\", \"2016-08-03T18:00:00\", \"2016-08-03T19:00:00\", \"2016-08-03T20:00:00\", \"2016-08-03T21:00:00\", \"2016-08-03T22:00:00\", \"2016-08-03T23:00:00\", \"2016-08-04T00:00:00\", \"2016-08-04T01:00:00\", \"2016-08-04T02:00:00\", \"2016-08-04T03:00:00\", \"2016-08-04T04:00:00\", \"2016-08-04T05:00:00\", \"2016-08-04T06:00:00\", \"2016-08-04T07:00:00\", \"2016-08-04T08:00:00\", \"2016-08-04T09:00:00\", \"2016-08-04T10:00:00\", \"2016-08-04T11:00:00\", \"2016-08-04T12:00:00\", \"2016-08-04T13:00:00\", \"2016-08-04T14:00:00\", \"2016-08-04T15:00:00\", \"2016-08-04T16:00:00\", \"2016-08-04T17:00:00\", \"2016-08-04T18:00:00\", \"2016-08-04T19:00:00\", \"2016-08-04T20:00:00\", \"2016-08-04T21:00:00\", \"2016-08-04T22:00:00\", \"2016-08-04T23:00:00\", \"2016-08-05T00:00:00\", \"2016-08-05T01:00:00\", \"2016-08-05T02:00:00\", \"2016-08-05T03:00:00\", \"2016-08-05T04:00:00\", \"2016-08-05T05:00:00\", \"2016-08-05T06:00:00\", \"2016-08-05T07:00:00\", \"2016-08-05T08:00:00\", \"2016-08-05T09:00:00\", \"2016-08-05T10:00:00\", \"2016-08-05T11:00:00\", \"2016-08-05T12:00:00\", \"2016-08-05T13:00:00\", \"2016-08-05T14:00:00\", \"2016-08-05T15:00:00\", \"2016-08-05T16:00:00\", \"2016-08-05T17:00:00\", \"2016-08-05T18:00:00\", \"2016-08-05T19:00:00\", \"2016-08-05T20:00:00\", \"2016-08-05T21:00:00\", \"2016-08-05T22:00:00\", \"2016-08-05T23:00:00\", \"2016-08-06T00:00:00\", \"2016-08-06T01:00:00\", \"2016-08-06T02:00:00\", \"2016-08-06T03:00:00\", \"2016-08-06T04:00:00\", \"2016-08-06T05:00:00\", \"2016-08-06T06:00:00\", \"2016-08-06T07:00:00\", \"2016-08-06T08:00:00\", \"2016-08-06T09:00:00\", \"2016-08-06T10:00:00\", \"2016-08-06T11:00:00\", \"2016-08-06T12:00:00\", \"2016-08-06T13:00:00\", \"2016-08-06T14:00:00\", \"2016-08-06T15:00:00\", \"2016-08-06T16:00:00\", \"2016-08-06T17:00:00\", \"2016-08-06T18:00:00\", \"2016-08-06T19:00:00\", \"2016-08-06T20:00:00\", \"2016-08-06T21:00:00\", \"2016-08-06T22:00:00\", \"2016-08-06T23:00:00\", \"2016-08-07T00:00:00\", \"2016-08-07T01:00:00\", \"2016-08-07T02:00:00\", \"2016-08-07T03:00:00\", \"2016-08-07T04:00:00\", \"2016-08-07T05:00:00\", \"2016-08-07T06:00:00\", \"2016-08-07T07:00:00\", \"2016-08-07T08:00:00\", \"2016-08-07T09:00:00\", \"2016-08-07T10:00:00\", \"2016-08-07T11:00:00\", \"2016-08-07T12:00:00\", \"2016-08-07T13:00:00\", \"2016-08-07T14:00:00\", \"2016-08-07T15:00:00\", \"2016-08-07T16:00:00\", \"2016-08-07T17:00:00\", \"2016-08-07T18:00:00\", \"2016-08-07T19:00:00\", \"2016-08-07T20:00:00\", \"2016-08-07T21:00:00\", \"2016-08-07T22:00:00\", \"2016-08-07T23:00:00\", \"2016-08-08T00:00:00\", \"2016-08-08T01:00:00\", \"2016-08-08T02:00:00\", \"2016-08-08T03:00:00\", \"2016-08-08T04:00:00\", \"2016-08-08T05:00:00\", \"2016-08-08T06:00:00\", \"2016-08-08T07:00:00\", \"2016-08-08T08:00:00\", \"2016-08-08T09:00:00\", \"2016-08-08T10:00:00\", \"2016-08-08T11:00:00\", \"2016-08-08T12:00:00\", \"2016-08-08T13:00:00\", \"2016-08-08T14:00:00\", \"2016-08-08T15:00:00\", \"2016-08-08T16:00:00\", \"2016-08-08T17:00:00\", \"2016-08-08T18:00:00\", \"2016-08-08T19:00:00\", \"2016-08-08T20:00:00\", \"2016-08-08T21:00:00\", \"2016-08-08T22:00:00\", \"2016-08-08T23:00:00\", \"2016-08-09T00:00:00\", \"2016-08-09T01:00:00\", \"2016-08-09T02:00:00\", \"2016-08-09T03:00:00\", \"2016-08-09T04:00:00\", \"2016-08-09T05:00:00\", \"2016-08-09T06:00:00\", \"2016-08-09T07:00:00\", \"2016-08-09T08:00:00\", \"2016-08-09T09:00:00\", \"2016-08-09T10:00:00\", \"2016-08-09T11:00:00\", \"2016-08-09T12:00:00\", \"2016-08-09T13:00:00\", \"2016-08-09T14:00:00\", \"2016-08-09T15:00:00\", \"2016-08-09T16:00:00\", \"2016-08-09T17:00:00\", \"2016-08-09T18:00:00\", \"2016-08-09T19:00:00\", \"2016-08-09T20:00:00\", \"2016-08-09T21:00:00\", \"2016-08-09T22:00:00\", \"2016-08-09T23:00:00\", \"2016-08-10T00:00:00\", \"2016-08-10T01:00:00\", \"2016-08-10T02:00:00\", \"2016-08-10T03:00:00\", \"2016-08-10T04:00:00\", \"2016-08-10T05:00:00\", \"2016-08-10T06:00:00\", \"2016-08-10T07:00:00\", \"2016-08-10T08:00:00\", \"2016-08-10T09:00:00\", \"2016-08-10T10:00:00\", \"2016-08-10T11:00:00\", \"2016-08-10T12:00:00\", \"2016-08-10T13:00:00\", \"2016-08-10T14:00:00\", \"2016-08-10T15:00:00\", \"2016-08-10T16:00:00\", \"2016-08-10T17:00:00\", \"2016-08-10T18:00:00\", \"2016-08-10T19:00:00\", \"2016-08-10T20:00:00\", \"2016-08-10T21:00:00\", \"2016-08-10T22:00:00\", \"2016-08-10T23:00:00\", \"2016-08-11T00:00:00\", \"2016-08-11T01:00:00\", \"2016-08-11T02:00:00\", \"2016-08-11T03:00:00\", \"2016-08-11T04:00:00\", \"2016-08-11T05:00:00\", \"2016-08-11T06:00:00\", \"2016-08-11T07:00:00\", \"2016-08-11T08:00:00\", \"2016-08-11T09:00:00\", \"2016-08-11T10:00:00\", \"2016-08-11T11:00:00\", \"2016-08-11T12:00:00\", \"2016-08-11T13:00:00\", \"2016-08-11T14:00:00\", \"2016-08-11T15:00:00\", \"2016-08-11T16:00:00\", \"2016-08-11T17:00:00\", \"2016-08-11T18:00:00\", \"2016-08-11T19:00:00\", \"2016-08-11T20:00:00\", \"2016-08-11T21:00:00\", \"2016-08-11T22:00:00\", \"2016-08-11T23:00:00\", \"2016-08-12T00:00:00\", \"2016-08-12T01:00:00\", \"2016-08-12T02:00:00\", \"2016-08-12T03:00:00\", \"2016-08-12T04:00:00\", \"2016-08-12T05:00:00\", \"2016-08-12T06:00:00\", \"2016-08-12T07:00:00\", \"2016-08-12T08:00:00\", \"2016-08-12T09:00:00\", \"2016-08-12T10:00:00\", \"2016-08-12T11:00:00\", \"2016-08-12T12:00:00\", \"2016-08-12T13:00:00\", \"2016-08-12T14:00:00\", \"2016-08-12T15:00:00\", \"2016-08-12T16:00:00\", \"2016-08-12T17:00:00\", \"2016-08-12T18:00:00\", \"2016-08-12T19:00:00\", \"2016-08-12T20:00:00\", \"2016-08-12T21:00:00\", \"2016-08-12T22:00:00\", \"2016-08-12T23:00:00\", \"2016-08-13T00:00:00\", \"2016-08-13T01:00:00\", \"2016-08-13T02:00:00\", \"2016-08-13T03:00:00\", \"2016-08-13T04:00:00\", \"2016-08-13T05:00:00\", \"2016-08-13T06:00:00\", \"2016-08-13T07:00:00\", \"2016-08-13T08:00:00\", \"2016-08-13T09:00:00\", \"2016-08-13T10:00:00\", \"2016-08-13T11:00:00\", \"2016-08-13T12:00:00\", \"2016-08-13T13:00:00\", \"2016-08-13T14:00:00\", \"2016-08-13T15:00:00\", \"2016-08-13T16:00:00\", \"2016-08-13T17:00:00\", \"2016-08-13T18:00:00\", \"2016-08-13T19:00:00\", \"2016-08-13T20:00:00\", \"2016-08-13T21:00:00\", \"2016-08-13T22:00:00\", \"2016-08-13T23:00:00\", \"2016-08-14T00:00:00\", \"2016-08-14T01:00:00\", \"2016-08-14T02:00:00\", \"2016-08-14T03:00:00\", \"2016-08-14T04:00:00\", \"2016-08-14T05:00:00\", \"2016-08-14T06:00:00\", \"2016-08-14T07:00:00\", \"2016-08-14T08:00:00\", \"2016-08-14T09:00:00\", \"2016-08-14T10:00:00\", \"2016-08-14T11:00:00\", \"2016-08-14T12:00:00\", \"2016-08-14T13:00:00\", \"2016-08-14T14:00:00\", \"2016-08-14T15:00:00\", \"2016-08-14T16:00:00\", \"2016-08-14T17:00:00\", \"2016-08-14T18:00:00\", \"2016-08-14T19:00:00\", \"2016-08-14T20:00:00\", \"2016-08-14T21:00:00\", \"2016-08-14T22:00:00\", \"2016-08-14T23:00:00\", \"2016-08-15T00:00:00\", \"2016-08-15T01:00:00\", \"2016-08-15T02:00:00\", \"2016-08-15T03:00:00\", \"2016-08-15T04:00:00\", \"2016-08-15T05:00:00\", \"2016-08-15T06:00:00\", \"2016-08-15T07:00:00\", \"2016-08-15T08:00:00\", \"2016-08-15T09:00:00\", \"2016-08-15T10:00:00\", \"2016-08-15T11:00:00\", \"2016-08-15T12:00:00\", \"2016-08-15T13:00:00\", \"2016-08-15T14:00:00\", \"2016-08-15T15:00:00\", \"2016-08-15T16:00:00\", \"2016-08-15T17:00:00\", \"2016-08-15T18:00:00\", \"2016-08-15T19:00:00\", \"2016-08-15T20:00:00\", \"2016-08-15T21:00:00\", \"2016-08-15T22:00:00\", \"2016-08-15T23:00:00\", \"2016-08-16T00:00:00\", \"2016-08-16T01:00:00\", \"2016-08-16T02:00:00\", \"2016-08-16T03:00:00\", \"2016-08-16T04:00:00\", \"2016-08-16T05:00:00\", \"2016-08-16T06:00:00\", \"2016-08-16T07:00:00\", \"2016-08-16T08:00:00\", \"2016-08-16T09:00:00\", \"2016-08-16T10:00:00\", \"2016-08-16T11:00:00\", \"2016-08-16T12:00:00\", \"2016-08-16T13:00:00\", \"2016-08-16T14:00:00\", \"2016-08-16T15:00:00\", \"2016-08-16T16:00:00\", \"2016-08-16T17:00:00\", \"2016-08-16T18:00:00\", \"2016-08-16T19:00:00\", \"2016-08-16T20:00:00\", \"2016-08-16T21:00:00\", \"2016-08-16T22:00:00\", \"2016-08-16T23:00:00\", \"2016-08-17T00:00:00\", \"2016-08-17T01:00:00\", \"2016-08-17T02:00:00\", \"2016-08-17T03:00:00\", \"2016-08-17T04:00:00\", \"2016-08-17T05:00:00\", \"2016-08-17T06:00:00\", \"2016-08-17T07:00:00\", \"2016-08-17T08:00:00\", \"2016-08-17T09:00:00\", \"2016-08-17T10:00:00\", \"2016-08-17T11:00:00\", \"2016-08-17T12:00:00\", \"2016-08-17T13:00:00\", \"2016-08-17T14:00:00\", \"2016-08-17T15:00:00\", \"2016-08-17T16:00:00\", \"2016-08-17T17:00:00\", \"2016-08-17T18:00:00\", \"2016-08-17T19:00:00\", \"2016-08-17T20:00:00\", \"2016-08-17T21:00:00\", \"2016-08-17T22:00:00\", \"2016-08-17T23:00:00\", \"2016-08-18T00:00:00\", \"2016-08-18T01:00:00\", \"2016-08-18T02:00:00\", \"2016-08-18T03:00:00\", \"2016-08-18T04:00:00\", \"2016-08-18T05:00:00\", \"2016-08-18T06:00:00\", \"2016-08-18T07:00:00\", \"2016-08-18T08:00:00\", \"2016-08-18T09:00:00\", \"2016-08-18T10:00:00\", \"2016-08-18T11:00:00\", \"2016-08-18T12:00:00\", \"2016-08-18T13:00:00\", \"2016-08-18T14:00:00\", \"2016-08-18T15:00:00\", \"2016-08-18T16:00:00\", \"2016-08-18T17:00:00\", \"2016-08-18T18:00:00\", \"2016-08-18T19:00:00\", \"2016-08-18T20:00:00\", \"2016-08-18T21:00:00\", \"2016-08-18T22:00:00\", \"2016-08-18T23:00:00\", \"2016-08-19T00:00:00\", \"2016-08-19T01:00:00\", \"2016-08-19T02:00:00\", \"2016-08-19T03:00:00\", \"2016-08-19T04:00:00\", \"2016-08-19T05:00:00\", \"2016-08-19T06:00:00\", \"2016-08-19T07:00:00\", \"2016-08-19T08:00:00\", \"2016-08-19T09:00:00\", \"2016-08-19T10:00:00\", \"2016-08-19T11:00:00\", \"2016-08-19T12:00:00\", \"2016-08-19T13:00:00\", \"2016-08-19T14:00:00\", \"2016-08-19T15:00:00\", \"2016-08-19T16:00:00\", \"2016-08-19T17:00:00\", \"2016-08-19T18:00:00\", \"2016-08-19T19:00:00\", \"2016-08-19T20:00:00\", \"2016-08-19T21:00:00\", \"2016-08-19T22:00:00\", \"2016-08-19T23:00:00\", \"2016-08-20T00:00:00\", \"2016-08-20T01:00:00\", \"2016-08-20T02:00:00\", \"2016-08-20T03:00:00\", \"2016-08-20T04:00:00\", \"2016-08-20T05:00:00\", \"2016-08-20T06:00:00\", \"2016-08-20T07:00:00\", \"2016-08-20T08:00:00\", \"2016-08-20T09:00:00\", \"2016-08-20T10:00:00\", \"2016-08-20T11:00:00\", \"2016-08-20T12:00:00\", \"2016-08-20T13:00:00\", \"2016-08-20T14:00:00\", \"2016-08-20T15:00:00\", \"2016-08-20T16:00:00\", \"2016-08-20T17:00:00\", \"2016-08-20T18:00:00\", \"2016-08-20T19:00:00\", \"2016-08-20T20:00:00\", \"2016-08-20T21:00:00\", \"2016-08-20T22:00:00\", \"2016-08-20T23:00:00\", \"2016-08-21T00:00:00\", \"2016-08-21T01:00:00\", \"2016-08-21T02:00:00\", \"2016-08-21T03:00:00\", \"2016-08-21T04:00:00\", \"2016-08-21T05:00:00\", \"2016-08-21T06:00:00\", \"2016-08-21T07:00:00\", \"2016-08-21T08:00:00\", \"2016-08-21T09:00:00\", \"2016-08-21T10:00:00\", \"2016-08-21T11:00:00\", \"2016-08-21T12:00:00\", \"2016-08-21T13:00:00\", \"2016-08-21T14:00:00\", \"2016-08-21T15:00:00\", \"2016-08-21T16:00:00\", \"2016-08-21T17:00:00\", \"2016-08-21T18:00:00\", \"2016-08-21T19:00:00\", \"2016-08-21T20:00:00\", \"2016-08-21T21:00:00\", \"2016-08-21T22:00:00\", \"2016-08-21T23:00:00\", \"2016-08-22T00:00:00\", \"2016-08-22T01:00:00\", \"2016-08-22T02:00:00\", \"2016-08-22T03:00:00\", \"2016-08-22T04:00:00\", \"2016-08-22T05:00:00\", \"2016-08-22T06:00:00\", \"2016-08-22T07:00:00\", \"2016-08-22T08:00:00\", \"2016-08-22T09:00:00\", \"2016-08-22T10:00:00\", \"2016-08-22T11:00:00\", \"2016-08-22T12:00:00\", \"2016-08-22T13:00:00\", \"2016-08-22T14:00:00\", \"2016-08-22T15:00:00\", \"2016-08-22T16:00:00\", \"2016-08-22T17:00:00\", \"2016-08-22T18:00:00\", \"2016-08-22T19:00:00\", \"2016-08-22T20:00:00\", \"2016-08-22T21:00:00\", \"2016-08-22T22:00:00\", \"2016-08-22T23:00:00\", \"2016-08-23T00:00:00\", \"2016-08-23T01:00:00\", \"2016-08-23T02:00:00\", \"2016-08-23T03:00:00\", \"2016-08-23T04:00:00\", \"2016-08-23T05:00:00\", \"2016-08-23T06:00:00\", \"2016-08-23T07:00:00\", \"2016-08-23T08:00:00\", \"2016-08-23T09:00:00\", \"2016-08-23T10:00:00\", \"2016-08-23T11:00:00\", \"2016-08-23T12:00:00\", \"2016-08-23T13:00:00\", \"2016-08-23T14:00:00\", \"2016-08-23T15:00:00\", \"2016-08-23T16:00:00\", \"2016-08-23T17:00:00\", \"2016-08-23T18:00:00\", \"2016-08-23T19:00:00\", \"2016-08-23T20:00:00\", \"2016-08-23T21:00:00\", \"2016-08-23T22:00:00\", \"2016-08-23T23:00:00\", \"2016-08-24T00:00:00\", \"2016-08-24T01:00:00\", \"2016-08-24T02:00:00\", \"2016-08-24T03:00:00\", \"2016-08-24T04:00:00\", \"2016-08-24T05:00:00\", \"2016-08-24T06:00:00\", \"2016-08-24T07:00:00\", \"2016-08-24T08:00:00\", \"2016-08-24T09:00:00\", \"2016-08-24T10:00:00\", \"2016-08-24T11:00:00\", \"2016-08-24T12:00:00\", \"2016-08-24T13:00:00\", \"2016-08-24T14:00:00\", \"2016-08-24T15:00:00\", \"2016-08-24T16:00:00\", \"2016-08-24T17:00:00\", \"2016-08-24T18:00:00\", \"2016-08-24T19:00:00\", \"2016-08-24T20:00:00\", \"2016-08-24T21:00:00\", \"2016-08-24T22:00:00\", \"2016-08-24T23:00:00\", \"2016-08-25T00:00:00\", \"2016-08-25T01:00:00\", \"2016-08-25T02:00:00\", \"2016-08-25T03:00:00\", \"2016-08-25T04:00:00\", \"2016-08-25T05:00:00\", \"2016-08-25T06:00:00\", \"2016-08-25T07:00:00\", \"2016-08-25T08:00:00\", \"2016-08-25T09:00:00\", \"2016-08-25T10:00:00\", \"2016-08-25T11:00:00\", \"2016-08-25T12:00:00\", \"2016-08-25T13:00:00\", \"2016-08-25T14:00:00\", \"2016-08-25T15:00:00\", \"2016-08-25T16:00:00\", \"2016-08-25T17:00:00\", \"2016-08-25T18:00:00\", \"2016-08-25T19:00:00\", \"2016-08-25T20:00:00\", \"2016-08-25T21:00:00\", \"2016-08-25T22:00:00\", \"2016-08-25T23:00:00\", \"2016-08-26T00:00:00\", \"2016-08-26T01:00:00\", \"2016-08-26T02:00:00\", \"2016-08-26T03:00:00\", \"2016-08-26T04:00:00\", \"2016-08-26T05:00:00\", \"2016-08-26T06:00:00\", \"2016-08-26T07:00:00\", \"2016-08-26T08:00:00\", \"2016-08-26T09:00:00\", \"2016-08-26T10:00:00\", \"2016-08-26T11:00:00\", \"2016-08-26T12:00:00\", \"2016-08-26T13:00:00\", \"2016-08-26T14:00:00\", \"2016-08-26T15:00:00\", \"2016-08-26T16:00:00\", \"2016-08-26T17:00:00\", \"2016-08-26T18:00:00\", \"2016-08-26T19:00:00\", \"2016-08-26T20:00:00\", \"2016-08-26T21:00:00\", \"2016-08-26T22:00:00\", \"2016-08-26T23:00:00\", \"2016-08-27T00:00:00\", \"2016-08-27T01:00:00\", \"2016-08-27T02:00:00\", \"2016-08-27T03:00:00\", \"2016-08-27T04:00:00\", \"2016-08-27T05:00:00\", \"2016-08-27T06:00:00\", \"2016-08-27T07:00:00\", \"2016-08-27T08:00:00\", \"2016-08-27T09:00:00\", \"2016-08-27T10:00:00\", \"2016-08-27T11:00:00\", \"2016-08-27T12:00:00\", \"2016-08-27T13:00:00\", \"2016-08-27T14:00:00\", \"2016-08-27T15:00:00\", \"2016-08-27T16:00:00\", \"2016-08-27T17:00:00\", \"2016-08-27T18:00:00\", \"2016-08-27T19:00:00\", \"2016-08-27T20:00:00\", \"2016-08-27T21:00:00\", \"2016-08-27T22:00:00\", \"2016-08-27T23:00:00\", \"2016-08-28T00:00:00\", \"2016-08-28T01:00:00\", \"2016-08-28T02:00:00\", \"2016-08-28T03:00:00\", \"2016-08-28T04:00:00\", \"2016-08-28T05:00:00\", \"2016-08-28T06:00:00\", \"2016-08-28T07:00:00\", \"2016-08-28T08:00:00\", \"2016-08-28T09:00:00\", \"2016-08-28T10:00:00\", \"2016-08-28T11:00:00\", \"2016-08-28T12:00:00\", \"2016-08-28T13:00:00\", \"2016-08-28T14:00:00\", \"2016-08-28T15:00:00\", \"2016-08-28T16:00:00\", \"2016-08-28T17:00:00\", \"2016-08-28T18:00:00\", \"2016-08-28T19:00:00\", \"2016-08-28T20:00:00\", \"2016-08-28T21:00:00\", \"2016-08-28T22:00:00\", \"2016-08-28T23:00:00\", \"2016-08-29T00:00:00\", \"2016-08-29T01:00:00\", \"2016-08-29T02:00:00\", \"2016-08-29T03:00:00\", \"2016-08-29T04:00:00\", \"2016-08-29T05:00:00\", \"2016-08-29T06:00:00\", \"2016-08-29T07:00:00\", \"2016-08-29T08:00:00\", \"2016-08-29T09:00:00\", \"2016-08-29T10:00:00\", \"2016-08-29T11:00:00\", \"2016-08-29T12:00:00\", \"2016-08-29T13:00:00\", \"2016-08-29T14:00:00\", \"2016-08-29T15:00:00\", \"2016-08-29T16:00:00\", \"2016-08-29T17:00:00\", \"2016-08-29T18:00:00\", \"2016-08-29T19:00:00\", \"2016-08-29T20:00:00\", \"2016-08-29T21:00:00\", \"2016-08-29T22:00:00\", \"2016-08-29T23:00:00\", \"2016-08-30T00:00:00\", \"2016-08-30T01:00:00\", \"2016-08-30T02:00:00\", \"2016-08-30T03:00:00\", \"2016-08-30T04:00:00\", \"2016-08-30T05:00:00\", \"2016-08-30T06:00:00\", \"2016-08-30T07:00:00\", \"2016-08-30T08:00:00\", \"2016-08-30T09:00:00\", \"2016-08-30T10:00:00\", \"2016-08-30T11:00:00\", \"2016-08-30T12:00:00\", \"2016-08-30T13:00:00\", \"2016-08-30T14:00:00\", \"2016-08-30T15:00:00\", \"2016-08-30T16:00:00\", \"2016-08-30T17:00:00\", \"2016-08-30T18:00:00\", \"2016-08-30T19:00:00\", \"2016-08-30T20:00:00\", \"2016-08-30T21:00:00\", \"2016-08-30T22:00:00\", \"2016-08-30T23:00:00\", \"2016-08-31T00:00:00\", \"2016-08-31T01:00:00\", \"2016-08-31T02:00:00\", \"2016-08-31T03:00:00\", \"2016-08-31T04:00:00\", \"2016-08-31T05:00:00\", \"2016-08-31T06:00:00\", \"2016-08-31T07:00:00\", \"2016-08-31T08:00:00\", \"2016-08-31T09:00:00\", \"2016-08-31T10:00:00\", \"2016-08-31T11:00:00\", \"2016-08-31T12:00:00\", \"2016-08-31T13:00:00\", \"2016-08-31T14:00:00\", \"2016-08-31T15:00:00\", \"2016-08-31T16:00:00\", \"2016-08-31T17:00:00\", \"2016-08-31T18:00:00\", \"2016-08-31T19:00:00\", \"2016-08-31T20:00:00\", \"2016-08-31T21:00:00\", \"2016-08-31T22:00:00\", \"2016-08-31T23:00:00\", \"2016-09-01T00:00:00\", \"2016-09-01T01:00:00\", \"2016-09-01T02:00:00\", \"2016-09-01T03:00:00\", \"2016-09-01T04:00:00\", \"2016-09-01T05:00:00\", \"2016-09-01T06:00:00\", \"2016-09-01T07:00:00\", \"2016-09-01T08:00:00\", \"2016-09-01T09:00:00\", \"2016-09-01T10:00:00\", \"2016-09-01T11:00:00\", \"2016-09-01T12:00:00\", \"2016-09-01T13:00:00\", \"2016-09-01T14:00:00\", \"2016-09-01T15:00:00\", \"2016-09-01T16:00:00\", \"2016-09-01T17:00:00\", \"2016-09-01T18:00:00\", \"2016-09-01T19:00:00\", \"2016-09-01T20:00:00\", \"2016-09-01T21:00:00\", \"2016-09-01T22:00:00\", \"2016-09-01T23:00:00\", \"2016-09-02T00:00:00\", \"2016-09-02T01:00:00\", \"2016-09-02T02:00:00\", \"2016-09-02T03:00:00\", \"2016-09-02T04:00:00\", \"2016-09-02T05:00:00\", \"2016-09-02T06:00:00\", \"2016-09-02T07:00:00\", \"2016-09-02T08:00:00\", \"2016-09-02T09:00:00\", \"2016-09-02T10:00:00\", \"2016-09-02T11:00:00\", \"2016-09-02T12:00:00\", \"2016-09-02T13:00:00\", \"2016-09-02T14:00:00\", \"2016-09-02T15:00:00\", \"2016-09-02T16:00:00\", \"2016-09-02T17:00:00\", \"2016-09-02T18:00:00\", \"2016-09-02T19:00:00\", \"2016-09-02T20:00:00\", \"2016-09-02T21:00:00\", \"2016-09-02T22:00:00\", \"2016-09-02T23:00:00\", \"2016-09-03T00:00:00\", \"2016-09-03T01:00:00\", \"2016-09-03T02:00:00\", \"2016-09-03T03:00:00\", \"2016-09-03T04:00:00\", \"2016-09-03T05:00:00\", \"2016-09-03T06:00:00\", \"2016-09-03T07:00:00\", \"2016-09-03T08:00:00\", \"2016-09-03T09:00:00\", \"2016-09-03T10:00:00\", \"2016-09-03T11:00:00\", \"2016-09-03T12:00:00\", \"2016-09-03T13:00:00\", \"2016-09-03T14:00:00\", \"2016-09-03T15:00:00\", \"2016-09-03T16:00:00\", \"2016-09-03T17:00:00\", \"2016-09-03T18:00:00\", \"2016-09-03T19:00:00\", \"2016-09-03T20:00:00\", \"2016-09-03T21:00:00\", \"2016-09-03T22:00:00\", \"2016-09-03T23:00:00\", \"2016-09-04T00:00:00\", \"2016-09-04T01:00:00\", \"2016-09-04T02:00:00\", \"2016-09-04T03:00:00\", \"2016-09-04T04:00:00\", \"2016-09-04T05:00:00\", \"2016-09-04T06:00:00\", \"2016-09-04T07:00:00\", \"2016-09-04T08:00:00\", \"2016-09-04T09:00:00\", \"2016-09-04T10:00:00\", \"2016-09-04T11:00:00\", \"2016-09-04T12:00:00\", \"2016-09-04T13:00:00\", \"2016-09-04T14:00:00\", \"2016-09-04T15:00:00\", \"2016-09-04T16:00:00\", \"2016-09-04T17:00:00\", \"2016-09-04T18:00:00\", \"2016-09-04T19:00:00\", \"2016-09-04T20:00:00\", \"2016-09-04T21:00:00\", \"2016-09-04T22:00:00\", \"2016-09-04T23:00:00\", \"2016-09-05T00:00:00\", \"2016-09-05T01:00:00\", \"2016-09-05T02:00:00\", \"2016-09-05T03:00:00\", \"2016-09-05T04:00:00\", \"2016-09-05T05:00:00\", \"2016-09-05T06:00:00\", \"2016-09-05T07:00:00\", \"2016-09-05T08:00:00\", \"2016-09-05T09:00:00\", \"2016-09-05T10:00:00\", \"2016-09-05T11:00:00\", \"2016-09-05T12:00:00\", \"2016-09-05T13:00:00\", \"2016-09-05T14:00:00\", \"2016-09-05T15:00:00\", \"2016-09-05T16:00:00\", \"2016-09-05T17:00:00\", \"2016-09-05T18:00:00\", \"2016-09-05T19:00:00\", \"2016-09-05T20:00:00\", \"2016-09-05T21:00:00\", \"2016-09-05T22:00:00\", \"2016-09-05T23:00:00\", \"2016-09-06T00:00:00\", \"2016-09-06T01:00:00\", \"2016-09-06T02:00:00\", \"2016-09-06T03:00:00\", \"2016-09-06T04:00:00\", \"2016-09-06T05:00:00\", \"2016-09-06T06:00:00\", \"2016-09-06T07:00:00\", \"2016-09-06T08:00:00\", \"2016-09-06T09:00:00\", \"2016-09-06T10:00:00\", \"2016-09-06T11:00:00\", \"2016-09-06T12:00:00\", \"2016-09-06T13:00:00\", \"2016-09-06T14:00:00\", \"2016-09-06T15:00:00\", \"2016-09-06T16:00:00\", \"2016-09-06T17:00:00\", \"2016-09-06T18:00:00\", \"2016-09-06T19:00:00\", \"2016-09-06T20:00:00\", \"2016-09-06T21:00:00\", \"2016-09-06T22:00:00\", \"2016-09-06T23:00:00\", \"2016-09-07T00:00:00\", \"2016-09-07T01:00:00\", \"2016-09-07T02:00:00\", \"2016-09-07T03:00:00\", \"2016-09-07T04:00:00\", \"2016-09-07T05:00:00\", \"2016-09-07T06:00:00\", \"2016-09-07T07:00:00\", \"2016-09-07T08:00:00\", \"2016-09-07T09:00:00\", \"2016-09-07T10:00:00\", \"2016-09-07T11:00:00\", \"2016-09-07T12:00:00\", \"2016-09-07T13:00:00\", \"2016-09-07T14:00:00\", \"2016-09-07T15:00:00\", \"2016-09-07T16:00:00\", \"2016-09-07T17:00:00\", \"2016-09-07T18:00:00\", \"2016-09-07T19:00:00\", \"2016-09-07T20:00:00\", \"2016-09-07T21:00:00\", \"2016-09-07T22:00:00\", \"2016-09-07T23:00:00\", \"2016-09-08T00:00:00\", \"2016-09-08T01:00:00\", \"2016-09-08T02:00:00\", \"2016-09-08T03:00:00\", \"2016-09-08T04:00:00\", \"2016-09-08T05:00:00\", \"2016-09-08T06:00:00\", \"2016-09-08T07:00:00\", \"2016-09-08T08:00:00\", \"2016-09-08T09:00:00\", \"2016-09-08T10:00:00\", \"2016-09-08T11:00:00\", \"2016-09-08T12:00:00\", \"2016-09-08T13:00:00\", \"2016-09-08T14:00:00\", \"2016-09-08T15:00:00\", \"2016-09-08T16:00:00\", \"2016-09-08T17:00:00\", \"2016-09-08T18:00:00\", \"2016-09-08T19:00:00\", \"2016-09-08T20:00:00\", \"2016-09-08T21:00:00\", \"2016-09-08T22:00:00\", \"2016-09-08T23:00:00\", \"2016-09-09T00:00:00\", \"2016-09-09T01:00:00\", \"2016-09-09T02:00:00\", \"2016-09-09T03:00:00\", \"2016-09-09T04:00:00\", \"2016-09-09T05:00:00\", \"2016-09-09T06:00:00\", \"2016-09-09T07:00:00\", \"2016-09-09T08:00:00\", \"2016-09-09T09:00:00\", \"2016-09-09T10:00:00\", \"2016-09-09T11:00:00\", \"2016-09-09T12:00:00\", \"2016-09-09T13:00:00\", \"2016-09-09T14:00:00\", \"2016-09-09T15:00:00\", \"2016-09-09T16:00:00\", \"2016-09-09T17:00:00\", \"2016-09-09T18:00:00\", \"2016-09-09T19:00:00\", \"2016-09-09T20:00:00\", \"2016-09-09T21:00:00\", \"2016-09-09T22:00:00\", \"2016-09-09T23:00:00\", \"2016-09-10T00:00:00\", \"2016-09-10T01:00:00\", \"2016-09-10T02:00:00\", \"2016-09-10T03:00:00\", \"2016-09-10T04:00:00\", \"2016-09-10T05:00:00\", \"2016-09-10T06:00:00\", \"2016-09-10T07:00:00\", \"2016-09-10T08:00:00\", \"2016-09-10T09:00:00\", \"2016-09-10T10:00:00\", \"2016-09-10T11:00:00\", \"2016-09-10T12:00:00\", \"2016-09-10T13:00:00\", \"2016-09-10T14:00:00\", \"2016-09-10T15:00:00\", \"2016-09-10T16:00:00\", \"2016-09-10T17:00:00\", \"2016-09-10T18:00:00\", \"2016-09-10T19:00:00\", \"2016-09-10T20:00:00\", \"2016-09-10T21:00:00\", \"2016-09-10T22:00:00\", \"2016-09-10T23:00:00\", \"2016-09-11T00:00:00\", \"2016-09-11T01:00:00\", \"2016-09-11T02:00:00\", \"2016-09-11T03:00:00\", \"2016-09-11T04:00:00\", \"2016-09-11T05:00:00\", \"2016-09-11T06:00:00\", \"2016-09-11T07:00:00\", \"2016-09-11T08:00:00\", \"2016-09-11T09:00:00\", \"2016-09-11T10:00:00\", \"2016-09-11T11:00:00\", \"2016-09-11T12:00:00\", \"2016-09-11T13:00:00\", \"2016-09-11T14:00:00\", \"2016-09-11T15:00:00\", \"2016-09-11T16:00:00\", \"2016-09-11T17:00:00\", \"2016-09-11T18:00:00\", \"2016-09-11T19:00:00\", \"2016-09-11T20:00:00\", \"2016-09-11T21:00:00\", \"2016-09-11T22:00:00\", \"2016-09-11T23:00:00\", \"2016-09-12T00:00:00\", \"2016-09-12T01:00:00\", \"2016-09-12T02:00:00\", \"2016-09-12T03:00:00\", \"2016-09-12T04:00:00\", \"2016-09-12T05:00:00\", \"2016-09-12T06:00:00\", \"2016-09-12T07:00:00\", \"2016-09-12T08:00:00\", \"2016-09-12T09:00:00\", \"2016-09-12T10:00:00\", \"2016-09-12T11:00:00\", \"2016-09-12T12:00:00\", \"2016-09-12T13:00:00\", \"2016-09-12T14:00:00\", \"2016-09-12T15:00:00\", \"2016-09-12T16:00:00\", \"2016-09-12T17:00:00\", \"2016-09-12T18:00:00\", \"2016-09-12T19:00:00\", \"2016-09-12T20:00:00\", \"2016-09-12T21:00:00\", \"2016-09-12T22:00:00\", \"2016-09-12T23:00:00\", \"2016-09-13T00:00:00\", \"2016-09-13T01:00:00\", \"2016-09-13T02:00:00\", \"2016-09-13T03:00:00\", \"2016-09-13T04:00:00\", \"2016-09-13T05:00:00\", \"2016-09-13T06:00:00\", \"2016-09-13T07:00:00\", \"2016-09-13T08:00:00\", \"2016-09-13T09:00:00\", \"2016-09-13T10:00:00\", \"2016-09-13T11:00:00\", \"2016-09-13T12:00:00\", \"2016-09-13T13:00:00\", \"2016-09-13T14:00:00\", \"2016-09-13T15:00:00\", \"2016-09-13T16:00:00\", \"2016-09-13T17:00:00\", \"2016-09-13T18:00:00\", \"2016-09-13T19:00:00\", \"2016-09-13T20:00:00\", \"2016-09-13T21:00:00\", \"2016-09-13T22:00:00\", \"2016-09-13T23:00:00\", \"2016-09-14T00:00:00\", \"2016-09-14T01:00:00\", \"2016-09-14T02:00:00\", \"2016-09-14T03:00:00\", \"2016-09-14T04:00:00\", \"2016-09-14T05:00:00\", \"2016-09-14T06:00:00\", \"2016-09-14T07:00:00\", \"2016-09-14T08:00:00\", \"2016-09-14T09:00:00\", \"2016-09-14T10:00:00\", \"2016-09-14T11:00:00\", \"2016-09-14T12:00:00\", \"2016-09-14T13:00:00\", \"2016-09-14T14:00:00\", \"2016-09-14T15:00:00\", \"2016-09-14T16:00:00\", \"2016-09-14T17:00:00\", \"2016-09-14T18:00:00\", \"2016-09-14T19:00:00\", \"2016-09-14T20:00:00\", \"2016-09-14T21:00:00\", \"2016-09-14T22:00:00\", \"2016-09-14T23:00:00\", \"2016-09-15T00:00:00\", \"2016-09-15T01:00:00\", \"2016-09-15T02:00:00\", \"2016-09-15T03:00:00\", \"2016-09-15T04:00:00\", \"2016-09-15T05:00:00\", \"2016-09-15T06:00:00\", \"2016-09-15T07:00:00\", \"2016-09-15T08:00:00\", \"2016-09-15T09:00:00\", \"2016-09-15T10:00:00\", \"2016-09-15T11:00:00\", \"2016-09-15T12:00:00\", \"2016-09-15T13:00:00\", \"2016-09-15T14:00:00\", \"2016-09-15T15:00:00\", \"2016-09-15T16:00:00\", \"2016-09-15T17:00:00\", \"2016-09-15T18:00:00\", \"2016-09-15T19:00:00\", \"2016-09-15T20:00:00\", \"2016-09-15T21:00:00\", \"2016-09-15T22:00:00\", \"2016-09-15T23:00:00\", \"2016-09-16T00:00:00\", \"2016-09-16T01:00:00\", \"2016-09-16T02:00:00\", \"2016-09-16T03:00:00\", \"2016-09-16T04:00:00\", \"2016-09-16T05:00:00\", \"2016-09-16T06:00:00\", \"2016-09-16T07:00:00\", \"2016-09-16T08:00:00\", \"2016-09-16T09:00:00\", \"2016-09-16T10:00:00\", \"2016-09-16T11:00:00\", \"2016-09-16T12:00:00\", \"2016-09-16T13:00:00\", \"2016-09-16T14:00:00\", \"2016-09-16T15:00:00\", \"2016-09-16T16:00:00\", \"2016-09-16T17:00:00\", \"2016-09-16T18:00:00\", \"2016-09-16T19:00:00\", \"2016-09-16T20:00:00\", \"2016-09-16T21:00:00\", \"2016-09-16T22:00:00\", \"2016-09-16T23:00:00\", \"2016-09-17T00:00:00\", \"2016-09-17T01:00:00\", \"2016-09-17T02:00:00\", \"2016-09-17T03:00:00\", \"2016-09-17T04:00:00\", \"2016-09-17T05:00:00\", \"2016-09-17T06:00:00\", \"2016-09-17T07:00:00\", \"2016-09-17T08:00:00\", \"2016-09-17T09:00:00\", \"2016-09-17T10:00:00\", \"2016-09-17T11:00:00\", \"2016-09-17T12:00:00\", \"2016-09-17T13:00:00\", \"2016-09-17T14:00:00\", \"2016-09-17T15:00:00\", \"2016-09-17T16:00:00\", \"2016-09-17T17:00:00\", \"2016-09-17T18:00:00\", \"2016-09-17T19:00:00\", \"2016-09-17T20:00:00\", \"2016-09-17T21:00:00\", \"2016-09-17T22:00:00\", \"2016-09-17T23:00:00\", \"2016-09-18T00:00:00\", \"2016-09-18T01:00:00\", \"2016-09-18T02:00:00\", \"2016-09-18T03:00:00\", \"2016-09-18T04:00:00\", \"2016-09-18T05:00:00\", \"2016-09-18T06:00:00\", \"2016-09-18T07:00:00\", \"2016-09-18T08:00:00\", \"2016-09-18T09:00:00\", \"2016-09-18T10:00:00\", \"2016-09-18T11:00:00\", \"2016-09-18T12:00:00\", \"2016-09-18T13:00:00\", \"2016-09-18T14:00:00\", \"2016-09-18T15:00:00\", \"2016-09-18T16:00:00\", \"2016-09-18T17:00:00\", \"2016-09-18T18:00:00\", \"2016-09-18T19:00:00\", \"2016-09-18T20:00:00\", \"2016-09-18T21:00:00\", \"2016-09-18T22:00:00\", \"2016-09-18T23:00:00\", \"2016-09-19T00:00:00\", \"2016-09-19T01:00:00\", \"2016-09-19T02:00:00\", \"2016-09-19T03:00:00\", \"2016-09-19T04:00:00\", \"2016-09-19T05:00:00\", \"2016-09-19T06:00:00\", \"2016-09-19T07:00:00\", \"2016-09-19T08:00:00\", \"2016-09-19T09:00:00\", \"2016-09-19T10:00:00\", \"2016-09-19T11:00:00\", \"2016-09-19T12:00:00\", \"2016-09-19T13:00:00\", \"2016-09-19T14:00:00\", \"2016-09-19T15:00:00\", \"2016-09-19T16:00:00\", \"2016-09-19T17:00:00\", \"2016-09-19T18:00:00\", \"2016-09-19T19:00:00\", \"2016-09-19T20:00:00\", \"2016-09-19T21:00:00\", \"2016-09-19T22:00:00\", \"2016-09-19T23:00:00\", \"2016-09-20T00:00:00\", \"2016-09-20T01:00:00\", \"2016-09-20T02:00:00\", \"2016-09-20T03:00:00\", \"2016-09-20T04:00:00\", \"2016-09-20T05:00:00\", \"2016-09-20T06:00:00\", \"2016-09-20T07:00:00\", \"2016-09-20T08:00:00\", \"2016-09-20T09:00:00\", \"2016-09-20T10:00:00\", \"2016-09-20T11:00:00\", \"2016-09-20T12:00:00\", \"2016-09-20T13:00:00\", \"2016-09-20T14:00:00\", \"2016-09-20T15:00:00\", \"2016-09-20T16:00:00\", \"2016-09-20T17:00:00\", \"2016-09-20T18:00:00\", \"2016-09-20T19:00:00\", \"2016-09-20T20:00:00\", \"2016-09-20T21:00:00\", \"2016-09-20T22:00:00\", \"2016-09-20T23:00:00\", \"2016-09-21T00:00:00\", \"2016-09-21T01:00:00\", \"2016-09-21T02:00:00\", \"2016-09-21T03:00:00\", \"2016-09-21T04:00:00\", \"2016-09-21T05:00:00\", \"2016-09-21T06:00:00\", \"2016-09-21T07:00:00\", \"2016-09-21T08:00:00\", \"2016-09-21T09:00:00\", \"2016-09-21T10:00:00\", \"2016-09-21T11:00:00\", \"2016-09-21T12:00:00\", \"2016-09-21T13:00:00\", \"2016-09-21T14:00:00\", \"2016-09-21T15:00:00\", \"2016-09-21T16:00:00\", \"2016-09-21T17:00:00\", \"2016-09-21T18:00:00\", \"2016-09-21T19:00:00\", \"2016-09-21T20:00:00\", \"2016-09-21T21:00:00\", \"2016-09-21T22:00:00\", \"2016-09-21T23:00:00\", \"2016-09-22T00:00:00\", \"2016-09-22T01:00:00\", \"2016-09-22T02:00:00\", \"2016-09-22T03:00:00\", \"2016-09-22T04:00:00\", \"2016-09-22T05:00:00\", \"2016-09-22T06:00:00\", \"2016-09-22T07:00:00\", \"2016-09-22T08:00:00\", \"2016-09-22T09:00:00\", \"2016-09-22T10:00:00\", \"2016-09-22T11:00:00\", \"2016-09-22T12:00:00\", \"2016-09-22T13:00:00\", \"2016-09-22T14:00:00\", \"2016-09-22T15:00:00\", \"2016-09-22T16:00:00\", \"2016-09-22T17:00:00\", \"2016-09-22T18:00:00\", \"2016-09-22T19:00:00\", \"2016-09-22T20:00:00\", \"2016-09-22T21:00:00\", \"2016-09-22T22:00:00\", \"2016-09-22T23:00:00\", \"2016-09-23T00:00:00\", \"2016-09-23T01:00:00\", \"2016-09-23T02:00:00\", \"2016-09-23T03:00:00\", \"2016-09-23T04:00:00\", \"2016-09-23T05:00:00\", \"2016-09-23T06:00:00\", \"2016-09-23T07:00:00\", \"2016-09-23T08:00:00\", \"2016-09-23T09:00:00\", \"2016-09-23T10:00:00\", \"2016-09-23T11:00:00\", \"2016-09-23T12:00:00\", \"2016-09-23T13:00:00\", \"2016-09-23T14:00:00\", \"2016-09-23T15:00:00\", \"2016-09-23T16:00:00\", \"2016-09-23T17:00:00\", \"2016-09-23T18:00:00\", \"2016-09-23T19:00:00\", \"2016-09-23T20:00:00\", \"2016-09-23T21:00:00\", \"2016-09-23T22:00:00\", \"2016-09-23T23:00:00\", \"2016-09-24T00:00:00\", \"2016-09-24T01:00:00\", \"2016-09-24T02:00:00\", \"2016-09-24T03:00:00\", \"2016-09-24T04:00:00\", \"2016-09-24T05:00:00\", \"2016-09-24T06:00:00\", \"2016-09-24T07:00:00\", \"2016-09-24T08:00:00\", \"2016-09-24T09:00:00\", \"2016-09-24T10:00:00\", \"2016-09-24T11:00:00\", \"2016-09-24T12:00:00\", \"2016-09-24T13:00:00\", \"2016-09-24T14:00:00\", \"2016-09-24T15:00:00\", \"2016-09-24T16:00:00\", \"2016-09-24T17:00:00\", \"2016-09-24T18:00:00\", \"2016-09-24T19:00:00\", \"2016-09-24T20:00:00\", \"2016-09-24T21:00:00\", \"2016-09-24T22:00:00\", \"2016-09-24T23:00:00\", \"2016-09-25T00:00:00\", \"2016-09-25T01:00:00\", \"2016-09-25T02:00:00\", \"2016-09-25T03:00:00\", \"2016-09-25T04:00:00\", \"2016-09-25T05:00:00\", \"2016-09-25T06:00:00\", \"2016-09-25T07:00:00\", \"2016-09-25T08:00:00\", \"2016-09-25T09:00:00\", \"2016-09-25T10:00:00\", \"2016-09-25T11:00:00\", \"2016-09-25T12:00:00\", \"2016-09-25T13:00:00\", \"2016-09-25T14:00:00\", \"2016-09-25T15:00:00\", \"2016-09-25T16:00:00\", \"2016-09-25T17:00:00\", \"2016-09-25T18:00:00\", \"2016-09-25T19:00:00\", \"2016-09-25T20:00:00\", \"2016-09-25T21:00:00\", \"2016-09-25T22:00:00\", \"2016-09-25T23:00:00\", \"2016-09-26T00:00:00\", \"2016-09-26T01:00:00\", \"2016-09-26T02:00:00\", \"2016-09-26T03:00:00\", \"2016-09-26T04:00:00\", \"2016-09-26T05:00:00\", \"2016-09-26T06:00:00\", \"2016-09-26T07:00:00\", \"2016-09-26T08:00:00\", \"2016-09-26T09:00:00\", \"2016-09-26T10:00:00\", \"2016-09-26T11:00:00\", \"2016-09-26T12:00:00\", \"2016-09-26T13:00:00\", \"2016-09-26T14:00:00\", \"2016-09-26T15:00:00\", \"2016-09-26T16:00:00\", \"2016-09-26T17:00:00\", \"2016-09-26T18:00:00\", \"2016-09-26T19:00:00\", \"2016-09-26T20:00:00\", \"2016-09-26T21:00:00\", \"2016-09-26T22:00:00\", \"2016-09-26T23:00:00\", \"2016-09-27T00:00:00\", \"2016-09-27T01:00:00\", \"2016-09-27T02:00:00\", \"2016-09-27T03:00:00\", \"2016-09-27T04:00:00\", \"2016-09-27T05:00:00\", \"2016-09-27T06:00:00\", \"2016-09-27T07:00:00\", \"2016-09-27T08:00:00\", \"2016-09-27T09:00:00\", \"2016-09-27T10:00:00\", \"2016-09-27T11:00:00\", \"2016-09-27T12:00:00\", \"2016-09-27T13:00:00\", \"2016-09-27T14:00:00\", \"2016-09-27T15:00:00\", \"2016-09-27T16:00:00\", \"2016-09-27T17:00:00\", \"2016-09-27T18:00:00\", \"2016-09-27T19:00:00\", \"2016-09-27T20:00:00\", \"2016-09-27T21:00:00\", \"2016-09-27T22:00:00\", \"2016-09-27T23:00:00\", \"2016-09-28T00:00:00\", \"2016-09-28T01:00:00\", \"2016-09-28T02:00:00\", \"2016-09-28T03:00:00\", \"2016-09-28T04:00:00\", \"2016-09-28T05:00:00\", \"2016-09-28T06:00:00\", \"2016-09-28T07:00:00\", \"2016-09-28T08:00:00\", \"2016-09-28T09:00:00\", \"2016-09-28T10:00:00\", \"2016-09-28T11:00:00\", \"2016-09-28T12:00:00\", \"2016-09-28T13:00:00\", \"2016-09-28T14:00:00\", \"2016-09-28T15:00:00\", \"2016-09-28T16:00:00\", \"2016-09-28T17:00:00\", \"2016-09-28T18:00:00\", \"2016-09-28T19:00:00\", \"2016-09-28T20:00:00\", \"2016-09-28T21:00:00\", \"2016-09-28T22:00:00\", \"2016-09-28T23:00:00\", \"2016-09-29T00:00:00\", \"2016-09-29T01:00:00\", \"2016-09-29T02:00:00\", \"2016-09-29T03:00:00\", \"2016-09-29T04:00:00\", \"2016-09-29T05:00:00\", \"2016-09-29T06:00:00\", \"2016-09-29T07:00:00\", \"2016-09-29T09:00:00\", \"2016-09-29T10:00:00\", \"2016-09-29T11:00:00\", \"2016-09-29T12:00:00\", \"2016-09-29T13:00:00\", \"2016-09-29T14:00:00\", \"2016-09-29T15:00:00\", \"2016-09-29T16:00:00\", \"2016-09-29T17:00:00\", \"2016-09-29T18:00:00\", \"2016-09-29T19:00:00\", \"2016-09-29T20:00:00\", \"2016-09-29T21:00:00\", \"2016-09-29T22:00:00\", \"2016-09-29T23:00:00\", \"2016-09-30T00:00:00\", \"2016-09-30T01:00:00\", \"2016-09-30T02:00:00\", \"2016-09-30T03:00:00\", \"2016-09-30T04:00:00\", \"2016-09-30T05:00:00\", \"2016-09-30T06:00:00\", \"2016-09-30T07:00:00\", \"2016-09-30T08:00:00\", \"2016-09-30T09:00:00\", \"2016-09-30T10:00:00\", \"2016-09-30T11:00:00\", \"2016-09-30T12:00:00\", \"2016-09-30T13:00:00\", \"2016-09-30T14:00:00\", \"2016-09-30T15:00:00\", \"2016-09-30T16:00:00\", \"2016-09-30T17:00:00\", \"2016-09-30T18:00:00\", \"2016-09-30T19:00:00\", \"2016-09-30T20:00:00\", \"2016-09-30T21:00:00\", \"2016-09-30T22:00:00\", \"2016-09-30T23:00:00\", \"2016-10-01T00:00:00\", \"2016-10-01T01:00:00\", \"2016-10-01T02:00:00\", \"2016-10-01T03:00:00\", \"2016-10-01T04:00:00\", \"2016-10-01T05:00:00\", \"2016-10-01T06:00:00\", \"2016-10-01T07:00:00\", \"2016-10-01T08:00:00\", \"2016-10-01T09:00:00\", \"2016-10-01T10:00:00\", \"2016-10-01T11:00:00\", \"2016-10-01T12:00:00\", \"2016-10-01T13:00:00\", \"2016-10-01T14:00:00\", \"2016-10-01T15:00:00\", \"2016-10-01T16:00:00\", \"2016-10-01T17:00:00\", \"2016-10-01T18:00:00\", \"2016-10-01T19:00:00\", \"2016-10-01T20:00:00\", \"2016-10-01T21:00:00\", \"2016-10-01T22:00:00\", \"2016-10-01T23:00:00\", \"2016-10-02T00:00:00\", \"2016-10-02T01:00:00\", \"2016-10-02T02:00:00\", \"2016-10-02T03:00:00\", \"2016-10-02T04:00:00\", \"2016-10-02T05:00:00\", \"2016-10-02T06:00:00\", \"2016-10-02T07:00:00\", \"2016-10-02T08:00:00\", \"2016-10-02T09:00:00\", \"2016-10-02T10:00:00\", \"2016-10-02T11:00:00\", \"2016-10-02T12:00:00\", \"2016-10-02T13:00:00\", \"2016-10-02T14:00:00\", \"2016-10-02T15:00:00\", \"2016-10-02T16:00:00\", \"2016-10-02T17:00:00\", \"2016-10-02T18:00:00\", \"2016-10-02T19:00:00\", \"2016-10-02T20:00:00\", \"2016-10-02T21:00:00\", \"2016-10-02T22:00:00\", \"2016-10-02T23:00:00\", \"2016-10-03T00:00:00\", \"2016-10-03T01:00:00\", \"2016-10-03T02:00:00\", \"2016-10-03T03:00:00\", \"2016-10-03T04:00:00\", \"2016-10-03T05:00:00\", \"2016-10-03T06:00:00\", \"2016-10-03T07:00:00\", \"2016-10-03T08:00:00\", \"2016-10-03T09:00:00\", \"2016-10-03T10:00:00\", \"2016-10-03T11:00:00\", \"2016-10-03T12:00:00\", \"2016-10-03T13:00:00\", \"2016-10-03T14:00:00\", \"2016-10-03T15:00:00\", \"2016-10-03T16:00:00\", \"2016-10-03T17:00:00\", \"2016-10-03T18:00:00\", \"2016-10-03T19:00:00\", \"2016-10-03T20:00:00\", \"2016-10-03T21:00:00\", \"2016-10-03T22:00:00\", \"2016-10-03T23:00:00\", \"2016-10-04T00:00:00\", \"2016-10-04T01:00:00\", \"2016-10-04T02:00:00\", \"2016-10-04T03:00:00\", \"2016-10-04T04:00:00\", \"2016-10-04T05:00:00\", \"2016-10-04T06:00:00\", \"2016-10-04T07:00:00\", \"2016-10-04T08:00:00\", \"2016-10-04T09:00:00\", \"2016-10-04T10:00:00\", \"2016-10-04T11:00:00\", \"2016-10-04T12:00:00\", \"2016-10-04T13:00:00\", \"2016-10-04T14:00:00\", \"2016-10-04T15:00:00\", \"2016-10-04T16:00:00\", \"2016-10-04T17:00:00\", \"2016-10-04T18:00:00\", \"2016-10-04T19:00:00\", \"2016-10-04T20:00:00\", \"2016-10-04T21:00:00\", \"2016-10-04T22:00:00\", \"2016-10-04T23:00:00\", \"2016-10-05T00:00:00\", \"2016-10-05T01:00:00\", \"2016-10-05T02:00:00\", \"2016-10-05T03:00:00\", \"2016-10-05T04:00:00\", \"2016-10-05T05:00:00\", \"2016-10-05T06:00:00\", \"2016-10-05T07:00:00\", \"2016-10-05T08:00:00\", \"2016-10-05T09:00:00\", \"2016-10-05T10:00:00\", \"2016-10-05T11:00:00\", \"2016-10-05T12:00:00\", \"2016-10-05T13:00:00\", \"2016-10-05T14:00:00\", \"2016-10-05T15:00:00\", \"2016-10-05T16:00:00\", \"2016-10-05T17:00:00\", \"2016-10-05T18:00:00\", \"2016-10-05T19:00:00\", \"2016-10-05T20:00:00\", \"2016-10-05T21:00:00\", \"2016-10-05T22:00:00\", \"2016-10-05T23:00:00\", \"2016-10-06T00:00:00\", \"2016-10-06T01:00:00\", \"2016-10-06T02:00:00\", \"2016-10-06T03:00:00\", \"2016-10-06T04:00:00\", \"2016-10-06T05:00:00\", \"2016-10-06T06:00:00\", \"2016-10-06T07:00:00\", \"2016-10-06T08:00:00\", \"2016-10-06T09:00:00\", \"2016-10-06T10:00:00\", \"2016-10-06T11:00:00\", \"2016-10-06T12:00:00\", \"2016-10-06T13:00:00\", \"2016-10-06T14:00:00\", \"2016-10-06T15:00:00\", \"2016-10-06T16:00:00\", \"2016-10-06T17:00:00\", \"2016-10-06T18:00:00\", \"2016-10-06T19:00:00\", \"2016-10-06T20:00:00\", \"2016-10-06T21:00:00\", \"2016-10-06T22:00:00\", \"2016-10-06T23:00:00\", \"2016-10-07T00:00:00\", \"2016-10-07T01:00:00\", \"2016-10-07T02:00:00\", \"2016-10-07T03:00:00\", \"2016-10-07T04:00:00\", \"2016-10-07T05:00:00\", \"2016-10-07T06:00:00\", \"2016-10-07T07:00:00\", \"2016-10-07T08:00:00\", \"2016-10-07T09:00:00\", \"2016-10-07T10:00:00\", \"2016-10-07T11:00:00\", \"2016-10-07T12:00:00\", \"2016-10-07T13:00:00\", \"2016-10-07T14:00:00\", \"2016-10-07T15:00:00\", \"2016-10-07T16:00:00\", \"2016-10-07T17:00:00\", \"2016-10-07T18:00:00\", \"2016-10-07T19:00:00\", \"2016-10-07T20:00:00\", \"2016-10-07T21:00:00\", \"2016-10-07T22:00:00\", \"2016-10-07T23:00:00\", \"2016-10-08T00:00:00\", \"2016-10-08T01:00:00\", \"2016-10-08T02:00:00\", \"2016-10-08T03:00:00\", \"2016-10-08T04:00:00\", \"2016-10-08T05:00:00\", \"2016-10-08T06:00:00\", \"2016-10-08T07:00:00\", \"2016-10-08T08:00:00\", \"2016-10-08T09:00:00\", \"2016-10-08T10:00:00\", \"2016-10-08T11:00:00\", \"2016-10-08T12:00:00\", \"2016-10-08T13:00:00\", \"2016-10-08T14:00:00\", \"2016-10-08T15:00:00\", \"2016-10-08T16:00:00\", \"2016-10-08T17:00:00\", \"2016-10-08T18:00:00\", \"2016-10-08T19:00:00\", \"2016-10-08T20:00:00\", \"2016-10-08T21:00:00\", \"2016-10-08T22:00:00\", \"2016-10-08T23:00:00\", \"2016-10-09T00:00:00\", \"2016-10-09T01:00:00\", \"2016-10-09T02:00:00\", \"2016-10-09T03:00:00\", \"2016-10-09T04:00:00\", \"2016-10-09T05:00:00\", \"2016-10-09T06:00:00\", \"2016-10-09T07:00:00\", \"2016-10-09T08:00:00\", \"2016-10-09T09:00:00\", \"2016-10-09T10:00:00\", \"2016-10-09T11:00:00\", \"2016-10-09T12:00:00\", \"2016-10-09T13:00:00\", \"2016-10-09T14:00:00\", \"2016-10-09T15:00:00\", \"2016-10-09T16:00:00\", \"2016-10-09T17:00:00\", \"2016-10-09T18:00:00\", \"2016-10-09T19:00:00\", \"2016-10-09T20:00:00\", \"2016-10-09T21:00:00\", \"2016-10-09T22:00:00\", \"2016-10-09T23:00:00\", \"2016-10-10T00:00:00\", \"2016-10-10T01:00:00\", \"2016-10-10T02:00:00\", \"2016-10-10T03:00:00\", \"2016-10-10T04:00:00\", \"2016-10-10T05:00:00\", \"2016-10-10T06:00:00\", \"2016-10-10T07:00:00\", \"2016-10-10T08:00:00\", \"2016-10-10T09:00:00\", \"2016-10-10T10:00:00\", \"2016-10-10T11:00:00\", \"2016-10-10T12:00:00\", \"2016-10-10T13:00:00\", \"2016-10-10T14:00:00\", \"2016-10-10T15:00:00\", \"2016-10-10T16:00:00\", \"2016-10-10T17:00:00\", \"2016-10-10T18:00:00\", \"2016-10-10T19:00:00\", \"2016-10-10T20:00:00\", \"2016-10-10T21:00:00\", \"2016-10-10T22:00:00\", \"2016-10-10T23:00:00\", \"2016-10-11T00:00:00\", \"2016-10-11T01:00:00\", \"2016-10-11T02:00:00\", \"2016-10-11T03:00:00\", \"2016-10-11T04:00:00\", \"2016-10-11T05:00:00\", \"2016-10-11T06:00:00\", \"2016-10-11T07:00:00\", \"2016-10-11T08:00:00\", \"2016-10-11T09:00:00\", \"2016-10-11T10:00:00\", \"2016-10-11T11:00:00\", \"2016-10-11T12:00:00\", \"2016-10-11T13:00:00\", \"2016-10-11T14:00:00\", \"2016-10-11T15:00:00\", \"2016-10-11T16:00:00\", \"2016-10-11T17:00:00\", \"2016-10-11T18:00:00\", \"2016-10-11T19:00:00\", \"2016-10-11T20:00:00\", \"2016-10-11T21:00:00\", \"2016-10-11T22:00:00\", \"2016-10-11T23:00:00\", \"2016-10-12T00:00:00\", \"2016-10-12T01:00:00\", \"2016-10-12T02:00:00\", \"2016-10-12T03:00:00\", \"2016-10-12T04:00:00\", \"2016-10-12T05:00:00\", \"2016-10-12T06:00:00\", \"2016-10-12T07:00:00\", \"2016-10-12T08:00:00\", \"2016-10-12T09:00:00\", \"2016-10-12T10:00:00\", \"2016-10-12T11:00:00\", \"2016-10-12T12:00:00\", \"2016-10-12T13:00:00\", \"2016-10-12T14:00:00\", \"2016-10-12T15:00:00\", \"2016-10-12T16:00:00\", \"2016-10-12T17:00:00\", \"2016-10-12T18:00:00\", \"2016-10-12T19:00:00\", \"2016-10-12T20:00:00\", \"2016-10-12T21:00:00\", \"2016-10-12T22:00:00\", \"2016-10-12T23:00:00\", \"2016-10-13T00:00:00\", \"2016-10-13T01:00:00\", \"2016-10-13T02:00:00\", \"2016-10-13T03:00:00\", \"2016-10-13T04:00:00\", \"2016-10-13T05:00:00\", \"2016-10-13T06:00:00\", \"2016-10-13T07:00:00\", \"2016-10-13T08:00:00\", \"2016-10-13T09:00:00\", \"2016-10-13T10:00:00\", \"2016-10-13T11:00:00\", \"2016-10-13T12:00:00\", \"2016-10-13T13:00:00\", \"2016-10-13T14:00:00\", \"2016-10-13T15:00:00\", \"2016-10-13T16:00:00\", \"2016-10-13T17:00:00\", \"2016-10-13T18:00:00\", \"2016-10-13T19:00:00\", \"2016-10-13T20:00:00\", \"2016-10-13T21:00:00\", \"2016-10-13T22:00:00\", \"2016-10-13T23:00:00\", \"2016-10-14T00:00:00\", \"2016-10-14T01:00:00\", \"2016-10-14T02:00:00\", \"2016-10-14T03:00:00\", \"2016-10-14T04:00:00\", \"2016-10-14T05:00:00\", \"2016-10-14T06:00:00\", \"2016-10-14T07:00:00\", \"2016-10-14T08:00:00\", \"2016-10-14T09:00:00\", \"2016-10-14T10:00:00\", \"2016-10-14T11:00:00\", \"2016-10-14T12:00:00\", \"2016-10-14T13:00:00\", \"2016-10-14T14:00:00\", \"2016-10-14T15:00:00\", \"2016-10-14T16:00:00\", \"2016-10-14T17:00:00\", \"2016-10-14T18:00:00\", \"2016-10-14T19:00:00\", \"2016-10-14T20:00:00\", \"2016-10-14T21:00:00\", \"2016-10-14T22:00:00\", \"2016-10-14T23:00:00\", \"2016-10-15T00:00:00\", \"2016-10-15T01:00:00\", \"2016-10-15T02:00:00\", \"2016-10-15T03:00:00\", \"2016-10-15T04:00:00\", \"2016-10-15T05:00:00\", \"2016-10-15T06:00:00\", \"2016-10-15T07:00:00\", \"2016-10-15T08:00:00\", \"2016-10-15T09:00:00\", \"2016-10-15T10:00:00\", \"2016-10-15T11:00:00\", \"2016-10-15T12:00:00\", \"2016-10-15T13:00:00\", \"2016-10-15T14:00:00\", \"2016-10-15T15:00:00\", \"2016-10-15T16:00:00\", \"2016-10-15T17:00:00\", \"2016-10-15T18:00:00\", \"2016-10-15T19:00:00\", \"2016-10-15T20:00:00\", \"2016-10-15T21:00:00\", \"2016-10-15T22:00:00\", \"2016-10-15T23:00:00\", \"2016-10-16T00:00:00\", \"2016-10-16T01:00:00\", \"2016-10-16T02:00:00\", \"2016-10-16T03:00:00\", \"2016-10-16T04:00:00\", \"2016-10-16T05:00:00\", \"2016-10-16T06:00:00\", \"2016-10-16T07:00:00\", \"2016-10-16T08:00:00\", \"2016-10-16T09:00:00\", \"2016-10-16T10:00:00\", \"2016-10-16T11:00:00\", \"2016-10-16T12:00:00\", \"2016-10-16T13:00:00\", \"2016-10-16T14:00:00\", \"2016-10-16T15:00:00\", \"2016-10-16T16:00:00\", \"2016-10-16T17:00:00\", \"2016-10-16T18:00:00\", \"2016-10-16T19:00:00\", \"2016-10-16T20:00:00\", \"2016-10-16T21:00:00\", \"2016-10-16T22:00:00\", \"2016-10-16T23:00:00\", \"2016-10-17T00:00:00\", \"2016-10-17T01:00:00\", \"2016-10-17T02:00:00\", \"2016-10-17T03:00:00\", \"2016-10-17T04:00:00\", \"2016-10-17T05:00:00\", \"2016-10-17T06:00:00\", \"2016-10-17T07:00:00\", \"2016-10-17T08:00:00\", \"2016-10-17T09:00:00\", \"2016-10-17T10:00:00\", \"2016-10-17T11:00:00\", \"2016-10-17T12:00:00\", \"2016-10-17T13:00:00\", \"2016-10-17T14:00:00\", \"2016-10-17T15:00:00\", \"2016-10-17T16:00:00\", \"2016-10-17T17:00:00\", \"2016-10-17T18:00:00\", \"2016-10-17T19:00:00\", \"2016-10-17T20:00:00\", \"2016-10-17T21:00:00\", \"2016-10-17T22:00:00\", \"2016-10-17T23:00:00\", \"2016-10-18T00:00:00\", \"2016-10-18T01:00:00\", \"2016-10-18T02:00:00\", \"2016-10-18T03:00:00\", \"2016-10-18T04:00:00\", \"2016-10-18T05:00:00\", \"2016-10-18T06:00:00\", \"2016-10-18T07:00:00\", \"2016-10-18T08:00:00\", \"2016-10-18T09:00:00\", \"2016-10-18T10:00:00\", \"2016-10-18T11:00:00\", \"2016-10-18T12:00:00\", \"2016-10-18T14:00:00\", \"2016-10-18T15:00:00\", \"2016-10-18T16:00:00\", \"2016-10-18T17:00:00\", \"2016-10-18T18:00:00\", \"2016-10-18T19:00:00\", \"2016-10-18T20:00:00\", \"2016-10-18T21:00:00\", \"2016-10-18T22:00:00\", \"2016-10-18T23:00:00\", \"2016-10-19T00:00:00\", \"2016-10-19T01:00:00\", \"2016-10-19T02:00:00\", \"2016-10-19T03:00:00\", \"2016-10-19T04:00:00\", \"2016-10-19T05:00:00\", \"2016-10-19T06:00:00\", \"2016-10-19T07:00:00\", \"2016-10-19T08:00:00\", \"2016-10-19T09:00:00\", \"2016-10-19T10:00:00\", \"2016-10-19T11:00:00\", \"2016-10-19T12:00:00\", \"2016-10-19T13:00:00\", \"2016-10-19T14:00:00\", \"2016-10-19T15:00:00\", \"2016-10-19T16:00:00\", \"2016-10-19T17:00:00\", \"2016-10-19T18:00:00\", \"2016-10-19T19:00:00\", \"2016-10-19T20:00:00\", \"2016-10-19T21:00:00\", \"2016-10-19T22:00:00\", \"2016-10-19T23:00:00\", \"2016-10-20T00:00:00\", \"2016-10-20T01:00:00\", \"2016-10-20T02:00:00\", \"2016-10-20T03:00:00\", \"2016-10-20T04:00:00\", \"2016-10-20T05:00:00\", \"2016-10-20T06:00:00\", \"2016-10-20T07:00:00\", \"2016-10-20T08:00:00\", \"2016-10-20T09:00:00\", \"2016-10-20T10:00:00\", \"2016-10-20T11:00:00\", \"2016-10-20T12:00:00\", \"2016-10-20T13:00:00\", \"2016-10-20T14:00:00\", \"2016-10-20T15:00:00\", \"2016-10-20T16:00:00\", \"2016-10-20T17:00:00\", \"2016-10-20T18:00:00\", \"2016-10-20T19:00:00\", \"2016-10-20T20:00:00\", \"2016-10-20T21:00:00\", \"2016-10-20T22:00:00\", \"2016-10-20T23:00:00\", \"2016-10-21T00:00:00\", \"2016-10-21T01:00:00\", \"2016-10-21T02:00:00\", \"2016-10-21T03:00:00\", \"2016-10-21T04:00:00\", \"2016-10-21T05:00:00\", \"2016-10-21T06:00:00\", \"2016-10-21T07:00:00\", \"2016-10-21T08:00:00\", \"2016-10-21T09:00:00\", \"2016-10-21T10:00:00\", \"2016-10-21T11:00:00\", \"2016-10-21T12:00:00\", \"2016-10-21T13:00:00\", \"2016-10-21T14:00:00\", \"2016-10-21T15:00:00\", \"2016-10-21T16:00:00\", \"2016-10-21T17:00:00\", \"2016-10-21T18:00:00\", \"2016-10-21T19:00:00\", \"2016-10-21T20:00:00\", \"2016-10-21T21:00:00\", \"2016-10-21T22:00:00\", \"2016-10-21T23:00:00\", \"2016-10-22T00:00:00\", \"2016-10-22T01:00:00\", \"2016-10-22T02:00:00\", \"2016-10-22T03:00:00\", \"2016-10-22T04:00:00\", \"2016-10-22T05:00:00\", \"2016-10-22T06:00:00\", \"2016-10-22T07:00:00\", \"2016-10-22T08:00:00\", \"2016-10-22T09:00:00\", \"2016-10-22T10:00:00\", \"2016-10-22T11:00:00\", \"2016-10-22T12:00:00\", \"2016-10-22T13:00:00\", \"2016-10-22T14:00:00\", \"2016-10-22T15:00:00\", \"2016-10-22T16:00:00\", \"2016-10-22T17:00:00\", \"2016-10-22T18:00:00\", \"2016-10-22T19:00:00\", \"2016-10-22T20:00:00\", \"2016-10-22T21:00:00\", \"2016-10-22T22:00:00\", \"2016-10-22T23:00:00\", \"2016-10-23T00:00:00\", \"2016-10-23T01:00:00\", \"2016-10-23T02:00:00\", \"2016-10-23T03:00:00\", \"2016-10-23T04:00:00\", \"2016-10-23T05:00:00\", \"2016-10-23T06:00:00\", \"2016-10-23T07:00:00\", \"2016-10-23T08:00:00\", \"2016-10-23T09:00:00\", \"2016-10-23T10:00:00\", \"2016-10-23T11:00:00\", \"2016-10-23T12:00:00\", \"2016-10-23T13:00:00\", \"2016-10-23T14:00:00\", \"2016-10-23T15:00:00\", \"2016-10-23T16:00:00\", \"2016-10-23T17:00:00\", \"2016-10-23T18:00:00\", \"2016-10-23T19:00:00\", \"2016-10-23T20:00:00\", \"2016-10-23T21:00:00\", \"2016-10-23T22:00:00\", \"2016-10-23T23:00:00\", \"2016-10-24T00:00:00\", \"2016-10-24T01:00:00\", \"2016-10-24T02:00:00\", \"2016-10-24T03:00:00\", \"2016-10-24T04:00:00\", \"2016-10-24T05:00:00\", \"2016-10-24T06:00:00\", \"2016-10-24T07:00:00\", \"2016-10-24T08:00:00\", \"2016-10-24T09:00:00\", \"2016-10-24T10:00:00\", \"2016-10-24T11:00:00\", \"2016-10-24T12:00:00\", \"2016-10-24T13:00:00\", \"2016-10-24T14:00:00\", \"2016-10-24T15:00:00\", \"2016-10-24T16:00:00\", \"2016-10-24T17:00:00\", \"2016-10-24T18:00:00\", \"2016-10-24T19:00:00\", \"2016-10-24T20:00:00\", \"2016-10-24T21:00:00\", \"2016-10-24T22:00:00\", \"2016-10-24T23:00:00\", \"2016-10-25T00:00:00\", \"2016-10-25T01:00:00\", \"2016-10-25T02:00:00\", \"2016-10-25T03:00:00\", \"2016-10-25T04:00:00\", \"2016-10-25T05:00:00\", \"2016-10-25T06:00:00\", \"2016-10-25T07:00:00\", \"2016-10-25T08:00:00\", \"2016-10-25T09:00:00\", \"2016-10-25T10:00:00\", \"2016-10-25T11:00:00\", \"2016-10-25T12:00:00\", \"2016-10-25T13:00:00\", \"2016-10-25T14:00:00\", \"2016-10-25T15:00:00\", \"2016-10-25T16:00:00\", \"2016-10-25T17:00:00\", \"2016-10-25T18:00:00\", \"2016-10-25T19:00:00\", \"2016-10-25T20:00:00\", \"2016-10-25T21:00:00\", \"2016-10-25T22:00:00\", \"2016-10-25T23:00:00\", \"2016-10-26T00:00:00\", \"2016-10-26T01:00:00\", \"2016-10-26T02:00:00\", \"2016-10-26T03:00:00\", \"2016-10-26T04:00:00\", \"2016-10-26T05:00:00\", \"2016-10-26T06:00:00\", \"2016-10-26T07:00:00\", \"2016-10-26T08:00:00\", \"2016-10-26T09:00:00\", \"2016-10-26T10:00:00\", \"2016-10-26T11:00:00\", \"2016-10-26T12:00:00\", \"2016-10-26T13:00:00\", \"2016-10-26T14:00:00\", \"2016-10-26T15:00:00\", \"2016-10-26T16:00:00\", \"2016-10-26T17:00:00\", \"2016-10-26T18:00:00\", \"2016-10-26T19:00:00\", \"2016-10-26T20:00:00\", \"2016-10-26T21:00:00\", \"2016-10-26T22:00:00\", \"2016-10-26T23:00:00\", \"2016-10-27T00:00:00\", \"2016-10-27T01:00:00\", \"2016-10-27T02:00:00\", \"2016-10-27T03:00:00\", \"2016-10-27T04:00:00\", \"2016-10-27T05:00:00\", \"2016-10-27T06:00:00\", \"2016-10-27T07:00:00\", \"2016-10-27T08:00:00\", \"2016-10-27T09:00:00\", \"2016-10-27T10:00:00\", \"2016-10-27T11:00:00\", \"2016-10-27T12:00:00\", \"2016-10-27T13:00:00\", \"2016-10-27T14:00:00\", \"2016-10-27T15:00:00\", \"2016-10-27T16:00:00\", \"2016-10-27T17:00:00\", \"2016-10-27T18:00:00\", \"2016-10-27T19:00:00\", \"2016-10-27T20:00:00\", \"2016-10-27T21:00:00\", \"2016-10-27T22:00:00\", \"2016-10-27T23:00:00\", \"2016-10-28T00:00:00\", \"2016-10-28T01:00:00\", \"2016-10-28T02:00:00\", \"2016-10-28T03:00:00\", \"2016-10-28T04:00:00\", \"2016-10-28T05:00:00\", \"2016-10-28T06:00:00\", \"2016-10-28T07:00:00\", \"2016-10-28T08:00:00\", \"2016-10-28T09:00:00\", \"2016-10-28T10:00:00\", \"2016-10-28T11:00:00\", \"2016-10-28T12:00:00\", \"2016-10-28T13:00:00\", \"2016-10-28T14:00:00\", \"2016-10-28T15:00:00\", \"2016-10-28T16:00:00\", \"2016-10-28T17:00:00\", \"2016-10-28T18:00:00\", \"2016-10-28T19:00:00\", \"2016-10-28T20:00:00\", \"2016-10-28T21:00:00\", \"2016-10-28T22:00:00\", \"2016-10-28T23:00:00\", \"2016-10-29T00:00:00\", \"2016-10-29T01:00:00\", \"2016-10-29T02:00:00\", \"2016-10-29T03:00:00\", \"2016-10-29T04:00:00\", \"2016-10-29T05:00:00\", \"2016-10-29T06:00:00\", \"2016-10-29T07:00:00\", \"2016-10-29T08:00:00\", \"2016-10-29T09:00:00\", \"2016-10-29T10:00:00\", \"2016-10-29T11:00:00\", \"2016-10-29T12:00:00\", \"2016-10-29T13:00:00\", \"2016-10-29T14:00:00\", \"2016-10-29T15:00:00\", \"2016-10-29T16:00:00\", \"2016-10-29T17:00:00\", \"2016-10-29T18:00:00\", \"2016-10-29T19:00:00\", \"2016-10-29T20:00:00\", \"2016-10-29T21:00:00\", \"2016-10-29T22:00:00\", \"2016-10-29T23:00:00\", \"2016-10-30T00:00:00\", \"2016-10-30T01:00:00\", \"2016-10-30T02:00:00\", \"2016-10-30T03:00:00\", \"2016-10-30T04:00:00\", \"2016-10-30T05:00:00\", \"2016-10-30T06:00:00\", \"2016-10-30T07:00:00\", \"2016-10-30T08:00:00\", \"2016-10-30T09:00:00\", \"2016-10-30T10:00:00\", \"2016-10-30T11:00:00\", \"2016-10-30T12:00:00\", \"2016-10-30T13:00:00\", \"2016-10-30T14:00:00\", \"2016-10-30T15:00:00\", \"2016-10-30T16:00:00\", \"2016-10-30T17:00:00\", \"2016-10-30T18:00:00\", \"2016-10-30T19:00:00\", \"2016-10-30T20:00:00\", \"2016-10-30T21:00:00\", \"2016-10-30T22:00:00\", \"2016-10-30T23:00:00\", \"2016-10-31T00:00:00\", \"2016-10-31T01:00:00\", \"2016-10-31T02:00:00\", \"2016-10-31T03:00:00\", \"2016-10-31T04:00:00\", \"2016-10-31T05:00:00\", \"2016-10-31T06:00:00\", \"2016-10-31T07:00:00\", \"2016-10-31T08:00:00\", \"2016-10-31T09:00:00\", \"2016-10-31T10:00:00\", \"2016-10-31T11:00:00\", \"2016-10-31T12:00:00\", \"2016-10-31T13:00:00\", \"2016-10-31T14:00:00\", \"2016-10-31T15:00:00\", \"2016-10-31T16:00:00\", \"2016-10-31T17:00:00\", \"2016-10-31T18:00:00\", \"2016-10-31T19:00:00\", \"2016-10-31T20:00:00\", \"2016-10-31T21:00:00\", \"2016-10-31T22:00:00\", \"2016-10-31T23:00:00\", \"2016-11-01T00:00:00\", \"2016-11-01T01:00:00\", \"2016-11-01T02:00:00\", \"2016-11-01T03:00:00\", \"2016-11-01T04:00:00\", \"2016-11-01T05:00:00\", \"2016-11-01T06:00:00\", \"2016-11-01T07:00:00\", \"2016-11-01T08:00:00\", \"2016-11-01T09:00:00\", \"2016-11-01T10:00:00\", \"2016-11-01T11:00:00\", \"2016-11-01T12:00:00\", \"2016-11-01T13:00:00\", \"2016-11-01T14:00:00\", \"2016-11-01T15:00:00\", \"2016-11-01T16:00:00\", \"2016-11-01T17:00:00\", \"2016-11-01T18:00:00\", \"2016-11-01T19:00:00\", \"2016-11-01T20:00:00\", \"2016-11-01T21:00:00\", \"2016-11-01T22:00:00\", \"2016-11-01T23:00:00\", \"2016-11-02T00:00:00\", \"2016-11-02T01:00:00\", \"2016-11-02T02:00:00\", \"2016-11-02T03:00:00\", \"2016-11-02T04:00:00\", \"2016-11-02T05:00:00\", \"2016-11-02T06:00:00\", \"2016-11-02T07:00:00\", \"2016-11-02T08:00:00\", \"2016-11-02T09:00:00\", \"2016-11-02T10:00:00\", \"2016-11-02T11:00:00\", \"2016-11-02T12:00:00\", \"2016-11-02T13:00:00\", \"2016-11-02T14:00:00\", \"2016-11-02T15:00:00\", \"2016-11-02T16:00:00\", \"2016-11-02T17:00:00\", \"2016-11-02T18:00:00\", \"2016-11-02T19:00:00\", \"2016-11-02T20:00:00\", \"2016-11-02T21:00:00\", \"2016-11-02T22:00:00\", \"2016-11-02T23:00:00\", \"2016-11-03T00:00:00\", \"2016-11-03T01:00:00\", \"2016-11-03T02:00:00\", \"2016-11-03T03:00:00\", \"2016-11-03T04:00:00\", \"2016-11-03T05:00:00\", \"2016-11-03T06:00:00\", \"2016-11-03T07:00:00\", \"2016-11-03T08:00:00\", \"2016-11-03T09:00:00\", \"2016-11-03T10:00:00\", \"2016-11-03T11:00:00\", \"2016-11-03T12:00:00\", \"2016-11-03T13:00:00\", \"2016-11-03T14:00:00\", \"2016-11-03T15:00:00\", \"2016-11-03T16:00:00\", \"2016-11-03T17:00:00\", \"2016-11-03T18:00:00\", \"2016-11-03T19:00:00\", \"2016-11-03T20:00:00\", \"2016-11-03T21:00:00\", \"2016-11-03T22:00:00\", \"2016-11-03T23:00:00\", \"2016-11-04T00:00:00\", \"2016-11-04T01:00:00\", \"2016-11-04T02:00:00\", \"2016-11-04T03:00:00\", \"2016-11-04T04:00:00\", \"2016-11-04T05:00:00\", \"2016-11-04T06:00:00\", \"2016-11-04T07:00:00\", \"2016-11-04T08:00:00\", \"2016-11-04T09:00:00\", \"2016-11-04T10:00:00\", \"2016-11-04T11:00:00\", \"2016-11-04T12:00:00\", \"2016-11-04T13:00:00\", \"2016-11-04T14:00:00\", \"2016-11-04T15:00:00\", \"2016-11-04T16:00:00\", \"2016-11-04T17:00:00\", \"2016-11-04T18:00:00\", \"2016-11-04T19:00:00\", \"2016-11-04T20:00:00\", \"2016-11-04T21:00:00\", \"2016-11-04T22:00:00\", \"2016-11-04T23:00:00\", \"2016-11-05T00:00:00\", \"2016-11-05T01:00:00\", \"2016-11-05T02:00:00\", \"2016-11-05T03:00:00\", \"2016-11-05T04:00:00\", \"2016-11-05T05:00:00\", \"2016-11-05T06:00:00\", \"2016-11-05T07:00:00\", \"2016-11-05T08:00:00\", \"2016-11-05T09:00:00\", \"2016-11-05T10:00:00\", \"2016-11-05T11:00:00\", \"2016-11-05T12:00:00\", \"2016-11-05T13:00:00\", \"2016-11-05T14:00:00\", \"2016-11-05T15:00:00\", \"2016-11-05T16:00:00\", \"2016-11-05T17:00:00\", \"2016-11-05T18:00:00\", \"2016-11-05T19:00:00\", \"2016-11-05T20:00:00\", \"2016-11-05T21:00:00\", \"2016-11-05T22:00:00\", \"2016-11-05T23:00:00\", \"2016-11-06T00:00:00\", \"2016-11-06T01:00:00\", \"2016-11-06T02:00:00\", \"2016-11-06T03:00:00\", \"2016-11-06T04:00:00\", \"2016-11-06T05:00:00\", \"2016-11-06T06:00:00\", \"2016-11-06T07:00:00\", \"2016-11-06T08:00:00\", \"2016-11-06T09:00:00\", \"2016-11-06T10:00:00\", \"2016-11-06T11:00:00\", \"2016-11-06T12:00:00\", \"2016-11-06T13:00:00\", \"2016-11-06T14:00:00\", \"2016-11-06T15:00:00\", \"2016-11-06T16:00:00\", \"2016-11-06T17:00:00\", \"2016-11-06T18:00:00\", \"2016-11-06T19:00:00\", \"2016-11-06T20:00:00\", \"2016-11-06T21:00:00\", \"2016-11-06T22:00:00\", \"2016-11-06T23:00:00\", \"2016-11-07T00:00:00\", \"2016-11-07T01:00:00\", \"2016-11-07T02:00:00\", \"2016-11-07T03:00:00\", \"2016-11-07T04:00:00\", \"2016-11-07T05:00:00\", \"2016-11-07T06:00:00\", \"2016-11-07T07:00:00\", \"2016-11-07T08:00:00\", \"2016-11-07T09:00:00\", \"2016-11-07T10:00:00\", \"2016-11-07T11:00:00\", \"2016-11-07T12:00:00\", \"2016-11-07T13:00:00\", \"2016-11-07T14:00:00\", \"2016-11-07T15:00:00\", \"2016-11-07T16:00:00\", \"2016-11-07T17:00:00\", \"2016-11-07T18:00:00\", \"2016-11-07T19:00:00\", \"2016-11-07T20:00:00\", \"2016-11-07T21:00:00\", \"2016-11-07T22:00:00\", \"2016-11-07T23:00:00\", \"2016-11-08T00:00:00\", \"2016-11-08T01:00:00\", \"2016-11-08T02:00:00\", \"2016-11-08T03:00:00\", \"2016-11-08T04:00:00\", \"2016-11-08T05:00:00\", \"2016-11-08T06:00:00\", \"2016-11-08T07:00:00\", \"2016-11-08T08:00:00\", \"2016-11-08T09:00:00\", \"2016-11-08T10:00:00\", \"2016-11-08T11:00:00\", \"2016-11-08T12:00:00\", \"2016-11-08T13:00:00\", \"2016-11-08T14:00:00\", \"2016-11-08T15:00:00\", \"2016-11-08T16:00:00\", \"2016-11-08T17:00:00\", \"2016-11-08T18:00:00\", \"2016-11-08T19:00:00\", \"2016-11-08T20:00:00\", \"2016-11-08T21:00:00\", \"2016-11-08T22:00:00\", \"2016-11-08T23:00:00\", \"2016-11-09T00:00:00\", \"2016-11-09T01:00:00\", \"2016-11-09T02:00:00\", \"2016-11-09T03:00:00\", \"2016-11-09T04:00:00\", \"2016-11-09T05:00:00\", \"2016-11-09T06:00:00\", \"2016-11-09T07:00:00\", \"2016-11-09T08:00:00\", \"2016-11-09T09:00:00\", \"2016-11-09T10:00:00\", \"2016-11-09T11:00:00\", \"2016-11-09T12:00:00\", \"2016-11-09T13:00:00\", \"2016-11-09T14:00:00\", \"2016-11-09T15:00:00\", \"2016-11-09T16:00:00\", \"2016-11-09T17:00:00\", \"2016-11-09T18:00:00\", \"2016-11-09T19:00:00\", \"2016-11-09T20:00:00\", \"2016-11-09T21:00:00\", \"2016-11-09T22:00:00\", \"2016-11-09T23:00:00\", \"2016-11-10T00:00:00\", \"2016-11-10T01:00:00\", \"2016-11-10T02:00:00\", \"2016-11-10T03:00:00\", \"2016-11-10T04:00:00\", \"2016-11-10T05:00:00\", \"2016-11-10T06:00:00\", \"2016-11-10T07:00:00\", \"2016-11-10T08:00:00\", \"2016-11-10T09:00:00\", \"2016-11-10T10:00:00\", \"2016-11-10T11:00:00\", \"2016-11-10T12:00:00\", \"2016-11-10T13:00:00\", \"2016-11-10T14:00:00\", \"2016-11-10T15:00:00\", \"2016-11-10T16:00:00\", \"2016-11-10T17:00:00\", \"2016-11-10T18:00:00\", \"2016-11-10T19:00:00\", \"2016-11-10T20:00:00\", \"2016-11-10T21:00:00\", \"2016-11-10T22:00:00\", \"2016-11-10T23:00:00\", \"2016-11-11T00:00:00\", \"2016-11-11T01:00:00\", \"2016-11-11T02:00:00\", \"2016-11-11T03:00:00\", \"2016-11-11T04:00:00\", \"2016-11-11T05:00:00\", \"2016-11-11T06:00:00\", \"2016-11-11T07:00:00\", \"2016-11-11T08:00:00\", \"2016-11-11T09:00:00\", \"2016-11-11T10:00:00\", \"2016-11-11T11:00:00\", \"2016-11-11T12:00:00\", \"2016-11-11T13:00:00\", \"2016-11-11T14:00:00\", \"2016-11-11T15:00:00\", \"2016-11-11T16:00:00\", \"2016-11-11T17:00:00\", \"2016-11-11T18:00:00\", \"2016-11-11T19:00:00\", \"2016-11-11T20:00:00\", \"2016-11-11T21:00:00\", \"2016-11-11T22:00:00\", \"2016-11-11T23:00:00\", \"2016-11-12T00:00:00\", \"2016-11-12T01:00:00\", \"2016-11-12T02:00:00\", \"2016-11-12T03:00:00\", \"2016-11-12T04:00:00\", \"2016-11-12T05:00:00\", \"2016-11-12T06:00:00\", \"2016-11-12T07:00:00\", \"2016-11-12T08:00:00\", \"2016-11-12T09:00:00\", \"2016-11-12T10:00:00\", \"2016-11-12T11:00:00\", \"2016-11-12T12:00:00\", \"2016-11-12T13:00:00\", \"2016-11-12T14:00:00\", \"2016-11-12T15:00:00\", \"2016-11-12T16:00:00\", \"2016-11-12T17:00:00\", \"2016-11-12T18:00:00\", \"2016-11-12T19:00:00\", \"2016-11-12T20:00:00\", \"2016-11-12T21:00:00\", \"2016-11-12T22:00:00\", \"2016-11-12T23:00:00\", \"2016-11-13T00:00:00\", \"2016-11-13T01:00:00\", \"2016-11-13T02:00:00\", \"2016-11-13T03:00:00\", \"2016-11-13T04:00:00\", \"2016-11-13T05:00:00\", \"2016-11-13T06:00:00\", \"2016-11-13T07:00:00\", \"2016-11-13T08:00:00\", \"2016-11-13T09:00:00\", \"2016-11-13T10:00:00\", \"2016-11-13T11:00:00\", \"2016-11-13T12:00:00\", \"2016-11-13T13:00:00\", \"2016-11-13T14:00:00\", \"2016-11-13T15:00:00\", \"2016-11-13T16:00:00\", \"2016-11-13T17:00:00\", \"2016-11-13T18:00:00\", \"2016-11-13T19:00:00\", \"2016-11-13T20:00:00\", \"2016-11-13T21:00:00\", \"2016-11-13T22:00:00\", \"2016-11-13T23:00:00\", \"2016-11-14T00:00:00\", \"2016-11-14T01:00:00\", \"2016-11-14T02:00:00\", \"2016-11-14T03:00:00\", \"2016-11-14T04:00:00\", \"2016-11-14T05:00:00\", \"2016-11-14T06:00:00\", \"2016-11-14T07:00:00\", \"2016-11-14T08:00:00\", \"2016-11-14T09:00:00\", \"2016-11-14T10:00:00\", \"2016-11-14T11:00:00\", \"2016-11-14T12:00:00\", \"2016-11-14T13:00:00\", \"2016-11-14T14:00:00\", \"2016-11-14T15:00:00\", \"2016-11-14T16:00:00\", \"2016-11-14T17:00:00\", \"2016-11-14T18:00:00\", \"2016-11-14T19:00:00\", \"2016-11-14T20:00:00\", \"2016-11-14T21:00:00\", \"2016-11-14T22:00:00\", \"2016-11-14T23:00:00\", \"2016-11-15T00:00:00\", \"2016-11-15T01:00:00\", \"2016-11-15T02:00:00\", \"2016-11-15T03:00:00\", \"2016-11-15T04:00:00\", \"2016-11-15T05:00:00\", \"2016-11-15T06:00:00\", \"2016-11-15T07:00:00\", \"2016-11-15T08:00:00\", \"2016-11-15T09:00:00\", \"2016-11-15T10:00:00\", \"2016-11-15T11:00:00\", \"2016-11-15T12:00:00\", \"2016-11-15T13:00:00\", \"2016-11-15T14:00:00\", \"2016-11-15T15:00:00\", \"2016-11-15T16:00:00\", \"2016-11-15T17:00:00\", \"2016-11-15T18:00:00\", \"2016-11-15T19:00:00\", \"2016-11-15T20:00:00\", \"2016-11-15T21:00:00\", \"2016-11-15T22:00:00\", \"2016-11-15T23:00:00\", \"2016-11-16T00:00:00\", \"2016-11-16T01:00:00\", \"2016-11-16T02:00:00\", \"2016-11-16T03:00:00\", \"2016-11-16T04:00:00\", \"2016-11-16T05:00:00\", \"2016-11-16T06:00:00\", \"2016-11-16T07:00:00\", \"2016-11-16T08:00:00\", \"2016-11-16T09:00:00\", \"2016-11-16T10:00:00\", \"2016-11-16T11:00:00\", \"2016-11-16T12:00:00\", \"2016-11-16T13:00:00\", \"2016-11-16T14:00:00\", \"2016-11-16T15:00:00\", \"2016-11-16T16:00:00\", \"2016-11-16T17:00:00\", \"2016-11-16T18:00:00\", \"2016-11-16T19:00:00\", \"2016-11-16T20:00:00\", \"2016-11-16T21:00:00\", \"2016-11-16T22:00:00\", \"2016-11-16T23:00:00\", \"2016-11-17T00:00:00\", \"2016-11-17T01:00:00\", \"2016-11-17T02:00:00\", \"2016-11-17T03:00:00\", \"2016-11-17T04:00:00\", \"2016-11-17T05:00:00\", \"2016-11-17T06:00:00\", \"2016-11-17T07:00:00\", \"2016-11-17T08:00:00\", \"2016-11-17T09:00:00\", \"2016-11-17T10:00:00\", \"2016-11-17T11:00:00\", \"2016-11-17T12:00:00\", \"2016-11-17T13:00:00\", \"2016-11-17T14:00:00\", \"2016-11-17T15:00:00\", \"2016-11-17T16:00:00\", \"2016-11-17T17:00:00\", \"2016-11-17T18:00:00\", \"2016-11-17T19:00:00\", \"2016-11-17T20:00:00\", \"2016-11-17T21:00:00\", \"2016-11-17T22:00:00\", \"2016-11-17T23:00:00\", \"2016-11-18T00:00:00\", \"2016-11-18T01:00:00\", \"2016-11-18T02:00:00\", \"2016-11-18T03:00:00\", \"2016-11-18T04:00:00\", \"2016-11-18T05:00:00\", \"2016-11-18T06:00:00\", \"2016-11-18T07:00:00\", \"2016-11-18T08:00:00\", \"2016-11-18T09:00:00\", \"2016-11-18T10:00:00\", \"2016-11-18T11:00:00\", \"2016-11-18T12:00:00\", \"2016-11-18T13:00:00\", \"2016-11-18T14:00:00\", \"2016-11-18T15:00:00\", \"2016-11-18T16:00:00\", \"2016-11-18T17:00:00\", \"2016-11-18T18:00:00\", \"2016-11-18T19:00:00\", \"2016-11-18T20:00:00\", \"2016-11-18T21:00:00\", \"2016-11-18T22:00:00\", \"2016-11-18T23:00:00\", \"2016-11-19T00:00:00\", \"2016-11-19T01:00:00\", \"2016-11-19T02:00:00\", \"2016-11-19T03:00:00\", \"2016-11-19T04:00:00\", \"2016-11-19T05:00:00\", \"2016-11-19T06:00:00\", \"2016-11-19T07:00:00\", \"2016-11-19T08:00:00\", \"2016-11-19T09:00:00\", \"2016-11-19T10:00:00\", \"2016-11-19T11:00:00\", \"2016-11-19T12:00:00\", \"2016-11-19T13:00:00\", \"2016-11-19T14:00:00\", \"2016-11-19T15:00:00\", \"2016-11-19T16:00:00\", \"2016-11-19T17:00:00\", \"2016-11-19T18:00:00\", \"2016-11-19T19:00:00\", \"2016-11-19T20:00:00\", \"2016-11-19T21:00:00\", \"2016-11-19T22:00:00\", \"2016-11-19T23:00:00\", \"2016-11-20T00:00:00\", \"2016-11-20T01:00:00\", \"2016-11-20T02:00:00\", \"2016-11-20T03:00:00\", \"2016-11-20T04:00:00\", \"2016-11-20T05:00:00\", \"2016-11-20T06:00:00\", \"2016-11-20T07:00:00\", \"2016-11-20T08:00:00\", \"2016-11-20T09:00:00\", \"2016-11-20T10:00:00\", \"2016-11-20T11:00:00\", \"2016-11-20T12:00:00\", \"2016-11-20T13:00:00\", \"2016-11-20T14:00:00\", \"2016-11-20T15:00:00\", \"2016-11-20T16:00:00\", \"2016-11-20T17:00:00\", \"2016-11-20T18:00:00\", \"2016-11-20T19:00:00\", \"2016-11-20T20:00:00\", \"2016-11-20T21:00:00\", \"2016-11-20T22:00:00\", \"2016-11-20T23:00:00\", \"2016-11-21T00:00:00\", \"2016-11-21T01:00:00\", \"2016-11-21T02:00:00\", \"2016-11-21T03:00:00\", \"2016-11-21T04:00:00\", \"2016-11-21T05:00:00\", \"2016-11-21T06:00:00\", \"2016-11-21T07:00:00\", \"2016-11-21T08:00:00\", \"2016-11-21T09:00:00\", \"2016-11-21T10:00:00\", \"2016-11-21T11:00:00\", \"2016-11-21T12:00:00\", \"2016-11-21T13:00:00\", \"2016-11-21T14:00:00\", \"2016-11-21T15:00:00\", \"2016-11-21T16:00:00\", \"2016-11-21T17:00:00\", \"2016-11-21T18:00:00\", \"2016-11-21T19:00:00\", \"2016-11-21T20:00:00\", \"2016-11-21T21:00:00\", \"2016-11-21T22:00:00\", \"2016-11-21T23:00:00\", \"2016-11-22T00:00:00\", \"2016-11-22T01:00:00\", \"2016-11-22T02:00:00\", \"2016-11-22T03:00:00\", \"2016-11-22T04:00:00\", \"2016-11-22T05:00:00\", \"2016-11-22T06:00:00\", \"2016-11-22T07:00:00\", \"2016-11-22T08:00:00\", \"2016-11-22T09:00:00\", \"2016-11-22T10:00:00\", \"2016-11-22T11:00:00\", \"2016-11-22T12:00:00\", \"2016-11-22T13:00:00\", \"2016-11-22T14:00:00\", \"2016-11-22T15:00:00\", \"2016-11-22T16:00:00\", \"2016-11-22T17:00:00\", \"2016-11-22T18:00:00\", \"2016-11-22T19:00:00\", \"2016-11-22T20:00:00\", \"2016-11-22T21:00:00\", \"2016-11-22T22:00:00\", \"2016-11-22T23:00:00\", \"2016-11-23T02:00:00\", \"2016-11-23T03:00:00\", \"2016-11-23T04:00:00\", \"2016-11-23T05:00:00\", \"2016-11-23T06:00:00\", \"2016-11-23T07:00:00\", \"2016-11-23T08:00:00\", \"2016-11-23T09:00:00\", \"2016-11-23T10:00:00\", \"2016-11-23T12:00:00\", \"2016-11-23T13:00:00\", \"2016-11-23T14:00:00\", \"2016-11-23T15:00:00\", \"2016-11-23T16:00:00\", \"2016-11-23T17:00:00\", \"2016-11-23T18:00:00\", \"2016-11-23T19:00:00\", \"2016-11-23T20:00:00\", \"2016-11-23T21:00:00\", \"2016-11-23T22:00:00\", \"2016-11-23T23:00:00\", \"2016-11-24T00:00:00\", \"2016-11-24T01:00:00\", \"2016-11-24T02:00:00\", \"2016-11-24T03:00:00\", \"2016-11-24T04:00:00\", \"2016-11-24T05:00:00\", \"2016-11-24T06:00:00\", \"2016-11-24T07:00:00\", \"2016-11-24T08:00:00\", \"2016-11-24T09:00:00\", \"2016-11-24T10:00:00\", \"2016-11-24T11:00:00\", \"2016-11-24T12:00:00\", \"2016-11-24T13:00:00\", \"2016-11-24T14:00:00\", \"2016-11-24T15:00:00\", \"2016-11-24T16:00:00\", \"2016-11-24T17:00:00\", \"2016-11-24T18:00:00\", \"2016-11-24T19:00:00\", \"2016-11-24T20:00:00\", \"2016-11-24T21:00:00\", \"2016-11-24T22:00:00\", \"2016-11-24T23:00:00\", \"2016-11-25T00:00:00\", \"2016-11-25T01:00:00\", \"2016-11-25T02:00:00\", \"2016-11-25T03:00:00\", \"2016-11-25T04:00:00\", \"2016-11-25T05:00:00\", \"2016-11-25T06:00:00\", \"2016-11-25T07:00:00\", \"2016-11-25T08:00:00\", \"2016-11-25T09:00:00\", \"2016-11-25T10:00:00\", \"2016-11-25T11:00:00\", \"2016-11-25T12:00:00\", \"2016-11-25T13:00:00\", \"2016-11-25T14:00:00\", \"2016-11-25T15:00:00\", \"2016-11-25T16:00:00\", \"2016-11-25T17:00:00\", \"2016-11-25T18:00:00\", \"2016-11-25T19:00:00\", \"2016-11-25T20:00:00\", \"2016-11-25T21:00:00\", \"2016-11-25T22:00:00\", \"2016-11-25T23:00:00\", \"2016-11-26T00:00:00\", \"2016-11-26T01:00:00\", \"2016-11-26T02:00:00\", \"2016-11-26T03:00:00\", \"2016-11-26T04:00:00\", \"2016-11-26T05:00:00\", \"2016-11-26T06:00:00\", \"2016-11-26T07:00:00\", \"2016-11-26T08:00:00\", \"2016-11-26T09:00:00\", \"2016-11-26T10:00:00\", \"2016-11-26T11:00:00\", \"2016-11-26T12:00:00\", \"2016-11-26T13:00:00\", \"2016-11-26T14:00:00\", \"2016-11-26T15:00:00\", \"2016-11-26T16:00:00\", \"2016-11-26T17:00:00\", \"2016-11-26T18:00:00\", \"2016-11-26T19:00:00\", \"2016-11-26T20:00:00\", \"2016-11-26T21:00:00\", \"2016-11-26T22:00:00\", \"2016-11-26T23:00:00\", \"2016-11-27T00:00:00\", \"2016-11-27T01:00:00\", \"2016-11-27T02:00:00\", \"2016-11-27T03:00:00\", \"2016-11-27T04:00:00\", \"2016-11-27T05:00:00\", \"2016-11-27T06:00:00\", \"2016-11-27T07:00:00\", \"2016-11-27T08:00:00\", \"2016-11-27T09:00:00\", \"2016-11-27T10:00:00\", \"2016-11-27T11:00:00\", \"2016-11-27T12:00:00\", \"2016-11-27T13:00:00\", \"2016-11-27T14:00:00\", \"2016-11-27T15:00:00\", \"2016-11-27T16:00:00\", \"2016-11-27T17:00:00\", \"2016-11-27T18:00:00\", \"2016-11-27T19:00:00\", \"2016-11-27T20:00:00\", \"2016-11-27T21:00:00\", \"2016-11-27T22:00:00\", \"2016-11-27T23:00:00\", \"2016-11-28T00:00:00\", \"2016-11-28T01:00:00\", \"2016-11-28T02:00:00\", \"2016-11-28T03:00:00\", \"2016-11-28T04:00:00\", \"2016-11-28T05:00:00\", \"2016-11-28T06:00:00\", \"2016-11-28T07:00:00\", \"2016-11-28T08:00:00\", \"2016-11-28T09:00:00\", \"2016-11-28T10:00:00\", \"2016-11-28T11:00:00\", \"2016-11-28T12:00:00\", \"2016-11-28T13:00:00\", \"2016-11-28T14:00:00\", \"2016-11-28T15:00:00\", \"2016-11-28T16:00:00\", \"2016-11-28T17:00:00\", \"2016-11-28T18:00:00\", \"2016-11-28T19:00:00\", \"2016-11-28T20:00:00\", \"2016-11-28T21:00:00\", \"2016-11-28T22:00:00\", \"2016-11-28T23:00:00\", \"2016-11-29T00:00:00\", \"2016-11-29T01:00:00\", \"2016-11-29T02:00:00\", \"2016-11-29T03:00:00\", \"2016-11-29T04:00:00\", \"2016-11-29T05:00:00\", \"2016-11-29T06:00:00\", \"2016-11-29T07:00:00\", \"2016-11-29T08:00:00\", \"2016-11-29T09:00:00\", \"2016-11-29T10:00:00\", \"2016-11-29T11:00:00\", \"2016-11-29T12:00:00\", \"2016-11-29T13:00:00\", \"2016-11-29T14:00:00\", \"2016-11-29T15:00:00\", \"2016-11-29T16:00:00\", \"2016-11-29T17:00:00\", \"2016-11-29T18:00:00\", \"2016-11-29T19:00:00\", \"2016-11-29T20:00:00\", \"2016-11-29T21:00:00\", \"2016-11-29T22:00:00\", \"2016-11-29T23:00:00\", \"2016-11-30T00:00:00\", \"2016-11-30T01:00:00\", \"2016-11-30T02:00:00\", \"2016-11-30T03:00:00\", \"2016-11-30T04:00:00\", \"2016-11-30T05:00:00\", \"2016-11-30T06:00:00\", \"2016-11-30T07:00:00\", \"2016-11-30T08:00:00\", \"2016-11-30T09:00:00\", \"2016-11-30T10:00:00\", \"2016-11-30T11:00:00\", \"2016-11-30T12:00:00\", \"2016-11-30T13:00:00\", \"2016-11-30T14:00:00\", \"2016-11-30T15:00:00\", \"2016-11-30T16:00:00\", \"2016-11-30T17:00:00\", \"2016-11-30T18:00:00\", \"2016-11-30T19:00:00\", \"2016-11-30T20:00:00\", \"2016-11-30T21:00:00\", \"2016-11-30T22:00:00\", \"2016-11-30T23:00:00\", \"2016-12-01T00:00:00\", \"2016-12-01T01:00:00\", \"2016-12-01T02:00:00\", \"2016-12-01T03:00:00\", \"2016-12-01T04:00:00\", \"2016-12-01T05:00:00\", \"2016-12-01T06:00:00\", \"2016-12-01T07:00:00\", \"2016-12-01T08:00:00\", \"2016-12-01T09:00:00\", \"2016-12-01T10:00:00\", \"2016-12-01T11:00:00\", \"2016-12-01T12:00:00\", \"2016-12-01T13:00:00\", \"2016-12-01T14:00:00\", \"2016-12-01T15:00:00\", \"2016-12-01T16:00:00\", \"2016-12-01T17:00:00\", \"2016-12-01T18:00:00\", \"2016-12-01T19:00:00\", \"2016-12-01T20:00:00\", \"2016-12-01T21:00:00\", \"2016-12-01T22:00:00\", \"2016-12-01T23:00:00\", \"2016-12-02T00:00:00\", \"2016-12-02T01:00:00\", \"2016-12-02T02:00:00\", \"2016-12-02T03:00:00\", \"2016-12-02T04:00:00\", \"2016-12-02T05:00:00\", \"2016-12-02T06:00:00\", \"2016-12-02T07:00:00\", \"2016-12-02T08:00:00\", \"2016-12-02T09:00:00\", \"2016-12-02T10:00:00\", \"2016-12-02T11:00:00\", \"2016-12-02T12:00:00\", \"2016-12-02T13:00:00\", \"2016-12-02T14:00:00\", \"2016-12-02T15:00:00\", \"2016-12-02T16:00:00\", \"2016-12-02T17:00:00\", \"2016-12-02T18:00:00\", \"2016-12-02T19:00:00\", \"2016-12-02T20:00:00\", \"2016-12-02T21:00:00\", \"2016-12-02T22:00:00\", \"2016-12-02T23:00:00\", \"2016-12-03T00:00:00\", \"2016-12-03T01:00:00\", \"2016-12-03T02:00:00\", \"2016-12-03T03:00:00\", \"2016-12-03T04:00:00\", \"2016-12-03T05:00:00\", \"2016-12-03T06:00:00\", \"2016-12-03T07:00:00\", \"2016-12-03T08:00:00\", \"2016-12-03T09:00:00\", \"2016-12-03T10:00:00\", \"2016-12-03T11:00:00\", \"2016-12-03T12:00:00\", \"2016-12-03T13:00:00\", \"2016-12-03T14:00:00\", \"2016-12-03T15:00:00\", \"2016-12-03T16:00:00\", \"2016-12-03T17:00:00\", \"2016-12-03T18:00:00\", \"2016-12-03T19:00:00\", \"2016-12-03T20:00:00\", \"2016-12-03T21:00:00\", \"2016-12-03T22:00:00\", \"2016-12-03T23:00:00\", \"2016-12-04T00:00:00\", \"2016-12-04T01:00:00\", \"2016-12-04T02:00:00\", \"2016-12-04T03:00:00\", \"2016-12-04T04:00:00\", \"2016-12-04T05:00:00\", \"2016-12-04T06:00:00\", \"2016-12-04T07:00:00\", \"2016-12-04T08:00:00\", \"2016-12-04T09:00:00\", \"2016-12-04T10:00:00\", \"2016-12-04T11:00:00\", \"2016-12-04T12:00:00\", \"2016-12-04T13:00:00\", \"2016-12-04T14:00:00\", \"2016-12-04T15:00:00\", \"2016-12-04T16:00:00\", \"2016-12-04T17:00:00\", \"2016-12-04T18:00:00\", \"2016-12-04T19:00:00\", \"2016-12-04T20:00:00\", \"2016-12-04T21:00:00\", \"2016-12-04T22:00:00\", \"2016-12-04T23:00:00\", \"2016-12-05T00:00:00\", \"2016-12-05T01:00:00\", \"2016-12-05T02:00:00\", \"2016-12-05T03:00:00\", \"2016-12-05T04:00:00\", \"2016-12-05T05:00:00\", \"2016-12-05T06:00:00\", \"2016-12-05T07:00:00\", \"2016-12-05T08:00:00\", \"2016-12-05T09:00:00\", \"2016-12-05T10:00:00\", \"2016-12-05T11:00:00\", \"2016-12-05T12:00:00\", \"2016-12-05T13:00:00\", \"2016-12-05T14:00:00\", \"2016-12-05T15:00:00\", \"2016-12-05T16:00:00\", \"2016-12-05T17:00:00\", \"2016-12-05T18:00:00\", \"2016-12-05T19:00:00\", \"2016-12-05T20:00:00\", \"2016-12-05T21:00:00\", \"2016-12-05T22:00:00\", \"2016-12-05T23:00:00\", \"2016-12-06T00:00:00\", \"2016-12-06T01:00:00\", \"2016-12-06T02:00:00\", \"2016-12-06T03:00:00\", \"2016-12-06T04:00:00\", \"2016-12-06T05:00:00\", \"2016-12-06T06:00:00\", \"2016-12-06T07:00:00\", \"2016-12-06T08:00:00\", \"2016-12-06T09:00:00\", \"2016-12-06T10:00:00\", \"2016-12-06T11:00:00\", \"2016-12-06T12:00:00\", \"2016-12-06T13:00:00\", \"2016-12-06T14:00:00\", \"2016-12-06T15:00:00\", \"2016-12-06T16:00:00\", \"2016-12-06T17:00:00\", \"2016-12-06T18:00:00\", \"2016-12-06T19:00:00\", \"2016-12-06T20:00:00\", \"2016-12-06T21:00:00\", \"2016-12-06T22:00:00\", \"2016-12-06T23:00:00\", \"2016-12-07T00:00:00\", \"2016-12-07T01:00:00\", \"2016-12-07T02:00:00\", \"2016-12-07T03:00:00\", \"2016-12-07T04:00:00\", \"2016-12-07T05:00:00\", \"2016-12-07T06:00:00\", \"2016-12-07T07:00:00\", \"2016-12-07T08:00:00\", \"2016-12-07T09:00:00\", \"2016-12-07T10:00:00\", \"2016-12-07T11:00:00\", \"2016-12-07T12:00:00\", \"2016-12-07T13:00:00\", \"2016-12-07T14:00:00\", \"2016-12-07T15:00:00\", \"2016-12-07T16:00:00\", \"2016-12-07T17:00:00\", \"2016-12-07T18:00:00\", \"2016-12-07T19:00:00\", \"2016-12-07T20:00:00\", \"2016-12-07T21:00:00\", \"2016-12-07T22:00:00\", \"2016-12-07T23:00:00\", \"2016-12-08T00:00:00\", \"2016-12-08T01:00:00\", \"2016-12-08T02:00:00\", \"2016-12-08T03:00:00\", \"2016-12-08T04:00:00\", \"2016-12-08T05:00:00\", \"2016-12-08T06:00:00\", \"2016-12-08T07:00:00\", \"2016-12-08T08:00:00\", \"2016-12-08T09:00:00\", \"2016-12-08T10:00:00\", \"2016-12-08T11:00:00\", \"2016-12-08T12:00:00\", \"2016-12-08T13:00:00\", \"2016-12-08T14:00:00\", \"2016-12-08T15:00:00\", \"2016-12-08T16:00:00\", \"2016-12-08T17:00:00\", \"2016-12-08T18:00:00\", \"2016-12-08T19:00:00\", \"2016-12-08T20:00:00\", \"2016-12-08T21:00:00\", \"2016-12-08T22:00:00\", \"2016-12-08T23:00:00\", \"2016-12-09T00:00:00\", \"2016-12-09T01:00:00\", \"2016-12-09T02:00:00\", \"2016-12-09T03:00:00\", \"2016-12-09T04:00:00\", \"2016-12-09T05:00:00\", \"2016-12-09T06:00:00\", \"2016-12-09T07:00:00\", \"2016-12-09T08:00:00\", \"2016-12-09T09:00:00\", \"2016-12-09T10:00:00\", \"2016-12-09T11:00:00\", \"2016-12-09T12:00:00\", \"2016-12-09T13:00:00\", \"2016-12-09T14:00:00\", \"2016-12-09T15:00:00\", \"2016-12-09T16:00:00\", \"2016-12-09T17:00:00\", \"2016-12-09T18:00:00\", \"2016-12-09T19:00:00\", \"2016-12-09T20:00:00\", \"2016-12-09T21:00:00\", \"2016-12-09T22:00:00\", \"2016-12-09T23:00:00\", \"2016-12-10T00:00:00\", \"2016-12-10T01:00:00\", \"2016-12-10T02:00:00\", \"2016-12-10T03:00:00\", \"2016-12-10T04:00:00\", \"2016-12-10T05:00:00\", \"2016-12-10T06:00:00\", \"2016-12-10T07:00:00\", \"2016-12-10T08:00:00\", \"2016-12-10T09:00:00\", \"2016-12-10T10:00:00\", \"2016-12-10T11:00:00\", \"2016-12-10T12:00:00\", \"2016-12-10T13:00:00\", \"2016-12-10T14:00:00\", \"2016-12-10T15:00:00\", \"2016-12-10T16:00:00\", \"2016-12-10T17:00:00\", \"2016-12-10T18:00:00\", \"2016-12-10T19:00:00\", \"2016-12-10T20:00:00\", \"2016-12-10T21:00:00\", \"2016-12-10T22:00:00\", \"2016-12-10T23:00:00\", \"2016-12-11T00:00:00\", \"2016-12-11T01:00:00\", \"2016-12-11T02:00:00\", \"2016-12-11T03:00:00\", \"2016-12-11T04:00:00\", \"2016-12-11T05:00:00\", \"2016-12-11T06:00:00\", \"2016-12-11T07:00:00\", \"2016-12-11T08:00:00\", \"2016-12-11T09:00:00\", \"2016-12-11T10:00:00\", \"2016-12-11T11:00:00\", \"2016-12-11T12:00:00\", \"2016-12-11T13:00:00\", \"2016-12-11T14:00:00\", \"2016-12-11T15:00:00\", \"2016-12-11T16:00:00\", \"2016-12-11T17:00:00\", \"2016-12-11T18:00:00\", \"2016-12-11T19:00:00\", \"2016-12-11T20:00:00\", \"2016-12-11T21:00:00\", \"2016-12-11T22:00:00\", \"2016-12-11T23:00:00\", \"2016-12-12T00:00:00\", \"2016-12-12T01:00:00\", \"2016-12-12T02:00:00\", \"2016-12-12T03:00:00\", \"2016-12-12T04:00:00\", \"2016-12-12T05:00:00\", \"2016-12-12T06:00:00\", \"2016-12-12T07:00:00\", \"2016-12-12T08:00:00\", \"2016-12-12T09:00:00\", \"2016-12-12T10:00:00\", \"2016-12-12T11:00:00\", \"2016-12-12T12:00:00\", \"2016-12-12T13:00:00\", \"2016-12-12T14:00:00\", \"2016-12-12T15:00:00\", \"2016-12-12T16:00:00\", \"2016-12-12T17:00:00\", \"2016-12-12T18:00:00\", \"2016-12-12T19:00:00\", \"2016-12-12T20:00:00\", \"2016-12-12T21:00:00\", \"2016-12-12T22:00:00\", \"2016-12-12T23:00:00\", \"2016-12-13T00:00:00\", \"2016-12-13T01:00:00\", \"2016-12-13T02:00:00\", \"2016-12-13T03:00:00\", \"2016-12-13T04:00:00\", \"2016-12-13T05:00:00\", \"2016-12-13T06:00:00\", \"2016-12-13T07:00:00\", \"2016-12-13T08:00:00\", \"2016-12-13T09:00:00\", \"2016-12-13T10:00:00\", \"2016-12-13T11:00:00\", \"2016-12-13T12:00:00\", \"2016-12-13T13:00:00\", \"2016-12-13T14:00:00\", \"2016-12-13T15:00:00\", \"2016-12-13T16:00:00\", \"2016-12-13T17:00:00\", \"2016-12-13T18:00:00\", \"2016-12-13T19:00:00\", \"2016-12-13T20:00:00\", \"2016-12-13T21:00:00\", \"2016-12-13T22:00:00\", \"2016-12-13T23:00:00\", \"2016-12-14T00:00:00\", \"2016-12-14T01:00:00\", \"2016-12-14T02:00:00\", \"2016-12-14T03:00:00\", \"2016-12-14T04:00:00\", \"2016-12-14T05:00:00\", \"2016-12-14T06:00:00\", \"2016-12-14T07:00:00\", \"2016-12-14T08:00:00\", \"2016-12-14T09:00:00\", \"2016-12-14T10:00:00\", \"2016-12-14T11:00:00\", \"2016-12-14T12:00:00\", \"2016-12-14T13:00:00\", \"2016-12-14T14:00:00\", \"2016-12-14T15:00:00\", \"2016-12-14T16:00:00\", \"2016-12-14T17:00:00\", \"2016-12-14T18:00:00\", \"2016-12-14T19:00:00\", \"2016-12-14T20:00:00\", \"2016-12-14T21:00:00\", \"2016-12-14T22:00:00\", \"2016-12-14T23:00:00\", \"2016-12-15T00:00:00\", \"2016-12-15T01:00:00\", \"2016-12-15T02:00:00\", \"2016-12-15T03:00:00\", \"2016-12-15T04:00:00\", \"2016-12-15T05:00:00\", \"2016-12-15T06:00:00\", \"2016-12-15T07:00:00\", \"2016-12-15T08:00:00\", \"2016-12-15T09:00:00\", \"2016-12-15T10:00:00\", \"2016-12-15T11:00:00\", \"2016-12-15T12:00:00\", \"2016-12-15T13:00:00\", \"2016-12-15T14:00:00\", \"2016-12-15T15:00:00\", \"2016-12-15T16:00:00\", \"2016-12-15T17:00:00\", \"2016-12-15T18:00:00\", \"2016-12-15T19:00:00\", \"2016-12-15T20:00:00\", \"2016-12-15T21:00:00\", \"2016-12-15T22:00:00\", \"2016-12-15T23:00:00\", \"2016-12-16T00:00:00\", \"2016-12-16T01:00:00\", \"2016-12-16T02:00:00\", \"2016-12-16T03:00:00\", \"2016-12-16T04:00:00\", \"2016-12-16T05:00:00\", \"2016-12-16T06:00:00\", \"2016-12-16T07:00:00\", \"2016-12-16T08:00:00\", \"2016-12-16T09:00:00\", \"2016-12-16T10:00:00\", \"2016-12-16T11:00:00\", \"2016-12-16T12:00:00\", \"2016-12-16T13:00:00\", \"2016-12-16T14:00:00\", \"2016-12-16T15:00:00\", \"2016-12-16T16:00:00\", \"2016-12-16T17:00:00\", \"2016-12-16T18:00:00\", \"2016-12-16T19:00:00\", \"2016-12-16T20:00:00\", \"2016-12-16T21:00:00\", \"2016-12-16T22:00:00\", \"2016-12-16T23:00:00\", \"2016-12-17T00:00:00\", \"2016-12-17T01:00:00\", \"2016-12-17T02:00:00\", \"2016-12-17T03:00:00\", \"2016-12-17T04:00:00\", \"2016-12-17T05:00:00\", \"2016-12-17T06:00:00\", \"2016-12-17T07:00:00\", \"2016-12-17T08:00:00\", \"2016-12-17T09:00:00\", \"2016-12-17T10:00:00\", \"2016-12-17T11:00:00\", \"2016-12-17T12:00:00\", \"2016-12-17T13:00:00\", \"2016-12-17T14:00:00\", \"2016-12-17T15:00:00\", \"2016-12-17T16:00:00\", \"2016-12-17T17:00:00\", \"2016-12-17T18:00:00\", \"2016-12-17T19:00:00\", \"2016-12-17T20:00:00\", \"2016-12-17T21:00:00\", \"2016-12-17T22:00:00\", \"2016-12-17T23:00:00\", \"2016-12-18T00:00:00\", \"2016-12-18T01:00:00\", \"2016-12-18T02:00:00\", \"2016-12-18T03:00:00\", \"2016-12-18T04:00:00\", \"2016-12-18T05:00:00\", \"2016-12-18T06:00:00\", \"2016-12-18T07:00:00\", \"2016-12-18T08:00:00\", \"2016-12-18T09:00:00\", \"2016-12-18T10:00:00\", \"2016-12-18T11:00:00\", \"2016-12-18T12:00:00\", \"2016-12-18T13:00:00\", \"2016-12-18T14:00:00\", \"2016-12-18T15:00:00\", \"2016-12-18T16:00:00\", \"2016-12-18T17:00:00\", \"2016-12-18T18:00:00\", \"2016-12-18T19:00:00\", \"2016-12-18T20:00:00\", \"2016-12-18T21:00:00\", \"2016-12-18T22:00:00\", \"2016-12-18T23:00:00\", \"2016-12-19T00:00:00\", \"2016-12-19T01:00:00\", \"2016-12-19T02:00:00\", \"2016-12-19T03:00:00\", \"2016-12-19T04:00:00\", \"2016-12-19T05:00:00\", \"2016-12-19T06:00:00\", \"2016-12-19T07:00:00\", \"2016-12-19T08:00:00\", \"2016-12-19T09:00:00\", \"2016-12-19T10:00:00\", \"2016-12-19T11:00:00\", \"2016-12-19T12:00:00\", \"2016-12-19T13:00:00\", \"2016-12-19T14:00:00\", \"2016-12-19T15:00:00\", \"2016-12-19T16:00:00\", \"2016-12-19T17:00:00\", \"2016-12-19T18:00:00\", \"2016-12-19T19:00:00\", \"2016-12-19T20:00:00\", \"2016-12-19T21:00:00\", \"2016-12-19T22:00:00\", \"2016-12-19T23:00:00\", \"2016-12-20T00:00:00\", \"2016-12-20T01:00:00\", \"2016-12-20T02:00:00\", \"2016-12-20T03:00:00\", \"2016-12-20T04:00:00\", \"2016-12-20T05:00:00\", \"2016-12-20T06:00:00\", \"2016-12-20T07:00:00\", \"2016-12-20T08:00:00\", \"2016-12-20T09:00:00\", \"2016-12-20T10:00:00\", \"2016-12-20T11:00:00\", \"2016-12-20T12:00:00\", \"2016-12-20T13:00:00\", \"2016-12-20T14:00:00\", \"2016-12-20T15:00:00\", \"2016-12-20T16:00:00\", \"2016-12-20T17:00:00\", \"2016-12-20T18:00:00\", \"2016-12-20T19:00:00\", \"2016-12-20T20:00:00\", \"2016-12-20T21:00:00\", \"2016-12-20T22:00:00\", \"2016-12-20T23:00:00\", \"2016-12-21T00:00:00\", \"2016-12-21T01:00:00\", \"2016-12-21T02:00:00\", \"2016-12-21T03:00:00\", \"2016-12-21T04:00:00\", \"2016-12-21T05:00:00\", \"2016-12-21T06:00:00\", \"2016-12-21T07:00:00\", \"2016-12-21T08:00:00\", \"2016-12-21T09:00:00\", \"2016-12-21T10:00:00\", \"2016-12-21T11:00:00\", \"2016-12-21T12:00:00\", \"2016-12-21T13:00:00\", \"2016-12-21T14:00:00\", \"2016-12-21T15:00:00\", \"2016-12-21T16:00:00\", \"2016-12-21T17:00:00\", \"2016-12-21T18:00:00\", \"2016-12-21T19:00:00\", \"2016-12-21T20:00:00\", \"2016-12-21T21:00:00\", \"2016-12-21T22:00:00\", \"2016-12-21T23:00:00\", \"2016-12-22T00:00:00\", \"2016-12-22T01:00:00\", \"2016-12-22T02:00:00\", \"2016-12-22T03:00:00\", \"2016-12-22T04:00:00\", \"2016-12-22T05:00:00\", \"2016-12-22T06:00:00\", \"2016-12-22T07:00:00\", \"2016-12-22T08:00:00\", \"2016-12-22T09:00:00\", \"2016-12-22T10:00:00\", \"2016-12-22T11:00:00\", \"2016-12-22T12:00:00\", \"2016-12-22T13:00:00\", \"2016-12-22T14:00:00\", \"2016-12-22T15:00:00\", \"2016-12-22T16:00:00\", \"2016-12-22T17:00:00\", \"2016-12-22T18:00:00\", \"2016-12-22T19:00:00\", \"2016-12-22T20:00:00\", \"2016-12-22T21:00:00\", \"2016-12-22T22:00:00\", \"2016-12-22T23:00:00\", \"2016-12-23T00:00:00\", \"2016-12-23T01:00:00\", \"2016-12-23T02:00:00\", \"2016-12-23T03:00:00\", \"2016-12-23T04:00:00\", \"2016-12-23T05:00:00\", \"2016-12-23T06:00:00\", \"2016-12-23T07:00:00\", \"2016-12-23T08:00:00\", \"2016-12-23T09:00:00\", \"2016-12-23T10:00:00\", \"2016-12-23T11:00:00\", \"2016-12-23T12:00:00\", \"2016-12-23T13:00:00\", \"2016-12-23T14:00:00\", \"2016-12-23T15:00:00\", \"2016-12-23T16:00:00\", \"2016-12-23T17:00:00\", \"2016-12-23T18:00:00\", \"2016-12-23T19:00:00\", \"2016-12-23T20:00:00\", \"2016-12-23T21:00:00\", \"2016-12-23T22:00:00\", \"2016-12-23T23:00:00\", \"2016-12-24T00:00:00\", \"2016-12-24T01:00:00\", \"2016-12-24T02:00:00\", \"2016-12-24T03:00:00\", \"2016-12-24T04:00:00\", \"2016-12-24T05:00:00\", \"2016-12-24T06:00:00\", \"2016-12-24T07:00:00\", \"2016-12-24T08:00:00\", \"2016-12-24T09:00:00\", \"2016-12-24T10:00:00\", \"2016-12-24T11:00:00\", \"2016-12-24T12:00:00\", \"2016-12-24T13:00:00\", \"2016-12-24T14:00:00\", \"2016-12-24T15:00:00\", \"2016-12-24T16:00:00\", \"2016-12-24T17:00:00\", \"2016-12-24T18:00:00\", \"2016-12-24T19:00:00\", \"2016-12-24T20:00:00\", \"2016-12-24T21:00:00\", \"2016-12-24T22:00:00\", \"2016-12-24T23:00:00\", \"2016-12-25T00:00:00\", \"2016-12-25T01:00:00\", \"2016-12-25T02:00:00\", \"2016-12-25T03:00:00\", \"2016-12-25T04:00:00\", \"2016-12-25T05:00:00\", \"2016-12-25T06:00:00\", \"2016-12-25T07:00:00\", \"2016-12-25T08:00:00\", \"2016-12-25T09:00:00\", \"2016-12-25T10:00:00\", \"2016-12-25T11:00:00\", \"2016-12-25T12:00:00\", \"2016-12-25T13:00:00\", \"2016-12-25T14:00:00\", \"2016-12-25T15:00:00\", \"2016-12-25T16:00:00\", \"2016-12-25T17:00:00\", \"2016-12-25T18:00:00\", \"2016-12-25T19:00:00\", \"2016-12-25T20:00:00\", \"2016-12-25T21:00:00\", \"2016-12-25T22:00:00\", \"2016-12-25T23:00:00\", \"2016-12-26T00:00:00\", \"2016-12-26T01:00:00\", \"2016-12-26T02:00:00\", \"2016-12-26T03:00:00\", \"2016-12-26T04:00:00\", \"2016-12-26T05:00:00\", \"2016-12-26T06:00:00\", \"2016-12-26T07:00:00\", \"2016-12-26T08:00:00\", \"2016-12-26T09:00:00\", \"2016-12-26T10:00:00\", \"2016-12-26T11:00:00\", \"2016-12-26T12:00:00\", \"2016-12-26T13:00:00\", \"2016-12-26T14:00:00\", \"2016-12-26T15:00:00\", \"2016-12-26T16:00:00\", \"2016-12-26T17:00:00\", \"2016-12-26T18:00:00\", \"2016-12-26T19:00:00\", \"2016-12-26T20:00:00\", \"2016-12-26T21:00:00\", \"2016-12-26T22:00:00\", \"2016-12-26T23:00:00\", \"2016-12-27T00:00:00\", \"2016-12-27T01:00:00\", \"2016-12-27T02:00:00\", \"2016-12-27T03:00:00\", \"2016-12-27T04:00:00\", \"2016-12-27T05:00:00\", \"2016-12-27T06:00:00\", \"2016-12-27T07:00:00\", \"2016-12-27T08:00:00\", \"2016-12-27T09:00:00\", \"2016-12-27T10:00:00\", \"2016-12-27T11:00:00\", \"2016-12-27T12:00:00\", \"2016-12-27T13:00:00\", \"2016-12-27T14:00:00\", \"2016-12-27T15:00:00\", \"2016-12-27T16:00:00\", \"2016-12-27T17:00:00\", \"2016-12-27T18:00:00\", \"2016-12-27T19:00:00\", \"2016-12-27T20:00:00\", \"2016-12-27T21:00:00\", \"2016-12-27T22:00:00\", \"2016-12-27T23:00:00\", \"2016-12-28T00:00:00\", \"2016-12-28T01:00:00\", \"2016-12-28T02:00:00\", \"2016-12-28T03:00:00\", \"2016-12-28T04:00:00\", \"2016-12-28T05:00:00\", \"2016-12-28T06:00:00\", \"2016-12-28T07:00:00\", \"2016-12-28T08:00:00\", \"2016-12-28T09:00:00\", \"2016-12-28T10:00:00\", \"2016-12-28T11:00:00\", \"2016-12-28T12:00:00\", \"2016-12-28T13:00:00\", \"2016-12-28T14:00:00\", \"2016-12-28T15:00:00\", \"2016-12-28T16:00:00\", \"2016-12-28T17:00:00\", \"2016-12-28T18:00:00\", \"2016-12-28T19:00:00\", \"2016-12-28T20:00:00\", \"2016-12-28T21:00:00\", \"2016-12-28T22:00:00\", \"2016-12-28T23:00:00\", \"2016-12-29T00:00:00\", \"2016-12-29T01:00:00\", \"2016-12-29T02:00:00\", \"2016-12-29T03:00:00\", \"2016-12-29T04:00:00\", \"2016-12-29T05:00:00\", \"2016-12-29T06:00:00\", \"2016-12-29T07:00:00\", \"2016-12-29T08:00:00\", \"2016-12-29T09:00:00\", \"2016-12-29T10:00:00\", \"2016-12-29T11:00:00\", \"2016-12-29T12:00:00\", \"2016-12-29T13:00:00\", \"2016-12-29T14:00:00\", \"2016-12-29T15:00:00\", \"2016-12-29T16:00:00\", \"2016-12-29T17:00:00\", \"2016-12-29T18:00:00\", \"2016-12-29T19:00:00\", \"2016-12-29T20:00:00\", \"2016-12-29T21:00:00\", \"2016-12-29T22:00:00\", \"2016-12-29T23:00:00\", \"2016-12-30T00:00:00\", \"2016-12-30T01:00:00\", \"2016-12-30T02:00:00\", \"2016-12-30T03:00:00\", \"2016-12-30T04:00:00\", \"2016-12-30T05:00:00\", \"2016-12-30T06:00:00\", \"2016-12-30T07:00:00\", \"2016-12-30T08:00:00\", \"2016-12-30T09:00:00\", \"2016-12-30T10:00:00\", \"2016-12-30T11:00:00\", \"2016-12-30T12:00:00\", \"2016-12-30T13:00:00\", \"2016-12-30T14:00:00\", \"2016-12-30T15:00:00\", \"2016-12-30T16:00:00\", \"2016-12-30T17:00:00\", \"2016-12-30T18:00:00\", \"2016-12-30T19:00:00\", \"2016-12-30T20:00:00\", \"2016-12-30T21:00:00\", \"2016-12-30T22:00:00\", \"2016-12-30T23:00:00\", \"2016-12-31T00:00:00\", \"2016-12-31T01:00:00\", \"2016-12-31T02:00:00\", \"2016-12-31T03:00:00\", \"2016-12-31T04:00:00\", \"2016-12-31T05:00:00\", \"2016-12-31T06:00:00\", \"2016-12-31T07:00:00\", \"2016-12-31T08:00:00\", \"2016-12-31T09:00:00\", \"2016-12-31T10:00:00\", \"2016-12-31T11:00:00\", \"2016-12-31T12:00:00\", \"2016-12-31T13:00:00\", \"2016-12-31T14:00:00\", \"2016-12-31T15:00:00\", \"2016-12-31T16:00:00\", \"2016-12-31T17:00:00\", \"2016-12-31T18:00:00\", \"2016-12-31T19:00:00\", \"2016-12-31T20:00:00\", \"2016-12-31T21:00:00\", \"2016-12-31T22:00:00\", \"2016-12-31T23:00:00\"], \"xaxis\": \"x\", \"y\": [3.8, 3.7, 2.6, 2.0, 2.3, 2.4, 2.3, 2.6, 2.2, 2.2, 4.0, 5.4, 7.0, 7.2, 7.4, 7.5, 7.6, 8.0, 8.1, 8.1, 8.2, 8.5, 8.3, 7.9, 8.1, 8.2, 8.5, 9.1, 9.3, 9.6, 9.7, 9.4, 9.7, 9.9, 9.8, 9.9, 10.1, 10.0, 10.0, 10.2, 11.2, 10.9, 10.9, 10.4, 10.1, 9.9, 9.9, 10.0, 9.7, 9.3, 8.5, 7.7, 6.8, 6.3, 5.2, 5.8, 6.8, 7.9, 8.9, 9.2, 9.1, 8.9, 8.9, 9.6, 9.4, 8.3, 8.2, 8.1, 7.8, 7.4, 6.6, 6.5, 6.0, 6.3, 6.6, 6.1, 6.4, 5.8, 6.4, 6.7, 7.4, 7.7, 8.9, 9.7, 9.8, 10.1, 10.4, 9.8, 9.2, 8.6, 8.2, 7.7, 7.6, 7.9, 7.2, 7.7, 7.4, 8.1, 8.2, 8.3, 6.4, 6.7, 5.7, 7.1, 6.7, 6.7, 7.4, 8.7, 9.3, 9.6, 9.3, 9.4, 9.2, 8.7, 9.0, 8.7, 8.2, 7.5, 6.9, 6.5, 6.4, 6.3, 6.5, 6.4, 6.2, 5.6, 5.6, 4.9, 5.4, 5.6, 5.0, 5.8, 6.9, 7.7, 7.9, 8.1, 7.9, 7.4, 7.1, 6.4, 5.9, 5.7, 5.6, 5.9, 6.7, 7.5, 8.0, 8.3, 7.9, 7.4, 7.6, 7.8, 8.4, 9.2, 10.2, 9.7, 8.6, 7.6, 7.9, 7.8, 7.0, 5.9, 5.3, 5.1, 4.8, 4.2, 4.5, 3.0, 3.3, 3.2, 2.6, 2.7, 1.9, 2.4, 1.6, 4.2, 4.4, 5.8, 6.7, 7.7, 7.7, 8.9, 8.8, 8.4, 7.8, 7.8, 8.0, 7.3, 7.3, 7.4, 7.0, 7.1, 7.2, 7.5, 8.0, 7.6, 7.8, 6.6, 6.0, 7.6, 8.6, 9.0, 9.7, 10.6, 10.7, 10.4, 10.9, 10.8, 10.6, 9.9, 9.9, 9.8, 10.2, 6.9, 7.0, 6.5, 6.8, 6.2, 6.3, 5.4, 5.6, 5.5, 6.3, 6.3, 5.6, 5.6, 6.2, 7.0, 7.8, 8.7, 7.9, 7.5, 6.7, 6.1, 5.2, 5.1, 5.1, 5.4, 5.0, 6.1, 5.3, 5.7, 5.6, 6.6, 6.3, 6.1, 5.4, 5.6, 5.8, 6.2, 6.0, 6.1, 6.7, 6.7, 6.8, 7.1, 6.4, 6.2, 5.8, 6.1, 5.7, 4.8, 4.4, 4.6, 3.2, 4.0, 4.4, 4.2, 4.7, 5.0, 5.0, 4.4, 4.3, 4.6, 5.7, 6.3, 6.4, 6.9, 7.2, 6.6, 5.6, 5.8, 5.8, 6.1, 6.3, 6.0, 5.5, 5.3, 5.0, 5.2, 5.3, 4.9, 3.7, 2.6, 2.4, 2.5, 2.3, 2.8, 4.4, 4.8, 5.4, 6.1, 6.8, 6.4, 6.1, 6.0, 5.4, 5.6, 5.6, 4.9, 4.8, 5.0, 4.9, 4.9, 4.4, 3.6, 2.6, 2.9, 2.3, 2.3, 2.5, 3.2, 3.3, 4.6, 4.6, 4.9, 5.2, 5.0, 4.8, 3.8, 3.6, 3.5, 3.3, 3.1, 3.2, 2.6, 2.1, 2.0, 1.6, 2.1, 1.6, 1.5, 1.1, 1.8, 2.1, 1.8, 2.9, 4.0, 4.5, 5.6, 5.4, 5.6, 4.8, 4.0, 3.5, 2.5, 2.1, 3.3, 2.8, 2.6, 2.4, 2.2, 2.4, 2.0, 1.2, 0.7, 0.4, 0.0, -1.1, -1.1, 1.3, 3.1, 4.1, 4.3, 4.9, 4.8, 3.9, 3.3, 2.7, 2.8, 2.9, 3.1, 2.9, 2.1, 2.0, 1.6, 1.6, 0.9, 0.4, 0.3, 0.3, 0.4, 0.7, 0.9, 1.6, 2.2, 3.0, 3.4, 3.5, 3.8, 3.7, 3.5, 3.5, 3.6, 3.7, 3.9, 4.2, 4.2, 4.3, 4.4, 4.4, 4.2, 4.0, 3.7, 3.6, 3.7, 3.9, 4.0, 4.2, 4.7, 4.9, 5.0, 4.9, 4.9, 3.5, 2.4, 1.4, 0.6, -0.4, 0.7, 0.2, 0.0, -1.1, -1.2, -2.1, -2.0, -1.4, -1.3, -1.1, -0.9, -1.1, -1.0, -1.0, 3.4, 4.1, 4.6, 4.8, 4.3, 4.2, 2.7, 1.8, 1.2, 0.4, -0.9, -1.1, -2.0, -2.6, -3.0, -3.1, -3.7, -3.8, -3.5, -3.5, -3.5, -3.3, -2.9, -1.3, 1.3, 3.2, 5.2, 6.7, 6.2, 4.3, 3.5, 2.1, 2.3, 2.4, 0.4, 0.1, 0.7, 0.0, -0.1, -2.0, -1.0, -1.0, -0.2, 1.2, 1.3, 1.7, 2.3, 3.6, 4.7, 5.8, 7.4, 8.0, 7.3, 6.7, 6.2, 5.8, 5.4, 4.5, 4.2, 3.6, 4.7, 5.1, 5.6, 5.9, 5.9, 5.7, 5.8, 6.0, 6.5, 6.2, 6.3, 6.5, 7.6, 8.0, 8.8, 9.4, 10.0, 10.8, 9.8, 9.4, 8.9, 9.0, 8.4, 7.7, 7.6, 6.2, 6.9, 6.2, 5.9, 5.6, 4.2, 4.7, 5.7, 5.8, 5.9, 7.1, 7.1, 7.9, 9.0, 10.1, 11.0, 9.1, 8.6, 8.2, 8.2, 8.4, 8.5, 8.4, 8.6, 8.7, 9.0, 9.2, 9.3, 9.8, 10.0, 11.1, 12.0, 11.9, 12.2, 12.5, 13.3, 14.0, 14.9, 14.8, 14.4, 14.0, 13.3, 12.8, 12.2, 12.0, 12.6, 12.3, 11.9, 11.5, 11.0, 11.4, 11.4, 11.5, 10.7, 10.5, 10.1, 9.8, 10.2, 11.2, 11.9, 12.2, 12.9, 13.0, 12.6, 13.3, 12.4, 12.0, 11.8, 11.0, 9.8, 8.9, 8.1, 7.3, 6.7, 6.3, 5.6, 5.9, 6.1, 7.4, 7.7, 8.7, 9.4, 9.9, 10.6, 10.9, 10.0, 10.1, 10.5, 10.4, 10.8, 11.1, 11.1, 11.2, 11.4, 11.3, 11.4, 11.4, 11.6, 11.9, 11.9, 12.1, 12.3, 12.2, 12.4, 12.4, 12.6, 13.1, 12.9, 13.2, 13.1, 12.8, 12.9, 12.1, 11.6, 10.3, 9.6, 9.1, 8.9, 8.3, 7.8, 7.1, 5.8, 4.4, 3.3, 2.9, 2.6, 2.3, 2.7, 2.8, 3.1, 4.8, 6.7, 8.0, 9.4, 9.5, 9.4, 9.1, 8.3, 7.9, 7.7, 8.2, 8.9, 9.6, 9.2, 9.4, 9.6, 10.2, 10.4, 10.3, 10.1, 10.5, 11.1, 11.2, 11.3, 11.5, 11.6, 11.8, 11.8, 11.5, 11.8, 11.9, 11.9, 11.9, 11.6, 11.5, 11.1, 11.2, 11.1, 10.6, 10.8, 10.9, 10.4, 9.2, 9.0, 8.1, 8.0, 8.0, 7.5, 7.2, 7.0, 7.9, 7.6, 7.8, 7.8, 6.6, 6.6, 5.7, 5.3, 5.2, 5.5, 5.3, 5.2, 4.1, 4.2, 4.0, 4.4, 4.7, 5.0, 5.4, 5.7, 6.1, 6.2, 6.9, 8.2, 9.4, 12.0, 13.4, 13.2, 12.9, 12.9, 12.9, 12.8, 12.7, 12.7, 12.5, 12.5, 12.3, 12.3, 12.1, 11.8, 11.7, 11.5, 11.7, 11.8, 11.7, 11.7, 11.9, 12.5, 12.9, 13.1, 13.6, 13.8, 13.9, 13.5, 13.2, 12.3, 11.3, 10.9, 9.9, 9.6, 9.0, 9.0, 9.1, 8.6, 8.3, 8.0, 8.7, 9.1, 9.1, 8.7, 8.1, 8.6, 9.6, 9.1, 10.0, 9.5, 8.5, 7.2, 6.6, 6.5, 6.1, 5.6, 5.1, 4.8, 4.1, 4.1, 3.0, 3.1, 2.4, 2.5, 2.6, 2.9, 3.3, 4.1, 6.0, 6.7, 7.0, 7.7, 8.1, 9.0, 9.1, 7.5, 6.9, 5.6, 5.2, 4.5, 4.5, 4.5, 3.5, 4.5, 5.0, 5.3, 5.7, 6.9, 8.1, 8.3, 8.7, 9.6, 10.7, 11.4, 12.1, 13.1, 13.4, 14.0, 13.6, 12.0, 9.8, 10.3, 10.7, 10.4, 10.5, 10.7, 10.5, 10.5, 10.1, 9.8, 9.9, 9.8, 9.5, 9.3, 8.9, 10.0, 10.1, 11.3, 10.5, 11.0, 10.6, 10.6, 10.7, 10.6, 10.5, 10.4, 10.0, 9.9, 9.8, 10.0, 10.3, 9.6, 9.4, 9.5, 9.2, 9.6, 9.5, 10.1, 10.2, 10.3, 10.3, 11.1, 11.4, 11.7, 12.1, 12.1, 12.1, 12.0, 11.2, 10.5, 9.5, 9.5, 9.5, 7.4, 6.1, 5.6, 5.7, 5.7, 5.3, 5.5, 5.1, 5.2, 5.3, 6.1, 7.7, 8.2, 9.4, 9.4, 9.5, 9.3, 9.0, 8.6, 7.0, 7.1, 7.4, 7.9, 9.7, 8.5, 8.6, 8.1, 8.4, 7.7, 7.5, 7.3, 7.1, 7.0, 7.0, 7.5, 8.5, 9.0, 9.5, 7.4, 8.9, 8.8, 8.1, 8.2, 8.3, 8.5, 7.5, 7.0, 6.6, 6.3, 5.8, 5.2, 5.0, 4.9, 4.4, 3.0, 4.8, 5.3, 5.6, 5.4, 5.1, 5.3, 5.9, 6.7, 7.9, 6.7, 7.0, 5.8, 3.9, 4.0, 4.3, 4.7, 4.7, 4.6, 5.1, 5.4, 5.8, 5.3, 4.3, 3.7, 4.4, 4.9, 4.8, 5.0, 6.0, 6.3, 6.9, 7.8, 8.3, 7.9, 8.1, 7.6, 6.6, 5.6, 5.2, 4.6, 4.0, 3.3, 1.8, 0.7, 0.8, -0.2, -0.7, 0.1, -0.4, -0.4, -0.1, 0.4, 2.8, 6.2, 6.5, 7.8, 8.0, 8.4, 7.6, 6.5, 6.6, 6.5, 5.2, 4.1, 3.9, 3.7, 1.9, 1.3, 0.7, 1.5, 2.0, 2.4, 2.1, 2.2, 3.1, 4.3, 5.9, 6.2, 5.4, 5.4, 5.5, 5.2, 5.2, 5.4, 5.4, 5.0, 4.9, 4.0, 4.3, 4.4, 4.6, 3.6, 2.7, 2.7, 3.0, 3.3, 3.5, 3.0, 3.6, 3.8, 3.7, 4.0, 4.4, 4.8, 4.7, 4.9, 4.6, 4.6, 4.3, 4.1, 3.9, 3.8, 3.7, 3.6, 3.4, 3.3, 3.1, 3.0, 2.8, 2.6, 1.8, 1.9, 2.5, 3.8, 4.6, 5.6, 6.2, 6.5, 6.0, 5.8, 5.1, 4.7, 3.7, 3.4, 3.0, 2.7, 2.5, 2.1, 1.7, 1.1, 0.8, 0.5, 0.6, 0.2, 0.5, 0.9, 2.0, 2.6, 3.7, 5.0, 5.1, 6.0, 4.8, 3.8, 3.3, 2.7, 1.9, 0.9, -0.3, -0.9, -0.8, -1.8, -1.4, -1.3, -1.8, -1.4, 1.2, 3.1, 4.9, 6.1, 7.1, 7.4, 7.2, 6.8, 5.8, 4.6, 4.5, 3.4, 3.2, 2.8, 2.3, 3.0, 1.6, 0.9, 1.5, 2.8, 3.1, 3.0, 3.7, 4.4, 5.2, 5.9, 6.1, 6.4, 6.1, 6.2, 5.8, 5.1, 4.9, 4.8, 4.6, 4.8, 4.8, 4.6, 4.5, 4.3, 3.5, 3.4, 3.4, 3.5, 3.5, 3.5, 3.6, 3.9, 3.6, 4.3, 5.7, 7.2, 7.2, 4.1, 4.3, 2.8, 1.9, 1.1, 0.3, 0.1, -0.2, -0.5, 0.3, 0.0, 0.6, 1.0, 3.0, 5.5, 7.6, 8.5, 9.3, 9.5, 9.6, 8.5, 8.1, 7.6, 7.5, 7.8, 8.3, 8.4, 8.8, 9.3, 9.6, 9.6, 9.5, 8.8, 8.7, 8.4, 8.8, 9.1, 10.2, 10.4, 11.3, 11.2, 11.0, 10.7, 10.9, 11.1, 11.8, 11.8, 11.8, 12.0, 11.8, 12.0, 11.9, 12.0, 12.0, 11.7, 11.4, 11.5, 11.2, 11.3, 11.5, 12.1, 12.5, 12.9, 13.2, 13.5, 14.2, 14.4, 14.4, 14.4, 14.3, 13.6, 12.8, 12.5, 12.4, 12.0, 11.7, 11.8, 11.3, 10.9, 10.8, 10.9, 10.9, 9.1, 8.6, 8.3, 8.3, 8.4, 8.0, 8.1, 8.8, 8.9, 8.7, 9.2, 8.3, 7.7, 7.4, 7.0, 6.9, 6.2, 5.5, 5.0, 4.6, 4.8, 4.8, 4.6, 4.0, 2.7, 4.3, 4.7, 5.6, 7.0, 7.8, 8.1, 7.7, 8.3, 8.4, 9.0, 8.6, 6.8, 5.7, 5.0, 4.2, 3.4, 2.1, 1.4, 0.3, -0.3, -0.4, -0.6, -0.6, -0.7, -1.3, -0.5, 1.5, 3.6, 5.3, 6.8, 7.5, 7.6, 7.7, 6.5, 6.5, 5.3, 4.1, 3.2, 2.2, 1.1, 1.1, 0.3, -0.5, -0.3, -1.5, -1.3, -0.6, -0.4, -0.5, 0.3, 2.0, 3.0, 3.3, 4.5, 4.9, 5.7, 5.3, 6.0, 5.5, 4.3, 3.3, 2.2, 2.5, 1.8, 1.5, 0.9, 0.8, 1.3, 1.0, 1.1, 0.6, 1.1, 1.7, 2.1, 3.2, 4.0, 5.8, 7.2, 7.8, 7.5, 6.6, 6.3, 5.6, 4.3, 5.0, 4.9, 4.7, 4.6, 4.8, 4.8, 4.3, 4.0, 3.6, 3.4, 3.4, 3.4, 3.0, 3.9, 5.0, 5.3, 5.9, 5.6, 5.9, 6.1, 5.7, 5.6, 5.3, 5.0, 4.8, 4.0, 3.8, 3.7, 3.7, 3.3, 3.1, 3.3, 2.7, 2.7, 2.8, 2.8, 3.2, 3.8, 4.2, 5.1, 6.1, 6.8, 7.6, 7.6, 7.4, 7.0, 6.7, 5.9, 4.9, 4.4, 4.3, 4.6, 4.8, 3.8, 3.0, 2.0, 1.4, 0.8, 1.2, 0.9, 0.6, 1.4, 4.4, 6.3, 7.5, 7.7, 8.4, 8.6, 9.2, 8.1, 7.8, 7.2, 7.2, 6.6, 6.4, 5.9, 5.5, 5.2, 4.6, 4.5, 4.5, 5.0, 5.9, 6.5, 7.1, 8.0, 8.9, 9.8, 10.1, 10.4, 11.5, 12.4, 12.7, 12.5, 11.6, 10.5, 9.9, 9.6, 9.6, 9.0, 8.7, 7.7, 7.8, 7.2, 5.5, 5.3, 4.5, 4.4, 4.0, 4.5, 4.9, 4.8, 3.5, 4.9, 4.7, 6.1, 6.9, 5.4, 5.5, 5.0, 5.5, 5.1, 5.4, 5.9, 6.3, 6.5, 6.7, 6.1, 6.1, 5.2, 4.8, 4.3, 3.4, 3.5, 4.6, 6.6, 6.9, 8.2, 8.8, 8.3, 8.2, 8.3, 7.9, 7.4, 6.9, 6.7, 6.6, 6.7, 6.8, 6.8, 7.2, 6.7, 5.5, 4.7, 3.7, 1.9, 2.2, 2.7, 4.3, 5.5, 5.9, 7.3, 6.8, 7.8, 7.3, 6.8, 5.6, 4.8, 4.6, 4.5, 2.9, 2.2, 1.5, 1.0, 0.5, -0.1, -0.6, -0.6, -0.2, -0.2, 0.0, 0.6, 1.5, 2.8, 4.5, 5.6, 6.3, 3.8, 4.4, 4.6, 4.8, 4.6, 3.8, 3.5, 3.4, 3.3, 2.8, 2.5, 2.1, 1.9, 1.4, 1.2, 0.8, 0.6, 0.6, 1.4, 2.7, 3.9, 5.4, 5.5, 6.2, 6.2, 5.7, 5.7, 5.6, 5.3, 4.7, 4.2, 3.9, 3.8, 3.6, 3.6, 3.2, 3.0, 1.7, 0.9, 0.5, 0.7, 0.3, 0.8, 2.8, 4.0, 5.6, 6.5, 6.3, 6.8, 7.7, 7.0, 6.8, 6.5, 5.9, 5.3, 4.8, 3.5, 2.9, 1.0, 0.2, -0.2, -1.1, -0.8, -1.3, -1.3, -0.8, 0.6, 1.8, 2.9, 4.9, 6.5, 7.9, 8.6, 8.3, 8.0, 7.9, 6.8, 6.2, 6.6, 7.1, 7.3, 7.5, 7.7, 7.7, 7.9, 7.7, 7.7, 7.6, 7.7, 8.3, 7.7, 7.7, 8.2, 8.6, 9.0, 10.7, 10.4, 8.5, 7.0, 7.2, 7.5, 7.3, 6.6, 6.4, 6.2, 6.1, 6.1, 6.0, 5.9, 5.5, 5.4, 5.4, 5.4, 5.4, 5.5, 5.7, 6.1, 6.3, 7.0, 8.0, 8.4, 8.8, 9.0, 8.8, 8.7, 8.1, 7.1, 6.2, 5.2, 4.7, 3.7, 3.0, 2.3, 1.3, 0.9, 0.4, 0.0, 0.1, 0.4, 1.4, 3.3, 7.0, 7.7, 9.3, 10.2, 11.0, 11.3, 9.3, 7.2, 6.2, 4.8, 4.1, 3.9, 3.9, 3.2, 3.1, 4.3, 3.7, 3.8, 4.2, 4.0, 3.7, 4.1, 4.7, 5.8, 6.7, 8.5, 10.0, 10.8, 10.3, 10.4, 10.4, 9.4, 8.6, 7.3, 6.7, 5.5, 5.5, 4.8, 4.2, 3.2, 3.4, 3.9, 4.0, 3.7, 3.4, 3.8, 4.4, 5.2, 7.6, 9.4, 9.9, 10.9, 11.2, 10.6, 9.2, 7.2, 6.0, 5.4, 4.6, 4.0, 3.8, 3.6, 4.5, 5.0, 5.4, 5.4, 5.3, 5.0, 4.9, 5.1, 5.5, 6.8, 7.9, 8.8, 9.7, 11.0, 11.5, 11.0, 10.1, 8.7, 7.6, 6.6, 6.0, 5.5, 4.3, 3.9, 3.4, 3.0, 2.9, 3.0, 2.7, 2.5, 3.8, 5.6, 6.9, 7.5, 8.3, 8.3, 8.9, 8.6, 8.5, 8.2, 7.9, 7.9, 7.8, 7.5, 6.7, 6.5, 6.7, 6.9, 7.1, 7.2, 7.0, 6.9, 7.2, 7.3, 7.5, 8.1, 7.9, 7.9, 7.9, 7.8, 8.8, 9.2, 9.5, 9.0, 8.5, 6.8, 6.3, 6.4, 6.4, 6.3, 6.0, 5.0, 4.2, 3.9, 3.4, 2.5, 2.0, 1.8, 2.0, 3.3, 6.3, 8.1, 9.3, 9.7, 10.9, 11.3, 11.3, 11.6, 11.1, 10.0, 8.7, 7.7, 6.0, 5.6, 4.5, 3.7, 3.4, 2.5, 1.6, 2.5, 2.8, 3.1, 3.2, 3.7, 4.4, 4.7, 5.4, 6.1, 6.8, 7.0, 7.6, 7.4, 7.0, 7.0, 6.9, 6.5, 6.8, 6.5, 6.3, 6.2, 6.2, 6.1, 6.1, 6.2, 6.0, 5.8, 5.9, 6.1, 6.3, 7.0, 7.7, 8.5, 8.7, 8.6, 8.0, 8.0, 7.8, 7.6, 7.2, 6.7, 6.4, 6.0, 5.9, 6.0, 5.8, 5.8, 5.6, 5.9, 5.4, 5.1, 5.1, 5.0, 5.7, 6.4, 6.7, 8.2, 8.9, 9.4, 10.4, 10.1, 10.8, 9.9, 8.7, 8.6, 7.8, 7.8, 7.3, 7.2, 7.2, 7.0, 6.7, 6.5, 6.7, 6.5, 6.5, 7.5, 8.6, 10.0, 11.0, 11.1, 11.5, 11.6, 11.6, 11.0, 9.9, 9.1, 8.5, 8.2, 7.4, 6.3, 5.6, 4.4, 4.1, 3.3, 2.6, 2.6, 2.3, 1.9, 2.5, 4.4, 7.0, 9.8, 11.7, 10.8, 12.1, 13.0, 13.0, 12.1, 12.4, 11.5, 10.2, 8.5, 7.8, 7.8, 6.5, 6.3, 6.6, 6.7, 7.1, 7.5, 7.8, 8.5, 9.2, 9.5, 10.0, 9.8, 9.7, 9.9, 9.6, 9.3, 9.1, 8.9, 8.9, 8.1, 7.9, 7.1, 6.6, 5.9, 5.1, 5.2, 5.3, 5.9, 6.7, 8.1, 9.0, 9.7, 10.2, 11.0, 10.5, 9.6, 9.6, 9.0, 8.5, 8.2, 8.3, 8.3, 8.4, 8.5, 8.6, 8.6, 8.5, 8.6, 8.6, 8.5, 7.6, 7.4, 8.0, 9.4, 10.5, 11.8, 12.9, 12.7, 13.9, 14.3, 14.5, 14.1, 13.1, 12.0, 10.3, 9.4, 8.5, 8.0, 7.0, 7.0, 7.2, 6.3, 8.0, 8.4, 8.8, 8.6, 8.7, 8.2, 9.6, 10.3, 11.5, 11.4, 12.4, 12.7, 13.4, 12.9, 13.1, 9.2, 8.4, 8.7, 8.3, 8.3, 7.8, 7.1, 6.3, 5.8, 5.8, 5.8, 6.6, 6.6, 7.4, 9.0, 10.4, 7.3, 10.1, 6.9, 9.5, 10.4, 10.8, 10.3, 8.8, 8.0, 7.5, 8.2, 8.4, 8.5, 7.6, 7.2, 8.1, 8.8, 10.0, 9.1, 6.7, 4.0, 5.7, 7.2, 9.7, 9.5, 10.7, 11.4, 12.2, 11.6, 7.8, 8.8, 8.3, 6.8, 6.3, 6.2, 5.9, 5.2, 4.6, 4.6, 5.6, 6.1, 5.9, 6.1, 5.8, 6.3, 7.5, 9.2, 10.0, 8.8, 12.1, 12.4, 11.8, 11.6, 10.3, 7.2, 6.6, 7.1, 6.9, 6.3, 6.0, 5.5, 5.6, 5.7, 5.3, 4.9, 4.7, 5.2, 4.9, 5.6, 7.0, 8.3, 9.6, 11.4, 11.9, 11.0, 12.5, 12.3, 12.0, 11.9, 11.2, 10.2, 8.8, 8.6, 8.1, 7.5, 6.7, 5.8, 5.4, 4.9, 4.8, 5.1, 5.2, 5.5, 7.2, 8.5, 9.4, 9.9, 11.1, 11.5, 11.4, 11.8, 11.9, 11.9, 11.1, 10.2, 7.3, 7.7, 5.7, 5.5, 4.1, 3.7, 3.2, 2.6, 2.0, 1.2, 2.5, 4.1, 6.3, 8.7, 11.0, 11.6, 12.1, 12.4, 12.0, 12.1, 11.9, 11.2, 10.7, 9.9, 9.5, 9.0, 8.4, 8.2, 8.3, 8.5, 8.2, 8.7, 8.6, 8.1, 8.0, 9.4, 10.3, 11.8, 12.7, 13.9, 14.4, 14.0, 13.8, 13.7, 12.9, 11.1, 9.4, 8.1, 7.7, 7.7, 7.9, 8.0, 8.1, 7.9, 7.9, 7.9, 7.9, 7.4, 7.6, 7.7, 9.0, 10.5, 11.3, 13.0, 13.9, 13.7, 14.2, 14.1, 15.5, 15.1, 14.8, 12.2, 12.4, 12.1, 11.4, 10.9, 9.3, 10.1, 9.9, 9.8, 9.4, 9.0, 8.9, 9.0, 9.5, 10.6, 12.0, 12.2, 12.6, 11.9, 11.9, 12.1, 12.2, 11.5, 11.7, 11.0, 10.0, 9.5, 9.5, 9.0, 8.9, 8.7, 7.9, 8.2, 8.0, 8.0, 7.2, 7.7, 9.5, 10.5, 12.0, 13.2, 13.1, 14.1, 13.5, 15.2, 15.0, 14.0, 13.9, 13.0, 11.2, 10.4, 9.0, 7.8, 7.1, 6.2, 5.9, 5.8, 6.3, 7.1, 7.8, 8.4, 8.7, 10.0, 11.3, 11.8, 11.7, 10.4, 11.6, 10.6, 11.6, 9.6, 9.0, 8.0, 7.6, 7.3, 6.6, 6.3, 5.7, 5.7, 5.1, 5.0, 4.9, 5.2, 5.6, 6.1, 7.6, 7.9, 7.5, 8.3, 7.8, 7.6, 9.8, 8.8, 9.4, 8.2, 8.3, 6.9, 7.5, 7.8, 6.3, 5.9, 5.5, 4.8, 4.7, 4.5, 5.4, 5.5, 6.5, 7.7, 9.2, 10.1, 11.2, 11.4, 12.2, 13.3, 13.9, 12.3, 11.7, 11.7, 10.2, 9.6, 9.0, 8.2, 7.9, 7.6, 7.9, 8.2, 8.0, 8.0, 8.1, 6.9, 6.5, 7.2, 7.7, 8.4, 9.7, 9.8, 11.0, 10.0, 10.0, 9.9, 9.0, 6.5, 6.0, 5.3, 5.5, 5.3, 4.2, 3.0, 2.7, 2.2, 2.2, 1.4, 2.1, 2.1, 5.3, 8.1, 9.6, 10.9, 11.8, 12.3, 11.9, 12.9, 11.9, 11.1, 10.8, 10.0, 9.6, 9.7, 9.2, 8.8, 9.0, 9.1, 9.6, 9.8, 9.8, 10.1, 9.9, 10.3, 11.0, 12.1, 12.7, 13.9, 13.4, 14.3, 13.3, 11.8, 11.3, 12.2, 12.3, 12.6, 11.6, 11.1, 10.5, 9.7, 9.3, 9.2, 9.1, 8.7, 8.3, 8.3, 8.0, 7.6, 7.2, 8.5, 10.6, 13.3, 14.2, 15.1, 14.7, 17.0, 17.4, 16.6, 14.9, 14.6, 13.4, 12.3, 11.1, 10.3, 8.7, 7.6, 6.9, 6.2, 5.8, 5.5, 4.7, 4.1, 7.1, 9.8, 11.5, 13.4, 15.1, 15.3, 17.1, 17.7, 16.6, 16.6, 15.5, 15.2, 13.3, 12.9, 12.0, 12.2, 10.9, 10.7, 9.2, 9.3, 8.6, 8.0, 8.0, 8.5, 8.7, 10.2, 12.2, 13.1, 15.1, 15.3, 16.6, 16.4, 15.7, 15.6, 15.3, 13.7, 12.9, 12.4, 11.6, 10.3, 9.6, 9.6, 9.3, 9.3, 9.0, 8.9, 9.0, 9.2, 9.5, 10.3, 11.4, 13.2, 11.1, 10.5, 10.6, 10.6, 11.0, 9.7, 9.2, 9.8, 9.6, 9.3, 8.8, 8.6, 8.4, 7.5, 6.8, 6.2, 5.7, 5.2, 5.0, 5.2, 5.5, 5.9, 5.8, 5.4, 5.9, 6.1, 6.2, 6.9, 6.4, 8.0, 9.1, 8.8, 6.8, 5.8, 5.1, 3.9, 4.1, 2.8, 2.6, 1.8, 1.4, 1.0, 0.6, 1.6, 3.0, 5.6, 7.1, 8.2, 9.3, 9.9, 10.1, 11.3, 10.4, 11.3, 11.3, 11.5, 9.8, 8.9, 8.6, 7.1, 5.7, 5.4, 3.4, 3.6, 3.9, 3.0, 3.0, 4.8, 6.1, 7.8, 10.0, 10.0, 9.8, 10.6, 10.9, 12.0, 11.5, 12.1, 11.7, 11.5, 11.1, 10.9, 10.7, 10.3, 9.7, 9.2, 9.1, 8.9, 8.9, 9.1, 9.0, 9.0, 9.7, 10.6, 12.3, 12.2, 12.9, 13.5, 14.2, 15.0, 15.0, 15.0, 15.1, 14.4, 13.3, 10.5, 9.4, 8.3, 7.6, 7.5, 6.8, 6.2, 5.6, 5.0, 4.6, 5.4, 7.3, 9.0, 10.3, 11.7, 12.9, 13.5, 14.3, 14.0, 14.2, 14.5, 13.5, 11.9, 10.4, 9.4, 8.3, 7.8, 7.2, 6.9, 6.6, 6.3, 6.0, 6.2, 6.8, 7.6, 8.4, 9.1, 10.6, 12.4, 14.7, 14.9, 15.3, 16.6, 16.1, 15.6, 14.9, 14.1, 13.2, 11.9, 10.9, 10.1, 9.6, 9.2, 8.9, 8.7, 8.7, 8.5, 8.3, 8.3, 8.3, 8.6, 9.5, 9.7, 10.4, 11.0, 10.9, 10.9, 10.2, 9.8, 8.8, 8.2, 7.7, 7.2, 6.6, 6.0, 6.0, 5.8, 5.6, 5.2, 4.6, 4.0, 3.8, 4.1, 5.1, 6.4, 6.7, 8.2, 8.3, 9.8, 9.9, 10.0, 10.3, 9.8, 10.0, 9.7, 9.5, 8.5, 7.3, 7.8, 6.2, 6.0, 6.3, 6.2, 5.8, 5.8, 5.3, 3.6, 3.3, 4.6, 7.0, 8.2, 8.6, 8.8, 9.8, 9.8, 9.5, 9.3, 9.5, 9.0, 8.5, 8.1, 7.7, 7.5, 6.8, 6.4, 5.7, 5.8, 5.7, 5.9, 6.4, 6.8, 7.2, 8.4, 9.8, 10.3, 10.7, 11.1, 10.4, 11.0, 9.1, 11.4, 11.8, 7.4, 6.2, 4.4, 3.9, 4.1, 4.2, 3.9, 4.3, 3.7, 3.0, 2.7, 2.8, 3.1, 4.5, 5.8, 6.7, 7.0, 8.7, 8.4, 10.3, 10.2, 8.4, 7.8, 8.9, 7.2, 5.5, 4.7, 4.1, 3.5, 3.4, 3.1, 2.8, 2.2, 2.2, 1.9, 1.9, 2.3, 3.9, 5.7, 7.5, 8.4, 8.9, 9.4, 10.6, 9.1, 10.4, 10.9, 7.6, 9.3, 8.2, 6.7, 5.9, 5.2, 4.5, 3.6, 2.8, 2.0, 1.8, 0.9, 0.1, 1.7, 3.5, 5.5, 7.5, 8.5, 9.9, 10.3, 11.5, 11.8, 10.5, 10.3, 11.0, 10.1, 9.6, 9.2, 8.3, 8.5, 7.4, 7.2, 6.4, 6.2, 5.6, 5.0, 4.9, 5.5, 6.1, 6.8, 8.6, 9.6, 8.8, 9.5, 9.3, 11.2, 9.4, 9.9, 10.0, 9.4, 9.1, 8.5, 7.1, 6.2, 5.1, 4.6, 3.9, 3.7, 2.3, 1.8, 2.0, 2.9, 5.1, 8.2, 9.5, 10.5, 11.2, 11.7, 9.5, 13.2, 13.6, 11.3, 11.3, 11.2, 10.3, 8.9, 8.4, 5.5, 5.4, 5.0, 3.6, 3.5, 3.1, 2.7, 2.0, 4.3, 6.6, 8.6, 10.5, 12.7, 13.7, 14.5, 15.6, 15.9, 15.8, 15.1, 14.1, 13.2, 12.2, 11.5, 11.1, 10.8, 10.3, 10.4, 10.0, 10.1, 10.0, 10.3, 10.6, 11.4, 12.1, 12.5, 12.7, 13.7, 14.5, 14.9, 17.0, 15.9, 15.4, 14.0, 12.7, 11.4, 11.3, 10.6, 10.3, 9.6, 9.0, 6.7, 6.2, 6.1, 5.8, 4.3, 4.6, 6.4, 8.6, 9.8, 11.2, 12.2, 12.9, 14.1, 14.7, 14.8, 14.5, 14.5, 14.1, 13.7, 13.1, 12.3, 12.1, 11.4, 9.0, 8.5, 7.9, 6.7, 5.8, 5.7, 4.6, 7.2, 9.4, 12.1, 13.9, 15.4, 15.4, 17.0, 16.4, 16.8, 16.7, 16.6, 16.5, 15.4, 14.3, 13.1, 12.1, 11.1, 7.8, 7.5, 8.0, 7.8, 7.0, 6.7, 6.7, 9.6, 11.6, 14.1, 16.8, 16.7, 18.3, 18.8, 19.7, 20.6, 19.7, 19.9, 19.0, 18.0, 15.8, 14.9, 12.4, 13.2, 12.1, 11.5, 10.6, 9.7, 9.2, 8.6, 8.3, 9.3, 12.0, 14.9, 16.6, 18.6, 20.7, 22.0, 21.6, 22.5, 21.7, 22.5, 21.6, 20.3, 19.6, 17.2, 16.7, 16.3, 15.4, 14.9, 14.2, 14.1, 13.6, 13.2, 12.8, 13.3, 15.3, 17.2, 19.6, 21.1, 22.2, 22.5, 22.5, 22.2, 22.2, 21.8, 20.9, 20.0, 19.8, 17.7, 16.9, 16.7, 15.5, 15.0, 15.2, 14.3, 14.4, 13.6, 13.4, 15.2, 17.8, 19.0, 22.0, 24.6, 24.7, 25.4, 26.2, 25.9, 26.5, 26.0, 25.0, 24.1, 23.0, 21.2, 20.8, 19.7, 18.9, 18.3, 17.5, 16.9, 15.8, 14.7, 15.2, 16.6, 16.9, 18.9, 20.6, 21.3, 22.7, 24.4, 23.9, 23.6, 22.7, 21.2, 18.5, 18.5, 16.9, 16.9, 16.9, 16.8, 16.5, 16.4, 16.3, 16.0, 15.9, 15.8, 15.8, 15.2, 15.3, 15.6, 15.6, 15.7, 16.5, 16.3, 16.7, 16.2, 16.4, 16.8, 16.8, 16.4, 16.1, 16.0, 16.0, 15.8, 15.6, 15.3, 15.0, 14.7, 14.7, 14.7, 14.8, 14.8, 14.8, 15.1, 15.2, 16.0, 18.0, 17.5, 16.6, 16.4, 17.9, 18.6, 17.9, 18.7, 17.5, 16.5, 16.6, 16.0, 15.4, 14.9, 14.9, 14.3, 14.2, 12.7, 12.0, 11.9, 13.4, 15.0, 16.7, 17.6, 21.0, 21.3, 22.5, 23.2, 23.7, 23.5, 23.1, 22.6, 20.5, 18.0, 15.0, 13.1, 12.4, 11.9, 11.8, 11.7, 11.4, 11.3, 11.3, 11.4, 11.5, 12.1, 13.9, 15.1, 15.8, 16.1, 16.6, 16.3, 16.2, 15.1, 12.8, 11.8, 11.1, 10.1, 9.6, 9.3, 9.3, 8.8, 8.8, 8.5, 8.3, 8.0, 7.7, 7.8, 8.0, 8.6, 10.0, 10.2, 11.5, 11.9, 13.1, 13.5, 13.8, 12.9, 13.5, 12.9, 12.4, 11.4, 10.6, 9.6, 8.9, 6.9, 6.7, 5.9, 5.5, 6.0, 6.0, 7.8, 8.6, 10.1, 12.6, 14.2, 14.9, 15.0, 15.9, 15.9, 16.2, 16.2, 16.9, 15.8, 15.3, 14.5, 13.8, 12.7, 11.9, 11.3, 11.1, 9.5, 9.3, 9.1, 8.6, 9.5, 10.8, 11.8, 13.3, 14.5, 15.8, 15.6, 17.3, 17.0, 17.4, 17.6, 16.7, 16.9, 16.7, 15.3, 14.6, 14.4, 13.0, 11.6, 10.0, 9.8, 9.0, 8.5, 8.7, 9.6, 11.3, 13.0, 14.4, 15.3, 15.6, 16.5, 17.1, 16.6, 17.4, 16.1, 15.8, 14.6, 13.9, 13.6, 13.5, 12.9, 12.2, 11.5, 11.6, 11.6, 12.0, 12.4, 12.4, 12.4, 12.6, 12.5, 12.6, 12.5, 11.7, 12.7, 13.6, 13.5, 13.2, 12.2, 12.5, 12.6, 12.1, 11.4, 11.2, 10.8, 11.0, 10.5, 10.3, 10.0, 10.1, 10.1, 10.3, 10.8, 11.3, 12.3, 13.1, 13.9, 14.9, 16.5, 17.6, 17.8, 18.1, 18.3, 17.1, 15.5, 14.2, 13.6, 13.3, 13.5, 13.3, 13.4, 13.4, 13.4, 13.5, 13.6, 13.4, 13.9, 14.2, 14.7, 15.7, 15.9, 16.4, 17.8, 19.1, 18.7, 18.5, 18.4, 17.4, 16.0, 15.0, 14.8, 14.5, 14.0, 13.4, 13.3, 13.0, 12.8, 13.0, 13.9, 14.0, 14.3, 14.4, 15.0, 14.6, 15.1, 15.8, 16.7, 17.6, 17.0, 15.3, 15.1, 15.5, 15.4, 15.8, 15.4, 14.8, 14.3, 13.5, 13.0, 12.6, 12.0, 11.4, 11.5, 11.4, 11.3, 12.4, 14.1, 15.0, 15.4, 16.5, 18.2, 18.1, 17.9, 17.5, 15.1, 15.2, 14.8, 15.3, 14.7, 14.1, 13.6, 13.1, 12.3, 11.5, 11.0, 10.4, 9.7, 9.5, 10.7, 12.5, 13.6, 14.8, 15.8, 16.8, 17.6, 18.5, 18.6, 19.2, 16.5, 17.1, 17.3, 15.9, 13.2, 13.6, 12.9, 11.0, 10.2, 9.6, 9.0, 8.4, 7.7, 7.9, 8.9, 10.6, 13.9, 14.6, 15.7, 15.7, 16.8, 16.2, 16.0, 16.8, 16.1, 16.5, 15.4, 14.0, 12.4, 10.9, 9.8, 9.3, 9.2, 9.5, 9.6, 9.4, 9.3, 9.1, 9.1, 9.4, 9.8, 10.3, 10.1, 10.9, 11.5, 12.1, 12.5, 11.9, 12.1, 12.0, 12.1, 11.8, 11.6, 11.4, 11.2, 11.0, 10.8, 10.6, 9.4, 8.8, 7.9, 8.0, 9.9, 11.8, 13.7, 14.5, 15.5, 16.9, 17.7, 17.8, 19.4, 20.0, 20.4, 19.1, 20.4, 17.6, 16.5, 15.0, 14.3, 13.5, 12.9, 11.6, 11.3, 11.3, 11.3, 11.5, 12.3, 13.0, 14.6, 15.9, 16.2, 18.2, 19.3, 20.9, 21.5, 20.6, 20.0, 20.1, 20.5, 18.1, 16.8, 14.9, 14.0, 14.2, 13.5, 12.5, 11.8, 11.1, 10.4, 11.0, 11.4, 12.2, 12.7, 13.8, 16.2, 17.0, 18.3, 19.1, 19.6, 20.1, 20.5, 20.0, 19.3, 18.6, 17.7, 16.1, 14.7, 13.7, 12.7, 11.8, 10.9, 10.2, 9.8, 9.3, 9.9, 11.1, 11.4, 11.3, 12.3, 13.7, 15.1, 16.3, 17.5, 18.4, 19.0, 18.9, 18.9, 17.5, 16.0, 14.4, 12.7, 12.4, 12.3, 12.3, 12.2, 12.1, 12.0, 12.1, 12.3, 12.7, 13.2, 13.0, 12.7, 13.6, 14.7, 15.1, 16.6, 17.5, 17.3, 17.5, 17.6, 17.4, 16.3, 15.2, 14.5, 13.9, 13.3, 13.1, 12.9, 12.4, 12.2, 11.9, 11.9, 12.2, 11.8, 11.6, 11.4, 11.6, 11.5, 12.2, 12.2, 12.4, 12.7, 12.5, 12.3, 12.2, 12.2, 12.2, 12.3, 12.3, 12.3, 12.6, 12.6, 12.6, 12.6, 12.7, 12.7, 12.9, 12.7, 12.9, 13.1, 13.2, 13.4, 13.2, 13.4, 13.4, 13.7, 13.0, 12.7, 12.7, 12.4, 12.2, 11.7, 11.4, 11.2, 10.9, 10.5, 10.3, 10.3, 10.4, 10.4, 10.4, 10.6, 10.8, 11.6, 12.2, 12.7, 13.4, 13.4, 12.6, 12.5, 12.0, 11.8, 11.1, 10.7, 10.3, 10.1, 9.8, 9.7, 9.5, 9.3, 9.2, 9.2, 9.1, 9.2, 9.3, 9.7, 9.9, 10.7, 11.4, 11.2, 12.4, 12.8, 14.1, 13.9, 14.1, 13.7, 13.2, 12.8, 12.6, 12.5, 12.2, 12.2, 12.1, 12.1, 12.3, 12.3, 12.6, 12.9, 13.3, 13.8, 14.3, 15.2, 16.3, 17.8, 18.6, 18.6, 18.3, 18.6, 18.6, 18.3, 18.2, 18.3, 18.0, 16.6, 15.7, 14.4, 13.2, 12.1, 12.0, 11.9, 11.8, 12.1, 13.0, 13.4, 15.3, 16.6, 18.1, 19.7, 20.7, 21.9, 22.9, 24.0, 23.8, 23.7, 22.8, 20.2, 19.2, 17.1, 15.1, 14.9, 13.9, 13.1, 12.4, 12.2, 11.9, 13.4, 14.9, 16.5, 18.3, 20.9, 22.0, 23.0, 23.7, 24.5, 23.7, 24.1, 23.6, 22.7, 20.9, 19.0, 17.0, 14.9, 15.7, 14.8, 13.3, 13.6, 13.1, 12.8, 13.3, 14.1, 15.8, 18.2, 20.1, 21.6, 23.7, 23.8, 23.1, 21.9, 21.5, 21.9, 22.6, 22.5, 22.5, 21.1, 19.4, 19.1, 18.0, 17.6, 16.3, 16.1, 15.6, 15.4, 15.6, 16.6, 17.6, 18.6, 19.7, 20.6, 22.4, 22.9, 24.0, 24.9, 21.1, 19.9, 19.2, 20.2, 21.1, 20.5, 18.4, 16.8, 14.1, 13.8, 13.8, 13.6, 13.4, 13.4, 13.6, 13.5, 13.8, 14.1, 14.8, 16.7, 18.5, 19.8, 21.2, 22.2, 22.9, 23.1, 22.3, 21.5, 20.0, 18.7, 17.3, 15.7, 15.7, 15.4, 15.1, 14.6, 14.1, 13.8, 14.2, 15.1, 15.9, 16.6, 17.3, 18.3, 19.7, 21.3, 23.0, 22.9, 22.8, 22.4, 22.5, 21.9, 19.0, 18.0, 18.0, 17.2, 17.4, 17.5, 17.0, 16.3, 16.4, 16.2, 16.3, 16.6, 17.1, 18.5, 20.4, 20.4, 21.2, 21.4, 21.9, 21.7, 21.5, 21.8, 21.2, 20.4, 19.9, 18.6, 18.1, 17.9, 17.5, 17.2, 16.4, 15.4, 14.6, 14.4, 14.3, 14.3, 14.4, 15.1, 15.7, 14.8, 15.3, 15.8, 17.3, 20.0, 20.7, 18.8, 19.1, 19.2, 19.1, 18.9, 17.9, 17.1, 16.5, 15.6, 15.4, 15.5, 13.8, 14.2, 15.0, 15.2, 15.9, 16.3, 15.5, 16.4, 17.3, 18.8, 17.7, 16.0, 19.0, 17.6, 17.5, 18.0, 17.7, 17.2, 16.8, 16.1, 14.8, 13.7, 14.0, 13.8, 13.9, 13.5, 14.1, 13.9, 14.9, 15.6, 16.0, 15.8, 16.1, 18.6, 16.2, 17.0, 17.0, 18.0, 17.5, 17.4, 17.0, 16.2, 15.5, 14.9, 14.0, 14.0, 13.4, 12.8, 12.4, 11.9, 12.5, 13.8, 14.7, 15.8, 17.0, 17.6, 19.4, 14.6, 16.8, 14.8, 16.5, 18.2, 18.3, 16.3, 16.4, 16.1, 15.3, 14.6, 13.2, 12.6, 12.9, 13.0, 13.5, 13.2, 13.5, 13.9, 14.6, 15.1, 14.1, 15.3, 16.2, 16.1, 17.4, 17.4, 16.7, 17.7, 17.6, 17.4, 13.3, 13.8, 13.7, 13.5, 13.3, 13.1, 13.0, 13.0, 12.9, 12.9, 13.1, 13.4, 13.7, 14.9, 14.7, 15.5, 16.4, 17.0, 19.1, 18.4, 18.7, 19.1, 18.7, 18.4, 16.5, 16.1, 15.2, 14.4, 13.1, 13.4, 13.4, 13.1, 12.0, 12.3, 12.7, 13.1, 13.9, 14.3, 14.7, 15.3, 14.1, 16.0, 16.1, 16.9, 16.3, 16.8, 15.9, 16.0, 16.0, 15.9, 14.4, 15.0, 13.9, 13.8, 13.2, 12.7, 12.4, 11.8, 12.0, 13.4, 15.0, 16.5, 17.7, 18.6, 20.1, 20.0, 18.3, 19.0, 18.7, 18.3, 17.4, 16.7, 15.9, 15.6, 15.5, 15.6, 15.5, 15.4, 15.4, 15.5, 15.2, 15.2, 15.2, 15.2, 15.2, 15.3, 15.3, 15.9, 16.5, 17.5, 19.3, 21.1, 21.4, 21.6, 22.1, 21.5, 20.8, 19.6, 17.8, 16.9, 15.8, 15.4, 15.1, 14.7, 14.8, 14.3, 14.5, 15.5, 16.4, 17.3, 18.0, 18.3, 19.4, 20.1, 19.8, 20.0, 19.6, 20.2, 20.0, 19.8, 19.2, 18.1, 17.0, 16.6, 15.6, 15.4, 15.2, 15.0, 14.7, 14.7, 15.0, 15.6, 16.3, 16.5, 16.3, 17.5, 19.7, 19.5, 20.5, 21.7, 21.6, 21.6, 21.7, 21.4, 20.8, 20.4, 19.8, 19.8, 18.8, 18.5, 18.4, 17.7, 17.9, 18.0, 18.1, 18.4, 18.9, 19.6, 20.4, 20.4, 20.0, 19.9, 20.7, 21.0, 20.2, 20.3, 19.8, 19.1, 19.5, 19.0, 18.9, 17.8, 15.1, 14.1, 13.4, 12.6, 12.1, 11.4, 12.2, 13.9, 15.3, 16.8, 18.5, 19.6, 19.3, 21.1, 21.5, 21.6, 20.6, 21.2, 19.4, 18.3, 18.2, 16.9, 16.1, 15.5, 14.9, 14.3, 14.1, 12.9, 12.5, 11.9, 12.2, 13.0, 13.6, 15.0, 16.4, 17.0, 17.6, 17.8, 15.3, 18.9, 19.6, 19.6, 19.1, 17.2, 16.6, 16.1, 15.7, 15.2, 13.0, 12.4, 12.4, 12.7, 13.2, 13.3, 13.7, 13.7, 13.8, 14.8, 15.5, 16.9, 18.0, 18.9, 19.8, 19.8, 19.5, 18.9, 17.6, 16.0, 15.1, 14.9, 15.1, 15.1, 14.3, 14.6, 15.1, 15.4, 15.7, 15.8, 15.9, 16.1, 16.6, 17.2, 18.1, 18.5, 19.2, 19.7, 20.7, 20.6, 20.7, 20.6, 20.2, 19.6, 18.7, 17.9, 16.8, 15.9, 15.1, 14.4, 13.5, 12.8, 11.5, 10.9, 12.2, 13.9, 15.3, 16.8, 18.0, 18.4, 19.4, 19.6, 20.3, 20.4, 19.1, 15.7, 14.1, 13.9, 13.4, 14.0, 14.4, 13.3, 13.6, 13.9, 13.5, 11.9, 11.0, 11.2, 11.9, 13.3, 14.5, 15.2, 16.0, 15.4, 15.3, 15.3, 14.9, 14.8, 15.0, 15.0, 15.5, 15.5, 15.3, 15.0, 15.0, 14.4, 14.1, 14.1, 14.0, 14.0, 13.7, 13.4, 13.4, 13.7, 14.6, 15.8, 17.2, 17.5, 19.2, 19.5, 19.3, 19.5, 20.0, 19.7, 19.2, 18.1, 17.6, 17.0, 16.9, 16.3, 16.3, 16.5, 16.2, 15.9, 15.8, 15.2, 15.4, 14.5, 14.6, 15.8, 17.6, 16.8, 16.8, 15.6, 15.9, 18.3, 18.2, 18.1, 16.8, 17.2, 14.3, 14.0, 13.4, 12.7, 12.0, 11.5, 11.2, 10.7, 10.5, 10.7, 11.0, 12.1, 13.4, 14.6, 15.4, 16.6, 17.8, 17.4, 16.8, 20.0, 19.2, 19.0, 18.6, 19.1, 18.3, 16.2, 15.3, 14.2, 13.1, 12.6, 12.0, 11.5, 10.7, 10.6, 11.3, 12.5, 14.0, 15.5, 16.0, 18.9, 18.3, 18.5, 18.4, 20.2, 20.7, 19.9, 19.7, 19.5, 18.9, 17.5, 16.2, 15.2, 14.1, 13.2, 12.6, 12.2, 11.5, 11.4, 11.6, 13.0, 14.8, 16.5, 18.9, 20.1, 19.5, 19.6, 20.2, 19.9, 19.3, 18.9, 17.9, 18.0, 17.8, 17.5, 17.1, 16.3, 15.8, 15.5, 15.6, 15.7, 15.3, 14.8, 15.3, 15.2, 15.6, 17.2, 16.6, 18.0, 18.5, 18.7, 19.4, 20.0, 20.5, 21.1, 20.0, 20.6, 19.8, 18.6, 17.3, 16.6, 15.6, 14.5, 13.4, 12.3, 11.1, 11.2, 10.8, 12.1, 13.7, 16.5, 17.7, 17.7, 18.5, 19.2, 21.2, 20.9, 21.0, 21.5, 20.9, 20.7, 19.8, 19.4, 18.3, 16.6, 16.1, 15.8, 15.6, 15.2, 15.0, 14.6, 15.1, 14.8, 15.8, 16.6, 17.9, 20.1, 20.2, 22.0, 22.3, 22.8, 23.1, 22.0, 21.8, 21.2, 20.6, 19.1, 18.5, 18.0, 17.2, 16.6, 15.9, 15.3, 15.3, 15.0, 15.1, 16.1, 17.2, 17.9, 18.2, 18.9, 20.4, 21.8, 22.9, 22.4, 22.1, 21.4, 21.5, 21.5, 20.7, 19.2, 18.2, 17.2, 16.3, 16.3, 16.2, 16.2, 15.1, 15.0, 15.7, 17.0, 17.3, 18.0, 20.4, 23.0, 22.2, 21.8, 22.0, 22.1, 21.5, 21.5, 21.6, 20.9, 20.2, 19.8, 18.8, 18.0, 17.7, 17.3, 17.3, 17.9, 17.4, 17.3, 17.4, 17.4, 17.9, 18.3, 18.4, 18.3, 19.1, 19.2, 21.2, 22.4, 22.2, 22.2, 21.5, 20.5, 20.0, 18.5, 17.6, 16.7, 15.9, 16.1, 16.6, 16.3, 16.3, 15.4, 15.9, 16.4, 17.2, 17.7, 18.2, 18.2, 19.1, 21.9, 18.8, 19.9, 18.9, 18.7, 18.9, 18.4, 18.0, 17.6, 16.6, 16.0, 15.0, 14.5, 13.8, 13.8, 13.2, 12.7, 12.5, 13.5, 15.1, 15.9, 16.4, 18.3, 15.6, 17.1, 15.9, 14.7, 16.1, 16.7, 17.5, 17.3, 15.9, 15.2, 14.5, 13.7, 13.5, 13.1, 12.8, 12.8, 12.8, 12.8, 12.6, 12.8, 13.9, 14.7, 15.8, 18.3, 19.6, 15.3, 17.6, 17.1, 17.0, 14.3, 15.9, 16.1, 16.0, 15.8, 15.1, 14.9, 14.3, 13.4, 12.7, 12.4, 12.4, 12.3, 11.6, 12.6, 14.1, 14.9, 16.2, 17.3, 19.0, 19.0, 20.7, 20.5, 20.3, 21.8, 20.2, 20.5, 20.1, 18.6, 18.1, 16.9, 14.9, 14.5, 13.9, 13.1, 12.5, 11.5, 11.2, 12.7, 14.2, 16.0, 17.5, 19.0, 18.4, 19.4, 18.3, 19.3, 18.6, 16.6, 17.3, 18.0, 18.1, 18.5, 18.1, 18.0, 17.7, 17.7, 17.5, 17.4, 17.3, 17.3, 17.4, 17.5, 17.9, 18.2, 20.6, 21.7, 23.5, 24.4, 24.2, 25.5, 25.0, 25.5, 25.4, 23.8, 23.6, 22.3, 21.0, 19.8, 18.6, 18.3, 18.0, 18.8, 18.7, 17.7, 18.4, 18.9, 19.6, 20.2, 22.0, 22.7, 23.6, 24.6, 25.4, 26.7, 25.8, 26.8, 26.2, 25.9, 24.6, 22.9, 21.6, 20.9, 18.9, 17.8, 17.3, 17.0, 16.8, 16.0, 16.2, 16.7, 18.2, 19.6, 21.2, 22.7, 24.6, 26.2, 26.4, 28.3, 29.2, 28.8, 28.9, 28.6, 27.8, 26.4, 23.5, 22.3, 20.9, 19.5, 18.6, 17.8, 17.5, 16.7, 17.3, 20.7, 22.4, 24.9, 26.9, 29.3, 30.8, 32.1, 32.9, 32.7, 32.5, 32.5, 32.2, 31.2, 30.1, 28.5, 26.1, 24.5, 24.3, 23.6, 23.7, 23.7, 22.9, 22.8, 23.8, 23.7, 23.3, 23.9, 22.8, 22.6, 24.1, 26.2, 28.0, 30.7, 30.1, 30.1, 29.7, 27.8, 25.2, 23.2, 21.6, 19.9, 18.0, 16.5, 15.2, 14.8, 14.2, 14.2, 14.8, 15.6, 16.3, 16.9, 18.5, 20.5, 21.0, 23.7, 23.1, 23.4, 25.0, 25.2, 24.1, 23.4, 22.6, 21.9, 20.8, 20.1, 19.1, 18.6, 18.0, 18.2, 17.9, 17.6, 17.4, 17.5, 18.1, 18.8, 19.8, 20.9, 21.9, 22.7, 23.3, 22.1, 22.7, 23.0, 23.1, 23.0, 22.4, 21.0, 21.8, 20.8, 19.4, 18.8, 17.6, 17.1, 16.5, 15.8, 15.6, 16.7, 18.5, 20.6, 23.6, 24.8, 26.1, 26.8, 26.5, 27.7, 27.2, 27.5, 26.8, 26.1, 23.9, 22.3, 21.0, 19.6, 18.3, 17.6, 17.1, 16.8, 16.1, 15.0, 15.3, 16.2, 17.1, 19.5, 20.6, 21.8, 22.0, 24.3, 25.8, 24.6, 23.4, 22.9, 22.0, 21.6, 20.0, 19.4, 19.2, 19.0, 18.2, 17.4, 16.2, 15.8, 15.1, 14.2, 14.1, 15.2, 16.1, 17.9, 18.8, 20.1, 22.0, 23.5, 22.9, 24.5, 23.2, 22.6, 22.8, 22.1, 21.5, 21.0, 18.8, 18.3, 17.6, 15.8, 14.8, 14.2, 13.4, 13.4, 13.3, 14.5, 15.7, 17.7, 19.0, 20.2, 21.9, 22.4, 21.9, 21.8, 21.3, 22.3, 21.5, 21.2, 20.8, 20.2, 19.6, 19.4, 18.1, 17.6, 17.1, 16.9, 17.2, 17.1, 17.3, 17.5, 17.5, 17.8, 18.2, 18.8, 19.9, 20.1, 21.9, 22.7, 23.9, 24.5, 23.7, 23.3, 23.0, 22.0, 21.2, 20.3, 19.5, 18.5, 18.0, 16.7, 16.1, 15.2, 14.9, 15.0, 16.6, 18.2, 19.3, 20.3, 21.3, 21.6, 21.0, 20.6, 18.8, 19.0, 19.2, 19.0, 19.6, 19.1, 18.7, 18.1, 17.9, 17.8, 17.4, 17.0, 16.9, 17.0, 16.4, 16.8, 17.0, 17.4, 18.6, 18.5, 20.4, 22.5, 19.4, 21.5, 21.1, 21.9, 22.3, 21.1, 20.8, 19.7, 19.1, 18.6, 18.4, 17.8, 17.5, 16.8, 17.0, 16.8, 16.6, 16.6, 16.2, 16.1, 16.7, 17.8, 18.6, 19.5, 20.8, 20.8, 22.0, 21.7, 21.9, 21.9, 21.1, 18.9, 18.3, 17.3, 16.6, 17.0, 16.3, 15.6, 15.0, 14.4, 13.7, 13.9, 15.0, 16.0, 18.3, 19.6, 21.0, 22.0, 20.4, 21.3, 21.3, 21.5, 21.1, 21.3, 20.7, 19.8, 18.4, 17.6, 17.1, 16.4, 14.7, 14.5, 13.4, 13.0, 12.3, 13.0, 14.1, 15.6, 16.2, 17.6, 18.1, 18.5, 18.3, 17.7, 16.9, 16.6, 15.8, 14.6, 14.5, 14.2, 14.2, 14.2, 14.1, 14.4, 14.7, 15.3, 15.6, 16.0, 16.2, 17.1, 17.5, 18.0, 18.9, 19.3, 19.4, 19.9, 20.5, 21.0, 21.5, 20.7, 21.4, 20.3, 20.4, 20.0, 19.5, 19.1, 19.0, 18.9, 18.9, 19.0, 18.9, 18.9, 18.9, 19.2, 18.9, 19.1, 20.0, 20.6, 21.3, 22.6, 23.8, 23.2, 23.3, 22.6, 21.8, 21.3, 20.0, 18.7, 17.7, 17.0, 16.7, 16.4, 16.5, 15.8, 15.9, 15.2, 15.4, 16.0, 16.7, 17.5, 18.9, 19.3, 21.6, 21.0, 21.5, 20.8, 21.9, 22.3, 22.4, 20.8, 19.8, 18.8, 17.9, 17.2, 16.2, 14.6, 14.1, 13.8, 13.4, 13.1, 13.4, 14.2, 15.2, 16.9, 18.3, 20.0, 22.3, 21.9, 22.9, 23.5, 23.9, 22.6, 22.7, 21.9, 21.9, 20.8, 18.6, 17.0, 15.7, 15.0, 14.5, 13.3, 13.3, 13.1, 13.5, 14.4, 15.8, 17.5, 19.6, 21.1, 22.2, 23.2, 24.8, 25.6, 26.3, 25.7, 24.8, 24.0, 22.3, 20.6, 19.3, 18.1, 17.3, 17.2, 17.5, 17.7, 18.3, 18.5, 18.4, 18.8, 20.0, 20.7, 21.9, 23.0, 24.4, 26.2, 24.8, 25.8, 26.1, 24.4, 23.5, 22.6, 21.0, 19.2, 17.8, 17.2, 16.4, 16.5, 16.5, 16.5, 15.3, 14.9, 14.5, 15.6, 15.8, 16.5, 17.9, 18.8, 19.6, 20.1, 21.0, 21.0, 20.5, 21.3, 19.6, 19.5, 18.7, 17.9, 16.6, 15.6, 14.6, 13.3, 12.2, 11.9, 12.1, 11.5, 11.2, 11.6, 13.5, 14.7, 15.6, 17.4, 18.0, 20.2, 19.1, 18.9, 19.1, 19.6, 19.0, 18.8, 17.6, 16.7, 15.3, 13.5, 12.6, 12.0, 11.6, 11.3, 10.9, 10.9, 11.3, 12.0, 12.8, 13.8, 15.0, 16.0, 17.0, 17.3, 17.9, 19.4, 19.3, 19.8, 19.3, 19.3, 18.2, 17.9, 17.1, 17.2, 16.4, 16.7, 16.3, 15.8, 15.6, 15.2, 15.0, 14.9, 15.2, 15.8, 16.4, 17.6, 18.6, 21.1, 22.3, 23.6, 23.2, 22.8, 22.0, 21.7, 21.3, 19.7, 18.7, 17.9, 17.1, 15.9, 15.8, 15.3, 14.7, 14.0, 13.9, 15.0, 16.5, 17.0, 19.2, 21.1, 23.5, 25.1, 26.1, 26.7, 27.0, 27.0, 25.0, 23.7, 21.2, 19.0, 17.9, 17.0, 16.4, 16.6, 16.5, 16.1, 15.6, 15.1, 14.6, 15.2, 17.0, 18.8, 18.4, 19.4, 20.8, 22.3, 22.6, 25.5, 24.2, 25.2, 25.0, 23.3, 22.1, 20.9, 20.0, 19.1, 18.1, 17.9, 18.0, 17.2, 16.9, 16.7, 16.4, 16.2, 16.7, 17.4, 18.9, 19.5, 19.4, 19.8, 19.9, 21.4, 21.9, 21.7, 22.5, 22.2, 21.4, 19.8, 18.7, 17.7, 16.2, 15.3, 13.8, 13.3, 13.5, 12.8, 12.5, 13.2, 15.6, 18.4, 19.9, 21.7, 21.8, 22.8, 23.5, 23.7, 23.9, 23.3, 22.3, 20.8, 19.2, 17.4, 16.6, 15.9, 14.9, 14.8, 14.1, 13.7, 13.4, 12.8, 12.3, 12.9, 15.4, 17.6, 19.4, 21.0, 21.1, 22.2, 23.6, 24.1, 24.0, 24.1, 23.4, 21.0, 19.2, 18.1, 16.3, 16.5, 15.9, 15.1, 14.4, 13.6, 13.6, 13.4, 13.5, 14.0, 15.8, 18.2, 21.1, 22.5, 23.9, 25.1, 25.3, 26.0, 26.4, 26.2, 25.3, 24.5, 21.7, 19.9, 19.0, 18.1, 17.6, 17.3, 17.0, 16.6, 16.3, 16.1, 15.9, 16.1, 17.2, 18.2, 19.6, 21.0, 23.0, 23.0, 23.5, 24.8, 24.6, 24.8, 23.6, 22.8, 21.2, 20.4, 19.1, 18.4, 18.4, 17.8, 17.9, 17.8, 17.3, 17.2, 17.1, 17.3, 17.1, 17.2, 17.8, 17.2, 18.1, 18.7, 18.6, 18.8, 16.9, 17.4, 17.1, 18.6, 18.3, 17.4, 16.8, 16.3, 16.2, 16.2, 15.7, 15.9, 15.3, 14.7, 14.7, 15.6, 17.5, 16.9, 16.0, 18.2, 20.6, 20.7, 20.1, 20.1, 19.2, 19.6, 19.4, 16.7, 16.0, 15.9, 15.9, 16.0, 15.9, 15.9, 15.8, 15.1, 15.6, 15.5, 14.7, 15.7, 16.4, 16.9, 18.4, 18.9, 19.8, 22.4, 21.4, 21.7, 21.7, 21.7, 19.8, 16.1, 16.4, 16.8, 17.2, 17.1, 17.2, 17.3, 17.4, 17.3, 17.2, 16.8, 16.9, 17.0, 17.4, 18.1, 19.3, 20.8, 21.6, 23.6, 23.7, 23.9, 24.8, 24.4, 23.1, 22.6, 21.0, 20.0, 19.1, 17.9, 17.1, 16.0, 15.1, 14.9, 14.3, 13.7, 13.0, 15.3, 17.5, 19.4, 22.7, 25.7, 27.1, 28.3, 29.6, 30.0, 30.2, 30.1, 28.9, 27.8, 26.4, 25.3, 24.3, 22.4, 21.0, 21.5, 20.8, 19.7, 18.5, 18.5, 18.3, 19.2, 20.4, 22.7, 25.2, 26.7, 28.3, 29.3, 29.7, 31.7, 32.9, 32.6, 30.1, 29.1, 26.1, 23.2, 22.4, 21.6, 21.3, 21.5, 21.1, 20.1, 19.2, 19.4, 19.0, 19.0, 19.2, 21.8, 22.6, 23.0, 24.4, 24.0, 25.5, 26.7, 27.2, 26.3, 27.0, 25.8, 24.8, 23.8, 23.0, 22.0, 21.5, 21.0, 20.6, 19.9, 18.3, 18.9, 18.1, 18.0, 19.2, 20.7, 20.8, 22.7, 23.2, 24.2, 25.6, 25.8, 25.9, 26.7, 26.4, 25.4, 22.7, 21.1, 19.5, 18.4, 17.7, 16.5, 16.4, 16.2, 16.4, 16.7, 16.6, 16.9, 18.1, 19.6, 21.7, 24.1, 24.3, 26.1, 25.9, 26.3, 24.3, 24.1, 24.0, 23.6, 23.3, 22.5, 21.6, 20.9, 20.4, 20.1, 19.7, 18.7, 17.6, 17.0, 16.8, 17.1, 17.6, 19.1, 19.3, 18.2, 19.9, 18.0, 19.7, 19.7, 20.4, 20.6, 20.7, 19.4, 19.0, 18.4, 17.9, 17.7, 17.7, 18.0, 17.7, 16.5, 16.0, 15.6, 15.7, 15.5, 16.0, 16.9, 17.5, 19.8, 20.2, 21.6, 21.5, 22.6, 23.0, 23.8, 23.3, 23.1, 21.3, 19.8, 19.0, 17.4, 16.3, 15.4, 14.4, 14.1, 14.1, 13.5, 13.3, 13.9, 15.3, 17.8, 20.8, 22.6, 24.3, 25.4, 26.1, 26.2, 26.1, 26.1, 24.9, 23.2, 21.7, 20.4, 19.1, 17.6, 16.7, 15.9, 15.4, 14.0, 12.9, 13.2, 13.3, 14.2, 15.3, 16.8, 19.5, 20.0, 22.3, 23.1, 23.4, 22.4, 22.8, 23.8, 22.1, 21.3, 19.7, 18.3, 17.6, 16.7, 15.5, 14.5, 14.2, 13.8, 13.3, 13.3, 13.8, 13.6, 14.0, 15.4, 17.2, 19.1, 21.1, 22.4, 23.1, 23.8, 24.3, 23.2, 22.9, 22.1, 20.2, 18.8, 17.4, 16.5, 15.8, 15.1, 14.8, 14.5, 14.8, 14.4, 14.1, 14.8, 15.6, 16.9, 19.4, 19.2, 19.6, 19.9, 20.0, 19.5, 19.1, 19.3, 17.3, 17.1, 17.1, 16.9, 16.7, 16.5, 15.4, 14.1, 14.0, 13.3, 13.6, 13.3, 12.6, 13.1, 14.0, 16.1, 18.0, 19.7, 20.4, 19.2, 19.5, 20.5, 20.6, 17.2, 16.6, 17.0, 17.7, 18.1, 18.4, 18.0, 18.1, 18.3, 18.1, 18.2, 17.8, 16.2, 16.2, 16.0, 16.6, 17.2, 17.3, 18.4, 18.6, 19.5, 19.5, 19.5, 20.3, 19.8, 19.5, 19.1, 18.4, 17.9, 17.3, 16.6, 16.0, 15.3, 15.0, 15.0, 15.2, 15.1, 14.6, 13.8, 14.0, 14.6, 15.7, 16.6, 17.6, 18.9, 20.4, 21.4, 22.2, 22.5, 22.0, 22.0, 21.1, 21.4, 21.5, 21.3, 21.0, 20.6, 20.4, 20.5, 20.2, 20.0, 20.0, 20.1, 20.3, 20.4, 21.8, 22.7, 22.6, 23.3, 23.5, 23.3, 23.1, 22.0, 22.6, 22.4, 22.2, 21.9, 20.7, 19.7, 18.6, 18.5, 18.6, 18.7, 18.7, 18.8, 18.9, 19.0, 19.1, 19.3, 20.1, 20.9, 22.2, 26.3, 26.3, 27.3, 27.8, 27.4, 26.9, 25.6, 23.8, 23.7, 22.2, 20.7, 18.7, 17.6, 16.7, 16.4, 15.9, 15.1, 15.8, 17.1, 18.4, 18.6, 20.3, 21.9, 21.4, 23.2, 23.3, 22.8, 22.6, 22.7, 21.8, 20.8, 19.4, 18.4, 17.2, 16.5, 15.6, 15.6, 15.8, 16.3, 17.0, 17.0, 16.7, 17.3, 17.7, 19.3, 19.8, 23.0, 22.8, 23.2, 22.4, 21.3, 22.5, 21.4, 21.2, 20.4, 20.0, 19.9, 19.5, 18.9, 18.2, 18.1, 18.0, 18.4, 18.6, 18.6, 19.0, 18.9, 18.3, 18.4, 18.1, 19.1, 19.1, 18.8, 18.6, 18.5, 18.4, 18.7, 18.5, 17.6, 17.6, 17.5, 16.6, 15.2, 13.5, 12.0, 11.8, 10.6, 9.9, 10.2, 10.0, 9.2, 11.2, 12.9, 15.7, 17.5, 19.0, 19.6, 20.7, 21.2, 21.5, 20.9, 19.8, 18.3, 16.8, 15.9, 15.4, 14.5, 12.1, 12.6, 11.7, 10.8, 11.4, 12.2, 12.1, 14.5, 15.4, 17.5, 19.5, 19.9, 20.8, 23.4, 24.8, 24.1, 24.4, 24.1, 23.3, 22.5, 21.6, 21.4, 20.7, 19.6, 19.1, 19.6, 18.9, 18.3, 17.6, 16.0, 16.7, 16.8, 18.0, 21.9, 25.4, 27.4, 30.2, 32.1, 29.9, 30.7, 31.8, 31.7, 29.6, 28.3, 25.3, 25.7, 24.1, 23.7, 22.4, 21.9, 21.5, 20.9, 20.5, 20.5, 20.2, 20.1, 21.7, 23.3, 25.3, 26.4, 27.4, 25.6, 26.1, 26.6, 27.0, 25.5, 25.3, 23.4, 21.8, 21.2, 19.8, 19.3, 18.2, 17.4, 16.9, 16.3, 16.5, 15.8, 16.4, 17.9, 18.4, 19.5, 22.1, 24.9, 25.4, 26.7, 28.0, 28.3, 28.5, 25.0, 24.5, 22.8, 21.3, 20.7, 19.9, 19.4, 18.9, 19.3, 18.3, 18.3, 17.5, 17.3, 16.9, 16.7, 16.5, 16.2, 15.9, 15.3, 15.7, 15.6, 14.7, 16.0, 17.2, 17.6, 17.4, 16.3, 15.7, 15.3, 14.6, 14.0, 13.4, 13.5, 12.9, 13.1, 13.0, 13.1, 13.2, 13.5, 13.7, 13.0, 13.4, 13.9, 14.6, 14.7, 15.1, 15.2, 15.6, 15.8, 15.6, 15.5, 15.4, 15.2, 15.2, 14.9, 15.0, 14.9, 14.7, 14.2, 14.4, 14.4, 14.3, 14.3, 14.4, 15.1, 16.3, 17.8, 18.2, 19.2, 18.8, 18.8, 19.5, 19.1, 19.0, 18.3, 18.4, 18.0, 17.4, 17.2, 16.4, 15.4, 14.6, 14.2, 13.2, 13.3, 13.7, 13.8, 14.2, 14.8, 15.9, 18.2, 18.9, 19.3, 19.1, 17.9, 17.1, 16.5, 16.3, 15.8, 15.6, 15.5, 15.0, 14.6, 14.6, 14.5, 14.3, 14.6, 14.7, 14.6, 14.6, 14.8, 14.9, 14.7, 14.9, 15.3, 16.2, 17.1, 17.3, 18.6, 18.3, 18.1, 17.8, 17.6, 17.0, 16.6, 16.4, 16.3, 16.1, 15.6, 15.5, 15.4, 15.3, 14.9, 15.5, 15.4, 15.3, 16.0, 18.7, 19.8, 21.0, 20.6, 21.0, 21.5, 21.6, 21.5, 19.6, 18.5, 17.4, 17.0, 16.6, 16.2, 15.2, 15.4, 15.4, 15.7, 15.3, 15.0, 14.4, 14.5, 14.6, 15.4, 17.1, 17.3, 18.3, 17.9, 17.6, 19.4, 19.5, 19.4, 19.3, 18.6, 17.2, 16.1, 15.0, 14.4, 12.9, 13.4, 13.3, 12.2, 11.4, 10.4, 9.3, 9.8, 10.8, 13.6, 15.1, 17.4, 17.9, 19.2, 19.5, 20.3, 18.3, 18.4, 18.2, 16.4, 15.3, 14.4, 13.3, 12.8, 12.1, 10.0, 11.0, 12.4, 13.8, 14.0, 14.2, 14.4, 14.7, 16.7, 18.9, 20.7, 22.0, 22.3, 21.7, 21.3, 21.2, 20.8, 20.6, 20.0, 19.4, 19.4, 19.6, 19.4, 18.7, 18.5, 18.0, 17.5, 17.7, 18.3, 15.9, 15.5, 15.4, 15.1, 15.7, 17.3, 18.8, 19.1, 20.0, 19.6, 19.7, 18.2, 17.4, 16.4, 15.2, 14.6, 13.7, 13.0, 11.8, 11.6, 11.2, 11.1, 10.5, 10.0, 11.0, 11.7, 12.9, 13.7, 15.1, 15.8, 16.9, 14.6, 16.4, 18.1, 17.8, 17.3, 16.7, 15.9, 14.9, 14.4, 13.8, 12.2, 10.7, 10.2, 9.4, 10.9, 10.5, 12.0, 13.4, 14.6, 15.7, 16.2, 18.0, 17.2, 17.8, 18.0, 18.7, 19.5, 19.3, 19.1, 18.7, 18.3, 17.5, 16.9, 16.5, 16.1, 15.1, 14.2, 13.5, 12.9, 12.5, 12.6, 12.6, 12.6, 13.1, 15.0, 16.5, 19.0, 19.7, 20.3, 21.3, 22.3, 21.5, 21.4, 20.5, 18.9, 18.1, 17.2, 16.8, 16.8, 17.1, 17.4, 17.7, 17.9, 17.6, 17.1, 17.4, 16.9, 17.3, 15.6, 15.4, 16.6, 18.6, 18.9, 19.7, 18.7, 18.9, 17.5, 16.0, 14.6, 14.0, 13.3, 13.1, 12.4, 12.3, 11.8, 12.0, 12.0, 11.8, 11.8, 11.4, 11.5, 13.1, 15.2, 17.5, 16.4, 17.5, 18.0, 18.5, 17.6, 18.4, 16.5, 14.9, 13.2, 12.9, 12.2, 11.4, 11.1, 10.6, 10.6, 10.0, 10.7, 10.4, 9.6, 9.9, 10.7, 11.9, 11.8, 12.6, 12.6, 13.3, 13.6, 15.8, 15.1, 14.2, 12.9, 11.3, 10.9, 10.7, 10.6, 10.0, 9.4, 9.4, 9.3, 9.0, 9.7, 9.9, 9.6, 9.4, 9.9, 10.4, 11.4, 12.9, 13.8, 15.4, 16.4, 16.7, 17.1, 17.1, 15.7, 13.9, 13.1, 11.8, 10.6, 9.8, 8.5, 7.6, 6.8, 6.7, 6.2, 6.0, 6.1, 5.8, 6.6, 9.0, 12.4, 14.1, 15.8, 17.0, 17.7, 18.0, 18.1, 17.9, 16.2, 12.5, 12.2, 11.9, 12.1, 11.0, 10.0, 10.6, 10.4, 10.5, 10.6, 10.5, 10.4, 10.3, 11.2, 14.1, 15.5, 16.7, 17.1, 17.7, 18.5, 18.8, 17.6, 16.7, 15.6, 15.0, 14.8, 14.5, 14.3, 13.8, 13.3, 13.1, 13.5, 12.9, 13.0, 12.9, 12.7, 11.6, 12.1, 13.7, 14.7, 15.7, 16.7, 17.2, 16.0, 16.2, 15.9, 15.2, 13.9, 12.9, 12.5, 12.1, 11.7, 10.7, 10.5, 10.3, 9.7, 8.8, 8.8, 9.5, 10.7, 11.0, 10.7, 11.6, 13.1, 13.1, 13.6, 14.9, 15.0, 15.4, 15.1, 14.8, 14.0, 13.2, 12.4, 11.6, 11.6, 11.6, 11.6, 11.6, 11.6, 11.9, 12.3, 11.9, 12.4, 12.2, 12.0, 12.0, 12.6, 12.7, 14.1, 13.7, 15.2, 14.9, 14.8, 14.5, 14.0, 13.9, 13.2, 13.2, 12.8, 12.4, 12.5, 12.3, 12.3, 12.2, 12.2, 12.4, 12.3, 12.1, 12.1, 12.8, 13.5, 13.8, 13.9, 14.7, 14.9, 15.5, 16.3, 15.5, 14.7, 14.2, 13.7, 13.3, 12.5, 12.2, 11.0, 11.4, 11.4, 11.2, 10.7, 9.5, 9.0, 8.8, 8.7, 10.1, 11.8, 13.4, 14.0, 14.7, 15.7, 15.1, 13.6, 13.4, 12.7, 12.1, 11.0, 10.3, 9.3, 10.0, 10.0, 9.8, 8.9, 7.8, 6.8, 6.5, 6.0, 6.2, 6.3, 7.8, 10.4, 11.8, 13.0, 13.6, 13.6, 13.5, 13.8, 13.4, 11.7, 10.5, 9.6, 8.7, 8.2, 7.8, 7.5, 6.9, 6.2, 6.2, 6.3, 5.7, 5.8, 5.6, 5.5, 7.2, 9.8, 11.0, 12.3, 14.9, 15.4, 16.7, 15.9, 14.8, 14.3, 13.2, 11.5, 10.6, 10.3, 10.4, 10.7, 10.2, 9.7, 9.2, 9.4, 9.6, 9.4, 9.6, 10.2, 10.9, 12.1, 14.3, 14.9, 15.0, 14.2, 14.8, 15.1, 14.2, 13.7, 13.3, 12.8, 12.5, 11.0, 10.5, 10.6, 9.7, 9.7, 9.4, 9.0, 8.7, 8.5, 8.6, 8.7, 9.5, 10.3, 11.1, 11.8, 12.2, 12.7, 13.0, 12.0, 12.1, 12.0, 11.8, 11.8, 11.7, 10.9, 11.3, 11.4, 10.5, 10.4, 10.3, 10.4, 10.4, 10.0, 9.4, 9.1, 10.0, 11.1, 12.3, 14.6, 13.8, 13.8, 13.9, 14.0, 13.7, 13.1, 12.5, 12.3, 11.9, 11.9, 11.6, 11.5, 11.2, 11.2, 11.2, 10.1, 9.2, 9.6, 8.7, 10.5, 10.9, 12.8, 13.1, 14.3, 16.6, 16.0, 17.3, 16.6, 14.4, 13.0, 11.5, 10.3, 11.7, 11.3, 10.7, 8.9, 8.4, 7.6, 8.0, 8.3, 8.4, 9.1, 10.4, 11.7, 12.3, 13.5, 14.8, 16.2, 18.0, 16.5, 17.1, 17.1, 15.8, 14.6, 14.0, 13.3, 12.8, 13.4, 13.4, 12.2, 11.5, 11.6, 11.3, 10.9, 11.0, 10.9, 11.4, 11.7, 12.2, 13.1, 15.3, 15.7, 16.7, 15.7, 17.0, 17.0, 15.5, 11.8, 11.9, 11.4, 11.0, 10.7, 10.2, 9.8, 9.6, 9.4, 9.8, 9.5, 9.4, 9.8, 10.8, 11.6, 11.8, 11.6, 12.5, 13.3, 12.8, 14.0, 13.0, 13.2, 11.4, 10.4, 10.0, 9.5, 9.6, 9.6, 9.3, 9.1, 9.5, 10.0, 10.2, 10.1, 9.9, 10.1, 10.1, 10.6, 11.5, 12.4, 12.9, 12.9, 13.1, 13.4, 13.2, 13.1, 12.7, 12.3, 12.1, 11.3, 10.9, 10.5, 9.6, 8.4, 8.6, 9.2, 9.3, 9.4, 9.7, 9.7, 10.3, 10.9, 11.9, 12.6, 13.4, 13.8, 13.8, 13.7, 13.2, 12.6, 12.7, 12.0, 10.3, 9.7, 9.4, 8.6, 8.5, 7.8, 7.6, 8.7, 9.3, 9.1, 8.5, 8.2, 8.5, 9.3, 9.5, 10.3, 11.5, 12.4, 12.9, 13.3, 12.8, 12.9, 12.5, 12.0, 11.8, 11.1, 10.7, 9.7, 8.6, 7.3, 7.5, 6.8, 5.8, 5.9, 5.8, 6.2, 6.1, 7.3, 8.5, 10.0, 11.5, 12.5, 13.6, 13.2, 13.2, 12.8, 12.2, 11.7, 11.0, 10.0, 9.0, 8.2, 7.7, 7.2, 6.6, 6.5, 6.5, 6.7, 6.9, 6.6, 6.3, 7.3, 9.6, 11.2, 12.8, 12.9, 13.5, 12.7, 12.5, 11.9, 11.4, 11.1, 10.8, 10.7, 10.3, 10.1, 10.0, 9.7, 9.7, 9.7, 9.6, 9.9, 9.9, 9.9, 10.2, 10.5, 11.1, 11.8, 12.3, 12.5, 13.1, 13.2, 13.1, 13.0, 12.6, 12.4, 11.7, 11.4, 11.1, 10.9, 10.6, 10.5, 10.2, 10.0, 9.9, 9.8, 9.9, 10.0, 10.2, 9.9, 10.4, 10.5, 11.2, 12.2, 12.0, 13.1, 13.5, 14.1, 13.1, 12.1, 12.0, 11.6, 11.5, 11.2, 10.7, 9.7, 10.3, 11.1, 11.0, 10.9, 11.0, 11.0, 11.4, 11.8, 12.9, 13.7, 14.5, 15.7, 15.3, 15.1, 16.2, 14.8, 13.7, 13.5, 13.1, 12.6, 11.7, 11.4, 9.6, 10.1, 8.4, 8.3, 9.5, 9.6, 9.5, 9.4, 9.3, 9.6, 9.9, 10.6, 12.6, 14.6, 16.3, 15.4, 14.4, 14.4, 13.8, 13.8, 13.0, 13.6, 13.0, 13.4, 13.2, 13.1, 13.0, 12.9, 12.8, 12.1, 11.4, 11.2, 11.1, 12.0, 14.0, 14.8, 15.8, 16.2, 16.2, 16.8, 15.9, 15.9, 15.4, 15.3, 15.1, 14.6, 14.2, 13.5, 12.7, 12.7, 12.7, 12.7, 12.8, 12.9, 12.8, 12.9, 13.1, 13.1, 13.3, 14.0, 14.3, 14.6, 15.0, 15.2, 15.1, 14.8, 14.7, 14.4, 14.2, 12.9, 11.0, 11.2, 9.7, 9.8, 9.1, 8.4, 9.6, 9.9, 9.9, 9.4, 9.4, 9.8, 10.0, 10.4, 10.7, 11.1, 11.3, 11.4, 11.8, 12.0, 11.8, 11.5, 11.1, 11.1, 11.1, 11.2, 11.3, 11.3, 10.9, 10.4, 10.1, 9.9, 9.0, 10.7, 11.0, 10.8, 11.0, 11.9, 13.0, 15.1, 17.5, 18.7, 18.8, 18.0, 15.0, 14.4, 13.9, 13.0, 11.9, 11.2, 10.4, 8.8, 8.7, 7.5, 7.6, 7.1, 7.1, 7.4, 6.5, 7.0, 8.4, 9.9, 10.6, 11.2, 12.5, 12.6, 11.8, 11.5, 11.3, 10.7, 10.2, 9.9, 9.6, 9.3, 8.3, 6.5, 5.3, 5.1, 4.7, 4.1, 4.6, 3.5, 3.6, 4.7, 6.1, 7.5, 8.5, 9.9, 10.5, 11.0, 10.7, 9.8, 8.5, 7.8, 6.7, 5.9, 5.6, 4.6, 3.7, 3.0, 2.6, 2.2, 2.0, 2.3, 2.0, 2.0, 2.3, 2.9, 3.8, 7.0, 9.0, 10.4, 11.3, 11.7, 10.8, 11.0, 10.3, 10.0, 9.5, 9.7, 8.3, 8.3, 8.0, 7.8, 7.4, 7.5, 7.5, 7.5, 7.7, 7.7, 8.0, 8.6, 9.2, 10.0, 10.6, 11.0, 10.1, 9.6, 9.4, 9.2, 9.2, 8.9, 8.0, 6.9, 6.1, 5.3, 5.2, 4.6, 3.7, 2.8, 2.6, 2.7, 3.6, 3.5, 3.9, 4.3, 5.4, 6.9, 7.6, 8.4, 8.9, 8.9, 8.6, 7.7, 7.1, 6.9, 5.5, 4.8, 4.8, 4.3, 3.8, 3.4, 3.1, 2.7, 2.5, 2.4, 2.1, 2.0, 1.7, 2.7, 4.1, 5.4, 6.2, 7.2, 7.4, 7.0, 7.1, 5.4, 4.0, 4.1, 4.7, 5.0, 5.4, 5.8, 6.2, 6.3, 6.1, 6.0, 5.9, 5.8, 5.7, 5.7, 5.5, 5.6, 6.2, 7.3, 8.2, 7.9, 8.1, 8.1, 8.0, 7.6, 6.5, 5.2, 4.0, 3.7, 3.2, 2.8, 2.3, 2.2, 1.9, 1.4, 1.2, 0.5, -0.6, 0.0, -0.2, 0.2, 1.7, 4.7, 4.4, 4.7, 5.2, 5.7, 5.5, 5.5, 5.3, 5.1, 4.8, 4.6, 4.2, 4.0, 4.0, 4.1, 4.5, 4.7, 4.9, 5.2, 5.6, 6.1, 6.4, 6.5, 6.5, 6.7, 6.7, 7.6, 9.0, 8.6, 9.5, 8.4, 7.7, 7.5, 7.4, 6.9, 6.4, 5.4, 5.2, 4.6, 4.2, 3.6, 4.1, 4.3, 3.3, 4.2, 5.7, 6.0, 7.1, 7.9, 9.3, 10.2, 11.1, 10.8, 11.2, 8.2, 7.3, 7.6, 7.5, 7.1, 6.6, 6.7, 6.2, 5.9, 6.1, 5.1, 3.9, 3.6, 3.2, 3.6, 4.0, 4.6, 5.7, 6.7, 9.3, 9.8, 10.4, 10.1, 9.7, 7.8, 7.1, 6.5, 5.3, 5.3, 4.0, 4.1, 3.1, 3.9, 3.2, 5.1, 5.5, 6.8, 7.8, 8.6, 8.6, 8.7, 8.8, 9.1, 9.3, 9.6, 10.1, 10.5, 10.5, 10.4, 10.4, 10.5, 10.3, 10.1, 10.3, 9.4, 9.0, 8.9, 8.6, 8.1, 7.2, 6.8, 6.7, 5.9, 6.6, 6.1, 7.3, 8.8, 9.3, 9.8, 10.7, 11.0, 10.6, 9.8, 8.7, 7.6, 6.3, 6.7, 6.4, 6.2, 5.5, 5.1, 5.4, 5.7, 6.0, 6.2, 6.7, 7.0, 7.5, 7.7, 8.6, 9.6, 10.6, 10.9, 11.6, 12.1, 12.4, 12.3, 12.2, 12.4, 12.4, 12.6, 12.6, 12.6, 12.6, 12.5, 12.5, 12.5, 12.5, 12.7, 13.0, 12.7, 12.9, 13.4, 13.8, 14.1, 14.5, 15.1, 15.4, 15.5, 15.3, 15.0, 14.5, 14.3, 13.6, 13.5, 13.5, 13.4, 13.5, 13.4, 13.4, 13.3, 13.1, 13.0, 13.0, 13.2, 12.7, 11.7, 12.0, 12.6, 13.0, 13.6, 13.1, 14.0, 13.4, 12.9, 11.3, 10.9, 10.7, 10.5, 10.3, 9.8, 9.4, 8.4, 8.1, 8.1, 8.2, 8.0, 7.7, 7.4, 7.1, 7.3, 7.8, 9.1, 11.0, 12.3, 12.9, 13.2, 12.1, 10.7, 9.1, 9.0, 8.8, 8.4, 7.3, 7.3, 7.3, 6.5, 6.3, 4.5, 4.4, 4.0, 3.9, 3.8, 3.7, 3.5, 4.4, 6.6, 6.6, 11.0, 7.9, 7.9, 7.3, 5.9, 5.3, 5.0, 4.8, 4.7, 4.4, 3.6, 3.6, 2.0, 2.5, 2.3, 2.1, 1.7, 1.9, 1.9, 2.1, 2.3, 4.0, 6.1, 6.5, 6.7, 7.5, 8.1, 7.5, 6.6, 6.2, 5.9, 5.8, 5.7, 5.8, 5.7, 6.1, 7.0, 7.2, 7.2, 8.0, 8.6, 8.7, 8.6, 8.8, 8.8, 7.9, 6.6, 6.2, 5.9, 6.1, 6.0, 6.1, 6.0, 6.0, 6.1, 6.2, 5.9, 5.8, 5.8, 5.4, 5.3, 5.4, 5.4, 5.5, 5.8, 6.0, 6.2, 6.5, 7.0, 7.9, 9.3, 10.3, 11.6, 11.9, 12.1, 11.4, 11.0, 10.7, 10.9, 10.9, 10.6, 10.7, 10.4, 10.7, 10.7, 9.3, 8.8, 9.2, 9.9, 9.3, 9.0, 9.3, 9.2, 10.0, 10.8, 10.4, 11.8, 11.2, 11.8, 11.3, 10.9, 10.0, 9.7, 9.3, 9.1, 9.2, 7.9, 6.8, 5.7, 5.0, 4.8, 4.7, 4.2, 5.1, 5.7, 6.7, 7.6, 9.0, 10.0, 10.1, 9.7, 9.2, 8.8, 8.9, 9.1, 9.4, 9.5, 9.5, 9.4, 9.8, 10.0, 9.9, 10.1, 10.2, 10.2, 10.2, 10.1, 9.7, 9.9, 10.2, 10.2, 10.3, 10.4, 10.2, 10.2, 9.9, 9.4, 9.3, 8.9, 8.4, 8.1, 7.8, 7.5, 7.4, 7.1, 6.6, 6.2, 6.5, 6.4, 6.0, 5.5, 5.7, 6.5, 7.8, 8.7, 10.1, 10.8, 10.9, 10.5, 9.7, 8.6, 7.8, 7.3, 7.0, 6.8, 6.5, 6.3, 5.6, 4.4, 3.8, 3.7, 3.5, 3.3, 3.1, 3.4, 3.3, 3.8, 4.8, 6.5, 7.9, 8.8, 8.9, 9.0, 8.4, 7.2, 6.5, 6.5, 6.4, 5.8, 6.0, 6.0, 5.4, 5.1, 5.0, 5.4, 5.5, 5.8, 6.1, 6.3, 6.7, 7.3, 7.8, 8.3, 8.5, 8.4, 8.2, 8.1, 8.2, 7.9, 7.9, 7.6, 6.0, 6.3, 7.2, 6.8, 7.0, 6.7, 6.7, 6.8, 6.8, 6.9, 6.7, 6.9, 6.0, 6.6, 7.5, 8.1, 8.4, 8.7, 8.2, 7.3, 6.2, 6.1, 5.7, 5.1, 4.6, 3.7, 3.0, 2.2, 1.7, 1.3, 0.5, 0.0, -0.3, -0.1, -0.1, -0.4, -0.5, 0.5, 2.2, 4.1, 5.7, 6.9, 6.9, 6.0, 4.2, 4.0, 2.9, 2.4, 1.5, 1.0, 0.4, -1.9, -0.8, -2.2, -3.0, -3.5, -3.1, -2.9, -3.9, -3.0, -2.9, -2.1, -0.4, 1.5, 3.6, 4.9, 6.3, 6.6, 5.5, 4.5, 3.6, 2.3, 2.6, 1.9, 0.9, 0.1, -0.3, -1.2, -1.9, -1.2, -1.9, -2.5, -1.3, -1.2, -2.1, -1.3, 1.2, 4.1, 5.1, 6.6, 7.7, 7.4, 6.4, 6.2, 4.7, 4.5, 3.4, 3.3, 3.3, 3.8, 3.9, 3.7, 3.8, 4.1, 4.4, 4.6, 4.4, 4.7, 5.5, 5.5, 6.1, 6.7, 7.3, 7.7, 7.9, 7.9, 7.7, 7.4, 7.1, 6.9, 6.4, 6.4, 6.0, 6.6, 6.8, 6.5, 5.8, 5.6, 5.8, 5.8, 5.6, 5.9, 5.9, 6.1, 6.5, 8.2, 7.3, 9.1, 7.1, 6.3, 5.7, 4.7, 4.1, 3.4, 4.3, 3.4, 3.2, 2.6, 2.1, 0.9, 1.5, 1.7, 1.4, 1.4, 1.1, 0.9, 0.8, 1.7, 4.0, 5.9, 7.5, 7.9, 7.8, 7.5, 4.9, 4.6, 3.6, 3.5, 3.3, 2.7, 2.8, 2.4, 1.4, 1.2, 0.9, 0.7, 0.3, -0.3, -0.3, -1.0, -0.1, 1.1, 3.1, 5.2, 6.6, 7.6, 8.0, 7.8, 5.7, 6.1, 3.6, 4.8, 4.3, 3.8, 3.5, 1.6, 2.2, 2.0, 2.6, 2.7, 2.9, 3.8, 4.3, 3.6, 4.6, 5.5, 6.0, 6.6, 8.7, 9.0, 9.8, 10.0, 9.8, 10.0, 10.4, 10.5, 10.2, 10.3, 10.1, 9.8, 8.7, 8.9, 8.9, 9.1, 9.8, 10.1, 10.5, 10.9, 11.0, 11.2, 11.3, 12.0, 12.7, 13.1, 13.0, 12.9, 11.9, 11.1, 11.1, 11.2, 10.9, 10.6, 10.2, 9.8, 9.5, 10.0, 10.3, 10.1, 9.6, 10.2, 10.0, 10.8, 11.0, 11.3, 12.1, 12.9, 13.1, 12.6, 12.9, 13.0, 12.8, 12.6, 12.7, 12.7, 12.2, 12.3, 12.1, 12.1, 12.0, 11.9, 12.3, 12.2, 11.8, 11.7, 12.0, 12.4, 12.6, 12.5, 12.8, 12.5, 12.7, 14.1, 14.2, 14.5, 13.6, 12.3, 11.1, 10.6, 10.8, 11.0, 11.0, 10.9, 10.8, 10.9, 11.5, 11.5, 11.6, 11.5, 11.7, 11.9, 12.2, 12.4, 12.6, 12.7, 13.3, 13.2, 13.4, 13.1, 13.0, 12.3, 11.9, 12.1, 12.1, 9.7, 8.7, 8.1, 6.7, 5.7, 5.6, 4.9, 4.4, 4.2, 3.9, 4.9, 5.1, 5.3, 6.6, 8.3, 9.4, 9.9, 9.6, 9.7, 8.8, 7.9, 7.7, 6.8, 6.5, 5.7, 6.0, 5.2, 3.6, 2.8, 3.1, 2.6, 2.3, 2.5, 3.1, 4.7, 5.8, 6.9, 7.8, 8.2, 8.8, 8.9, 9.1, 9.0, 9.6, 10.1, 10.4, 11.0, 11.0, 10.7, 10.6, 10.4, 10.1, 8.7, 7.7, 8.2, 8.7, 8.8, 8.1, 8.7, 9.3, 9.8, 10.7, 11.3, 12.2, 12.9, 12.9, 12.8, 12.9, 12.7, 12.5, 12.2, 12.3, 12.3, 12.2, 12.1, 10.9, 10.9, 10.3, 8.0, 6.9, 6.9, 8.3, 7.7, 7.6, 8.4, 9.5, 11.2, 13.5, 13.7, 13.6, 12.7, 11.4, 9.8, 9.5, 7.7, 6.7, 7.8, 6.7, 7.2, 5.3, 4.9, 6.3, 6.7, 7.0, 7.5, 7.9, 8.3, 8.8, 9.2, 9.6, 10.4, 10.8, 10.8, 10.8, 11.1, 10.4, 8.9, 8.7, 8.4, 8.3, 8.6, 8.7, 8.4, 8.7, 9.1, 8.8, 8.8, 7.4, 8.6, 9.2, 9.4, 9.5, 9.6, 10.2, 9.9, 10.0, 10.1, 10.3, 10.1, 10.4, 10.0, 10.1, 10.1, 10.0, 10.1, 10.5, 8.9, 7.2, 6.4, 5.5, 4.7, 4.4, 4.3, 5.8, 6.4, 6.0, 6.0, 6.3, 6.3, 6.5, 6.6, 6.9, 7.3, 7.3, 7.4, 7.2, 7.7, 7.6, 7.3, 7.0, 6.4, 6.2, 6.5, 6.4, 6.4, 6.4, 6.5, 6.6, 6.7, 6.6, 6.7, 6.7, 6.7, 6.9, 7.2, 7.2, 7.4, 7.3, 7.2, 6.9, 7.0, 7.0, 6.7, 6.5, 6.2, 5.8, 5.5, 5.2, 5.2, 5.0, 4.7, 4.6, 4.6, 4.5, 4.9, 5.4, 5.5, 6.2, 6.1, 6.3, 6.6, 6.9, 6.9, 6.7, 6.6, 6.7, 6.6, 6.5, 6.5, 5.2, 5.8, 5.9, 6.0, 5.9, 5.4, 5.4, 5.4, 4.7, 4.3, 5.0, 6.2, 7.0, 7.1, 6.4, 6.3, 5.3, 5.4, 5.4, 5.4, 5.3, 4.7, 4.3, 4.3, 4.8, 5.4, 6.5, 7.1, 7.9, 8.7, 8.9, 9.3, 9.3, 9.6, 9.9, 10.4, 10.8, 11.6, 11.8, 11.1, 10.5, 10.4, 10.0, 10.2, 10.0, 9.9, 9.6, 9.3, 8.3, 7.4, 6.0, 3.8, 4.3, 3.9, 4.7, 4.6, 3.7, 3.2, 3.5, 6.9, 9.0, 10.5, 10.1, 9.3, 8.7, 8.1, 8.3, 7.5, 6.8, 6.7, 6.3, 6.1, 4.2, 4.5, 5.2, 5.4, 5.3, 5.8, 5.8, 6.4, 7.4, 8.2, 9.7, 10.6, 10.7, 10.8, 10.8, 10.8, 10.8, 10.7, 10.7, 11.1, 11.3, 9.1, 8.5, 7.6, 7.8, 7.5, 7.0, 5.8, 5.8, 5.6, 5.4, 5.9, 6.2, 6.8, 7.5, 8.5, 9.0, 9.5, 9.8, 9.9, 9.7, 10.0, 9.8, 9.3, 9.4, 9.6, 10.0, 9.9, 9.9, 10.1, 10.0, 9.8, 10.1, 10.3, 10.7, 10.8, 10.7, 11.4, 11.8, 12.1, 12.5, 12.8, 13.2, 13.5, 12.5, 12.2, 12.5, 12.6, 12.8, 12.3, 12.5, 12.4, 12.3, 12.0, 12.1, 8.4, 8.0, 8.2, 7.3, 7.0, 6.5, 5.9, 7.7, 8.0, 8.5, 8.2, 7.9, 7.7, 6.6, 6.2, 5.1, 4.4, 4.6, 4.3, 3.7, 3.1, 2.5, 1.6, 1.8, 1.0, 1.5, 0.4, -0.6, 0.4, 0.2, 0.2, 1.4, 3.3, 4.9, 5.8, 6.4, 5.6, 4.8, 3.3, 3.2, 2.1, 1.9, 1.2, 0.8, 0.5, -0.2, -0.6, -0.9, -1.1, -0.8, -1.1, -0.8, -0.6, -0.8, -0.8, 0.8, 3.6, 6.0, 7.1, 8.0, 7.1, 5.7, 3.8, 3.5, 3.0, 1.6, 2.0, 1.8, 1.3, 0.7, -0.3, -1.2, -1.2, -2.0, -2.3, -0.9, -0.4, -0.6, -0.2, 2.7, 5.2, 6.9, 8.5, 8.6, 8.7, 7.5, 6.7, 6.0, 4.8, 3.6, 1.5, 1.3, -0.9, -0.4, 0.1, 0.5, 0.4, 0.2, 0.2, 0.7, 0.4, 0.3, 0.6, 1.1, 1.3, 0.6, 1.0, 2.0, 2.7, 3.2, 3.2, 3.0, 2.8, 2.6, 2.5, 2.6, 2.9, 2.9, 3.1, 3.5, 3.7, 3.9, 4.4, 4.4, 4.2, 4.2, 4.8, 5.7, 6.8, 7.6, 8.5, 8.8, 8.7, 8.6, 8.5, 8.5, 8.1, 7.2, 6.9, 6.9, 7.5], \"yaxis\": \"y\"}],\n",
              "                        {\"height\": 600, \"legend\": {\"tracegroupgap\": 0}, \"margin\": {\"t\": 60}, \"template\": {\"data\": {\"bar\": [{\"error_x\": {\"color\": \"#2a3f5f\"}, \"error_y\": {\"color\": \"#2a3f5f\"}, \"marker\": {\"line\": {\"color\": \"#E5ECF6\", \"width\": 0.5}}, \"type\": \"bar\"}], \"barpolar\": [{\"marker\": {\"line\": {\"color\": \"#E5ECF6\", \"width\": 0.5}}, \"type\": \"barpolar\"}], \"carpet\": [{\"aaxis\": {\"endlinecolor\": \"#2a3f5f\", \"gridcolor\": \"white\", \"linecolor\": \"white\", \"minorgridcolor\": \"white\", \"startlinecolor\": \"#2a3f5f\"}, \"baxis\": {\"endlinecolor\": \"#2a3f5f\", \"gridcolor\": \"white\", \"linecolor\": \"white\", \"minorgridcolor\": \"white\", \"startlinecolor\": \"#2a3f5f\"}, \"type\": \"carpet\"}], \"choropleth\": [{\"colorbar\": {\"outlinewidth\": 0, \"ticks\": \"\"}, \"type\": \"choropleth\"}], \"contour\": [{\"colorbar\": {\"outlinewidth\": 0, \"ticks\": \"\"}, \"colorscale\": [[0.0, \"#0d0887\"], [0.1111111111111111, \"#46039f\"], [0.2222222222222222, \"#7201a8\"], [0.3333333333333333, \"#9c179e\"], [0.4444444444444444, \"#bd3786\"], [0.5555555555555556, \"#d8576b\"], [0.6666666666666666, \"#ed7953\"], [0.7777777777777778, \"#fb9f3a\"], [0.8888888888888888, \"#fdca26\"], [1.0, \"#f0f921\"]], \"type\": \"contour\"}], \"contourcarpet\": [{\"colorbar\": {\"outlinewidth\": 0, \"ticks\": \"\"}, \"type\": \"contourcarpet\"}], \"heatmap\": [{\"colorbar\": {\"outlinewidth\": 0, \"ticks\": \"\"}, \"colorscale\": [[0.0, \"#0d0887\"], [0.1111111111111111, \"#46039f\"], [0.2222222222222222, \"#7201a8\"], [0.3333333333333333, \"#9c179e\"], [0.4444444444444444, \"#bd3786\"], [0.5555555555555556, \"#d8576b\"], [0.6666666666666666, \"#ed7953\"], [0.7777777777777778, \"#fb9f3a\"], [0.8888888888888888, \"#fdca26\"], [1.0, \"#f0f921\"]], \"type\": \"heatmap\"}], \"heatmapgl\": [{\"colorbar\": {\"outlinewidth\": 0, \"ticks\": \"\"}, \"colorscale\": [[0.0, \"#0d0887\"], [0.1111111111111111, \"#46039f\"], [0.2222222222222222, \"#7201a8\"], [0.3333333333333333, \"#9c179e\"], [0.4444444444444444, \"#bd3786\"], [0.5555555555555556, \"#d8576b\"], [0.6666666666666666, \"#ed7953\"], [0.7777777777777778, \"#fb9f3a\"], [0.8888888888888888, \"#fdca26\"], [1.0, \"#f0f921\"]], \"type\": \"heatmapgl\"}], \"histogram\": [{\"marker\": {\"colorbar\": {\"outlinewidth\": 0, \"ticks\": \"\"}}, \"type\": \"histogram\"}], \"histogram2d\": [{\"colorbar\": {\"outlinewidth\": 0, \"ticks\": \"\"}, \"colorscale\": [[0.0, \"#0d0887\"], [0.1111111111111111, \"#46039f\"], [0.2222222222222222, \"#7201a8\"], [0.3333333333333333, \"#9c179e\"], [0.4444444444444444, \"#bd3786\"], [0.5555555555555556, \"#d8576b\"], [0.6666666666666666, \"#ed7953\"], [0.7777777777777778, \"#fb9f3a\"], [0.8888888888888888, \"#fdca26\"], [1.0, \"#f0f921\"]], \"type\": \"histogram2d\"}], \"histogram2dcontour\": [{\"colorbar\": {\"outlinewidth\": 0, \"ticks\": \"\"}, \"colorscale\": [[0.0, \"#0d0887\"], [0.1111111111111111, \"#46039f\"], [0.2222222222222222, \"#7201a8\"], [0.3333333333333333, \"#9c179e\"], [0.4444444444444444, \"#bd3786\"], [0.5555555555555556, \"#d8576b\"], [0.6666666666666666, \"#ed7953\"], [0.7777777777777778, \"#fb9f3a\"], [0.8888888888888888, \"#fdca26\"], [1.0, \"#f0f921\"]], \"type\": \"histogram2dcontour\"}], \"mesh3d\": [{\"colorbar\": {\"outlinewidth\": 0, \"ticks\": \"\"}, \"type\": \"mesh3d\"}], \"parcoords\": [{\"line\": {\"colorbar\": {\"outlinewidth\": 0, \"ticks\": \"\"}}, \"type\": \"parcoords\"}], \"scatter\": [{\"marker\": {\"colorbar\": {\"outlinewidth\": 0, \"ticks\": \"\"}}, \"type\": \"scatter\"}], \"scatter3d\": [{\"line\": {\"colorbar\": {\"outlinewidth\": 0, \"ticks\": \"\"}}, \"marker\": {\"colorbar\": {\"outlinewidth\": 0, \"ticks\": \"\"}}, \"type\": \"scatter3d\"}], \"scattercarpet\": [{\"marker\": {\"colorbar\": {\"outlinewidth\": 0, \"ticks\": \"\"}}, \"type\": \"scattercarpet\"}], \"scattergeo\": [{\"marker\": {\"colorbar\": {\"outlinewidth\": 0, \"ticks\": \"\"}}, \"type\": \"scattergeo\"}], \"scattergl\": [{\"marker\": {\"colorbar\": {\"outlinewidth\": 0, \"ticks\": \"\"}}, \"type\": \"scattergl\"}], \"scattermapbox\": [{\"marker\": {\"colorbar\": {\"outlinewidth\": 0, \"ticks\": \"\"}}, \"type\": \"scattermapbox\"}], \"scatterpolar\": [{\"marker\": {\"colorbar\": {\"outlinewidth\": 0, \"ticks\": \"\"}}, \"type\": \"scatterpolar\"}], \"scatterpolargl\": [{\"marker\": {\"colorbar\": {\"outlinewidth\": 0, \"ticks\": \"\"}}, \"type\": \"scatterpolargl\"}], \"scatterternary\": [{\"marker\": {\"colorbar\": {\"outlinewidth\": 0, \"ticks\": \"\"}}, \"type\": \"scatterternary\"}], \"surface\": [{\"colorbar\": {\"outlinewidth\": 0, \"ticks\": \"\"}, \"colorscale\": [[0.0, \"#0d0887\"], [0.1111111111111111, \"#46039f\"], [0.2222222222222222, \"#7201a8\"], [0.3333333333333333, \"#9c179e\"], [0.4444444444444444, \"#bd3786\"], [0.5555555555555556, \"#d8576b\"], [0.6666666666666666, \"#ed7953\"], [0.7777777777777778, \"#fb9f3a\"], [0.8888888888888888, \"#fdca26\"], [1.0, \"#f0f921\"]], \"type\": \"surface\"}], \"table\": [{\"cells\": {\"fill\": {\"color\": \"#EBF0F8\"}, \"line\": {\"color\": \"white\"}}, \"header\": {\"fill\": {\"color\": \"#C8D4E3\"}, \"line\": {\"color\": \"white\"}}, \"type\": \"table\"}]}, \"layout\": {\"annotationdefaults\": {\"arrowcolor\": \"#2a3f5f\", \"arrowhead\": 0, \"arrowwidth\": 1}, \"colorscale\": {\"diverging\": [[0, \"#8e0152\"], [0.1, \"#c51b7d\"], [0.2, \"#de77ae\"], [0.3, \"#f1b6da\"], [0.4, \"#fde0ef\"], [0.5, \"#f7f7f7\"], [0.6, \"#e6f5d0\"], [0.7, \"#b8e186\"], [0.8, \"#7fbc41\"], [0.9, \"#4d9221\"], [1, \"#276419\"]], \"sequential\": [[0.0, \"#0d0887\"], [0.1111111111111111, \"#46039f\"], [0.2222222222222222, \"#7201a8\"], [0.3333333333333333, \"#9c179e\"], [0.4444444444444444, \"#bd3786\"], [0.5555555555555556, \"#d8576b\"], [0.6666666666666666, \"#ed7953\"], [0.7777777777777778, \"#fb9f3a\"], [0.8888888888888888, \"#fdca26\"], [1.0, \"#f0f921\"]], \"sequentialminus\": [[0.0, \"#0d0887\"], [0.1111111111111111, \"#46039f\"], [0.2222222222222222, \"#7201a8\"], [0.3333333333333333, \"#9c179e\"], [0.4444444444444444, \"#bd3786\"], [0.5555555555555556, \"#d8576b\"], [0.6666666666666666, \"#ed7953\"], [0.7777777777777778, \"#fb9f3a\"], [0.8888888888888888, \"#fdca26\"], [1.0, \"#f0f921\"]]}, \"colorway\": [\"#636efa\", \"#EF553B\", \"#00cc96\", \"#ab63fa\", \"#FFA15A\", \"#19d3f3\", \"#FF6692\", \"#B6E880\", \"#FF97FF\", \"#FECB52\"], \"font\": {\"color\": \"#2a3f5f\"}, \"geo\": {\"bgcolor\": \"white\", \"lakecolor\": \"white\", \"landcolor\": \"#E5ECF6\", \"showlakes\": true, \"showland\": true, \"subunitcolor\": \"white\"}, \"hoverlabel\": {\"align\": \"left\"}, \"hovermode\": \"closest\", \"mapbox\": {\"style\": \"light\"}, \"paper_bgcolor\": \"white\", \"plot_bgcolor\": \"#E5ECF6\", \"polar\": {\"angularaxis\": {\"gridcolor\": \"white\", \"linecolor\": \"white\", \"ticks\": \"\"}, \"bgcolor\": \"#E5ECF6\", \"radialaxis\": {\"gridcolor\": \"white\", \"linecolor\": \"white\", \"ticks\": \"\"}}, \"scene\": {\"xaxis\": {\"backgroundcolor\": \"#E5ECF6\", \"gridcolor\": \"white\", \"gridwidth\": 2, \"linecolor\": \"white\", \"showbackground\": true, \"ticks\": \"\", \"zerolinecolor\": \"white\"}, \"yaxis\": {\"backgroundcolor\": \"#E5ECF6\", \"gridcolor\": \"white\", \"gridwidth\": 2, \"linecolor\": \"white\", \"showbackground\": true, \"ticks\": \"\", \"zerolinecolor\": \"white\"}, \"zaxis\": {\"backgroundcolor\": \"#E5ECF6\", \"gridcolor\": \"white\", \"gridwidth\": 2, \"linecolor\": \"white\", \"showbackground\": true, \"ticks\": \"\", \"zerolinecolor\": \"white\"}}, \"shapedefaults\": {\"line\": {\"color\": \"#2a3f5f\"}}, \"ternary\": {\"aaxis\": {\"gridcolor\": \"white\", \"linecolor\": \"white\", \"ticks\": \"\"}, \"baxis\": {\"gridcolor\": \"white\", \"linecolor\": \"white\", \"ticks\": \"\"}, \"bgcolor\": \"#E5ECF6\", \"caxis\": {\"gridcolor\": \"white\", \"linecolor\": \"white\", \"ticks\": \"\"}}, \"title\": {\"x\": 0.05}, \"xaxis\": {\"automargin\": true, \"gridcolor\": \"white\", \"linecolor\": \"white\", \"ticks\": \"\", \"zerolinecolor\": \"white\", \"zerolinewidth\": 2}, \"yaxis\": {\"automargin\": true, \"gridcolor\": \"white\", \"linecolor\": \"white\", \"ticks\": \"\", \"zerolinecolor\": \"white\", \"zerolinewidth\": 2}}}, \"xaxis\": {\"anchor\": \"y\", \"domain\": [0.0, 0.98], \"title\": {\"text\": \"timestamp\"}}, \"yaxis\": {\"anchor\": \"x\", \"domain\": [0.0, 1.0], \"title\": {\"text\": \"air_temperature\"}}},\n",
              "                        {\"responsive\": true}\n",
              "                    ).then(function(){\n",
              "                            \n",
              "var gd = document.getElementById('768a96c3-e071-410f-a1d3-38c379735483');\n",
              "var x = new MutationObserver(function (mutations, observer) {{\n",
              "        var display = window.getComputedStyle(gd).display;\n",
              "        if (!display || display === 'none') {{\n",
              "            console.log([gd, 'removed!']);\n",
              "            Plotly.purge(gd);\n",
              "            observer.disconnect();\n",
              "        }}\n",
              "}});\n",
              "\n",
              "// Listen for the removal of the full notebook cells\n",
              "var notebookContainer = gd.closest('#notebook-container');\n",
              "if (notebookContainer) {{\n",
              "    x.observe(notebookContainer, {childList: true});\n",
              "}}\n",
              "\n",
              "// Listen for the clearing of the current output cell\n",
              "var outputEl = gd.closest('.output');\n",
              "if (outputEl) {{\n",
              "    x.observe(outputEl, {childList: true});\n",
              "}}\n",
              "\n",
              "                        })\n",
              "                };\n",
              "                \n",
              "            </script>\n",
              "        </div>\n",
              "</body>\n",
              "</html>"
            ]
          },
          "metadata": {
            "tags": []
          }
        }
      ]
    },
    {
      "cell_type": "markdown",
      "metadata": {
        "colab_type": "text",
        "id": "9_tWPN3aYb6-"
      },
      "source": [
        "Splitting the timestamp variable in the train dataset into two columns: date and time. Both columns are of tiype datetime."
      ]
    },
    {
      "cell_type": "code",
      "metadata": {
        "colab_type": "code",
        "id": "BQVTiZcQYb6-",
        "colab": {}
      },
      "source": [
        "train_data['timestamp'] = pd.to_datetime(train_data['timestamp'])"
      ],
      "execution_count": 0,
      "outputs": []
    },
    {
      "cell_type": "code",
      "metadata": {
        "colab_type": "code",
        "id": "oyIJgUBxYb7A",
        "colab": {}
      },
      "source": [
        "# train_data['date'] = train_data['timestamp'].dt.date\n",
        "train_data['date'] = train_data['timestamp'].dt.normalize()"
      ],
      "execution_count": 0,
      "outputs": []
    },
    {
      "cell_type": "code",
      "metadata": {
        "colab_type": "code",
        "id": "0Hyru6NsYb7C",
        "colab": {}
      },
      "source": [
        "train_data['time'] = train_data['timestamp'].dt.time\n",
        "train_data['hour'] = pd.to_datetime(train_data['time'], format='%H:%M:%S').dt.hour"
      ],
      "execution_count": 0,
      "outputs": []
    },
    {
      "cell_type": "code",
      "metadata": {
        "colab_type": "code",
        "id": "L9rSuAl5Yb7E",
        "colab": {}
      },
      "source": [
        "train_data = train_data.drop(['time'], axis = 1)"
      ],
      "execution_count": 0,
      "outputs": []
    },
    {
      "cell_type": "code",
      "metadata": {
        "colab_type": "code",
        "id": "xrP2rVi-Yb7F",
        "outputId": "2d7d7d66-15b0-45ae-ec72-8f927d17c0fc",
        "colab": {
          "base_uri": "https://localhost:8080/",
          "height": 207
        }
      },
      "source": [
        "train_data.info()"
      ],
      "execution_count": 207,
      "outputs": [
        {
          "output_type": "stream",
          "text": [
            "<class 'pandas.core.frame.DataFrame'>\n",
            "RangeIndex: 20216100 entries, 0 to 20216099\n",
            "Data columns (total 6 columns):\n",
            "building_id      int64\n",
            "meter            int64\n",
            "timestamp        datetime64[ns]\n",
            "meter_reading    float64\n",
            "date             datetime64[ns]\n",
            "hour             int64\n",
            "dtypes: datetime64[ns](2), float64(1), int64(3)\n",
            "memory usage: 925.4 MB\n"
          ],
          "name": "stdout"
        }
      ]
    },
    {
      "cell_type": "code",
      "metadata": {
        "colab_type": "code",
        "id": "tzPq5a_d5J2V",
        "outputId": "d5ccacc2-d824-4d37-eb95-98c797028f53",
        "colab": {
          "base_uri": "https://localhost:8080/",
          "height": 288
        }
      },
      "source": [
        "train_data.describe()"
      ],
      "execution_count": 208,
      "outputs": [
        {
          "output_type": "execute_result",
          "data": {
            "text/html": [
              "<div>\n",
              "<style scoped>\n",
              "    .dataframe tbody tr th:only-of-type {\n",
              "        vertical-align: middle;\n",
              "    }\n",
              "\n",
              "    .dataframe tbody tr th {\n",
              "        vertical-align: top;\n",
              "    }\n",
              "\n",
              "    .dataframe thead th {\n",
              "        text-align: right;\n",
              "    }\n",
              "</style>\n",
              "<table border=\"1\" class=\"dataframe\">\n",
              "  <thead>\n",
              "    <tr style=\"text-align: right;\">\n",
              "      <th></th>\n",
              "      <th>building_id</th>\n",
              "      <th>meter</th>\n",
              "      <th>meter_reading</th>\n",
              "      <th>hour</th>\n",
              "    </tr>\n",
              "  </thead>\n",
              "  <tbody>\n",
              "    <tr>\n",
              "      <th>count</th>\n",
              "      <td>2.021610e+07</td>\n",
              "      <td>2.021610e+07</td>\n",
              "      <td>2.021610e+07</td>\n",
              "      <td>2.021610e+07</td>\n",
              "    </tr>\n",
              "    <tr>\n",
              "      <th>mean</th>\n",
              "      <td>7.992780e+02</td>\n",
              "      <td>6.624412e-01</td>\n",
              "      <td>2.117121e+03</td>\n",
              "      <td>1.150232e+01</td>\n",
              "    </tr>\n",
              "    <tr>\n",
              "      <th>std</th>\n",
              "      <td>4.269133e+02</td>\n",
              "      <td>9.309921e-01</td>\n",
              "      <td>1.532356e+05</td>\n",
              "      <td>6.922017e+00</td>\n",
              "    </tr>\n",
              "    <tr>\n",
              "      <th>min</th>\n",
              "      <td>0.000000e+00</td>\n",
              "      <td>0.000000e+00</td>\n",
              "      <td>0.000000e+00</td>\n",
              "      <td>0.000000e+00</td>\n",
              "    </tr>\n",
              "    <tr>\n",
              "      <th>25%</th>\n",
              "      <td>3.930000e+02</td>\n",
              "      <td>0.000000e+00</td>\n",
              "      <td>1.830000e+01</td>\n",
              "      <td>6.000000e+00</td>\n",
              "    </tr>\n",
              "    <tr>\n",
              "      <th>50%</th>\n",
              "      <td>8.950000e+02</td>\n",
              "      <td>0.000000e+00</td>\n",
              "      <td>7.877500e+01</td>\n",
              "      <td>1.200000e+01</td>\n",
              "    </tr>\n",
              "    <tr>\n",
              "      <th>75%</th>\n",
              "      <td>1.179000e+03</td>\n",
              "      <td>1.000000e+00</td>\n",
              "      <td>2.679840e+02</td>\n",
              "      <td>1.800000e+01</td>\n",
              "    </tr>\n",
              "    <tr>\n",
              "      <th>max</th>\n",
              "      <td>1.448000e+03</td>\n",
              "      <td>3.000000e+00</td>\n",
              "      <td>2.190470e+07</td>\n",
              "      <td>2.300000e+01</td>\n",
              "    </tr>\n",
              "  </tbody>\n",
              "</table>\n",
              "</div>"
            ],
            "text/plain": [
              "        building_id         meter  meter_reading          hour\n",
              "count  2.021610e+07  2.021610e+07   2.021610e+07  2.021610e+07\n",
              "mean   7.992780e+02  6.624412e-01   2.117121e+03  1.150232e+01\n",
              "std    4.269133e+02  9.309921e-01   1.532356e+05  6.922017e+00\n",
              "min    0.000000e+00  0.000000e+00   0.000000e+00  0.000000e+00\n",
              "25%    3.930000e+02  0.000000e+00   1.830000e+01  6.000000e+00\n",
              "50%    8.950000e+02  0.000000e+00   7.877500e+01  1.200000e+01\n",
              "75%    1.179000e+03  1.000000e+00   2.679840e+02  1.800000e+01\n",
              "max    1.448000e+03  3.000000e+00   2.190470e+07  2.300000e+01"
            ]
          },
          "metadata": {
            "tags": []
          },
          "execution_count": 208
        }
      ]
    },
    {
      "cell_type": "markdown",
      "metadata": {
        "colab_type": "text",
        "id": "vwbMhzjmYb7H"
      },
      "source": [
        "Splitting the timestamp variable in the weather dataset into two columns: date and time. Both columns are of type datetime."
      ]
    },
    {
      "cell_type": "code",
      "metadata": {
        "colab_type": "code",
        "id": "iOXqoMEbYb7H",
        "colab": {}
      },
      "source": [
        "weather_train_data['timestamp'] = pd.to_datetime(weather_train_data['timestamp'])"
      ],
      "execution_count": 0,
      "outputs": []
    },
    {
      "cell_type": "code",
      "metadata": {
        "colab_type": "code",
        "id": "psT7JyPWYb7J",
        "colab": {}
      },
      "source": [
        "weather_train_data['date'] = weather_train_data['timestamp'].dt.normalize()"
      ],
      "execution_count": 0,
      "outputs": []
    },
    {
      "cell_type": "code",
      "metadata": {
        "colab_type": "code",
        "id": "bCxWgrcpYb7L",
        "colab": {}
      },
      "source": [
        "weather_train_data['time'] = weather_train_data['timestamp'].dt.time\n",
        "weather_train_data['hour'] = pd.to_datetime(weather_train_data['time'], format='%H:%M:%S').dt.hour"
      ],
      "execution_count": 0,
      "outputs": []
    },
    {
      "cell_type": "code",
      "metadata": {
        "colab_type": "code",
        "id": "tDhj8kMAYb7N",
        "colab": {}
      },
      "source": [
        "weather_train_data = weather_train_data.drop(['time'], axis = 1)"
      ],
      "execution_count": 0,
      "outputs": []
    },
    {
      "cell_type": "code",
      "metadata": {
        "colab_type": "code",
        "id": "XCxtvXFUYb7Q",
        "outputId": "30fc73f4-f48b-4bf8-b9f0-0679aec6a0e1",
        "colab": {
          "base_uri": "https://localhost:8080/",
          "height": 224
        }
      },
      "source": [
        "weather_train_data.info()"
      ],
      "execution_count": 213,
      "outputs": [
        {
          "output_type": "stream",
          "text": [
            "<class 'pandas.core.frame.DataFrame'>\n",
            "Int64Index: 139393 entries, 0 to 139772\n",
            "Data columns (total 7 columns):\n",
            "site_id            139393 non-null int64\n",
            "timestamp          139393 non-null datetime64[ns]\n",
            "air_temperature    139393 non-null float64\n",
            "dew_temperature    139393 non-null float64\n",
            "wind_speed         139393 non-null float64\n",
            "date               139393 non-null datetime64[ns]\n",
            "hour               139393 non-null int64\n",
            "dtypes: datetime64[ns](2), float64(3), int64(2)\n",
            "memory usage: 8.5 MB\n"
          ],
          "name": "stdout"
        }
      ]
    },
    {
      "cell_type": "code",
      "metadata": {
        "colab_type": "code",
        "id": "6WaSeTQFYb7S",
        "outputId": "ef7463d0-0bbe-4109-9569-9bf74411c2ed",
        "colab": {
          "base_uri": "https://localhost:8080/",
          "height": 173
        }
      },
      "source": [
        "meta_data.info()"
      ],
      "execution_count": 214,
      "outputs": [
        {
          "output_type": "stream",
          "text": [
            "<class 'pandas.core.frame.DataFrame'>\n",
            "RangeIndex: 1449 entries, 0 to 1448\n",
            "Data columns (total 4 columns):\n",
            "site_id        1449 non-null int64\n",
            "building_id    1449 non-null int64\n",
            "primary_use    1449 non-null object\n",
            "square_feet    1449 non-null int64\n",
            "dtypes: int64(3), object(1)\n",
            "memory usage: 45.4+ KB\n"
          ],
          "name": "stdout"
        }
      ]
    },
    {
      "cell_type": "markdown",
      "metadata": {
        "colab_type": "text",
        "id": "z5iLZTKUYb7U"
      },
      "source": [
        "Combining all the tables into one big dataset"
      ]
    },
    {
      "cell_type": "markdown",
      "metadata": {
        "colab_type": "text",
        "id": "qMCQqZ0EYb7V"
      },
      "source": [
        "Merging Building metadata and train dataset on the basis on building_id."
      ]
    },
    {
      "cell_type": "code",
      "metadata": {
        "colab_type": "code",
        "id": "4F1r3GhPYb7X",
        "colab": {}
      },
      "source": [
        "temp_merge = pd.merge(left=train_data, right=meta_data, left_on='building_id', right_on='building_id', how='outer')"
      ],
      "execution_count": 0,
      "outputs": []
    },
    {
      "cell_type": "code",
      "metadata": {
        "colab_type": "code",
        "id": "SzHP4b45Yb7Y",
        "outputId": "874d47be-7967-4629-9a47-5a5e7398af40",
        "colab": {
          "base_uri": "https://localhost:8080/",
          "height": 198
        }
      },
      "source": [
        "temp_merge.head()"
      ],
      "execution_count": 216,
      "outputs": [
        {
          "output_type": "execute_result",
          "data": {
            "text/html": [
              "<div>\n",
              "<style scoped>\n",
              "    .dataframe tbody tr th:only-of-type {\n",
              "        vertical-align: middle;\n",
              "    }\n",
              "\n",
              "    .dataframe tbody tr th {\n",
              "        vertical-align: top;\n",
              "    }\n",
              "\n",
              "    .dataframe thead th {\n",
              "        text-align: right;\n",
              "    }\n",
              "</style>\n",
              "<table border=\"1\" class=\"dataframe\">\n",
              "  <thead>\n",
              "    <tr style=\"text-align: right;\">\n",
              "      <th></th>\n",
              "      <th>building_id</th>\n",
              "      <th>meter</th>\n",
              "      <th>timestamp</th>\n",
              "      <th>meter_reading</th>\n",
              "      <th>date</th>\n",
              "      <th>hour</th>\n",
              "      <th>site_id</th>\n",
              "      <th>primary_use</th>\n",
              "      <th>square_feet</th>\n",
              "    </tr>\n",
              "  </thead>\n",
              "  <tbody>\n",
              "    <tr>\n",
              "      <th>0</th>\n",
              "      <td>0</td>\n",
              "      <td>0</td>\n",
              "      <td>2016-01-01 00:00:00</td>\n",
              "      <td>0.0</td>\n",
              "      <td>2016-01-01</td>\n",
              "      <td>0</td>\n",
              "      <td>0</td>\n",
              "      <td>Education</td>\n",
              "      <td>7432</td>\n",
              "    </tr>\n",
              "    <tr>\n",
              "      <th>1</th>\n",
              "      <td>0</td>\n",
              "      <td>0</td>\n",
              "      <td>2016-01-01 01:00:00</td>\n",
              "      <td>0.0</td>\n",
              "      <td>2016-01-01</td>\n",
              "      <td>1</td>\n",
              "      <td>0</td>\n",
              "      <td>Education</td>\n",
              "      <td>7432</td>\n",
              "    </tr>\n",
              "    <tr>\n",
              "      <th>2</th>\n",
              "      <td>0</td>\n",
              "      <td>0</td>\n",
              "      <td>2016-01-01 02:00:00</td>\n",
              "      <td>0.0</td>\n",
              "      <td>2016-01-01</td>\n",
              "      <td>2</td>\n",
              "      <td>0</td>\n",
              "      <td>Education</td>\n",
              "      <td>7432</td>\n",
              "    </tr>\n",
              "    <tr>\n",
              "      <th>3</th>\n",
              "      <td>0</td>\n",
              "      <td>0</td>\n",
              "      <td>2016-01-01 03:00:00</td>\n",
              "      <td>0.0</td>\n",
              "      <td>2016-01-01</td>\n",
              "      <td>3</td>\n",
              "      <td>0</td>\n",
              "      <td>Education</td>\n",
              "      <td>7432</td>\n",
              "    </tr>\n",
              "    <tr>\n",
              "      <th>4</th>\n",
              "      <td>0</td>\n",
              "      <td>0</td>\n",
              "      <td>2016-01-01 04:00:00</td>\n",
              "      <td>0.0</td>\n",
              "      <td>2016-01-01</td>\n",
              "      <td>4</td>\n",
              "      <td>0</td>\n",
              "      <td>Education</td>\n",
              "      <td>7432</td>\n",
              "    </tr>\n",
              "  </tbody>\n",
              "</table>\n",
              "</div>"
            ],
            "text/plain": [
              "   building_id  meter           timestamp  ...  site_id primary_use  square_feet\n",
              "0            0      0 2016-01-01 00:00:00  ...        0   Education         7432\n",
              "1            0      0 2016-01-01 01:00:00  ...        0   Education         7432\n",
              "2            0      0 2016-01-01 02:00:00  ...        0   Education         7432\n",
              "3            0      0 2016-01-01 03:00:00  ...        0   Education         7432\n",
              "4            0      0 2016-01-01 04:00:00  ...        0   Education         7432\n",
              "\n",
              "[5 rows x 9 columns]"
            ]
          },
          "metadata": {
            "tags": []
          },
          "execution_count": 216
        }
      ]
    },
    {
      "cell_type": "markdown",
      "metadata": {
        "colab_type": "text",
        "id": "C1zOy0ljYb7d"
      },
      "source": [
        "Merging weather data and the combined table from the last merge step into the final table. This is done on the basis of site_id, date and hour."
      ]
    },
    {
      "cell_type": "code",
      "metadata": {
        "colab_type": "code",
        "id": "9Y6BqMIfYb7d",
        "colab": {}
      },
      "source": [
        "train = pd.merge(left=temp_merge, right=weather_train_data, left_on=['site_id', 'date', 'hour'], right_on=['site_id', 'date', 'hour'], how='outer')"
      ],
      "execution_count": 0,
      "outputs": []
    },
    {
      "cell_type": "markdown",
      "metadata": {
        "colab_type": "text",
        "id": "12zS1ukvYb7f"
      },
      "source": [
        "Deleting the unnecessary variables to save memory."
      ]
    },
    {
      "cell_type": "code",
      "metadata": {
        "colab_type": "code",
        "id": "c2SnYUPQYb7f",
        "colab": {}
      },
      "source": [
        "# del temp_merge, train_data, meta_data, weather_train_data"
      ],
      "execution_count": 0,
      "outputs": []
    },
    {
      "cell_type": "code",
      "metadata": {
        "colab_type": "code",
        "id": "uZxXQm9fYb7k",
        "outputId": "605aa4c2-eb05-4608-a022-380ed3b08ffe",
        "colab": {
          "base_uri": "https://localhost:8080/",
          "height": 305
        }
      },
      "source": [
        "train.head()"
      ],
      "execution_count": 219,
      "outputs": [
        {
          "output_type": "execute_result",
          "data": {
            "text/html": [
              "<div>\n",
              "<style scoped>\n",
              "    .dataframe tbody tr th:only-of-type {\n",
              "        vertical-align: middle;\n",
              "    }\n",
              "\n",
              "    .dataframe tbody tr th {\n",
              "        vertical-align: top;\n",
              "    }\n",
              "\n",
              "    .dataframe thead th {\n",
              "        text-align: right;\n",
              "    }\n",
              "</style>\n",
              "<table border=\"1\" class=\"dataframe\">\n",
              "  <thead>\n",
              "    <tr style=\"text-align: right;\">\n",
              "      <th></th>\n",
              "      <th>building_id</th>\n",
              "      <th>meter</th>\n",
              "      <th>timestamp_x</th>\n",
              "      <th>meter_reading</th>\n",
              "      <th>date</th>\n",
              "      <th>hour</th>\n",
              "      <th>site_id</th>\n",
              "      <th>primary_use</th>\n",
              "      <th>square_feet</th>\n",
              "      <th>timestamp_y</th>\n",
              "      <th>air_temperature</th>\n",
              "      <th>dew_temperature</th>\n",
              "      <th>wind_speed</th>\n",
              "    </tr>\n",
              "  </thead>\n",
              "  <tbody>\n",
              "    <tr>\n",
              "      <th>0</th>\n",
              "      <td>0.0</td>\n",
              "      <td>0.0</td>\n",
              "      <td>2016-01-01</td>\n",
              "      <td>0.0</td>\n",
              "      <td>2016-01-01</td>\n",
              "      <td>0</td>\n",
              "      <td>0</td>\n",
              "      <td>Education</td>\n",
              "      <td>7432.0</td>\n",
              "      <td>2016-01-01</td>\n",
              "      <td>25.0</td>\n",
              "      <td>20.0</td>\n",
              "      <td>0.0</td>\n",
              "    </tr>\n",
              "    <tr>\n",
              "      <th>1</th>\n",
              "      <td>1.0</td>\n",
              "      <td>0.0</td>\n",
              "      <td>2016-01-01</td>\n",
              "      <td>0.0</td>\n",
              "      <td>2016-01-01</td>\n",
              "      <td>0</td>\n",
              "      <td>0</td>\n",
              "      <td>Education</td>\n",
              "      <td>2720.0</td>\n",
              "      <td>2016-01-01</td>\n",
              "      <td>25.0</td>\n",
              "      <td>20.0</td>\n",
              "      <td>0.0</td>\n",
              "    </tr>\n",
              "    <tr>\n",
              "      <th>2</th>\n",
              "      <td>2.0</td>\n",
              "      <td>0.0</td>\n",
              "      <td>2016-01-01</td>\n",
              "      <td>0.0</td>\n",
              "      <td>2016-01-01</td>\n",
              "      <td>0</td>\n",
              "      <td>0</td>\n",
              "      <td>Education</td>\n",
              "      <td>5376.0</td>\n",
              "      <td>2016-01-01</td>\n",
              "      <td>25.0</td>\n",
              "      <td>20.0</td>\n",
              "      <td>0.0</td>\n",
              "    </tr>\n",
              "    <tr>\n",
              "      <th>3</th>\n",
              "      <td>3.0</td>\n",
              "      <td>0.0</td>\n",
              "      <td>2016-01-01</td>\n",
              "      <td>0.0</td>\n",
              "      <td>2016-01-01</td>\n",
              "      <td>0</td>\n",
              "      <td>0</td>\n",
              "      <td>Education</td>\n",
              "      <td>23685.0</td>\n",
              "      <td>2016-01-01</td>\n",
              "      <td>25.0</td>\n",
              "      <td>20.0</td>\n",
              "      <td>0.0</td>\n",
              "    </tr>\n",
              "    <tr>\n",
              "      <th>4</th>\n",
              "      <td>4.0</td>\n",
              "      <td>0.0</td>\n",
              "      <td>2016-01-01</td>\n",
              "      <td>0.0</td>\n",
              "      <td>2016-01-01</td>\n",
              "      <td>0</td>\n",
              "      <td>0</td>\n",
              "      <td>Education</td>\n",
              "      <td>116607.0</td>\n",
              "      <td>2016-01-01</td>\n",
              "      <td>25.0</td>\n",
              "      <td>20.0</td>\n",
              "      <td>0.0</td>\n",
              "    </tr>\n",
              "  </tbody>\n",
              "</table>\n",
              "</div>"
            ],
            "text/plain": [
              "   building_id  meter timestamp_x  ...  air_temperature dew_temperature  wind_speed\n",
              "0          0.0    0.0  2016-01-01  ...             25.0            20.0         0.0\n",
              "1          1.0    0.0  2016-01-01  ...             25.0            20.0         0.0\n",
              "2          2.0    0.0  2016-01-01  ...             25.0            20.0         0.0\n",
              "3          3.0    0.0  2016-01-01  ...             25.0            20.0         0.0\n",
              "4          4.0    0.0  2016-01-01  ...             25.0            20.0         0.0\n",
              "\n",
              "[5 rows x 13 columns]"
            ]
          },
          "metadata": {
            "tags": []
          },
          "execution_count": 219
        }
      ]
    },
    {
      "cell_type": "code",
      "metadata": {
        "colab_type": "code",
        "id": "NXnL1Jt4Yb7m",
        "outputId": "f7719888-0ec5-42b5-fa0a-d8af960d0467",
        "colab": {
          "base_uri": "https://localhost:8080/",
          "height": 259
        }
      },
      "source": [
        "train.isna().sum()"
      ],
      "execution_count": 220,
      "outputs": [
        {
          "output_type": "execute_result",
          "data": {
            "text/plain": [
              "building_id           135\n",
              "meter                 135\n",
              "timestamp_x           135\n",
              "meter_reading         135\n",
              "date                    0\n",
              "hour                    0\n",
              "site_id                 0\n",
              "primary_use           135\n",
              "square_feet           135\n",
              "timestamp_y        148395\n",
              "air_temperature    148395\n",
              "dew_temperature    148395\n",
              "wind_speed         148395\n",
              "dtype: int64"
            ]
          },
          "metadata": {
            "tags": []
          },
          "execution_count": 220
        }
      ]
    },
    {
      "cell_type": "code",
      "metadata": {
        "colab_type": "code",
        "id": "BtUIqnnZYb7p",
        "colab": {}
      },
      "source": [
        "train = train.dropna(axis=0, subset=['building_id'])"
      ],
      "execution_count": 0,
      "outputs": []
    },
    {
      "cell_type": "code",
      "metadata": {
        "colab_type": "code",
        "id": "oazGzU146NN0",
        "outputId": "c9a5cb6b-473c-47c9-8ce5-64271ae87f79",
        "colab": {
          "base_uri": "https://localhost:8080/",
          "height": 259
        }
      },
      "source": [
        "train.isna().sum()"
      ],
      "execution_count": 222,
      "outputs": [
        {
          "output_type": "execute_result",
          "data": {
            "text/plain": [
              "building_id             0\n",
              "meter                   0\n",
              "timestamp_x             0\n",
              "meter_reading           0\n",
              "date                    0\n",
              "hour                    0\n",
              "site_id                 0\n",
              "primary_use             0\n",
              "square_feet             0\n",
              "timestamp_y        148395\n",
              "air_temperature    148395\n",
              "dew_temperature    148395\n",
              "wind_speed         148395\n",
              "dtype: int64"
            ]
          },
          "metadata": {
            "tags": []
          },
          "execution_count": 222
        }
      ]
    },
    {
      "cell_type": "markdown",
      "metadata": {
        "colab_type": "text",
        "id": "dXDOlP_rYb7r"
      },
      "source": [
        "Dropping some column artifacts."
      ]
    },
    {
      "cell_type": "code",
      "metadata": {
        "colab_type": "code",
        "id": "_IFVPNMVYb7r",
        "colab": {}
      },
      "source": [
        "train = train.drop(['timestamp_x', 'timestamp_y'], axis=1)"
      ],
      "execution_count": 0,
      "outputs": []
    },
    {
      "cell_type": "code",
      "metadata": {
        "id": "jK2HZyhRkCxb",
        "colab_type": "code",
        "colab": {}
      },
      "source": [
        "train = train.dropna(axis=0, subset=['air_temperature','dew_temperature'])"
      ],
      "execution_count": 0,
      "outputs": []
    },
    {
      "cell_type": "code",
      "metadata": {
        "id": "Xrcg5jG7lxFq",
        "colab_type": "code",
        "outputId": "0bab5fb3-7fbf-4e41-dbca-a905fc876dc2",
        "colab": {
          "base_uri": "https://localhost:8080/",
          "height": 294
        }
      },
      "source": [
        "train.info()"
      ],
      "execution_count": 225,
      "outputs": [
        {
          "output_type": "stream",
          "text": [
            "<class 'pandas.core.frame.DataFrame'>\n",
            "Int64Index: 20067705 entries, 0 to 20216099\n",
            "Data columns (total 11 columns):\n",
            "building_id        float64\n",
            "meter              float64\n",
            "meter_reading      float64\n",
            "date               datetime64[ns]\n",
            "hour               int64\n",
            "site_id            int64\n",
            "primary_use        object\n",
            "square_feet        float64\n",
            "air_temperature    float64\n",
            "dew_temperature    float64\n",
            "wind_speed         float64\n",
            "dtypes: datetime64[ns](1), float64(7), int64(2), object(1)\n",
            "memory usage: 1.8+ GB\n"
          ],
          "name": "stdout"
        }
      ]
    },
    {
      "cell_type": "code",
      "metadata": {
        "id": "EmQm8nwsm0x1",
        "colab_type": "code",
        "colab": {}
      },
      "source": [
        "data = np.random.randint(low=0, high=20067705, size=20067705//2)\n",
        "train.drop(train.index[data],0,inplace=True)\n"
      ],
      "execution_count": 0,
      "outputs": []
    },
    {
      "cell_type": "code",
      "metadata": {
        "id": "U3jNf6KVovzY",
        "colab_type": "code",
        "outputId": "f102ed34-6c9d-42ab-9692-3eba2ee31226",
        "colab": {
          "base_uri": "https://localhost:8080/",
          "height": 580
        }
      },
      "source": [
        "train.reset_index(drop=True)"
      ],
      "execution_count": 227,
      "outputs": [
        {
          "output_type": "execute_result",
          "data": {
            "text/html": [
              "<div>\n",
              "<style scoped>\n",
              "    .dataframe tbody tr th:only-of-type {\n",
              "        vertical-align: middle;\n",
              "    }\n",
              "\n",
              "    .dataframe tbody tr th {\n",
              "        vertical-align: top;\n",
              "    }\n",
              "\n",
              "    .dataframe thead th {\n",
              "        text-align: right;\n",
              "    }\n",
              "</style>\n",
              "<table border=\"1\" class=\"dataframe\">\n",
              "  <thead>\n",
              "    <tr style=\"text-align: right;\">\n",
              "      <th></th>\n",
              "      <th>building_id</th>\n",
              "      <th>meter</th>\n",
              "      <th>meter_reading</th>\n",
              "      <th>date</th>\n",
              "      <th>hour</th>\n",
              "      <th>site_id</th>\n",
              "      <th>primary_use</th>\n",
              "      <th>square_feet</th>\n",
              "      <th>air_temperature</th>\n",
              "      <th>dew_temperature</th>\n",
              "      <th>wind_speed</th>\n",
              "    </tr>\n",
              "  </thead>\n",
              "  <tbody>\n",
              "    <tr>\n",
              "      <th>0</th>\n",
              "      <td>0.0</td>\n",
              "      <td>0.0</td>\n",
              "      <td>0.0000</td>\n",
              "      <td>2016-01-01</td>\n",
              "      <td>0</td>\n",
              "      <td>0</td>\n",
              "      <td>Education</td>\n",
              "      <td>7432.0</td>\n",
              "      <td>25.0</td>\n",
              "      <td>20.0</td>\n",
              "      <td>0.0</td>\n",
              "    </tr>\n",
              "    <tr>\n",
              "      <th>1</th>\n",
              "      <td>1.0</td>\n",
              "      <td>0.0</td>\n",
              "      <td>0.0000</td>\n",
              "      <td>2016-01-01</td>\n",
              "      <td>0</td>\n",
              "      <td>0</td>\n",
              "      <td>Education</td>\n",
              "      <td>2720.0</td>\n",
              "      <td>25.0</td>\n",
              "      <td>20.0</td>\n",
              "      <td>0.0</td>\n",
              "    </tr>\n",
              "    <tr>\n",
              "      <th>2</th>\n",
              "      <td>2.0</td>\n",
              "      <td>0.0</td>\n",
              "      <td>0.0000</td>\n",
              "      <td>2016-01-01</td>\n",
              "      <td>0</td>\n",
              "      <td>0</td>\n",
              "      <td>Education</td>\n",
              "      <td>5376.0</td>\n",
              "      <td>25.0</td>\n",
              "      <td>20.0</td>\n",
              "      <td>0.0</td>\n",
              "    </tr>\n",
              "    <tr>\n",
              "      <th>3</th>\n",
              "      <td>4.0</td>\n",
              "      <td>0.0</td>\n",
              "      <td>0.0000</td>\n",
              "      <td>2016-01-01</td>\n",
              "      <td>0</td>\n",
              "      <td>0</td>\n",
              "      <td>Education</td>\n",
              "      <td>116607.0</td>\n",
              "      <td>25.0</td>\n",
              "      <td>20.0</td>\n",
              "      <td>0.0</td>\n",
              "    </tr>\n",
              "    <tr>\n",
              "      <th>4</th>\n",
              "      <td>5.0</td>\n",
              "      <td>0.0</td>\n",
              "      <td>0.0000</td>\n",
              "      <td>2016-01-01</td>\n",
              "      <td>0</td>\n",
              "      <td>0</td>\n",
              "      <td>Education</td>\n",
              "      <td>8000.0</td>\n",
              "      <td>25.0</td>\n",
              "      <td>20.0</td>\n",
              "      <td>0.0</td>\n",
              "    </tr>\n",
              "    <tr>\n",
              "      <th>...</th>\n",
              "      <td>...</td>\n",
              "      <td>...</td>\n",
              "      <td>...</td>\n",
              "      <td>...</td>\n",
              "      <td>...</td>\n",
              "      <td>...</td>\n",
              "      <td>...</td>\n",
              "      <td>...</td>\n",
              "      <td>...</td>\n",
              "      <td>...</td>\n",
              "      <td>...</td>\n",
              "    </tr>\n",
              "    <tr>\n",
              "      <th>12173157</th>\n",
              "      <td>1400.0</td>\n",
              "      <td>1.0</td>\n",
              "      <td>4.6566</td>\n",
              "      <td>2016-03-24</td>\n",
              "      <td>11</td>\n",
              "      <td>15</td>\n",
              "      <td>Lodging/residential</td>\n",
              "      <td>21168.0</td>\n",
              "      <td>1.7</td>\n",
              "      <td>1.1</td>\n",
              "      <td>0.0</td>\n",
              "    </tr>\n",
              "    <tr>\n",
              "      <th>12173158</th>\n",
              "      <td>1400.0</td>\n",
              "      <td>1.0</td>\n",
              "      <td>25.0848</td>\n",
              "      <td>2016-03-24</td>\n",
              "      <td>13</td>\n",
              "      <td>15</td>\n",
              "      <td>Lodging/residential</td>\n",
              "      <td>21168.0</td>\n",
              "      <td>2.8</td>\n",
              "      <td>2.2</td>\n",
              "      <td>1.5</td>\n",
              "    </tr>\n",
              "    <tr>\n",
              "      <th>12173159</th>\n",
              "      <td>1400.0</td>\n",
              "      <td>1.0</td>\n",
              "      <td>32.3439</td>\n",
              "      <td>2016-03-24</td>\n",
              "      <td>14</td>\n",
              "      <td>15</td>\n",
              "      <td>Lodging/residential</td>\n",
              "      <td>21168.0</td>\n",
              "      <td>5.6</td>\n",
              "      <td>4.4</td>\n",
              "      <td>2.1</td>\n",
              "    </tr>\n",
              "    <tr>\n",
              "      <th>12173160</th>\n",
              "      <td>1400.0</td>\n",
              "      <td>1.0</td>\n",
              "      <td>24.2214</td>\n",
              "      <td>2016-03-24</td>\n",
              "      <td>15</td>\n",
              "      <td>15</td>\n",
              "      <td>Lodging/residential</td>\n",
              "      <td>21168.0</td>\n",
              "      <td>11.1</td>\n",
              "      <td>4.4</td>\n",
              "      <td>5.1</td>\n",
              "    </tr>\n",
              "    <tr>\n",
              "      <th>12173161</th>\n",
              "      <td>1400.0</td>\n",
              "      <td>1.0</td>\n",
              "      <td>16.3553</td>\n",
              "      <td>2016-03-24</td>\n",
              "      <td>16</td>\n",
              "      <td>15</td>\n",
              "      <td>Lodging/residential</td>\n",
              "      <td>21168.0</td>\n",
              "      <td>15.0</td>\n",
              "      <td>4.4</td>\n",
              "      <td>8.2</td>\n",
              "    </tr>\n",
              "  </tbody>\n",
              "</table>\n",
              "<p>12173162 rows × 11 columns</p>\n",
              "</div>"
            ],
            "text/plain": [
              "          building_id  meter  ...  dew_temperature wind_speed\n",
              "0                 0.0    0.0  ...             20.0        0.0\n",
              "1                 1.0    0.0  ...             20.0        0.0\n",
              "2                 2.0    0.0  ...             20.0        0.0\n",
              "3                 4.0    0.0  ...             20.0        0.0\n",
              "4                 5.0    0.0  ...             20.0        0.0\n",
              "...               ...    ...  ...              ...        ...\n",
              "12173157       1400.0    1.0  ...              1.1        0.0\n",
              "12173158       1400.0    1.0  ...              2.2        1.5\n",
              "12173159       1400.0    1.0  ...              4.4        2.1\n",
              "12173160       1400.0    1.0  ...              4.4        5.1\n",
              "12173161       1400.0    1.0  ...              4.4        8.2\n",
              "\n",
              "[12173162 rows x 11 columns]"
            ]
          },
          "metadata": {
            "tags": []
          },
          "execution_count": 227
        }
      ]
    },
    {
      "cell_type": "markdown",
      "metadata": {
        "id": "Dybfwu6qmnxr",
        "colab_type": "text"
      },
      "source": [
        "Removing outliers using interquartile range"
      ]
    },
    {
      "cell_type": "code",
      "metadata": {
        "id": "Yex_xm5auibj",
        "colab_type": "code",
        "colab": {}
      },
      "source": [
        "Q1 = train['meter_reading'].quantile(0.25)\n",
        "Q3 = train['meter_reading'].quantile(0.75)\n",
        "IQR = Q3 - Q1\n",
        "train_final = train[train['meter_reading'] > (Q1 - 1.5 * IQR)][:]\n",
        "train_final = train_final[train_final['meter_reading'] < (Q3 + 1.5 * IQR)][:]"
      ],
      "execution_count": 0,
      "outputs": []
    },
    {
      "cell_type": "code",
      "metadata": {
        "id": "xefxnngun6MW",
        "colab_type": "code",
        "outputId": "2d2a1d55-1e14-476d-806b-119b62ff6bfc",
        "colab": {
          "base_uri": "https://localhost:8080/",
          "height": 294
        }
      },
      "source": [
        "train_final.info()"
      ],
      "execution_count": 229,
      "outputs": [
        {
          "output_type": "stream",
          "text": [
            "<class 'pandas.core.frame.DataFrame'>\n",
            "Int64Index: 10682582 entries, 0 to 20216099\n",
            "Data columns (total 11 columns):\n",
            "building_id        float64\n",
            "meter              float64\n",
            "meter_reading      float64\n",
            "date               datetime64[ns]\n",
            "hour               int64\n",
            "site_id            int64\n",
            "primary_use        object\n",
            "square_feet        float64\n",
            "air_temperature    float64\n",
            "dew_temperature    float64\n",
            "wind_speed         float64\n",
            "dtypes: datetime64[ns](1), float64(7), int64(2), object(1)\n",
            "memory usage: 978.0+ MB\n"
          ],
          "name": "stdout"
        }
      ]
    },
    {
      "cell_type": "code",
      "metadata": {
        "id": "Z5C2sPBXTcD-",
        "colab_type": "code",
        "outputId": "b39abfd0-bed8-4b47-b102-d3a69fe1154b",
        "colab": {
          "base_uri": "https://localhost:8080/",
          "height": 224
        }
      },
      "source": [
        "train_final.isna().sum()"
      ],
      "execution_count": 230,
      "outputs": [
        {
          "output_type": "execute_result",
          "data": {
            "text/plain": [
              "building_id        0\n",
              "meter              0\n",
              "meter_reading      0\n",
              "date               0\n",
              "hour               0\n",
              "site_id            0\n",
              "primary_use        0\n",
              "square_feet        0\n",
              "air_temperature    0\n",
              "dew_temperature    0\n",
              "wind_speed         0\n",
              "dtype: int64"
            ]
          },
          "metadata": {
            "tags": []
          },
          "execution_count": 230
        }
      ]
    },
    {
      "cell_type": "code",
      "metadata": {
        "colab_type": "code",
        "id": "YTErFlT8XOu4",
        "outputId": "7a186e30-1514-4beb-f4d1-9e3e042956cc",
        "colab": {
          "base_uri": "https://localhost:8080/",
          "height": 288
        }
      },
      "source": [
        "train_final.describe()"
      ],
      "execution_count": 231,
      "outputs": [
        {
          "output_type": "execute_result",
          "data": {
            "text/html": [
              "<div>\n",
              "<style scoped>\n",
              "    .dataframe tbody tr th:only-of-type {\n",
              "        vertical-align: middle;\n",
              "    }\n",
              "\n",
              "    .dataframe tbody tr th {\n",
              "        vertical-align: top;\n",
              "    }\n",
              "\n",
              "    .dataframe thead th {\n",
              "        text-align: right;\n",
              "    }\n",
              "</style>\n",
              "<table border=\"1\" class=\"dataframe\">\n",
              "  <thead>\n",
              "    <tr style=\"text-align: right;\">\n",
              "      <th></th>\n",
              "      <th>building_id</th>\n",
              "      <th>meter</th>\n",
              "      <th>meter_reading</th>\n",
              "      <th>hour</th>\n",
              "      <th>site_id</th>\n",
              "      <th>square_feet</th>\n",
              "      <th>air_temperature</th>\n",
              "      <th>dew_temperature</th>\n",
              "      <th>wind_speed</th>\n",
              "    </tr>\n",
              "  </thead>\n",
              "  <tbody>\n",
              "    <tr>\n",
              "      <th>count</th>\n",
              "      <td>1.068258e+07</td>\n",
              "      <td>1.068258e+07</td>\n",
              "      <td>1.068258e+07</td>\n",
              "      <td>1.068258e+07</td>\n",
              "      <td>1.068258e+07</td>\n",
              "      <td>1.068258e+07</td>\n",
              "      <td>1.068258e+07</td>\n",
              "      <td>1.068258e+07</td>\n",
              "      <td>1.068258e+07</td>\n",
              "    </tr>\n",
              "    <tr>\n",
              "      <th>mean</th>\n",
              "      <td>7.756834e+02</td>\n",
              "      <td>5.803126e-01</td>\n",
              "      <td>1.176209e+02</td>\n",
              "      <td>1.145972e+01</td>\n",
              "      <td>7.687434e+00</td>\n",
              "      <td>9.115281e+04</td>\n",
              "      <td>1.620857e+01</td>\n",
              "      <td>7.856638e+00</td>\n",
              "      <td>3.376340e+00</td>\n",
              "    </tr>\n",
              "    <tr>\n",
              "      <th>std</th>\n",
              "      <td>4.249695e+02</td>\n",
              "      <td>9.070368e-01</td>\n",
              "      <td>1.453428e+02</td>\n",
              "      <td>6.945406e+00</td>\n",
              "      <td>5.057196e+00</td>\n",
              "      <td>9.516882e+04</td>\n",
              "      <td>1.067366e+01</td>\n",
              "      <td>9.941448e+00</td>\n",
              "      <td>2.269172e+00</td>\n",
              "    </tr>\n",
              "    <tr>\n",
              "      <th>min</th>\n",
              "      <td>0.000000e+00</td>\n",
              "      <td>0.000000e+00</td>\n",
              "      <td>0.000000e+00</td>\n",
              "      <td>0.000000e+00</td>\n",
              "      <td>0.000000e+00</td>\n",
              "      <td>2.830000e+02</td>\n",
              "      <td>-2.890000e+01</td>\n",
              "      <td>-3.500000e+01</td>\n",
              "      <td>0.000000e+00</td>\n",
              "    </tr>\n",
              "    <tr>\n",
              "      <th>25%</th>\n",
              "      <td>3.620000e+02</td>\n",
              "      <td>0.000000e+00</td>\n",
              "      <td>1.382780e+01</td>\n",
              "      <td>5.000000e+00</td>\n",
              "      <td>3.000000e+00</td>\n",
              "      <td>2.799500e+04</td>\n",
              "      <td>8.900000e+00</td>\n",
              "      <td>6.000000e-01</td>\n",
              "      <td>2.100000e+00</td>\n",
              "    </tr>\n",
              "    <tr>\n",
              "      <th>50%</th>\n",
              "      <td>8.640000e+02</td>\n",
              "      <td>0.000000e+00</td>\n",
              "      <td>5.805000e+01</td>\n",
              "      <td>1.100000e+01</td>\n",
              "      <td>8.000000e+00</td>\n",
              "      <td>6.456000e+04</td>\n",
              "      <td>1.670000e+01</td>\n",
              "      <td>8.900000e+00</td>\n",
              "      <td>3.100000e+00</td>\n",
              "    </tr>\n",
              "    <tr>\n",
              "      <th>75%</th>\n",
              "      <td>1.153000e+03</td>\n",
              "      <td>1.000000e+00</td>\n",
              "      <td>1.652530e+02</td>\n",
              "      <td>1.700000e+01</td>\n",
              "      <td>1.300000e+01</td>\n",
              "      <td>1.189660e+05</td>\n",
              "      <td>2.390000e+01</td>\n",
              "      <td>1.560000e+01</td>\n",
              "      <td>4.600000e+00</td>\n",
              "    </tr>\n",
              "    <tr>\n",
              "      <th>max</th>\n",
              "      <td>1.448000e+03</td>\n",
              "      <td>3.000000e+00</td>\n",
              "      <td>6.414920e+02</td>\n",
              "      <td>2.300000e+01</td>\n",
              "      <td>1.500000e+01</td>\n",
              "      <td>8.750000e+05</td>\n",
              "      <td>4.720000e+01</td>\n",
              "      <td>2.610000e+01</td>\n",
              "      <td>1.900000e+01</td>\n",
              "    </tr>\n",
              "  </tbody>\n",
              "</table>\n",
              "</div>"
            ],
            "text/plain": [
              "        building_id         meter  ...  dew_temperature    wind_speed\n",
              "count  1.068258e+07  1.068258e+07  ...     1.068258e+07  1.068258e+07\n",
              "mean   7.756834e+02  5.803126e-01  ...     7.856638e+00  3.376340e+00\n",
              "std    4.249695e+02  9.070368e-01  ...     9.941448e+00  2.269172e+00\n",
              "min    0.000000e+00  0.000000e+00  ...    -3.500000e+01  0.000000e+00\n",
              "25%    3.620000e+02  0.000000e+00  ...     6.000000e-01  2.100000e+00\n",
              "50%    8.640000e+02  0.000000e+00  ...     8.900000e+00  3.100000e+00\n",
              "75%    1.153000e+03  1.000000e+00  ...     1.560000e+01  4.600000e+00\n",
              "max    1.448000e+03  3.000000e+00  ...     2.610000e+01  1.900000e+01\n",
              "\n",
              "[8 rows x 9 columns]"
            ]
          },
          "metadata": {
            "tags": []
          },
          "execution_count": 231
        }
      ]
    },
    {
      "cell_type": "markdown",
      "metadata": {
        "colab_type": "text",
        "id": "2y0LfjuKYb7w"
      },
      "source": [
        "We can see that the above dataframe is very large in size, thus occupying a good portion of a system's memory. To counter this, we downgrade the datatypes into their lowest memory variants. This reduces the size greatly."
      ]
    },
    {
      "cell_type": "code",
      "metadata": {
        "colab_type": "code",
        "id": "-B2Btsu4Yb70",
        "colab": {}
      },
      "source": [
        "train_final.primary_use = train.primary_use.astype(\"category\")"
      ],
      "execution_count": 0,
      "outputs": []
    },
    {
      "cell_type": "code",
      "metadata": {
        "colab_type": "code",
        "id": "0A5bHnrrYb72",
        "outputId": "26ba6401-d963-464a-feb6-cdfa4c637ab7",
        "colab": {
          "base_uri": "https://localhost:8080/",
          "height": 294
        }
      },
      "source": [
        "train_final.info()"
      ],
      "execution_count": 233,
      "outputs": [
        {
          "output_type": "stream",
          "text": [
            "<class 'pandas.core.frame.DataFrame'>\n",
            "Int64Index: 10682582 entries, 0 to 20216099\n",
            "Data columns (total 11 columns):\n",
            "building_id        float64\n",
            "meter              float64\n",
            "meter_reading      float64\n",
            "date               datetime64[ns]\n",
            "hour               int64\n",
            "site_id            int64\n",
            "primary_use        category\n",
            "square_feet        float64\n",
            "air_temperature    float64\n",
            "dew_temperature    float64\n",
            "wind_speed         float64\n",
            "dtypes: category(1), datetime64[ns](1), float64(7), int64(2)\n",
            "memory usage: 906.7 MB\n"
          ],
          "name": "stdout"
        }
      ]
    },
    {
      "cell_type": "markdown",
      "metadata": {
        "colab_type": "text",
        "id": "GHtws4dRYb73"
      },
      "source": [
        "To save compute time, we store the dataset in a pickle file"
      ]
    },
    {
      "cell_type": "code",
      "metadata": {
        "colab_type": "code",
        "id": "scxnnvJdYb74",
        "colab": {}
      },
      "source": [
        "train_final.to_pickle(\"train_data.pkl\")"
      ],
      "execution_count": 0,
      "outputs": []
    },
    {
      "cell_type": "code",
      "metadata": {
        "colab_type": "code",
        "id": "-KNjl-MkYb75",
        "colab": {}
      },
      "source": [
        "del train_final"
      ],
      "execution_count": 0,
      "outputs": []
    },
    {
      "cell_type": "markdown",
      "metadata": {
        "colab_type": "text",
        "id": "JHSZGUWOYb76"
      },
      "source": [
        "The data can be read from the pickle file using the following command."
      ]
    },
    {
      "cell_type": "code",
      "metadata": {
        "colab_type": "code",
        "id": "bzhmo4kHYb77",
        "colab": {}
      },
      "source": [
        "train = pd.read_pickle(\"train_data.pkl\")"
      ],
      "execution_count": 0,
      "outputs": []
    },
    {
      "cell_type": "markdown",
      "metadata": {
        "id": "dCCVAp6wmzaJ",
        "colab_type": "text"
      },
      "source": [
        "Correlation matrix for our dataset"
      ]
    },
    {
      "cell_type": "code",
      "metadata": {
        "colab_type": "code",
        "id": "q_IxwGPWYb8J",
        "colab": {
          "base_uri": "https://localhost:8080/",
          "height": 561
        },
        "outputId": "d6ac1e9e-877a-47df-b4cd-91093c612c73"
      },
      "source": [
        "plt.rcParams['figure.figsize'] = (14,8)\n",
        "sns.heatmap(train.corr(), vmin=-1, vmax=1, center=0,\n",
        "            square=True, cmap = sns.diverging_palette(240, 10, n=9))\n",
        "plt.show()"
      ],
      "execution_count": 240,
      "outputs": [
        {
          "output_type": "display_data",
          "data": {
            "image/png": "[encoded data removed]",
            "text/plain": [
              "<Figure size 1008x576 with 2 Axes>"
            ]
          },
          "metadata": {
            "tags": []
          }
        }
      ]
    },
    {
      "cell_type": "markdown",
      "metadata": {
        "colab_type": "text",
        "id": "wcnPE1y6dhgA"
      },
      "source": [
        "## Data Preparation"
      ]
    },
    {
      "cell_type": "markdown",
      "metadata": {
        "id": "pzSpshknm_3x",
        "colab_type": "text"
      },
      "source": [
        "### Encoding Categorical Variables\n",
        "##### Primary Use:\n",
        "We use Label Encoding to convert Primary use into numerical values."
      ]
    },
    {
      "cell_type": "code",
      "metadata": {
        "id": "0n6Vf1Y0ApG8",
        "colab_type": "code",
        "colab": {}
      },
      "source": [
        "from sklearn.preprocessing import LabelEncoder\n",
        "\n",
        "encoder = LabelEncoder()"
      ],
      "execution_count": 0,
      "outputs": []
    },
    {
      "cell_type": "code",
      "metadata": {
        "id": "Y9vayHimBHzp",
        "colab_type": "code",
        "outputId": "cf14daef-f06f-4ee1-9542-c13dca7796bb",
        "colab": {
          "base_uri": "https://localhost:8080/",
          "height": 276
        }
      },
      "source": [
        "train['primary_use']"
      ],
      "execution_count": 242,
      "outputs": [
        {
          "output_type": "execute_result",
          "data": {
            "text/plain": [
              "0                     Education\n",
              "1                     Education\n",
              "2                     Education\n",
              "4                     Education\n",
              "5                     Education\n",
              "                   ...         \n",
              "20216094    Lodging/residential\n",
              "20216096    Lodging/residential\n",
              "20216097    Lodging/residential\n",
              "20216098    Lodging/residential\n",
              "20216099    Lodging/residential\n",
              "Name: primary_use, Length: 10682582, dtype: category\n",
              "Categories (16, object): [Education, Entertainment/public assembly, Food sales and service,\n",
              "                          Healthcare, ..., Services, Technology/science, Utility,\n",
              "                          Warehouse/storage]"
            ]
          },
          "metadata": {
            "tags": []
          },
          "execution_count": 242
        }
      ]
    },
    {
      "cell_type": "code",
      "metadata": {
        "id": "can_g2puAwko",
        "colab_type": "code",
        "colab": {}
      },
      "source": [
        "train['primary_use'] = encoder.fit_transform(train['primary_use'])"
      ],
      "execution_count": 0,
      "outputs": []
    },
    {
      "cell_type": "markdown",
      "metadata": {
        "id": "VeJu98-ttmVu",
        "colab_type": "text"
      },
      "source": [
        "##### Meter\n",
        "The meter variable is converted into four separate binary columns using One Hot Encoding."
      ]
    },
    {
      "cell_type": "code",
      "metadata": {
        "colab_type": "code",
        "id": "i-XFesU272yb",
        "colab": {}
      },
      "source": [
        "dummy = pd.get_dummies(train['meter'])"
      ],
      "execution_count": 0,
      "outputs": []
    },
    {
      "cell_type": "code",
      "metadata": {
        "colab_type": "code",
        "id": "vOZh7e7K8Wuk",
        "colab": {}
      },
      "source": [
        "train = pd.concat([train, dummy], axis=1)"
      ],
      "execution_count": 0,
      "outputs": []
    },
    {
      "cell_type": "code",
      "metadata": {
        "id": "oNAEZar63ZR6",
        "colab_type": "code",
        "outputId": "002fe33a-9a31-4f7f-9dd3-aae7256c079b",
        "colab": {
          "base_uri": "https://localhost:8080/",
          "height": 305
        }
      },
      "source": [
        "train.head()"
      ],
      "execution_count": 246,
      "outputs": [
        {
          "output_type": "execute_result",
          "data": {
            "text/html": [
              "<div>\n",
              "<style scoped>\n",
              "    .dataframe tbody tr th:only-of-type {\n",
              "        vertical-align: middle;\n",
              "    }\n",
              "\n",
              "    .dataframe tbody tr th {\n",
              "        vertical-align: top;\n",
              "    }\n",
              "\n",
              "    .dataframe thead th {\n",
              "        text-align: right;\n",
              "    }\n",
              "</style>\n",
              "<table border=\"1\" class=\"dataframe\">\n",
              "  <thead>\n",
              "    <tr style=\"text-align: right;\">\n",
              "      <th></th>\n",
              "      <th>building_id</th>\n",
              "      <th>meter</th>\n",
              "      <th>meter_reading</th>\n",
              "      <th>date</th>\n",
              "      <th>hour</th>\n",
              "      <th>site_id</th>\n",
              "      <th>primary_use</th>\n",
              "      <th>square_feet</th>\n",
              "      <th>air_temperature</th>\n",
              "      <th>dew_temperature</th>\n",
              "      <th>wind_speed</th>\n",
              "      <th>0.0</th>\n",
              "      <th>1.0</th>\n",
              "      <th>2.0</th>\n",
              "      <th>3.0</th>\n",
              "    </tr>\n",
              "  </thead>\n",
              "  <tbody>\n",
              "    <tr>\n",
              "      <th>0</th>\n",
              "      <td>0.0</td>\n",
              "      <td>0.0</td>\n",
              "      <td>0.0</td>\n",
              "      <td>2016-01-01</td>\n",
              "      <td>0</td>\n",
              "      <td>0</td>\n",
              "      <td>0</td>\n",
              "      <td>7432.0</td>\n",
              "      <td>25.0</td>\n",
              "      <td>20.0</td>\n",
              "      <td>0.0</td>\n",
              "      <td>1</td>\n",
              "      <td>0</td>\n",
              "      <td>0</td>\n",
              "      <td>0</td>\n",
              "    </tr>\n",
              "    <tr>\n",
              "      <th>1</th>\n",
              "      <td>1.0</td>\n",
              "      <td>0.0</td>\n",
              "      <td>0.0</td>\n",
              "      <td>2016-01-01</td>\n",
              "      <td>0</td>\n",
              "      <td>0</td>\n",
              "      <td>0</td>\n",
              "      <td>2720.0</td>\n",
              "      <td>25.0</td>\n",
              "      <td>20.0</td>\n",
              "      <td>0.0</td>\n",
              "      <td>1</td>\n",
              "      <td>0</td>\n",
              "      <td>0</td>\n",
              "      <td>0</td>\n",
              "    </tr>\n",
              "    <tr>\n",
              "      <th>2</th>\n",
              "      <td>2.0</td>\n",
              "      <td>0.0</td>\n",
              "      <td>0.0</td>\n",
              "      <td>2016-01-01</td>\n",
              "      <td>0</td>\n",
              "      <td>0</td>\n",
              "      <td>0</td>\n",
              "      <td>5376.0</td>\n",
              "      <td>25.0</td>\n",
              "      <td>20.0</td>\n",
              "      <td>0.0</td>\n",
              "      <td>1</td>\n",
              "      <td>0</td>\n",
              "      <td>0</td>\n",
              "      <td>0</td>\n",
              "    </tr>\n",
              "    <tr>\n",
              "      <th>4</th>\n",
              "      <td>4.0</td>\n",
              "      <td>0.0</td>\n",
              "      <td>0.0</td>\n",
              "      <td>2016-01-01</td>\n",
              "      <td>0</td>\n",
              "      <td>0</td>\n",
              "      <td>0</td>\n",
              "      <td>116607.0</td>\n",
              "      <td>25.0</td>\n",
              "      <td>20.0</td>\n",
              "      <td>0.0</td>\n",
              "      <td>1</td>\n",
              "      <td>0</td>\n",
              "      <td>0</td>\n",
              "      <td>0</td>\n",
              "    </tr>\n",
              "    <tr>\n",
              "      <th>5</th>\n",
              "      <td>5.0</td>\n",
              "      <td>0.0</td>\n",
              "      <td>0.0</td>\n",
              "      <td>2016-01-01</td>\n",
              "      <td>0</td>\n",
              "      <td>0</td>\n",
              "      <td>0</td>\n",
              "      <td>8000.0</td>\n",
              "      <td>25.0</td>\n",
              "      <td>20.0</td>\n",
              "      <td>0.0</td>\n",
              "      <td>1</td>\n",
              "      <td>0</td>\n",
              "      <td>0</td>\n",
              "      <td>0</td>\n",
              "    </tr>\n",
              "  </tbody>\n",
              "</table>\n",
              "</div>"
            ],
            "text/plain": [
              "   building_id  meter  meter_reading       date  ...  0.0  1.0  2.0  3.0\n",
              "0          0.0    0.0            0.0 2016-01-01  ...    1    0    0    0\n",
              "1          1.0    0.0            0.0 2016-01-01  ...    1    0    0    0\n",
              "2          2.0    0.0            0.0 2016-01-01  ...    1    0    0    0\n",
              "4          4.0    0.0            0.0 2016-01-01  ...    1    0    0    0\n",
              "5          5.0    0.0            0.0 2016-01-01  ...    1    0    0    0\n",
              "\n",
              "[5 rows x 15 columns]"
            ]
          },
          "metadata": {
            "tags": []
          },
          "execution_count": 246
        }
      ]
    },
    {
      "cell_type": "markdown",
      "metadata": {
        "id": "_0lqVjs3nF4H",
        "colab_type": "text"
      },
      "source": [
        "### Scaling\n",
        "We use standard scaler to scale square feet. We do this because it has the most variance in the dataset."
      ]
    },
    {
      "cell_type": "code",
      "metadata": {
        "id": "Zte7yvwr39RW",
        "colab_type": "code",
        "colab": {}
      },
      "source": [
        "train['square_feet'] = np.log1p(train['square_feet'])"
      ],
      "execution_count": 0,
      "outputs": []
    },
    {
      "cell_type": "code",
      "metadata": {
        "id": "r4kYASVuGhBH",
        "colab_type": "code",
        "outputId": "cc8bb90f-21b9-443a-ba87-cf6b0e07be34",
        "colab": {
          "base_uri": "https://localhost:8080/",
          "height": 305
        }
      },
      "source": [
        "train.head()"
      ],
      "execution_count": 248,
      "outputs": [
        {
          "output_type": "execute_result",
          "data": {
            "text/html": [
              "<div>\n",
              "<style scoped>\n",
              "    .dataframe tbody tr th:only-of-type {\n",
              "        vertical-align: middle;\n",
              "    }\n",
              "\n",
              "    .dataframe tbody tr th {\n",
              "        vertical-align: top;\n",
              "    }\n",
              "\n",
              "    .dataframe thead th {\n",
              "        text-align: right;\n",
              "    }\n",
              "</style>\n",
              "<table border=\"1\" class=\"dataframe\">\n",
              "  <thead>\n",
              "    <tr style=\"text-align: right;\">\n",
              "      <th></th>\n",
              "      <th>building_id</th>\n",
              "      <th>meter</th>\n",
              "      <th>meter_reading</th>\n",
              "      <th>date</th>\n",
              "      <th>hour</th>\n",
              "      <th>site_id</th>\n",
              "      <th>primary_use</th>\n",
              "      <th>square_feet</th>\n",
              "      <th>air_temperature</th>\n",
              "      <th>dew_temperature</th>\n",
              "      <th>wind_speed</th>\n",
              "      <th>0.0</th>\n",
              "      <th>1.0</th>\n",
              "      <th>2.0</th>\n",
              "      <th>3.0</th>\n",
              "    </tr>\n",
              "  </thead>\n",
              "  <tbody>\n",
              "    <tr>\n",
              "      <th>0</th>\n",
              "      <td>0.0</td>\n",
              "      <td>0.0</td>\n",
              "      <td>0.0</td>\n",
              "      <td>2016-01-01</td>\n",
              "      <td>0</td>\n",
              "      <td>0</td>\n",
              "      <td>0</td>\n",
              "      <td>8.913685</td>\n",
              "      <td>25.0</td>\n",
              "      <td>20.0</td>\n",
              "      <td>0.0</td>\n",
              "      <td>1</td>\n",
              "      <td>0</td>\n",
              "      <td>0</td>\n",
              "      <td>0</td>\n",
              "    </tr>\n",
              "    <tr>\n",
              "      <th>1</th>\n",
              "      <td>1.0</td>\n",
              "      <td>0.0</td>\n",
              "      <td>0.0</td>\n",
              "      <td>2016-01-01</td>\n",
              "      <td>0</td>\n",
              "      <td>0</td>\n",
              "      <td>0</td>\n",
              "      <td>7.908755</td>\n",
              "      <td>25.0</td>\n",
              "      <td>20.0</td>\n",
              "      <td>0.0</td>\n",
              "      <td>1</td>\n",
              "      <td>0</td>\n",
              "      <td>0</td>\n",
              "      <td>0</td>\n",
              "    </tr>\n",
              "    <tr>\n",
              "      <th>2</th>\n",
              "      <td>2.0</td>\n",
              "      <td>0.0</td>\n",
              "      <td>0.0</td>\n",
              "      <td>2016-01-01</td>\n",
              "      <td>0</td>\n",
              "      <td>0</td>\n",
              "      <td>0</td>\n",
              "      <td>8.589886</td>\n",
              "      <td>25.0</td>\n",
              "      <td>20.0</td>\n",
              "      <td>0.0</td>\n",
              "      <td>1</td>\n",
              "      <td>0</td>\n",
              "      <td>0</td>\n",
              "      <td>0</td>\n",
              "    </tr>\n",
              "    <tr>\n",
              "      <th>4</th>\n",
              "      <td>4.0</td>\n",
              "      <td>0.0</td>\n",
              "      <td>0.0</td>\n",
              "      <td>2016-01-01</td>\n",
              "      <td>0</td>\n",
              "      <td>0</td>\n",
              "      <td>0</td>\n",
              "      <td>11.666573</td>\n",
              "      <td>25.0</td>\n",
              "      <td>20.0</td>\n",
              "      <td>0.0</td>\n",
              "      <td>1</td>\n",
              "      <td>0</td>\n",
              "      <td>0</td>\n",
              "      <td>0</td>\n",
              "    </tr>\n",
              "    <tr>\n",
              "      <th>5</th>\n",
              "      <td>5.0</td>\n",
              "      <td>0.0</td>\n",
              "      <td>0.0</td>\n",
              "      <td>2016-01-01</td>\n",
              "      <td>0</td>\n",
              "      <td>0</td>\n",
              "      <td>0</td>\n",
              "      <td>8.987322</td>\n",
              "      <td>25.0</td>\n",
              "      <td>20.0</td>\n",
              "      <td>0.0</td>\n",
              "      <td>1</td>\n",
              "      <td>0</td>\n",
              "      <td>0</td>\n",
              "      <td>0</td>\n",
              "    </tr>\n",
              "  </tbody>\n",
              "</table>\n",
              "</div>"
            ],
            "text/plain": [
              "   building_id  meter  meter_reading       date  ...  0.0  1.0  2.0  3.0\n",
              "0          0.0    0.0            0.0 2016-01-01  ...    1    0    0    0\n",
              "1          1.0    0.0            0.0 2016-01-01  ...    1    0    0    0\n",
              "2          2.0    0.0            0.0 2016-01-01  ...    1    0    0    0\n",
              "4          4.0    0.0            0.0 2016-01-01  ...    1    0    0    0\n",
              "5          5.0    0.0            0.0 2016-01-01  ...    1    0    0    0\n",
              "\n",
              "[5 rows x 15 columns]"
            ]
          },
          "metadata": {
            "tags": []
          },
          "execution_count": 248
        }
      ]
    },
    {
      "cell_type": "markdown",
      "metadata": {
        "id": "EgqCmbxbneUc",
        "colab_type": "text"
      },
      "source": [
        "### Feature Reduction"
      ]
    },
    {
      "cell_type": "markdown",
      "metadata": {
        "id": "ZpbJC6CpaLHE",
        "colab_type": "text"
      },
      "source": [
        "We select the important features from our data and split it into two Dataframes with independant variables and dependant variables."
      ]
    },
    {
      "cell_type": "code",
      "metadata": {
        "colab_type": "code",
        "id": "FIxwnx9ldzt4",
        "colab": {}
      },
      "source": [
        "X = train.drop(columns=\"meter_reading\")\n",
        "Y = train['meter_reading']"
      ],
      "execution_count": 0,
      "outputs": []
    },
    {
      "cell_type": "code",
      "metadata": {
        "id": "HxtsM0aVY8NL",
        "colab_type": "code",
        "colab": {}
      },
      "source": [
        "X.drop(columns=['building_id', 'site_id', 'date', 'meter'], axis=1, inplace=True)"
      ],
      "execution_count": 0,
      "outputs": []
    },
    {
      "cell_type": "markdown",
      "metadata": {
        "id": "7FFafFOla-jr",
        "colab_type": "text"
      },
      "source": [
        "Splitting the data into training and testing set. The test set percentage is set to 20%"
      ]
    },
    {
      "cell_type": "code",
      "metadata": {
        "colab_type": "code",
        "id": "Xao89o-9d1b4",
        "colab": {}
      },
      "source": [
        "from sklearn.model_selection import train_test_split\n",
        "\n",
        "x_train, x_test, y_train, y_test = train_test_split(X, Y, test_size = 0.20, random_state = 0)"
      ],
      "execution_count": 0,
      "outputs": []
    },
    {
      "cell_type": "code",
      "metadata": {
        "id": "DTANxO6T3HkD",
        "colab_type": "code",
        "colab": {}
      },
      "source": [
        "# x_train, x_test, y_train, y_test = train_test_split(temp, Y, test_size = 0.20, random_state = 0)"
      ],
      "execution_count": 0,
      "outputs": []
    },
    {
      "cell_type": "code",
      "metadata": {
        "colab_type": "code",
        "id": "msNuolnY819q",
        "outputId": "c887d243-0bef-4ea5-8b40-18b69f6d5d53",
        "colab": {
          "base_uri": "https://localhost:8080/",
          "height": 198
        }
      },
      "source": [
        "x_train.head()"
      ],
      "execution_count": 253,
      "outputs": [
        {
          "output_type": "execute_result",
          "data": {
            "text/html": [
              "<div>\n",
              "<style scoped>\n",
              "    .dataframe tbody tr th:only-of-type {\n",
              "        vertical-align: middle;\n",
              "    }\n",
              "\n",
              "    .dataframe tbody tr th {\n",
              "        vertical-align: top;\n",
              "    }\n",
              "\n",
              "    .dataframe thead th {\n",
              "        text-align: right;\n",
              "    }\n",
              "</style>\n",
              "<table border=\"1\" class=\"dataframe\">\n",
              "  <thead>\n",
              "    <tr style=\"text-align: right;\">\n",
              "      <th></th>\n",
              "      <th>hour</th>\n",
              "      <th>primary_use</th>\n",
              "      <th>square_feet</th>\n",
              "      <th>air_temperature</th>\n",
              "      <th>dew_temperature</th>\n",
              "      <th>wind_speed</th>\n",
              "      <th>0.0</th>\n",
              "      <th>1.0</th>\n",
              "      <th>2.0</th>\n",
              "      <th>3.0</th>\n",
              "    </tr>\n",
              "  </thead>\n",
              "  <tbody>\n",
              "    <tr>\n",
              "      <th>5567959</th>\n",
              "      <td>9</td>\n",
              "      <td>0</td>\n",
              "      <td>11.150534</td>\n",
              "      <td>24.4</td>\n",
              "      <td>23.3</td>\n",
              "      <td>3.1</td>\n",
              "      <td>1</td>\n",
              "      <td>0</td>\n",
              "      <td>0</td>\n",
              "      <td>0</td>\n",
              "    </tr>\n",
              "    <tr>\n",
              "      <th>4553853</th>\n",
              "      <td>18</td>\n",
              "      <td>0</td>\n",
              "      <td>11.000448</td>\n",
              "      <td>17.2</td>\n",
              "      <td>1.1</td>\n",
              "      <td>5.7</td>\n",
              "      <td>1</td>\n",
              "      <td>0</td>\n",
              "      <td>0</td>\n",
              "      <td>0</td>\n",
              "    </tr>\n",
              "    <tr>\n",
              "      <th>4266592</th>\n",
              "      <td>10</td>\n",
              "      <td>0</td>\n",
              "      <td>11.100451</td>\n",
              "      <td>2.8</td>\n",
              "      <td>-3.9</td>\n",
              "      <td>4.6</td>\n",
              "      <td>1</td>\n",
              "      <td>0</td>\n",
              "      <td>0</td>\n",
              "      <td>0</td>\n",
              "    </tr>\n",
              "    <tr>\n",
              "      <th>14597762</th>\n",
              "      <td>8</td>\n",
              "      <td>0</td>\n",
              "      <td>9.560011</td>\n",
              "      <td>19.4</td>\n",
              "      <td>15.6</td>\n",
              "      <td>0.0</td>\n",
              "      <td>0</td>\n",
              "      <td>1</td>\n",
              "      <td>0</td>\n",
              "      <td>0</td>\n",
              "    </tr>\n",
              "    <tr>\n",
              "      <th>15297494</th>\n",
              "      <td>19</td>\n",
              "      <td>6</td>\n",
              "      <td>10.957712</td>\n",
              "      <td>21.1</td>\n",
              "      <td>11.7</td>\n",
              "      <td>3.6</td>\n",
              "      <td>1</td>\n",
              "      <td>0</td>\n",
              "      <td>0</td>\n",
              "      <td>0</td>\n",
              "    </tr>\n",
              "  </tbody>\n",
              "</table>\n",
              "</div>"
            ],
            "text/plain": [
              "          hour  primary_use  square_feet  air_temperature  ...  0.0  1.0  2.0  3.0\n",
              "5567959      9            0    11.150534             24.4  ...    1    0    0    0\n",
              "4553853     18            0    11.000448             17.2  ...    1    0    0    0\n",
              "4266592     10            0    11.100451              2.8  ...    1    0    0    0\n",
              "14597762     8            0     9.560011             19.4  ...    0    1    0    0\n",
              "15297494    19            6    10.957712             21.1  ...    1    0    0    0\n",
              "\n",
              "[5 rows x 10 columns]"
            ]
          },
          "metadata": {
            "tags": []
          },
          "execution_count": 253
        }
      ]
    },
    {
      "cell_type": "code",
      "metadata": {
        "id": "Q1w3beJtXBE1",
        "colab_type": "code",
        "colab": {
          "base_uri": "https://localhost:8080/",
          "height": 121
        },
        "outputId": "ffd2c299-1c45-4f13-b2ee-2ec2128d1bb7"
      },
      "source": [
        "y_train.head()"
      ],
      "execution_count": 254,
      "outputs": [
        {
          "output_type": "execute_result",
          "data": {
            "text/plain": [
              "5567959      93.690\n",
              "4553853      75.470\n",
              "4266592     124.220\n",
              "14597762      0.000\n",
              "15297494     97.667\n",
              "Name: meter_reading, dtype: float64"
            ]
          },
          "metadata": {
            "tags": []
          },
          "execution_count": 254
        }
      ]
    },
    {
      "cell_type": "markdown",
      "metadata": {
        "id": "_U1IHAMPVaUC",
        "colab_type": "text"
      },
      "source": [
        "## Modelling"
      ]
    },
    {
      "cell_type": "markdown",
      "metadata": {
        "id": "3BfZs80TbRbF",
        "colab_type": "text"
      },
      "source": [
        "LightGBM<br>\n",
        "Light GBM is a gradient boosting framework that uses tree based learning algorithm. How it differs from other tree based algorithm?\n",
        "Light GBM grows tree vertically while other algorithm grows trees horizontally meaning that Light GBM grows tree leaf-wise while other algorithm grows level-wise. It will choose the leaf with max delta loss to grow. When growing the same leaf, Leaf-wise algorithm can reduce more loss than a level-wise algorithm.\n",
        "\n",
        "Reference: https://medium.com/@pushkarmandot/https-medium-com-pushkarmandot-what-is-lightgbm-how-to-implement-it-how-to-fine-tune-the-parameters-60347819b7fc"
      ]
    },
    {
      "cell_type": "markdown",
      "metadata": {
        "id": "gzs-_raqbgt-",
        "colab_type": "text"
      },
      "source": [
        "### Training"
      ]
    },
    {
      "cell_type": "code",
      "metadata": {
        "colab_type": "code",
        "id": "CizLDz6AeSNK",
        "colab": {}
      },
      "source": [
        "import lightgbm as lgb"
      ],
      "execution_count": 0,
      "outputs": []
    },
    {
      "cell_type": "code",
      "metadata": {
        "id": "RLag6CvdT-Su",
        "colab_type": "code",
        "colab": {}
      },
      "source": [
        "lgb_train = lgb.Dataset(x_train, y_train)\n",
        "lgb_test = lgb.Dataset(x_test, y_test)"
      ],
      "execution_count": 0,
      "outputs": []
    },
    {
      "cell_type": "code",
      "metadata": {
        "id": "yYJORXjD_D_t",
        "colab_type": "code",
        "colab": {}
      },
      "source": [
        "params = {\n",
        "          'boosting_type': 'gbdt',\n",
        "          'objective': 'regression',\n",
        "          'metric': {'rmse'},\n",
        "          'learning_rate': 0.8,\n",
        "          'feature_fraction': 0.8,\n",
        "          'bagging_fraction': 0.8,\n",
        "          'bagging_freq' : 5\n",
        "          }"
      ],
      "execution_count": 0,
      "outputs": []
    },
    {
      "cell_type": "code",
      "metadata": {
        "id": "JHmR5AfF_3-3",
        "colab_type": "code",
        "outputId": "9952f258-b5e7-48f0-a00f-3802c7df30e7",
        "colab": {
          "base_uri": "https://localhost:8080/",
          "height": 1000
        }
      },
      "source": [
        "  gbm_regress = lgb.train(params,\n",
        "              lgb_train,\n",
        "              num_boost_round=4000,\n",
        "              valid_sets=(lgb_train, lgb_test),\n",
        "            early_stopping_rounds=20,\n",
        "            verbose_eval = 20)"
      ],
      "execution_count": 258,
      "outputs": [
        {
          "output_type": "stream",
          "text": [
            "Training until validation scores don't improve for 20 rounds.\n",
            "[20]\ttraining's rmse: 106.47\tvalid_1's rmse: 106.528\n",
            "[40]\ttraining's rmse: 99.3353\tvalid_1's rmse: 99.4038\n",
            "[60]\ttraining's rmse: 95.6981\tvalid_1's rmse: 95.8043\n",
            "[80]\ttraining's rmse: 92.6527\tvalid_1's rmse: 92.7721\n",
            "[100]\ttraining's rmse: 90.2338\tvalid_1's rmse: 90.3859\n",
            "[120]\ttraining's rmse: 88.0032\tvalid_1's rmse: 88.193\n",
            "[140]\ttraining's rmse: 86.7461\tvalid_1's rmse: 86.9801\n",
            "[160]\ttraining's rmse: 85.5623\tvalid_1's rmse: 85.8154\n",
            "[180]\ttraining's rmse: 84.7424\tvalid_1's rmse: 84.9963\n",
            "[200]\ttraining's rmse: 83.8994\tvalid_1's rmse: 84.1948\n",
            "[220]\ttraining's rmse: 83.3142\tvalid_1's rmse: 83.6405\n",
            "[240]\ttraining's rmse: 82.8916\tvalid_1's rmse: 83.2482\n",
            "[260]\ttraining's rmse: 82.4007\tvalid_1's rmse: 82.775\n",
            "[280]\ttraining's rmse: 81.9287\tvalid_1's rmse: 82.3342\n",
            "[300]\ttraining's rmse: 81.4677\tvalid_1's rmse: 81.8977\n",
            "[320]\ttraining's rmse: 81.1472\tvalid_1's rmse: 81.6051\n",
            "[340]\ttraining's rmse: 80.755\tvalid_1's rmse: 81.2644\n",
            "[360]\ttraining's rmse: 80.3499\tvalid_1's rmse: 80.9009\n",
            "[380]\ttraining's rmse: 80.1321\tvalid_1's rmse: 80.7131\n",
            "[400]\ttraining's rmse: 79.7771\tvalid_1's rmse: 80.379\n",
            "[420]\ttraining's rmse: 79.4967\tvalid_1's rmse: 80.1257\n",
            "[440]\ttraining's rmse: 79.1323\tvalid_1's rmse: 79.7842\n",
            "[460]\ttraining's rmse: 78.8545\tvalid_1's rmse: 79.5453\n",
            "[480]\ttraining's rmse: 78.6431\tvalid_1's rmse: 79.3627\n",
            "[500]\ttraining's rmse: 78.4328\tvalid_1's rmse: 79.1853\n",
            "[520]\ttraining's rmse: 78.2601\tvalid_1's rmse: 79.0426\n",
            "[540]\ttraining's rmse: 78.0935\tvalid_1's rmse: 78.898\n",
            "[560]\ttraining's rmse: 77.8635\tvalid_1's rmse: 78.7012\n",
            "[580]\ttraining's rmse: 77.6973\tvalid_1's rmse: 78.5615\n",
            "[600]\ttraining's rmse: 77.5641\tvalid_1's rmse: 78.4508\n",
            "[620]\ttraining's rmse: 77.3815\tvalid_1's rmse: 78.2941\n",
            "[640]\ttraining's rmse: 77.2287\tvalid_1's rmse: 78.1687\n",
            "[660]\ttraining's rmse: 77.0433\tvalid_1's rmse: 78.0094\n",
            "[680]\ttraining's rmse: 76.9\tvalid_1's rmse: 77.8992\n",
            "[700]\ttraining's rmse: 76.7401\tvalid_1's rmse: 77.7676\n",
            "[720]\ttraining's rmse: 76.5736\tvalid_1's rmse: 77.6327\n",
            "[740]\ttraining's rmse: 76.4349\tvalid_1's rmse: 77.5222\n",
            "[760]\ttraining's rmse: 76.3057\tvalid_1's rmse: 77.4182\n",
            "[780]\ttraining's rmse: 76.1902\tvalid_1's rmse: 77.3283\n",
            "[800]\ttraining's rmse: 76.0394\tvalid_1's rmse: 77.2153\n",
            "[820]\ttraining's rmse: 75.9273\tvalid_1's rmse: 77.1256\n",
            "[840]\ttraining's rmse: 75.7987\tvalid_1's rmse: 77.0273\n",
            "[860]\ttraining's rmse: 75.7014\tvalid_1's rmse: 76.9459\n",
            "[880]\ttraining's rmse: 75.5992\tvalid_1's rmse: 76.8701\n",
            "[900]\ttraining's rmse: 75.503\tvalid_1's rmse: 76.8051\n",
            "[920]\ttraining's rmse: 75.3659\tvalid_1's rmse: 76.6987\n",
            "[940]\ttraining's rmse: 75.2446\tvalid_1's rmse: 76.6004\n",
            "[960]\ttraining's rmse: 75.1328\tvalid_1's rmse: 76.5166\n",
            "[980]\ttraining's rmse: 75.0579\tvalid_1's rmse: 76.4653\n",
            "[1000]\ttraining's rmse: 74.9467\tvalid_1's rmse: 76.3729\n",
            "[1020]\ttraining's rmse: 74.8496\tvalid_1's rmse: 76.3102\n",
            "[1040]\ttraining's rmse: 74.7739\tvalid_1's rmse: 76.259\n",
            "[1060]\ttraining's rmse: 74.6722\tvalid_1's rmse: 76.1949\n",
            "[1080]\ttraining's rmse: 74.5887\tvalid_1's rmse: 76.1376\n",
            "[1100]\ttraining's rmse: 74.5097\tvalid_1's rmse: 76.0883\n",
            "[1120]\ttraining's rmse: 74.4401\tvalid_1's rmse: 76.0456\n",
            "[1140]\ttraining's rmse: 74.364\tvalid_1's rmse: 75.9995\n",
            "[1160]\ttraining's rmse: 74.2745\tvalid_1's rmse: 75.9329\n",
            "[1180]\ttraining's rmse: 74.1813\tvalid_1's rmse: 75.869\n",
            "[1200]\ttraining's rmse: 74.1035\tvalid_1's rmse: 75.8107\n",
            "[1220]\ttraining's rmse: 74.028\tvalid_1's rmse: 75.766\n",
            "[1240]\ttraining's rmse: 73.96\tvalid_1's rmse: 75.7165\n",
            "[1260]\ttraining's rmse: 73.8762\tvalid_1's rmse: 75.6527\n",
            "[1280]\ttraining's rmse: 73.8098\tvalid_1's rmse: 75.6129\n",
            "[1300]\ttraining's rmse: 73.7367\tvalid_1's rmse: 75.5677\n",
            "[1320]\ttraining's rmse: 73.6602\tvalid_1's rmse: 75.5183\n",
            "[1340]\ttraining's rmse: 73.5908\tvalid_1's rmse: 75.4741\n",
            "[1360]\ttraining's rmse: 73.5155\tvalid_1's rmse: 75.4287\n",
            "[1380]\ttraining's rmse: 73.4551\tvalid_1's rmse: 75.3963\n",
            "[1400]\ttraining's rmse: 73.3798\tvalid_1's rmse: 75.3509\n",
            "[1420]\ttraining's rmse: 73.3206\tvalid_1's rmse: 75.3203\n",
            "[1440]\ttraining's rmse: 73.2641\tvalid_1's rmse: 75.2913\n",
            "[1460]\ttraining's rmse: 73.1926\tvalid_1's rmse: 75.2434\n",
            "[1480]\ttraining's rmse: 73.1368\tvalid_1's rmse: 75.2165\n",
            "[1500]\ttraining's rmse: 73.0873\tvalid_1's rmse: 75.1902\n",
            "[1520]\ttraining's rmse: 73.0325\tvalid_1's rmse: 75.1584\n",
            "[1540]\ttraining's rmse: 72.9624\tvalid_1's rmse: 75.1148\n",
            "[1560]\ttraining's rmse: 72.9081\tvalid_1's rmse: 75.0838\n",
            "[1580]\ttraining's rmse: 72.8562\tvalid_1's rmse: 75.0513\n",
            "[1600]\ttraining's rmse: 72.8135\tvalid_1's rmse: 75.0337\n",
            "[1620]\ttraining's rmse: 72.7566\tvalid_1's rmse: 75.0038\n",
            "[1640]\ttraining's rmse: 72.6994\tvalid_1's rmse: 74.9616\n",
            "[1660]\ttraining's rmse: 72.6431\tvalid_1's rmse: 74.9326\n",
            "[1680]\ttraining's rmse: 72.5903\tvalid_1's rmse: 74.8998\n",
            "[1700]\ttraining's rmse: 72.542\tvalid_1's rmse: 74.8655\n",
            "[1720]\ttraining's rmse: 72.4988\tvalid_1's rmse: 74.838\n",
            "[1740]\ttraining's rmse: 72.4393\tvalid_1's rmse: 74.8036\n",
            "[1760]\ttraining's rmse: 72.3889\tvalid_1's rmse: 74.7778\n",
            "[1780]\ttraining's rmse: 72.3291\tvalid_1's rmse: 74.7358\n",
            "[1800]\ttraining's rmse: 72.2701\tvalid_1's rmse: 74.7005\n",
            "[1820]\ttraining's rmse: 72.2178\tvalid_1's rmse: 74.6722\n",
            "[1840]\ttraining's rmse: 72.1612\tvalid_1's rmse: 74.6346\n",
            "[1860]\ttraining's rmse: 72.1131\tvalid_1's rmse: 74.6075\n",
            "[1880]\ttraining's rmse: 72.0597\tvalid_1's rmse: 74.5833\n",
            "[1900]\ttraining's rmse: 72.0163\tvalid_1's rmse: 74.5643\n",
            "[1920]\ttraining's rmse: 71.9713\tvalid_1's rmse: 74.5412\n",
            "[1940]\ttraining's rmse: 71.9317\tvalid_1's rmse: 74.5219\n",
            "[1960]\ttraining's rmse: 71.8888\tvalid_1's rmse: 74.5023\n",
            "[1980]\ttraining's rmse: 71.8451\tvalid_1's rmse: 74.485\n",
            "[2000]\ttraining's rmse: 71.8017\tvalid_1's rmse: 74.4677\n",
            "[2020]\ttraining's rmse: 71.7458\tvalid_1's rmse: 74.4356\n",
            "[2040]\ttraining's rmse: 71.6967\tvalid_1's rmse: 74.4148\n",
            "[2060]\ttraining's rmse: 71.635\tvalid_1's rmse: 74.367\n",
            "[2080]\ttraining's rmse: 71.5925\tvalid_1's rmse: 74.3473\n",
            "[2100]\ttraining's rmse: 71.5427\tvalid_1's rmse: 74.3202\n",
            "[2120]\ttraining's rmse: 71.5016\tvalid_1's rmse: 74.2962\n",
            "[2140]\ttraining's rmse: 71.4562\tvalid_1's rmse: 74.2764\n",
            "[2160]\ttraining's rmse: 71.4053\tvalid_1's rmse: 74.2475\n",
            "[2180]\ttraining's rmse: 71.3698\tvalid_1's rmse: 74.2322\n",
            "[2200]\ttraining's rmse: 71.3216\tvalid_1's rmse: 74.2048\n",
            "[2220]\ttraining's rmse: 71.282\tvalid_1's rmse: 74.185\n",
            "[2240]\ttraining's rmse: 71.2525\tvalid_1's rmse: 74.1736\n",
            "[2260]\ttraining's rmse: 71.2188\tvalid_1's rmse: 74.1573\n",
            "[2280]\ttraining's rmse: 71.1851\tvalid_1's rmse: 74.1445\n",
            "[2300]\ttraining's rmse: 71.1524\tvalid_1's rmse: 74.13\n",
            "[2320]\ttraining's rmse: 71.1176\tvalid_1's rmse: 74.1146\n",
            "[2340]\ttraining's rmse: 71.0764\tvalid_1's rmse: 74.0925\n",
            "[2360]\ttraining's rmse: 71.0361\tvalid_1's rmse: 74.0771\n",
            "[2380]\ttraining's rmse: 70.9931\tvalid_1's rmse: 74.0558\n",
            "[2400]\ttraining's rmse: 70.9504\tvalid_1's rmse: 74.0346\n",
            "[2420]\ttraining's rmse: 70.912\tvalid_1's rmse: 74.0227\n",
            "[2440]\ttraining's rmse: 70.8773\tvalid_1's rmse: 74.0014\n",
            "[2460]\ttraining's rmse: 70.8396\tvalid_1's rmse: 73.9868\n",
            "[2480]\ttraining's rmse: 70.8011\tvalid_1's rmse: 73.9746\n",
            "[2500]\ttraining's rmse: 70.76\tvalid_1's rmse: 73.9624\n",
            "[2520]\ttraining's rmse: 70.7286\tvalid_1's rmse: 73.9524\n",
            "[2540]\ttraining's rmse: 70.691\tvalid_1's rmse: 73.9359\n",
            "[2560]\ttraining's rmse: 70.6495\tvalid_1's rmse: 73.916\n",
            "[2580]\ttraining's rmse: 70.604\tvalid_1's rmse: 73.8907\n",
            "[2600]\ttraining's rmse: 70.5626\tvalid_1's rmse: 73.8666\n",
            "[2620]\ttraining's rmse: 70.5247\tvalid_1's rmse: 73.8566\n",
            "[2640]\ttraining's rmse: 70.4892\tvalid_1's rmse: 73.8474\n",
            "[2660]\ttraining's rmse: 70.4548\tvalid_1's rmse: 73.8423\n",
            "[2680]\ttraining's rmse: 70.4127\tvalid_1's rmse: 73.8177\n",
            "[2700]\ttraining's rmse: 70.3813\tvalid_1's rmse: 73.8041\n",
            "[2720]\ttraining's rmse: 70.3384\tvalid_1's rmse: 73.7743\n",
            "[2740]\ttraining's rmse: 70.303\tvalid_1's rmse: 73.7644\n",
            "[2760]\ttraining's rmse: 70.2679\tvalid_1's rmse: 73.7481\n",
            "[2780]\ttraining's rmse: 70.2391\tvalid_1's rmse: 73.7407\n",
            "[2800]\ttraining's rmse: 70.2067\tvalid_1's rmse: 73.729\n",
            "[2820]\ttraining's rmse: 70.1773\tvalid_1's rmse: 73.7186\n",
            "[2840]\ttraining's rmse: 70.1534\tvalid_1's rmse: 73.7082\n",
            "[2860]\ttraining's rmse: 70.127\tvalid_1's rmse: 73.7043\n",
            "[2880]\ttraining's rmse: 70.0935\tvalid_1's rmse: 73.6908\n",
            "[2900]\ttraining's rmse: 70.0598\tvalid_1's rmse: 73.679\n",
            "[2920]\ttraining's rmse: 70.0242\tvalid_1's rmse: 73.6611\n",
            "[2940]\ttraining's rmse: 69.9891\tvalid_1's rmse: 73.6479\n",
            "[2960]\ttraining's rmse: 69.9534\tvalid_1's rmse: 73.6289\n",
            "[2980]\ttraining's rmse: 69.9204\tvalid_1's rmse: 73.6109\n",
            "[3000]\ttraining's rmse: 69.8881\tvalid_1's rmse: 73.5929\n",
            "[3020]\ttraining's rmse: 69.8572\tvalid_1's rmse: 73.5869\n",
            "[3040]\ttraining's rmse: 69.8275\tvalid_1's rmse: 73.5704\n",
            "[3060]\ttraining's rmse: 69.7967\tvalid_1's rmse: 73.5612\n",
            "[3080]\ttraining's rmse: 69.7656\tvalid_1's rmse: 73.5459\n",
            "[3100]\ttraining's rmse: 69.7321\tvalid_1's rmse: 73.5342\n",
            "[3120]\ttraining's rmse: 69.6998\tvalid_1's rmse: 73.5334\n",
            "[3140]\ttraining's rmse: 69.6676\tvalid_1's rmse: 73.5185\n",
            "[3160]\ttraining's rmse: 69.6284\tvalid_1's rmse: 73.506\n",
            "[3180]\ttraining's rmse: 69.5989\tvalid_1's rmse: 73.4922\n",
            "[3200]\ttraining's rmse: 69.57\tvalid_1's rmse: 73.4816\n",
            "[3220]\ttraining's rmse: 69.5473\tvalid_1's rmse: 73.4749\n",
            "[3240]\ttraining's rmse: 69.5286\tvalid_1's rmse: 73.4696\n",
            "[3260]\ttraining's rmse: 69.4899\tvalid_1's rmse: 73.4504\n",
            "[3280]\ttraining's rmse: 69.4574\tvalid_1's rmse: 73.4353\n",
            "[3300]\ttraining's rmse: 69.437\tvalid_1's rmse: 73.4276\n",
            "[3320]\ttraining's rmse: 69.4046\tvalid_1's rmse: 73.4147\n",
            "[3340]\ttraining's rmse: 69.3723\tvalid_1's rmse: 73.4003\n",
            "[3360]\ttraining's rmse: 69.3343\tvalid_1's rmse: 73.3805\n",
            "[3380]\ttraining's rmse: 69.3025\tvalid_1's rmse: 73.3638\n",
            "[3400]\ttraining's rmse: 69.2699\tvalid_1's rmse: 73.3531\n",
            "[3420]\ttraining's rmse: 69.2452\tvalid_1's rmse: 73.3488\n",
            "[3440]\ttraining's rmse: 69.2163\tvalid_1's rmse: 73.3422\n",
            "[3460]\ttraining's rmse: 69.1873\tvalid_1's rmse: 73.3347\n",
            "[3480]\ttraining's rmse: 69.1644\tvalid_1's rmse: 73.3254\n",
            "[3500]\ttraining's rmse: 69.1362\tvalid_1's rmse: 73.3181\n",
            "[3520]\ttraining's rmse: 69.1061\tvalid_1's rmse: 73.3108\n",
            "[3540]\ttraining's rmse: 69.0766\tvalid_1's rmse: 73.3002\n",
            "[3560]\ttraining's rmse: 69.0463\tvalid_1's rmse: 73.2901\n",
            "[3580]\ttraining's rmse: 69.018\tvalid_1's rmse: 73.2749\n",
            "[3600]\ttraining's rmse: 68.99\tvalid_1's rmse: 73.2664\n",
            "[3620]\ttraining's rmse: 68.9671\tvalid_1's rmse: 73.2644\n",
            "[3640]\ttraining's rmse: 68.9405\tvalid_1's rmse: 73.2606\n",
            "[3660]\ttraining's rmse: 68.9121\tvalid_1's rmse: 73.2492\n",
            "[3680]\ttraining's rmse: 68.8881\tvalid_1's rmse: 73.2439\n",
            "[3700]\ttraining's rmse: 68.858\tvalid_1's rmse: 73.2377\n",
            "[3720]\ttraining's rmse: 68.836\tvalid_1's rmse: 73.237\n",
            "[3740]\ttraining's rmse: 68.8127\tvalid_1's rmse: 73.2337\n",
            "[3760]\ttraining's rmse: 68.7883\tvalid_1's rmse: 73.2243\n",
            "[3780]\ttraining's rmse: 68.7629\tvalid_1's rmse: 73.2177\n",
            "[3800]\ttraining's rmse: 68.7307\tvalid_1's rmse: 73.204\n",
            "[3820]\ttraining's rmse: 68.7024\tvalid_1's rmse: 73.1947\n",
            "[3840]\ttraining's rmse: 68.6723\tvalid_1's rmse: 73.1837\n",
            "[3860]\ttraining's rmse: 68.6421\tvalid_1's rmse: 73.171\n",
            "[3880]\ttraining's rmse: 68.6113\tvalid_1's rmse: 73.1583\n",
            "[3900]\ttraining's rmse: 68.5908\tvalid_1's rmse: 73.1587\n",
            "Early stopping, best iteration is:\n",
            "[3885]\ttraining's rmse: 68.6036\tvalid_1's rmse: 73.156\n"
          ],
          "name": "stdout"
        }
      ]
    },
    {
      "cell_type": "markdown",
      "metadata": {
        "id": "tc63M-s2bsZQ",
        "colab_type": "text"
      },
      "source": [
        "### Testing"
      ]
    },
    {
      "cell_type": "code",
      "metadata": {
        "colab_type": "code",
        "id": "8oZybEpq7s-l",
        "colab": {}
      },
      "source": [
        "y_pred=gbm_regress.predict(x_test)"
      ],
      "execution_count": 0,
      "outputs": []
    },
    {
      "cell_type": "code",
      "metadata": {
        "colab_type": "code",
        "id": "PzUxt-BB9yqt",
        "colab": {}
      },
      "source": [
        "from sklearn.metrics import mean_squared_error\n",
        "\n",
        "score = np.sqrt(mean_squared_error(y_test, y_pred))"
      ],
      "execution_count": 0,
      "outputs": []
    },
    {
      "cell_type": "code",
      "metadata": {
        "colab_type": "code",
        "id": "qPTc_gWE-NfY",
        "outputId": "1e25e3ff-274f-4c43-e01e-acc2e55cfa09",
        "colab": {
          "base_uri": "https://localhost:8080/",
          "height": 34
        }
      },
      "source": [
        "print(\"The Test RMSE score for our model:\", score)"
      ],
      "execution_count": 261,
      "outputs": [
        {
          "output_type": "stream",
          "text": [
            "The Test RMSE score for our model: 73.15604209334575\n"
          ],
          "name": "stdout"
        }
      ]
    },
    {
      "cell_type": "code",
      "metadata": {
        "id": "NCLIKUOLhf8Z",
        "colab_type": "code",
        "colab": {}
      },
      "source": [
        ""
      ],
      "execution_count": 0,
      "outputs": []
    }
  ]
}